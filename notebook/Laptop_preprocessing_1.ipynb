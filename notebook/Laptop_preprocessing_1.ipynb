{
  "cells": [
    {
      "cell_type": "markdown",
      "metadata": {
        "id": "JeomUaW0xKgm"
      },
      "source": [
        "#**Laptop Dataset**"
      ]
    },
    {
      "cell_type": "markdown",
      "metadata": {
        "id": "xjZSmgDZxihQ"
      },
      "source": [
        "###This dataset contains information about laptops such as Brand, Price, Processor, RAM, Operating System, etc. It can be used to gain insights into laptop specifications and pricing trends, and to build machine learning models for tasks like price prediction."
      ]
    },
    {
      "cell_type": "code",
      "execution_count": 1,
      "metadata": {
        "id": "YZywOSu9r_OM"
      },
      "outputs": [],
      "source": [
        "# Importing dependencies\n",
        "import pandas as pd\n",
        "import matplotlib.pyplot as plt\n",
        "import seaborn as sns\n",
        "import numpy as np\n",
        "from scipy import stats\n",
        "import re"
      ]
    },
    {
      "cell_type": "code",
      "execution_count": 2,
      "metadata": {
        "id": "5NJlN3PDsFVX"
      },
      "outputs": [],
      "source": [
        "df = pd.read_csv('https://raw.githubusercontent.com/nikhil-xyz/datasets/refs/heads/main/laptop_uncleaned.csv')"
      ]
    },
    {
      "cell_type": "code",
      "execution_count": 3,
      "metadata": {
        "colab": {
          "base_uri": "https://localhost:8080/"
        },
        "id": "-g6NAH8XsJfI",
        "outputId": "01193764-01d2-4776-cad6-a9f58bb16a3a"
      },
      "outputs": [
        {
          "data": {
            "text/plain": [
              "(2843, 17)"
            ]
          },
          "execution_count": 3,
          "metadata": {},
          "output_type": "execute_result"
        }
      ],
      "source": [
        "df.shape"
      ]
    },
    {
      "cell_type": "code",
      "execution_count": 4,
      "metadata": {
        "colab": {
          "base_uri": "https://localhost:8080/",
          "height": 617
        },
        "id": "zfxopzNrsLmh",
        "outputId": "0c7c7f8f-da84-492e-aca0-a1b4bf051860"
      },
      "outputs": [
        {
          "data": {
            "text/plain": [
              "Title                  0\n",
              "Brand                 33\n",
              "Screen_Size           87\n",
              "CPU_Model            215\n",
              "Ram                  132\n",
              "Operating_System     120\n",
              "Rating               560\n",
              "Series               342\n",
              "Color                734\n",
              "Resolution          2661\n",
              "Weight              2777\n",
              "USB                 2808\n",
              "Battery             2836\n",
              "Graphics             780\n",
              "Disk_size            595\n",
              "Card_desc            208\n",
              "Price                980\n",
              "dtype: int64"
            ]
          },
          "execution_count": 4,
          "metadata": {},
          "output_type": "execute_result"
        }
      ],
      "source": [
        "df.isna().sum()"
      ]
    },
    {
      "cell_type": "markdown",
      "metadata": {
        "id": "qcPSBKqdxrz5"
      },
      "source": [
        "### Checking whether dataset contains any duplicate entries and removing them if present."
      ]
    },
    {
      "cell_type": "code",
      "execution_count": 5,
      "metadata": {
        "colab": {
          "base_uri": "https://localhost:8080/"
        },
        "id": "ARx_IGmxuUKQ",
        "outputId": "b9a2059f-aac0-4ad6-f967-af11ac24ae06"
      },
      "outputs": [
        {
          "data": {
            "text/plain": [
              "0"
            ]
          },
          "execution_count": 5,
          "metadata": {},
          "output_type": "execute_result"
        }
      ],
      "source": [
        "df.duplicated().all().sum()"
      ]
    },
    {
      "cell_type": "markdown",
      "metadata": {
        "id": "ebSLdlGKsRXJ"
      },
      "source": [
        "##**Handling missing values**"
      ]
    },
    {
      "cell_type": "markdown",
      "metadata": {
        "id": "wXQFAWaqyicO"
      },
      "source": [
        "##**Addressing Brand**"
      ]
    },
    {
      "cell_type": "code",
      "execution_count": 6,
      "metadata": {
        "colab": {
          "base_uri": "https://localhost:8080/"
        },
        "id": "GdDYh2v9sQRX",
        "outputId": "eea96458-a897-48b7-944c-7fb343160f86"
      },
      "outputs": [
        {
          "data": {
            "text/plain": [
              "array(['Microsoft', 'HP', 'Dell', 'MSI', 'Alienware', 'EXCaliberPC',\n",
              "       'GIGABYTE', 'Panasonic', 'Toughbook', 'Apple', 'Ficihp',\n",
              "       'Packard Bell', 'B BELK', 'Acer', 'Lenovo', 'VGKE', 'Jumper',\n",
              "       'ASUS', 'BiTECOOL', nan, 'CHUWI', 'LG', 'WAKST', 'ECOHERO',\n",
              "       'Fusion5', 'TECLAST', 'Panasonic Toughbook CF-31 Rugged', 'Bmax',\n",
              "       'LANRUO', 'SAMSUNG', 'Blackview', 'Sceptre',\n",
              "       'HP-Consumer Remarketing', 'HYUNDAI', 'Fullcom Tech', 'Generic',\n",
              "       'SewSwank', 'Broage', 'Razer', 'LincPlus', 'HP Tuners', 'Unknown',\n",
              "       'Laptop', 'Best Notebooks', 'DERE',\n",
              "       'REPOWER REPAIR REFURBISH REUSE', 'Artist Unknown', 'Miwasion',\n",
              "       'Carlisle Paddles', 'OTVOC', 'Tomtoc', 'Thomson', 'Coolby'],\n",
              "      dtype=object)"
            ]
          },
          "execution_count": 6,
          "metadata": {},
          "output_type": "execute_result"
        }
      ],
      "source": [
        "df.Brand.unique()"
      ]
    },
    {
      "cell_type": "code",
      "execution_count": 7,
      "metadata": {
        "colab": {
          "base_uri": "https://localhost:8080/"
        },
        "id": "RZxQdrJZvDWY",
        "outputId": "3bf8f625-a9e1-4464-d684-36fc0213ffac"
      },
      "outputs": [
        {
          "data": {
            "text/plain": [
              "33"
            ]
          },
          "execution_count": 7,
          "metadata": {},
          "output_type": "execute_result"
        }
      ],
      "source": [
        "df.Brand.isna().sum()"
      ]
    },
    {
      "cell_type": "code",
      "execution_count": 8,
      "metadata": {
        "id": "JlSuDkDDs-Cb"
      },
      "outputs": [],
      "source": [
        "brand_missing = df[df.Brand.isna()]"
      ]
    },
    {
      "cell_type": "code",
      "execution_count": 9,
      "metadata": {
        "colab": {
          "base_uri": "https://localhost:8080/"
        },
        "id": "Pe_8voVbyzu8",
        "outputId": "45e15e63-83aa-493a-86f0-18f7b8be93af"
      },
      "outputs": [
        {
          "data": {
            "text/plain": [
              "array(['Acer Aspire 1 A115-32-C96U Laptop | 15.6\" FHD | Celeron N4500 | 4GB DDR4 | 128GB eMMC | MS 365 Personal 1-Year Subscription | Win 11 Home in S Mode with AOPEN 24SA2Y bi 23.8\" FHD VA-Monitor',\n",
              "       'Acer Aspire 1 A115-32-C96U Laptop | 15.6\" FHD | Celeron N4500 | 4GB DDR4 | 128GB eMMC | WiFi 5 | MS 365 Personal 1-Year Subscription | Win 11 Home in S Mode USB Type-C Dock D501, 60W PD',\n",
              "       'PANASONIC FZ-VZSU88U',\n",
              "       'Panasonic Toughbook CF-52 500GB 4GB 15.4\" Genuine Win 7 Pro + Microsoft Office 2010',\n",
              "       'Acer Aspire 3 A315-24P-R2SC Laptop | 15.6\" FHD IPS Display | AMD Ryzen 5 7520U | Radeon Graphics | 8GB LPDDR5 | 256GB SSD | Wi-Fi 5 | Windows 11 Home USB 3.0 Dock U301',\n",
              "       'Acer Aspire 3 A314-23P-R3QA Laptop | 14.0\" FHD IPS | AMD Ryzen 5 7520U | AMD Radeon Graphics | 8GB LPDDR5 | 512GB SSD | Wi-Fi 6 | Windows 11 Home FHD USB 2MP Webcam with Digital Microphone',\n",
              "       'Acer Aspire 3 A315-24PT-R08Z Laptop | 15.6\" FHD IPS Touch | AMD Ryzen 3 7320U | Radeon Graphics | 8GB LPDDR5 | 256GB SSD | Wi-Fi 6 | Windows 11 Home USB Type-C Dock D501, 60W PD',\n",
              "       'Toughbook CF-31WXN291M 13.1\" Touchscreen LED (CircuLumin) Notebook - Intel Core i5 i5-3340M 2.70 GHz',\n",
              "       'Acer Aspire 3 A315-24PT-R08Z Laptop | 15.6\" FHD IPS Touch | AMD Ryzen 3 7320U | Radeon Graphics | 8GB LPDDR5 | 256GB SSD | Wi-Fi 6 | Windows 11 Home USB 3.0 Dock U301',\n",
              "       'Toughbook CF-31SX-002M 13.1\" LED Notebook - Intel Core i5 2.60 GHz',\n",
              "       'Toughbook CF-191MYAX1M 10.1\" LED Intel Core i5 i5-3320M 2.60GHz 4GB RAM 500GB HDD Win 7 Pro 64-bit Rugged Notebook',\n",
              "       'Panasonic CF-532JCZYCM Toughbook 53 14 inch LED Notebook - Intel Core i5 i5-4310U 2 GHz - 4 GB RAM - 320 GB HDD - DVD-Writer - Intel HD Graphics 4400 - Windows 7 Professional - 1366 x 768 Display - Bluetooth',\n",
              "       'Panasonic Toughbook CF-53JJCZY1M 14 LED Notebook Intel Core i5-3320M 2.60 GHz',\n",
              "       'GIGABYTE Ultra Compact Mini PC/Intel UHD Graphics 600/ M.2 SSD/HDMI (2.0A)/ DP1.2A Component- GB-BLCE-4105',\n",
              "       'Generic 11.6 inches HD Screen Compatible with Chromebook 11 CB3-111 Laptop Replacement LED LCD',\n",
              "       'Generic 15.6\" HD Screen Compatible with Lenovo G50-80 (5D10G74897 NT156WHM-N12) Laptop Replacement LED LCD',\n",
              "       'Generic 15.6\" HD Screen Compatible with HP ProBook 4510s 4515s 4520s 4525s 4530s 4535s 4540s 4545s Laptop Replacement LED LCD',\n",
              "       'Generic 15.6\" HD Screen Compatible with Samsung Ltn156at37-l01 Laptop Replacement LED LCD',\n",
              "       'Generic New 17.3\" LED WXGA++ Glossy HD LCD Replacement Laptop Screen/Display Compatible with LTN173KT01 (K01, T01, A01, D01)',\n",
              "       'LG LP173WF4(SP)(F1) New Replacement LCD Screen for Laptop LED Full HD Matte',\n",
              "       'Generic 15.6\" HD Screen Compatible with Lenovo G50-70 20351 Laptop Replacement LED LCD',\n",
              "       'Msi A6200 Laptop LCD Screen 15.6\" Wxga Hd LED Diode (Substitute Replacement LCD Screen Only. Not A Laptop)',\n",
              "       'Dell Inspiron 1545 Bt156Gw01 V.1 Laptop LCD Screen Replacement 15.6\" Wxga Hd LED Matte',\n",
              "       'New 17.3\" LED WXGA++ Glossy HD LCD Replacement Laptop Screen/Display for HP Pavilion G72-B60US & G72-B66US',\n",
              "       'Chunghwa Claa173ua01a Replacement LAPTOP LCD Screen 17.3\" WXGA++ LED DIODE (Substitute Replacement LCD Screen Only. Not a Laptop )',\n",
              "       'Boehydis Nv156fhm-n42 Replacement LAPTOP LCD Screen 15.6\" Full-HD LED DIODE (Substitute Only. Not a ) (IPS 1080P)',\n",
              "       'Chi Mei N133bge-l41 Replacement LAPTOP LCD Screen 13.3\" WXGA HD LED DIODE (Substitute Only. Not a )',\n",
              "       'Generic New 15.6\" HD Laptop Replacement LED LCD Screen Compatible with Dell Inspiron 15-3000 (B156XTN04.0 NON TOUCH)',\n",
              "       'Generic New 14.0\" HD Glossy Replacement LED LCD Screen Compatible with Toshiba Satellite L745 Models L745-S4110, L745-S4210, L745-S4310, L745-S4235',\n",
              "       'SAMSUNG LTN156AT35-H01 New Replacement LCD Screen for Laptop LED HD Glossy',\n",
              "       'Generic New 15.6\" HD Laptop Replacement LED LCD Screen Compatible with Dell Inspiron 15-3000 (B156XTN04.0 NON TOUCH)',\n",
              "       'GENERIC 14.0\" WXGA Compatible with Dell Latitude E6420 LTN140AT16 Laptop LCD Screen Replacement',\n",
              "       'Microsoft Surface Laptop 4, AMD Ryzen 5 4680U, 8GB RAM, 256GB SSD, 13.5\" Touchscreen Display, AMD Radeon Graphics, Windows 10 Pro, 5Q8-00001 (Renewed)'],\n",
              "      dtype=object)"
            ]
          },
          "execution_count": 9,
          "metadata": {},
          "output_type": "execute_result"
        }
      ],
      "source": [
        "brand_missing.Title.values"
      ]
    },
    {
      "cell_type": "markdown",
      "metadata": {
        "id": "WVIAjt60y-rR"
      },
      "source": [
        "###**Observations and Modifications**\n",
        "- Brand value for all the missing entries is present inside the Title feature as a first string\n",
        "- Simple lambda function will be able to retrieve it."
      ]
    },
    {
      "cell_type": "code",
      "execution_count": 10,
      "metadata": {
        "colab": {
          "base_uri": "https://localhost:8080/"
        },
        "id": "b6w7ldYdsn9d",
        "outputId": "7151a4c4-4eeb-4713-f198-c6ffafe34527"
      },
      "outputs": [
        {
          "name": "stderr",
          "output_type": "stream",
          "text": [
            "C:\\Program Files\\KMSpico\\temp\\ipykernel_10308\\862350388.py:1: SettingWithCopyWarning: \n",
            "A value is trying to be set on a copy of a slice from a DataFrame.\n",
            "Try using .loc[row_indexer,col_indexer] = value instead\n",
            "\n",
            "See the caveats in the documentation: https://pandas.pydata.org/pandas-docs/stable/user_guide/indexing.html#returning-a-view-versus-a-copy\n",
            "  brand_missing['Brand'] = brand_missing.Title.apply(lambda x: x.split()[0])\n"
          ]
        }
      ],
      "source": [
        "brand_missing['Brand'] = brand_missing.Title.apply(lambda x: x.split()[0])"
      ]
    },
    {
      "cell_type": "code",
      "execution_count": 11,
      "metadata": {
        "id": "wiUWqyHUA0Og"
      },
      "outputs": [],
      "source": [
        "# Replacing all the missing entries\n",
        "df.Brand.fillna(brand_missing.Brand, inplace=True)"
      ]
    },
    {
      "cell_type": "code",
      "execution_count": 12,
      "metadata": {
        "colab": {
          "base_uri": "https://localhost:8080/",
          "height": 617
        },
        "id": "ojkdgQ4zBkyb",
        "outputId": "015f1ea9-ea61-42fb-a203-8cfa87e7d1a3"
      },
      "outputs": [
        {
          "data": {
            "text/plain": [
              "Title                  0\n",
              "Brand                  0\n",
              "Screen_Size           87\n",
              "CPU_Model            215\n",
              "Ram                  132\n",
              "Operating_System     120\n",
              "Rating               560\n",
              "Series               342\n",
              "Color                734\n",
              "Resolution          2661\n",
              "Weight              2777\n",
              "USB                 2808\n",
              "Battery             2836\n",
              "Graphics             780\n",
              "Disk_size            595\n",
              "Card_desc            208\n",
              "Price                980\n",
              "dtype: int64"
            ]
          },
          "execution_count": 12,
          "metadata": {},
          "output_type": "execute_result"
        }
      ],
      "source": [
        "df.isna().sum()"
      ]
    },
    {
      "cell_type": "markdown",
      "metadata": {
        "id": "rM3RAYdJFKwo"
      },
      "source": [
        "##**Addressing Screen_Size**"
      ]
    },
    {
      "cell_type": "code",
      "execution_count": 13,
      "metadata": {
        "id": "8RCN9eMxE4WC"
      },
      "outputs": [],
      "source": [
        "# Filtering out missing rows\n",
        "screen_missing = df[df.Screen_Size.isna()]"
      ]
    },
    {
      "cell_type": "code",
      "execution_count": 14,
      "metadata": {
        "colab": {
          "base_uri": "https://localhost:8080/"
        },
        "id": "dMTp5mjqFU7S",
        "outputId": "07ff0cf4-5076-4111-feb4-14d47e360d8a"
      },
      "outputs": [
        {
          "data": {
            "text/plain": [
              "array(['B BELK Compatible with MacBook Air 13 inch Case M1, MacBook Air Case 2021 2020 2019 2018 Model A2337 A2179 A1932 with Touch ID, Clear Plastic Laptop Hard Shell + 2 Keyboard Covers + Screen Protector',\n",
              "       'Apple 2022 MacBook Air Laptop with M2 chip: 13.6-inch Liquid Retina Display, 8GB RAM, 256GB SSD Storage, Backlit Keyboard, 1080p FaceTime HD Camera. Works with iPhone and iPad; Midnight AppleCare',\n",
              "       'Apple MacBook Pro 16\" with Liquid Retina XDR Display, M1 Pro Chip with 10-Core CPU and 16-Core GPU, 32GB Memory, 1TB SSD, Silver, Late 2021',\n",
              "       'Apple 2022 MacBook Air Laptop with M2 chip: 13.6-inch Liquid Retina Display, 8GB RAM, 256GB SSD Storage, Backlit Keyboard, 1080p FaceTime HD Camera. Works with iPhone and iPad; Starlight AppleCare',\n",
              "       'Apple 2021 MacBook Pro (14-inch, M1 Pro chip with 10‑core CPU and 16‑core GPU, 16GB RAM, 1TB SSD) - Space Gray AppleCare+ for 14-inch MacBook Pro',\n",
              "       'Apple 2022 MacBook Air Laptop with M2 chip: 13.6-inch Liquid Retina Display, 8GB RAM, 512GB SSD Storage, Backlit Keyboard, 1080p FaceTime HD Camera. Works with iPhone and iPad; Space Gray AppleCare',\n",
              "       'Apple 2022 MacBook Air Laptop with M2 chip: 13.6-inch Liquid Retina Display, 8GB RAM, 256GB SSD Storage, Backlit Keyboard, 1080p FaceTime HD Camera. Works with iPhone and iPad; Silver AppleCare',\n",
              "       'Apple MacBook Pro 16\" with Liquid Retina XDR Display, M1 Pro Chip with 10-Core CPU and 16-Core GPU, 32GB Memory, 512GB SSD, Silver, Late 2021',\n",
              "       'Apple MacBook Pro 13.3\" with Retina Display, M2 Chip with 8-Core CPU and 10-Core GPU, 24GB Memory, 256GB SSD, Silver, Mid 2022',\n",
              "       'Apple MacBook Pro 16\" with Liquid Retina XDR Display, M1 Pro Chip with 10-Core CPU and 16-Core GPU, 32GB Memory, 512GB SSD, Silver, Late 2021',\n",
              "       'Apple MacBook Pro 13.3\" with Retina Display, M2 Chip with 8-Core CPU and 10-Core GPU, 24GB Memory, 256GB SSD, Silver, Mid 2022',\n",
              "       'Apple 2021 MacBook Pro (16-inch, M1 Max chip with 10‑core CPU and 32‑core GPU, 32GB RAM, 1TB SSD) - Silver AppleCare+ for 16-inch MacBook Pro (M1)',\n",
              "       '2021 Apple MacBook Pro (14-inch, Apple M1 Pro chip with 8‑core CPU and 14‑core GPU, 16GB RAM, 512GB SSD) - Silver AppleCare+ for 14-inch MacBook Pro',\n",
              "       'Apple 2021 MacBook Pro (14-inch, M1 Pro chip with 10‑core CPU and 16‑core GPU, 16GB RAM, 1TB SSD) - Silver AppleCare+ for 14-inch MacBook Pro',\n",
              "       'Apple 2022 MacBook Air Laptop with M2 chip: 13.6-inch Liquid Retina Display, 8GB RAM, 512GB SSD Storage, Backlit Keyboard, 1080p FaceTime HD Camera. Works with iPhone and iPad; Midnight AppleCare',\n",
              "       'Apple 2020 MacBook Air Laptop M1 Chip, 13” Retina Display, 8GB RAM, 256GB SSD Storage, Backlit Keyboard, FaceTime HD Camera, Touch ID. Works with iPhone/iPad; Space Gray AppleCare',\n",
              "       'Acer Aspire 1 A115-32-C96U Laptop | 15.6\" FHD | Celeron N4500 | 4GB DDR4 | 128GB eMMC | MS 365 Personal 1-Year Subscription | Win 11 Home in S Mode with AOPEN 24SA2Y bi 23.8\" FHD VA-Monitor',\n",
              "       'Acer Aspire 1 A115-32-C96U Laptop | 15.6\" FHD | Celeron N4500 | 4GB DDR4 | 128GB eMMC | WiFi 5 | MS 365 Personal 1-Year Subscription | Win 11 Home in S Mode USB Type-C Dock D501, 60W PD',\n",
              "       'Acer Aspire 1 A115-32-C96U Laptop | 15.6\" FHD | Celeron N4500 | 4GB DDR4 | 128GB eMMC | WiFi 5 | MS 365 Personal 1-Year Subscription | W11 Home in S Mode FHD USB 2MP Webcam with Microphone',\n",
              "       'Refurbished Panasonic Toughbook CF-33, Intel Core i5-6300U @2.4GHz, Ram 8GB, 256GB SSD,4G Lte,No Key',\n",
              "       '2nd USB/CF-20/8GB/256GB SSD/Windows 10/WIFI/4G LTE/Multi Carrier/Webcam/Emissive Backlit Keyboard/',\n",
              "       'Toughbook U1 Ultra Mobile PC', 'PANASONIC FZ-VZSU88U',\n",
              "       'Acer Aspire 3 A315-24P-R2SC Laptop | 15.6\" FHD IPS Display | AMD Ryzen 5 7520U | Radeon Graphics | 8GB LPDDR5 | 256GB SSD | Wi-Fi 5 | Windows 11 Home USB Type-C Dock D501, 60W PD',\n",
              "       'Acer Aspire 3 A315-24P-R2SC Laptop | 15.6\" FHD IPS Display | AMD Ryzen 5 7520U | 8GB LPDDR5 | 256GB SSD | Wi-Fi 5 | Windows 11 Home with AOPEN 24SA2Y bi 23.8\" FHD VA-Monitor | 1 x HDMI 1.4 & 1 x VGA',\n",
              "       'Acer Aspire 3 A314-23P-R3QA Laptop | 14.0\" FHD IPS | AMD Ryzen 5 7520U | AMD Radeon Graphics | 8GB LPDDR5 | 512GB SSD | Wi-Fi 6 | Windows 11 Home USB Type-C Dock D501, 60W PD',\n",
              "       'Panasonic Toughbook CF-52 500GB 4GB 15.4\" Genuine Win 7 Pro + Microsoft Office 2010',\n",
              "       'CF-52,INTELCORE I3-330M 2.13GHZ,15.4INCH',\n",
              "       'Acer Aspire 3 A315-24P-R2SC Laptop | 15.6\" FHD IPS Display | AMD Ryzen 5 7520U | Radeon Graphics | 8GB LPDDR5 | 256GB SSD | Wi-Fi 5 | Windows 11 Home USB 3.0 Dock U301',\n",
              "       'Acer Aspire 3 A314-23P-R3QA Laptop | 14.0\" FHD IPS | AMD Ryzen 5 7520U | AMD Radeon Graphics | 8GB LPDDR5 | 512GB SSD | Wi-Fi 6 | Windows 11 Home USB 3.0 Dock U301',\n",
              "       'Acer Chromebook Spin 314 CP314-1H-P1Q5 | Pentium N6000 | 14\" HD Touch Display | 8GB LPDDR4X | 128GB eMMC | Intel Wi-Fi 6 AX201 | Chrome OS Full HD USB 2MP Webcam with Digital Microphone',\n",
              "       'Acer Chromebook Spin 314 CP314-1H-P1Q5 | Pentium N6000 | 14\" HD Touch | 8GB RAM | 128GB eMMC | Intel Wi-Fi 6 AX201 | Chrome OS USB Type-C Dock D501 Certified Works with Chromebook, 60W PD',\n",
              "       'Acer Predator Triton 500 SE Gaming/Creator Laptop | 12th Gen Intel i9-12900H & Nitro 5 AN515-57-79TD Gaming Laptop | Intel Core i7-11800H | NVIDIA GeForce RTX 3050 Ti Laptop GPU',\n",
              "       'Acer Aspire 3 A314-23P-R3QA Laptop | 14.0\" FHD IPS | AMD Ryzen 5 7520U | AMD Radeon Graphics | 8GB LPDDR5 | 512GB SSD | Wi-Fi 6 | Windows 11 Home FHD USB 2MP Webcam with Digital Microphone',\n",
              "       'Acer Aspire 3 A314-23P-R3QA Laptop | 14.0\" FHD IPS | AMD Ryzen 5 7520U | 8GB LPDDR5 | 512GB SSD | Wi-Fi 6 | Windows 11 Home with AOPEN 24SA2Y bi 23.8\" FHD VA-Monitor | 1 x HDMI 1.4 & 1 x VGA',\n",
              "       'Acer Aspire 3 A315-24PT-R08Z Laptop | 15.6\" FHD IPS Touch | AMD Ryzen 3 7320U | Radeon Graphics | 8GB LPDDR5 | 256GB SSD | Wi-Fi 6 | Windows 11 Home USB Type-C Dock D501, 60W PD',\n",
              "       'MK8/CF-19/16GB RAM/ 4G LTE/ 500GB SSD/ WINDOWS 10 PRO 64 BIT/2.7 GHZ/TOUCH SCREEN/',\n",
              "       'CF30 C2D/1.6 13.3TCH 2GB-160GB WLS EBK GOBI WXP-WV',\n",
              "       'Acer Aspire 3 A315-24PT-R08Z Laptop | 15.6\" FHD IPS Touch | AMD Ryzen 3 7320U | Radeon Graphics | 8GB LPDDR5 | 256GB SSD | Wi-Fi 6 | Windows 11 Home USB 3.0 Dock U301',\n",
              "       'Panasonic CF-52VAABY1M-RW Win7 Intel Core I5-3360m 2.80ghz 15.4',\n",
              "       'Panasonic Toughbook CF-53JJCZY1M 14 LED Notebook Intel Core i5-3320M 2.60 GHz',\n",
              "       'CF-20/8GB RAM/240GB Solid State Hard Drive/WiFi/ 4G LTE/ PANASONIC TOUGHBOOK/Laptop Computer/ Two in ONE( 2 in 1) Notebook Tablet PC/ VERIZON/Sprint/AT&T/TOUGHBOOK/ Fully Rugged (128GB SSD)',\n",
              "       'Acer 2022 Newest Aspire 5 Slim Laptop, 15.6 inch FHD Display, AMD Ryzen 7 3700U, 24GB RAM, 1T SSD, WiFi 6, Bluetooth 5, Backlit Keyboard, Fingerprint Reader, Windows 11 Home, Bundled with JAWFOAL',\n",
              "       'GIGABYTE Ultra Compact Mini PC/Intel UHD Graphics 600/ M.2 SSD/HDMI (2.0A)/ DP1.2A Component- GB-BLCE-4105',\n",
              "       'ASUS PN41 Fanless MiniPC Barebone with Intel 11th gen Quad Core Celeron N5100, Support Dual 4K, WiFi, Bluetooth 5, VESA Mount',\n",
              "       'LG Bundle Gram (2022) 16T90Q 2-in-1 Tablet-Laptop, 16\" IPS-Display, Intel Evo 12th Gen i7 1260P-Processor, 16GB LPDDR5, 2TB NVMe SSD, WiFi 6E, Windows 11, Silver & Gram+View Portable-Monitor',\n",
              "       'Generic 11.6 inches HD Screen Compatible with Chromebook 11 CB3-111 Laptop Replacement LED LCD',\n",
              "       'Generic 15.6\" HD Screen Compatible with Lenovo G50-80 (5D10G74897 NT156WHM-N12) Laptop Replacement LED LCD',\n",
              "       'Generic 15.6\" HD Screen Compatible with HP ProBook 4510s 4515s 4520s 4525s 4530s 4535s 4540s 4545s Laptop Replacement LED LCD',\n",
              "       'Generic 15.6\" HD Screen Compatible with Samsung Ltn156at37-l01 Laptop Replacement LED LCD',\n",
              "       'Generic New 17.3\" LED WXGA++ Glossy HD LCD Replacement Laptop Screen/Display Compatible with LTN173KT01 (K01, T01, A01, D01)',\n",
              "       '13-15 Inch Cat Paws Print Laptop Sleeve Case/Water-Resistant Neoprene Notebook Computer Pocket Tablet Briefcase Carrying Bag/Pouch Skin Cover for HP/Dell/Lenovo/Asus/Acer/Apple',\n",
              "       'LG LP173WF4(SP)(F1) New Replacement LCD Screen for Laptop LED Full HD Matte',\n",
              "       'Generic 15.6\" HD Screen Compatible with Lenovo G50-70 20351 Laptop Replacement LED LCD',\n",
              "       'Msi A6200 Laptop LCD Screen 15.6\" Wxga Hd LED Diode (Substitute Replacement LCD Screen Only. Not A Laptop)',\n",
              "       'Dell Inspiron 1545 Bt156Gw01 V.1 Laptop LCD Screen Replacement 15.6\" Wxga Hd LED Matte',\n",
              "       'New 17.3\" LED WXGA++ Glossy HD LCD Replacement Laptop Screen/Display for HP Pavilion G72-B60US & G72-B66US',\n",
              "       'Chunghwa Claa173ua01a Replacement LAPTOP LCD Screen 17.3\" WXGA++ LED DIODE (Substitute Replacement LCD Screen Only. Not a Laptop )',\n",
              "       'Boehydis Nv156fhm-n42 Replacement LAPTOP LCD Screen 15.6\" Full-HD LED DIODE (Substitute Only. Not a ) (IPS 1080P)',\n",
              "       'Chi Mei N133bge-l41 Replacement LAPTOP LCD Screen 13.3\" WXGA HD LED DIODE (Substitute Only. Not a )',\n",
              "       'Generic New 15.6\" HD Laptop Replacement LED LCD Screen Compatible with Dell Inspiron 15-3000 (B156XTN04.0 NON TOUCH)',\n",
              "       'Generic New 14.0\" HD Glossy Replacement LED LCD Screen Compatible with Toshiba Satellite L745 Models L745-S4110, L745-S4210, L745-S4310, L745-S4235',\n",
              "       'SAMSUNG LTN156AT35-H01 New Replacement LCD Screen for Laptop LED HD Glossy',\n",
              "       'Generic AOHC 13-14 inch (Jet Black) Laptop Sleeve Case Laptop Stand Adjustable, Computer Shock Resistant Bag with Mouse Pad for MacBook, Window Surface',\n",
              "       'Generic, AOHC 1314 inch (Rose Gold) Laptop Sleeve Case Laptop Stand Adjustable, Computer Shock Resistant Bag with Mouse Pad for MacBook, Window Surface',\n",
              "       'Generic New 15.6\" HD Laptop Replacement LED LCD Screen Compatible with Dell Inspiron 15-3000 (B156XTN04.0 NON TOUCH)',\n",
              "       'GENERIC 14.0\" WXGA Compatible with Dell Latitude E6420 LTN140AT16 Laptop LCD Screen Replacement',\n",
              "       'Generic, AOHC 1314 inch (Rose Gold) Laptop Sleeve Case Laptop Stand Adjustable, Computer Shock Resistant Bag with Mouse Pad for MacBook, Window Surface',\n",
              "       'Alienware Aurora R10 Gaming Desktop - AMD Ryzen 7 5800, 16GB DDR4 RAM, 1TB SSD, AMD Radeon RX 6600XT 8GB GDDR6, VR Ready, Killer Wi-Fi 6, Liquid Cooling, 550W Power Supply, Windows 11 Home - Black',\n",
              "       'Alienware Aurora R10 Gaming Desktop - AMD Ryzen 9 5900, 32GB 3400MHz RAM, 1TB SSD, NVIDIA GeForce RTX 3080 10GB GDDR6X Graphics, Windows 11 Home - Lunar Light',\n",
              "       'Alienware Aurora R9 (AWAUR9-7643WHT-PUS) Intel Core i7-9700 - 16GB Memory - NVIDIA GeForce RTX 2070-1TB HDD + 256GB SSD - White/Lunar Light',\n",
              "       'Alienware Alpha ASM100-1580 Console (Intel Core i3-4130T 2.9 GHz, 4GB DDR3, 500GB HDD, Windows 8) (Discontinued by Manufacturer)',\n",
              "       'Alienware AWAUR6-5468SLV-PUS Gaming Desktop, Intel Core i5 (up to 3.5GHz), 8GB, 1TB HDD, RX 480 Graphics, Epic Silver',\n",
              "       'Alienware Alpha ASM100-1580 Console (Intel Core i3-4130T 2.9 GHz, 4GB DDR3, 500GB HDD, Windows 8) (Discontinued by Manufacturer)',\n",
              "       'HP 14 Laptop, AMD Ryzen 5 5500U, 8 GB RAM, 256 GB SSD Storage, 14-inch Full HD & WD 1TB Elements SE - Portable SSD, USB 3.0, Compatible with PC, Mac - WDBAYN0010BBK-WESN',\n",
              "       'Samsung Notebook Flash Memory 4 GB, Storage 64 GB eMMC, 13.3\", Twill Charcoal (NP530XBB) (Renewed)',\n",
              "       'SAMSUNG 14” Galaxy Book3 Pro Laptop Computer, 13th Gen Intel Core i7-1360P Processor / 16GB / 512GB, 3K AMOLED Screen, 120hz, Fingerprint Reader, FHD Webcam, 2023 Model, NP940XFG-KC2US, Graphite',\n",
              "       'Miwasion Case ONLY Compatible with 13.5\" Microsoft Surface Metal Keyboard Laptop(4/3),Release(1868/1951) Laptop with Keyboard Protectors Plastic Hard Shell Cases（Garden\\xa0Flowers,Floral）',\n",
              "       'tomtoc 360 Protective Laptop Sleeve for 13.5-14.4 Inch New Microsoft Surface Laptop Studio/5/4/3/2/1, Surface Book 3/2/1, Waterproof Accessories Carrying Case Bag for Asus ZenBook/ VivoBook 14, Black',\n",
              "       'Microsoft Surface Laptop Go 12.4\" Touchscreen Notebook - 1536 x 1024 - Intel Core i5 (10th Gen) i5-1035G1 1 GHz - 8 GB RAM - 256 GB SSD - Platinum - Windows 10 Pro - Intel UHD Graphics - PixelSense -',\n",
              "       'Microsoft Surface Laptop Studio 14.4-inch Touchscreen, 512GB SSD, i7, 16GB RAM with Windows 10 Pro (Core i7-11370H, Wi-Fi, GeForce RTX 3050 Ti, Latest Model) Platinum, ABR-00026',\n",
              "       'Microsoft Surface Pro (Intel Core i5, 8GB RAM, 256GB) & Microsoft Surface Dock',\n",
              "       'Microsoft Surface Pro (Intel Core i5, 8GB RAM, 256GB) & Microsoft Surface Pen- Platinum',\n",
              "       'Microsoft Surface Laptop 4, AMD Ryzen 5 4680U, 8GB RAM, 256GB SSD, 13.5\" Touchscreen Display, AMD Radeon Graphics, Windows 10 Pro, 5Q8-00001 (Renewed)',\n",
              "       'SAMSUNG 14” Galaxy Book3 Pro Laptop Computer, 13th Gen Intel Core i7-1360P Processor / 16GB / 512GB, 3K AMOLED Screen, 120hz, Fingerprint Reader, FHD Webcam, 2023 Model, NP940XFG-KA2US, Beige',\n",
              "       'SAMSUNG 16” Galaxy Book3 Pro Laptop Computer, 13th Gen Intel Core i7-1360P Processor / 16GB / 1TB, 3K AMOLED Screen, 120hz, Fingerprint Reader, FHD Webcam, 2023 Model, NP960XFG-KA1US, Beige',\n",
              "       'SAMSUNG 14” Galaxy Book3 Pro Laptop Computer, 13th Gen Intel Core i7-1360P Processor / 16GB / 512GB, 3K AMOLED Screen, 120hz, Fingerprint Reader, FHD Webcam, 2023 Model, NP940XFG-KC2US, Graphite'],\n",
              "      dtype=object)"
            ]
          },
          "execution_count": 14,
          "metadata": {},
          "output_type": "execute_result"
        }
      ],
      "source": [
        "screen_missing.Title.values"
      ]
    },
    {
      "cell_type": "code",
      "execution_count": 15,
      "metadata": {
        "colab": {
          "base_uri": "https://localhost:8080/"
        },
        "id": "BrWf6fRNOTRk",
        "outputId": "ef8c1460-2731-4708-aeb8-ea5fbd06834d"
      },
      "outputs": [
        {
          "data": {
            "text/plain": [
              "(87, 17)"
            ]
          },
          "execution_count": 15,
          "metadata": {},
          "output_type": "execute_result"
        }
      ],
      "source": [
        "screen_missing.shape"
      ]
    },
    {
      "cell_type": "markdown",
      "metadata": {
        "id": "K4VH0gcuFsVi"
      },
      "source": [
        "###**Observations and Modifications**\n",
        "- Most of the missing screen sizes are available inside the Title section\n",
        "- Values can be retrieved using regular expression\n",
        "\n",
        "**Steps:-**\n",
        "\n",
        "- Filtering out all the missing entries and store it inside new dataframe\n",
        "- Defining new function which extracts screen size using regular expression from the title section of the screen_missing dataframe\n",
        "- Once retrieval completes, merge updated datarfame with original one.\n",
        "- Drop entries which still have missing values."
      ]
    },
    {
      "cell_type": "code",
      "execution_count": 16,
      "metadata": {
        "colab": {
          "base_uri": "https://localhost:8080/"
        },
        "id": "loHlkqvPOYBK",
        "outputId": "ff30519b-37a6-4bd4-acef-5b78eb93a372"
      },
      "outputs": [
        {
          "name": "stderr",
          "output_type": "stream",
          "text": [
            "C:\\Program Files\\KMSpico\\temp\\ipykernel_10308\\600362279.py:2: SettingWithCopyWarning: \n",
            "A value is trying to be set on a copy of a slice from a DataFrame.\n",
            "Try using .loc[row_indexer,col_indexer] = value instead\n",
            "\n",
            "See the caveats in the documentation: https://pandas.pydata.org/pandas-docs/stable/user_guide/indexing.html#returning-a-view-versus-a-copy\n",
            "  screen_missing['Screen_Size'] = screen_missing.Title.str.extract(r'(\\d{2}\\.\\d{1}|\\d{2})(?:\\\"|\\sinch|\\-inch|\\”|\\sInch)')\n"
          ]
        },
        {
          "data": {
            "text/plain": [
              "23"
            ]
          },
          "execution_count": 16,
          "metadata": {},
          "output_type": "execute_result"
        }
      ],
      "source": [
        "# Defining regular expression and retrieving values\n",
        "screen_missing['Screen_Size'] = screen_missing.Title.str.extract(r'(\\d{2}\\.\\d{1}|\\d{2})(?:\\\"|\\sinch|\\-inch|\\”|\\sInch)')\n",
        "screen_missing['Screen_Size'].isna().sum()\n"
      ]
    },
    {
      "cell_type": "code",
      "execution_count": 17,
      "metadata": {
        "colab": {
          "base_uri": "https://localhost:8080/"
        },
        "id": "EETS1eDqNS5T",
        "outputId": "24ec029d-9a13-4c54-a04b-129dd21c064b"
      },
      "outputs": [
        {
          "data": {
            "text/plain": [
              "array(['13', '13.6', '16', '14', '13.3', '15.6', nan, '14.0', '15.4',\n",
              "       '11.6', '17.3', '15', '13.5', '14.4', '12.4'], dtype=object)"
            ]
          },
          "execution_count": 17,
          "metadata": {},
          "output_type": "execute_result"
        }
      ],
      "source": [
        "screen_missing.Screen_Size.unique()"
      ]
    },
    {
      "cell_type": "code",
      "execution_count": 18,
      "metadata": {
        "id": "cgnkTuepN52k"
      },
      "outputs": [],
      "source": [
        "# Merging screen_missing with an original dataframe\n",
        "df.Screen_Size.fillna(screen_missing.Screen_Size, inplace=True)"
      ]
    },
    {
      "cell_type": "code",
      "execution_count": 19,
      "metadata": {
        "colab": {
          "base_uri": "https://localhost:8080/"
        },
        "id": "-1kArfCnNoF7",
        "outputId": "07cfb401-aaa7-45af-9af8-0884f28f0fc0"
      },
      "outputs": [
        {
          "data": {
            "text/plain": [
              "array(['13.5 Inches', '13 Inches', '12.4 Inches', '14 Inches',\n",
              "       '34 Inches', '15.6 Inches', '17.3 Inches', '17 Inches',\n",
              "       '13.4 Inches', '16 Inches', '15.6', '15 Inches', '15.4 Inches',\n",
              "       '13', '13.3 Inches', '13.6', '16.2 Inches', '16', '14', '14.2',\n",
              "       '10.9 Inches', '9.7 Inches', '13.3', '14.1 Inches', '12.3 Inches',\n",
              "       '11.6 Inches', '13.1 Inches', '12 Inches', '11 Inches',\n",
              "       '12.5 Inches', nan, '10.1 Inches', '11.6', '17.3', '14.0', '15.4',\n",
              "       '10.4 Inches', '31.5 Inches', '6 Inches', '5.6 Inches',\n",
              "       '10 Inches', '17', '12.45 Inches', '30 Inches', '15',\n",
              "       '12.2 Inches', '24 Inches', '14.2 Inches', '13.6 Inches',\n",
              "       '18.4 Inches', '1 Centimeters', '17.25 Inches', '0.01',\n",
              "       '0.1 Inches', '14.5', '12.1 Inches', '14.5 Inches', '10.5 Inches',\n",
              "       '11', '116 Inches', '16.6 Inches', '3 Inches', '13.5',\n",
              "       '14.4 Inches', '14.4', '12.4', '10.51 Inches'], dtype=object)"
            ]
          },
          "execution_count": 19,
          "metadata": {},
          "output_type": "execute_result"
        }
      ],
      "source": [
        "df.Screen_Size.unique()"
      ]
    },
    {
      "cell_type": "markdown",
      "metadata": {
        "id": "eUfwWW-qOmWR"
      },
      "source": [
        "###**Observations**\n",
        "- We have successfully extracted screen size from the Title for the missing entries.\n",
        "- But original entries where screen size was not missing values are given with screen size and its unit of measure.\n",
        "- We need to conduct further preprocessing to remove unit of measure from such entries\n",
        "- Regular expressions can be utilized to achieve that."
      ]
    },
    {
      "cell_type": "code",
      "execution_count": 20,
      "metadata": {
        "id": "vZFKdmxPPdVA"
      },
      "outputs": [],
      "source": [
        "# Defining regular expression and retrieving values\n",
        "df['Screen_Size'] = df.Screen_Size.str.extract(r'(\\d{1,2}\\.\\d{1,2}|\\d{1,2})')"
      ]
    },
    {
      "cell_type": "code",
      "execution_count": 21,
      "metadata": {
        "colab": {
          "base_uri": "https://localhost:8080/"
        },
        "id": "MhDSLYpFQMtH",
        "outputId": "6151b7fc-6b0e-496f-e3b3-95a48d36d5a1"
      },
      "outputs": [
        {
          "data": {
            "text/plain": [
              "array(['13.5', '13', '12.4', '14', '34', '15.6', '17.3', '17', '13.4',\n",
              "       '16', '15', '15.4', '13.3', '13.6', '16.2', '14.2', '10.9', '9.7',\n",
              "       '14.1', '12.3', '11.6', '13.1', '12', '11', '12.5', nan, '10.1',\n",
              "       '14.0', '10.4', '31.5', '6', '5.6', '10', '12.45', '30', '12.2',\n",
              "       '24', '18.4', '1', '17.25', '0.01', '0.1', '14.5', '12.1', '10.5',\n",
              "       '16.6', '3', '14.4', '10.51'], dtype=object)"
            ]
          },
          "execution_count": 21,
          "metadata": {},
          "output_type": "execute_result"
        }
      ],
      "source": [
        "df.Screen_Size.unique()"
      ]
    },
    {
      "cell_type": "code",
      "execution_count": 22,
      "metadata": {
        "id": "aPOLa64hQ-S1"
      },
      "outputs": [],
      "source": [
        "# Changing datatype from object to float\n",
        "df.Screen_Size = df.Screen_Size.astype(float)"
      ]
    },
    {
      "cell_type": "code",
      "execution_count": 23,
      "metadata": {
        "colab": {
          "base_uri": "https://localhost:8080/",
          "height": 1000
        },
        "id": "gO2JNzfSQTcL",
        "outputId": "a7ba721b-c569-4353-b9ce-c2bd16e9ddb4"
      },
      "outputs": [
        {
          "data": {
            "text/plain": [
              "Screen_Size\n",
              "0.01       1\n",
              "0.10       1\n",
              "1.00       4\n",
              "3.00       1\n",
              "5.60       1\n",
              "6.00       1\n",
              "9.70       5\n",
              "10.00      2\n",
              "10.10     25\n",
              "10.40      4\n",
              "10.50      3\n",
              "10.51      1\n",
              "10.90      1\n",
              "11.00     11\n",
              "11.60    136\n",
              "12.00     18\n",
              "12.10      1\n",
              "12.20     12\n",
              "12.30     14\n",
              "12.40     32\n",
              "12.45      3\n",
              "12.50     11\n",
              "13.00     48\n",
              "13.10     40\n",
              "13.30    153\n",
              "13.40     18\n",
              "13.50     62\n",
              "13.60      6\n",
              "14.00    593\n",
              "14.10     15\n",
              "14.20      3\n",
              "14.40     10\n",
              "14.50      5\n",
              "15.00     76\n",
              "15.40     20\n",
              "15.60    953\n",
              "16.00    137\n",
              "16.20      4\n",
              "16.60      1\n",
              "17.00     46\n",
              "17.25      1\n",
              "17.30    330\n",
              "18.40      6\n",
              "24.00      1\n",
              "30.00      1\n",
              "31.50      2\n",
              "34.00      1\n",
              "Name: count, dtype: int64"
            ]
          },
          "execution_count": 23,
          "metadata": {},
          "output_type": "execute_result"
        }
      ],
      "source": [
        "df.Screen_Size.value_counts().sort_index()"
      ]
    },
    {
      "cell_type": "code",
      "execution_count": 24,
      "metadata": {
        "colab": {
          "base_uri": "https://localhost:8080/"
        },
        "id": "CjXeLOZ4Qvvm",
        "outputId": "08318b10-9e4e-40aa-e663-c09e2c48ae53"
      },
      "outputs": [
        {
          "data": {
            "text/plain": [
              "array([['Apple iPad Air 2, 16 GB, Silver, Newest Version (Renewed)', 9.7,\n",
              "        nan],\n",
              "       ['2014 Apple iPad Air 2 (9.4 inch, Wi-Fi, 64GB) Silver (Renewed)',\n",
              "        9.7, nan],\n",
              "       ['Apple iPad Air 2, 16 GB, Gold, (Renewed)', 9.7, nan],\n",
              "       ['Apple iPad Air 2, 16 GB, Space Gray (Renewed)', 9.7, nan],\n",
              "       ['[512GB M.2 SSD Version] GPD MicroPC Micro PC 6-inch Handheld Industry Laptop Mini PC Computer Win 10 Pro Supports RS-232,RJ45,Type C,USB 3.0,8GB RAM',\n",
              "        6.0, nan],\n",
              "       ['Panasonic Toughbook U1 - Atom Z520 1.33 GHz - 5.6\" TFT (CR4302) Category: Laptop Computers',\n",
              "        5.6, nan],\n",
              "       ['Apple iPad Air 2, 16 GB, Space Gray (Renewed)', 9.7, nan],\n",
              "       ['Alienware Aurora R11 Gaming Desktop 10th Gen Intel Core i7, 16GB Dual Channel HyperX Fury DDR4 XMP, NVIDIA GeForce RTX 3080, 1TB HDD + 512GB SSD, Killer Wi-Fi 6, Black (Latest Model)',\n",
              "        1.0, '$3,589.99'],\n",
              "       ['Alienware Aurora R10 Gaming Desktop - AMD Ryzen 9 5900, 32GB DDR4 RAM, 1TB SSD, NVIDIA GeForce RTX 3080 10GB GDDR6X, Windows 10 Home - Lunar Light',\n",
              "        1.0, '$2,095.00'],\n",
              "       ['Alienware Aurora R8 Desktop, 9th Gen Intel Core i7 9700, NVIDIA GeForce RTX 2070, 8GB GDDR6 (Overclockable), 256GB SSD Boot + 2TB 7200 RPM, 16GB RAM, AWAUR8-7787SLV-PUS',\n",
              "        0.01, '$3,099.00'],\n",
              "       ['Alienware Dell Aurora R10 Gaming Desktop, AMD Ryzen 9 3900, 32GB Dual Channel HyperX Fury DDR4 XMP, 1TB SSD, AMD Radeon RX 5700 XT 8GB GDDR6, Lunar Light',\n",
              "        1.0, '$2,299.99'],\n",
              "       ['Alienware Aurora R10 Gaming Desktop - AMD Ryzen 9 5900, 32GB DDR4 RAM, 1TB SSD, NVIDIA GeForce RTX 3080 10GB GDDR6X, Windows 10 Home - Lunar Light',\n",
              "        1.0, '$2,095.00'],\n",
              "       ['Alienware New Aurora R11 Gaming Desktop, Intel i7-10700KF, NVIDIA GeForce RTX 2080 Super 8GB GDDR6, 512GB SSD + 1TB SATA HDD, 16GB DDR4 XMP, Windows 10 Home, AWAUR11-7088BLK-PUS',\n",
              "        0.1, '$3,299.00'],\n",
              "       ['Samsung - Galaxy Book S 13.3 inches Laptop 8GB RAM - 256GB SSD SM-W767VZAAVZW (Renewed)',\n",
              "        3.0, nan]], dtype=object)"
            ]
          },
          "execution_count": 24,
          "metadata": {},
          "output_type": "execute_result"
        }
      ],
      "source": [
        "df[df.Screen_Size < 10][['Title', 'Screen_Size', 'Price']].values"
      ]
    },
    {
      "cell_type": "markdown",
      "metadata": {
        "id": "iZjLmHHMSESI"
      },
      "source": [
        "### There are some entries in screen size which can be further reassigned after preprocessing the Price feature. For a time being, we will drop all entries that couldn't retrieve any information from the Title section."
      ]
    },
    {
      "cell_type": "code",
      "execution_count": 25,
      "metadata": {
        "id": "ddFAi-DcBEzs"
      },
      "outputs": [],
      "source": [
        "df = df.dropna(subset = ['Screen_Size'], axis=0)"
      ]
    },
    {
      "cell_type": "code",
      "execution_count": 26,
      "metadata": {
        "colab": {
          "base_uri": "https://localhost:8080/",
          "height": 617
        },
        "id": "hG6srHKqTKVs",
        "outputId": "0840b5eb-6658-4445-ba63-401d97a364c9"
      },
      "outputs": [
        {
          "data": {
            "text/plain": [
              "Title                  0\n",
              "Brand                  0\n",
              "Screen_Size            0\n",
              "CPU_Model            203\n",
              "Ram                  122\n",
              "Operating_System     107\n",
              "Rating               550\n",
              "Series               331\n",
              "Color                718\n",
              "Resolution          2640\n",
              "Weight              2756\n",
              "USB                 2785\n",
              "Battery             2813\n",
              "Graphics             763\n",
              "Disk_size            575\n",
              "Card_desc            191\n",
              "Price                969\n",
              "dtype: int64"
            ]
          },
          "execution_count": 26,
          "metadata": {},
          "output_type": "execute_result"
        }
      ],
      "source": [
        "df.isna().sum()"
      ]
    },
    {
      "cell_type": "markdown",
      "metadata": {
        "id": "UYWAGYyuHnIW"
      },
      "source": [
        "##**Addressing CPU_Model**"
      ]
    },
    {
      "cell_type": "code",
      "execution_count": 27,
      "metadata": {
        "colab": {
          "base_uri": "https://localhost:8080/",
          "height": 1000
        },
        "id": "4N6zLUv_B3q8",
        "outputId": "711dd897-384e-4907-df69-197b1d1a3b0f"
      },
      "outputs": [
        {
          "data": {
            "text/html": [
              "<div>\n",
              "<style scoped>\n",
              "    .dataframe tbody tr th:only-of-type {\n",
              "        vertical-align: middle;\n",
              "    }\n",
              "\n",
              "    .dataframe tbody tr th {\n",
              "        vertical-align: top;\n",
              "    }\n",
              "\n",
              "    .dataframe thead th {\n",
              "        text-align: right;\n",
              "    }\n",
              "</style>\n",
              "<table border=\"1\" class=\"dataframe\">\n",
              "  <thead>\n",
              "    <tr style=\"text-align: right;\">\n",
              "      <th></th>\n",
              "      <th>Title</th>\n",
              "      <th>Brand</th>\n",
              "      <th>Screen_Size</th>\n",
              "      <th>CPU_Model</th>\n",
              "      <th>Ram</th>\n",
              "      <th>Operating_System</th>\n",
              "      <th>Rating</th>\n",
              "      <th>Series</th>\n",
              "      <th>Color</th>\n",
              "      <th>Resolution</th>\n",
              "      <th>Weight</th>\n",
              "      <th>USB</th>\n",
              "      <th>Battery</th>\n",
              "      <th>Graphics</th>\n",
              "      <th>Disk_size</th>\n",
              "      <th>Card_desc</th>\n",
              "      <th>Price</th>\n",
              "    </tr>\n",
              "  </thead>\n",
              "  <tbody>\n",
              "    <tr>\n",
              "      <th>0</th>\n",
              "      <td>Microsoft Surface Laptop Intel Core i5 7th Gen...</td>\n",
              "      <td>Microsoft</td>\n",
              "      <td>13.5</td>\n",
              "      <td>1.2GHz Cortex A8 Processor</td>\n",
              "      <td>8 GB</td>\n",
              "      <td>Windows 10</td>\n",
              "      <td>4.4</td>\n",
              "      <td>Intel</td>\n",
              "      <td>Platinum</td>\n",
              "      <td>NaN</td>\n",
              "      <td>NaN</td>\n",
              "      <td>NaN</td>\n",
              "      <td>NaN</td>\n",
              "      <td>Intel HD Graphics 620</td>\n",
              "      <td>256 GB</td>\n",
              "      <td>Integrated</td>\n",
              "      <td>NaN</td>\n",
              "    </tr>\n",
              "    <tr>\n",
              "      <th>1</th>\n",
              "      <td>Microsoft Surface Laptop 3 13.5\" Touch-Screen ...</td>\n",
              "      <td>Microsoft</td>\n",
              "      <td>13.5</td>\n",
              "      <td>Core i5</td>\n",
              "      <td>8 GB</td>\n",
              "      <td>Windows 10</td>\n",
              "      <td>4.4</td>\n",
              "      <td>Microsoft Surface</td>\n",
              "      <td>Matte Black</td>\n",
              "      <td>NaN</td>\n",
              "      <td>NaN</td>\n",
              "      <td>NaN</td>\n",
              "      <td>NaN</td>\n",
              "      <td>NaN</td>\n",
              "      <td>NaN</td>\n",
              "      <td>NaN</td>\n",
              "      <td>NaN</td>\n",
              "    </tr>\n",
              "    <tr>\n",
              "      <th>2</th>\n",
              "      <td>Microsoft Surface Laptop (Intel Core i7, 16GB ...</td>\n",
              "      <td>Microsoft</td>\n",
              "      <td>13.5</td>\n",
              "      <td>Core i7</td>\n",
              "      <td>16 GB</td>\n",
              "      <td>Windows 10 S</td>\n",
              "      <td>3.9</td>\n",
              "      <td>Surface Laptop</td>\n",
              "      <td>Platinum</td>\n",
              "      <td>NaN</td>\n",
              "      <td>NaN</td>\n",
              "      <td>NaN</td>\n",
              "      <td>NaN</td>\n",
              "      <td>Intel Iris Plus Graphics 640</td>\n",
              "      <td>512 GB</td>\n",
              "      <td>Integrated</td>\n",
              "      <td>NaN</td>\n",
              "    </tr>\n",
              "    <tr>\n",
              "      <th>3</th>\n",
              "      <td>Microsoft Surface Laptop 3, 10th Gen Intel Cor...</td>\n",
              "      <td>Microsoft</td>\n",
              "      <td>13.0</td>\n",
              "      <td>Core i5-1035G7</td>\n",
              "      <td>8 GB</td>\n",
              "      <td>Windows 10 Home</td>\n",
              "      <td>4.2</td>\n",
              "      <td>Surface Laptop 3</td>\n",
              "      <td>Cobalt Blue</td>\n",
              "      <td>NaN</td>\n",
              "      <td>NaN</td>\n",
              "      <td>NaN</td>\n",
              "      <td>NaN</td>\n",
              "      <td>Intel Iris Plus</td>\n",
              "      <td>NaN</td>\n",
              "      <td>Integrated</td>\n",
              "      <td>NaN</td>\n",
              "    </tr>\n",
              "    <tr>\n",
              "      <th>4</th>\n",
              "      <td>2022 Microsoft Surface Laptop Go 12.4\" Touchsc...</td>\n",
              "      <td>Microsoft</td>\n",
              "      <td>12.4</td>\n",
              "      <td>Core i5</td>\n",
              "      <td>4 GB</td>\n",
              "      <td>Windows 11 Pro</td>\n",
              "      <td>3.9</td>\n",
              "      <td>Surface Laptop Go</td>\n",
              "      <td>Silver</td>\n",
              "      <td>NaN</td>\n",
              "      <td>NaN</td>\n",
              "      <td>NaN</td>\n",
              "      <td>NaN</td>\n",
              "      <td>NaN</td>\n",
              "      <td>256 GB</td>\n",
              "      <td>Integrated</td>\n",
              "      <td>$359.99</td>\n",
              "    </tr>\n",
              "    <tr>\n",
              "      <th>...</th>\n",
              "      <td>...</td>\n",
              "      <td>...</td>\n",
              "      <td>...</td>\n",
              "      <td>...</td>\n",
              "      <td>...</td>\n",
              "      <td>...</td>\n",
              "      <td>...</td>\n",
              "      <td>...</td>\n",
              "      <td>...</td>\n",
              "      <td>...</td>\n",
              "      <td>...</td>\n",
              "      <td>...</td>\n",
              "      <td>...</td>\n",
              "      <td>...</td>\n",
              "      <td>...</td>\n",
              "      <td>...</td>\n",
              "      <td>...</td>\n",
              "    </tr>\n",
              "    <tr>\n",
              "      <th>2838</th>\n",
              "      <td>Microsoft Surface Laptop Go 12.4\" Touchscreen ...</td>\n",
              "      <td>Microsoft</td>\n",
              "      <td>12.4</td>\n",
              "      <td>Core i5-1035G1</td>\n",
              "      <td>4 GB</td>\n",
              "      <td>Windows 10 Pro</td>\n",
              "      <td>4.2</td>\n",
              "      <td>Surface Go</td>\n",
              "      <td>Platinum</td>\n",
              "      <td>NaN</td>\n",
              "      <td>NaN</td>\n",
              "      <td>NaN</td>\n",
              "      <td>NaN</td>\n",
              "      <td>Intel UHD Graphics</td>\n",
              "      <td>64 GB</td>\n",
              "      <td>Integrated</td>\n",
              "      <td>$262.99</td>\n",
              "    </tr>\n",
              "    <tr>\n",
              "      <th>2839</th>\n",
              "      <td>Microsoft Surface Laptop Go 12.4\" Touchscreen ...</td>\n",
              "      <td>Microsoft</td>\n",
              "      <td>12.4</td>\n",
              "      <td>Core i5-1035G1</td>\n",
              "      <td>4 GB</td>\n",
              "      <td>Windows 10 Pro</td>\n",
              "      <td>4.2</td>\n",
              "      <td>Surface Go</td>\n",
              "      <td>Platinum</td>\n",
              "      <td>NaN</td>\n",
              "      <td>NaN</td>\n",
              "      <td>NaN</td>\n",
              "      <td>NaN</td>\n",
              "      <td>Intel UHD Graphics</td>\n",
              "      <td>64 GB</td>\n",
              "      <td>Integrated</td>\n",
              "      <td>$262.99</td>\n",
              "    </tr>\n",
              "    <tr>\n",
              "      <th>2840</th>\n",
              "      <td>Microsoft Surface Laptop Go 12.4in Touchscreen...</td>\n",
              "      <td>Microsoft</td>\n",
              "      <td>12.4</td>\n",
              "      <td>Core i5-1035G1</td>\n",
              "      <td>8 GB</td>\n",
              "      <td>Windows 10</td>\n",
              "      <td>4.5</td>\n",
              "      <td>Surface Laptop Go</td>\n",
              "      <td>Ice Blue</td>\n",
              "      <td>NaN</td>\n",
              "      <td>NaN</td>\n",
              "      <td>NaN</td>\n",
              "      <td>NaN</td>\n",
              "      <td>Intel UHD Graphics</td>\n",
              "      <td>128 GB</td>\n",
              "      <td>Integrated</td>\n",
              "      <td>NaN</td>\n",
              "    </tr>\n",
              "    <tr>\n",
              "      <th>2841</th>\n",
              "      <td>Microsoft Surface Laptop Go 12.4\" Touchscreen ...</td>\n",
              "      <td>Microsoft</td>\n",
              "      <td>12.4</td>\n",
              "      <td>Core i5-1035G1</td>\n",
              "      <td>4 GB</td>\n",
              "      <td>Windows 10 Pro</td>\n",
              "      <td>4.2</td>\n",
              "      <td>Surface Go</td>\n",
              "      <td>Platinum</td>\n",
              "      <td>NaN</td>\n",
              "      <td>NaN</td>\n",
              "      <td>NaN</td>\n",
              "      <td>NaN</td>\n",
              "      <td>Intel UHD Graphics</td>\n",
              "      <td>64 GB</td>\n",
              "      <td>Integrated</td>\n",
              "      <td>$262.99</td>\n",
              "    </tr>\n",
              "    <tr>\n",
              "      <th>2842</th>\n",
              "      <td>Microsoft Surface Laptop Go 12.4\" Touchscreen ...</td>\n",
              "      <td>Microsoft</td>\n",
              "      <td>12.4</td>\n",
              "      <td>Core i5-1035G1</td>\n",
              "      <td>4 GB</td>\n",
              "      <td>Windows 10 Home</td>\n",
              "      <td>4.4</td>\n",
              "      <td>MS1ZO00001OB</td>\n",
              "      <td>Platinum</td>\n",
              "      <td>NaN</td>\n",
              "      <td>NaN</td>\n",
              "      <td>NaN</td>\n",
              "      <td>NaN</td>\n",
              "      <td>NaN</td>\n",
              "      <td>64 GB</td>\n",
              "      <td>Integrated</td>\n",
              "      <td>$254.99</td>\n",
              "    </tr>\n",
              "  </tbody>\n",
              "</table>\n",
              "<p>2617 rows × 17 columns</p>\n",
              "</div>"
            ],
            "text/plain": [
              "                                                  Title      Brand  \\\n",
              "0     Microsoft Surface Laptop Intel Core i5 7th Gen...  Microsoft   \n",
              "1     Microsoft Surface Laptop 3 13.5\" Touch-Screen ...  Microsoft   \n",
              "2     Microsoft Surface Laptop (Intel Core i7, 16GB ...  Microsoft   \n",
              "3     Microsoft Surface Laptop 3, 10th Gen Intel Cor...  Microsoft   \n",
              "4     2022 Microsoft Surface Laptop Go 12.4\" Touchsc...  Microsoft   \n",
              "...                                                 ...        ...   \n",
              "2838  Microsoft Surface Laptop Go 12.4\" Touchscreen ...  Microsoft   \n",
              "2839  Microsoft Surface Laptop Go 12.4\" Touchscreen ...  Microsoft   \n",
              "2840  Microsoft Surface Laptop Go 12.4in Touchscreen...  Microsoft   \n",
              "2841  Microsoft Surface Laptop Go 12.4\" Touchscreen ...  Microsoft   \n",
              "2842  Microsoft Surface Laptop Go 12.4\" Touchscreen ...  Microsoft   \n",
              "\n",
              "      Screen_Size                   CPU_Model    Ram Operating_System  Rating  \\\n",
              "0            13.5  1.2GHz Cortex A8 Processor   8 GB       Windows 10     4.4   \n",
              "1            13.5                     Core i5   8 GB       Windows 10     4.4   \n",
              "2            13.5                     Core i7  16 GB     Windows 10 S     3.9   \n",
              "3            13.0              Core i5-1035G7   8 GB  Windows 10 Home     4.2   \n",
              "4            12.4                     Core i5   4 GB   Windows 11 Pro     3.9   \n",
              "...           ...                         ...    ...              ...     ...   \n",
              "2838         12.4              Core i5-1035G1   4 GB   Windows 10 Pro     4.2   \n",
              "2839         12.4              Core i5-1035G1   4 GB   Windows 10 Pro     4.2   \n",
              "2840         12.4              Core i5-1035G1   8 GB       Windows 10     4.5   \n",
              "2841         12.4              Core i5-1035G1   4 GB   Windows 10 Pro     4.2   \n",
              "2842         12.4              Core i5-1035G1   4 GB  Windows 10 Home     4.4   \n",
              "\n",
              "                 Series        Color Resolution Weight  USB Battery  \\\n",
              "0                 Intel     Platinum        NaN    NaN  NaN     NaN   \n",
              "1     Microsoft Surface  Matte Black        NaN    NaN  NaN     NaN   \n",
              "2        Surface Laptop     Platinum        NaN    NaN  NaN     NaN   \n",
              "3      Surface Laptop 3  Cobalt Blue        NaN    NaN  NaN     NaN   \n",
              "4     Surface Laptop Go       Silver        NaN    NaN  NaN     NaN   \n",
              "...                 ...          ...        ...    ...  ...     ...   \n",
              "2838         Surface Go     Platinum        NaN    NaN  NaN     NaN   \n",
              "2839         Surface Go     Platinum        NaN    NaN  NaN     NaN   \n",
              "2840  Surface Laptop Go     Ice Blue        NaN    NaN  NaN     NaN   \n",
              "2841         Surface Go     Platinum        NaN    NaN  NaN     NaN   \n",
              "2842       MS1ZO00001OB     Platinum        NaN    NaN  NaN     NaN   \n",
              "\n",
              "                          Graphics Disk_size   Card_desc    Price  \n",
              "0            Intel HD Graphics 620    256 GB  Integrated      NaN  \n",
              "1                              NaN       NaN         NaN      NaN  \n",
              "2     Intel Iris Plus Graphics 640    512 GB  Integrated      NaN  \n",
              "3                  Intel Iris Plus       NaN  Integrated      NaN  \n",
              "4                              NaN    256 GB  Integrated  $359.99  \n",
              "...                            ...       ...         ...      ...  \n",
              "2838            Intel UHD Graphics     64 GB  Integrated  $262.99  \n",
              "2839            Intel UHD Graphics     64 GB  Integrated  $262.99  \n",
              "2840            Intel UHD Graphics    128 GB  Integrated      NaN  \n",
              "2841            Intel UHD Graphics     64 GB  Integrated  $262.99  \n",
              "2842                           NaN     64 GB  Integrated  $254.99  \n",
              "\n",
              "[2617 rows x 17 columns]"
            ]
          },
          "execution_count": 27,
          "metadata": {},
          "output_type": "execute_result"
        }
      ],
      "source": [
        "df[~df['CPU_Model'].isna()]"
      ]
    },
    {
      "cell_type": "code",
      "execution_count": 28,
      "metadata": {
        "colab": {
          "base_uri": "https://localhost:8080/"
        },
        "id": "U1N2ThFqDhj5",
        "outputId": "f71e22b0-88c5-4869-ba3e-8749a696f2da"
      },
      "outputs": [
        {
          "data": {
            "text/plain": [
              "array(['1.2GHz Cortex A8 Processor', 'Core i5', 'Core i7',\n",
              "       'Core i5-1035G7', 'Ryzen 3 2300U', 'Intel Core i7-11700',\n",
              "       'Intel Core i5-1135G7', 'Ryzen 5', 'Intel Core i9',\n",
              "       'Core i7 8750H', 'Intel Core i7', 'AMD Ryzen 9 5900X',\n",
              "       'Core i7 6600U', 'Ryzen 9', 'Core i9', 'Corei5-10300H',\n",
              "       'Core i7-3720QM', nan, 'Celeron N4020', 'Core i7 Family',\n",
              "       'Intel Core i5', 'Ryzen 7', 'ARM 7100', 'Apple M1',\n",
              "       'Core i5 8250U', 'Unknown', 'Core i5-6267U', 'Core i3',\n",
              "       'Core I7 11800H', 'Corei7-10750H', 'AMD Ryzen 7', 'Core i5 Family',\n",
              "       'Corei7-9750H', 'Ryzen 5 5500U', 'Core i7-10510U',\n",
              "       'Core i3 Family', 'Corei7-1065G7', 'Xeon Platinum 8160M',\n",
              "       'Core I9 12900H', 'AMD Ryzen 5 5500U', 'Celeron', 'Others',\n",
              "       'Celeron N', 'AMD A Series', 'Celeron N4000', 'Core i5-5250U',\n",
              "       'MediaTek MT8183', 'Ryzen 3 3350U', 'Core i7 Extreme', 'AMD A6',\n",
              "       'Core i5-3340s', '8032', 'Pentium', 'Core I3 1115G4',\n",
              "       'Intel Core i3', 'Cortex', 'Ryzen 3', 'Intel Core i7-1165G7',\n",
              "       'Ryzen 7 5800U', 'AMD Ryzen 5 5600X', 'Core 2 Duo L7500',\n",
              "       'Core i5-3340M', 'Core Duo', 'Core i5 8300H', 'MediaTek_MT8127',\n",
              "       'AMD A4', 'Celeron 2955U', 'Ryzen 5 4500U', 'Celeron N3350',\n",
              "       'Celeron 3205U', 'Ryzen 3 3200U', 'Celeron N3450',\n",
              "       'Core i5-10210U', 'AMD R Series', 'Ryzen 7 3700U',\n",
              "       'Core 2 Duo T7100', 'Core i5-2540M', 'Intel Atom', 'Ryzen 5 5600H',\n",
              "       'Core i5-1035G1', 'Ryzen 7 5700U', 'Intel Core 2 Quad',\n",
              "       'Core i5-2500', 'Core 2 Duo SL9300', 'Core i5-3320M',\n",
              "       'Core i5-750', 'Core i5-1035G4', 'Ryzen 7 4700U', 'Core i5 5300U',\n",
              "       'Intel Mobile CPU', 'Core i7-4810HQ', 'Core i5-655K',\n",
              "       'Core i5 4310U', 'I5-4670k', 'Core i5-520M', 'Core i5-2520M',\n",
              "       'Intel Core M-5Y10 Processor', 'AMD Ryzen 7 5800H',\n",
              "       'AMD Ryzen 7 5700U', 'Mediatek Mt8173C', 'Core i5 2.3 GHz',\n",
              "       'Intel Core i7 1185G7', 'Core m3-8100Y', 'Pentium N5000', 'Athlon',\n",
              "       'Core i5-6260U', 'Core i3-10110U', 'Intel Core Duo',\n",
              "       'Core i5 6200U', 'Core_m', 'A4 3020E', 'Core i3-1005G1',\n",
              "       'Core i7-1065G7', 'Athlon 3050U', 'Core i5 8400T', 'Core i5 4310M',\n",
              "       'Core M Family', '68LC040', 'Core i7-4980HQ', 'Core i9-9900K',\n",
              "       'Core i7-10700K', 'Core i7 10870H', 'Core i7-4700MQ',\n",
              "       'Core i7 6700HQ', 'Core i7 6700', 'AMD E Series', 'Pentium Other',\n",
              "       'Athlon Silver 3050U', 'Ryzen 3 3250U', 'I5-2320', 'Core i5-4210M',\n",
              "       'Core i5 7200U', 'AMD C Series', 'Pentium D', 'Core 2 Duo 2.33GHz',\n",
              "       'Core i3-4120U', 'Intel Pentium M', 'Ryzen 5 3500U',\n",
              "       'Athlon 2650e', 'Qualcomm Snapdragon S4 MSM8270', 'Xeon',\n",
              "       'Core i7-8650U', 'Ryzen 7 5800H', 'Snapdragon', 'Core i5-2300',\n",
              "       '68040', 'Intel Celeron D', 'Core i7-6820HQ', 'Ryzen 5 3450U',\n",
              "       'Intel Core 2 Duo', 'Ryzen 7 4800H', 'Intel Xeon', 'Core i5-5200U',\n",
              "       '80486SLC', 'Celeron N2840', 'Core 2 Duo', 'Core 2 Duo P8700',\n",
              "       'Core I7 12700H', 'Core i7 8550U', '1.2GHz Cortex A9 Processor',\n",
              "       'Ryzen 5 3550H', 'Celeron N3060', 'Ryzen 5 3500', 'Exynos 5250',\n",
              "       'Core i7 7500U', 'Core I7 11370H', 'Exynos 5000 Series',\n",
              "       'Exynos 5 Octa 5420', '5X86', 'Intel Core i7 Extreme', '80486DX2',\n",
              "       'Intel Core i5 1145G7', 'Mobile Intel Celeron Processor',\n",
              "       'Celeron_M', 'Ryzen 9 5900X', 'Ryzen 5 4680U', 'Ryzen 5 2600X',\n",
              "       'Core i5-10210Y', 'Ryzen 7 3700X', 'Core i7-2630QM',\n",
              "       'Core i5-10400T'], dtype=object)"
            ]
          },
          "execution_count": 28,
          "metadata": {},
          "output_type": "execute_result"
        }
      ],
      "source": [
        "df.CPU_Model.unique()"
      ]
    },
    {
      "cell_type": "markdown",
      "metadata": {
        "id": "aZhuqnwbH0rG"
      },
      "source": [
        "###**Observations and Modifications**\n",
        "- It looks like majority of models belongs to Intel's Core i series, Ryzen series, Celeron series.\n",
        "- As usual, model information is also mention inside the Title section\n",
        "\n",
        "**Steps:-**\n",
        "- Create new dataframe containing all the missing values for the CPU_Model section\n",
        "- Define a function which can retrieve model infoemation from the Title section using regular expressions\n",
        "- Regular expression will be design to retrieve model from Intel's Core i, Ryzen, Celeron series.\n",
        "- After retrieval, merge new dataframe with the original one."
      ]
    },
    {
      "cell_type": "code",
      "execution_count": 29,
      "metadata": {
        "id": "XshEntniFtMN"
      },
      "outputs": [],
      "source": [
        "cpu_missing = df[df.CPU_Model.isna()]"
      ]
    },
    {
      "cell_type": "code",
      "execution_count": 30,
      "metadata": {
        "colab": {
          "base_uri": "https://localhost:8080/"
        },
        "id": "KKP-azo0D_er",
        "outputId": "7f9ee816-5945-44e6-f732-a634cbb4243d"
      },
      "outputs": [
        {
          "name": "stderr",
          "output_type": "stream",
          "text": [
            "C:\\Program Files\\KMSpico\\temp\\ipykernel_10308\\3171287869.py:2: SettingWithCopyWarning: \n",
            "A value is trying to be set on a copy of a slice from a DataFrame.\n",
            "Try using .loc[row_indexer,col_indexer] = value instead\n",
            "\n",
            "See the caveats in the documentation: https://pandas.pydata.org/pandas-docs/stable/user_guide/indexing.html#returning-a-view-versus-a-copy\n",
            "  cpu_missing['CPU_Model'] = cpu_missing.Title.str.extract(cpu_pattern)\n"
          ]
        }
      ],
      "source": [
        "cpu_pattern = r'(Intel\\s*i\\d|Core\\s*i\\d|Ryzen\\s*\\d|Radeon\\s*R\\d|Exynos\\s*\\d|Ultra\\s*\\d)'\n",
        "cpu_missing['CPU_Model'] = cpu_missing.Title.str.extract(cpu_pattern)"
      ]
    },
    {
      "cell_type": "code",
      "execution_count": 31,
      "metadata": {
        "colab": {
          "base_uri": "https://localhost:8080/"
        },
        "id": "zowaBxqpF5dF",
        "outputId": "1ef38894-383a-421d-a80c-db1d97124a62"
      },
      "outputs": [
        {
          "data": {
            "text/plain": [
              "124"
            ]
          },
          "execution_count": 31,
          "metadata": {},
          "output_type": "execute_result"
        }
      ],
      "source": [
        "cpu_missing['CPU_Model'].isna().sum()"
      ]
    },
    {
      "cell_type": "code",
      "execution_count": 32,
      "metadata": {
        "colab": {
          "base_uri": "https://localhost:8080/"
        },
        "id": "dvrpSNSlGATh",
        "outputId": "dc639f7d-cb57-4802-f47f-bda29209226b"
      },
      "outputs": [
        {
          "data": {
            "text/plain": [
              "array(['Ficihp 13.3\" Laptop Screen Extender for M1 MacBook One Cable Plug&Play, Cooling System Triple Portable Monitor for Laptop with USB C HDMI, Monitor Attachment for Laptop Frame 13-16 inch Mac/Android',\n",
              "       'B BELK Compatible with MacBook Air 13 inch Case M1, MacBook Air Case 2021 2020 2019 2018 Model A2337 A2179 A1932 with Touch ID, Clear Plastic Laptop Hard Shell + 2 Keyboard Covers + Screen Protector',\n",
              "       'Apple 2022 MacBook Air Laptop with M2 chip: 13.6-inch Liquid Retina Display, 8GB RAM, 256GB SSD Storage, Backlit Keyboard, 1080p FaceTime HD Camera. Works with iPhone and iPad; Midnight AppleCare',\n",
              "       'Apple MacBook Pro 13.3\" with Retina Display, M1 Chip with 8-Core CPU and 8-Core GPU, 16GB Memory, 512GB SSD, Silver, Late 2020',\n",
              "       'Apple MacBook Pro 16\" with Liquid Retina XDR Display, M1 Pro Chip with 10-Core CPU and 16-Core GPU, 32GB Memory, 2TB SSD, Space Gray, Late 2021',\n",
              "       'Apple MacBook Pro 16\" with Liquid Retina XDR Display, M1 Pro Chip with 10-Core CPU and 16-Core GPU, 32GB Memory, 1TB SSD, Silver, Late 2021',\n",
              "       '2020 Apple MacBook Air Laptop: Apple M1 Chip, 13” Retina Display, 8GB RAM, 256GB SSD Storage, Space Gray, with Microsoft 365 Family | 12-Month Subscription | PC/Mac Download',\n",
              "       'Apple 2022 MacBook Air Laptop with M2 chip: 13.6-inch Liquid Retina Display, 8GB RAM, 256GB SSD Storage, Backlit Keyboard, 1080p FaceTime HD Camera. Works with iPhone and iPad; Starlight AppleCare',\n",
              "       'Apple 2021 MacBook Pro (14-inch, M1 Pro chip with 10‑core CPU and 16‑core GPU, 16GB RAM, 1TB SSD) - Space Gray AppleCare+ for 14-inch MacBook Pro',\n",
              "       'Apple 2022 MacBook Air Laptop with M2 chip: 13.6-inch Liquid Retina Display, 8GB RAM, 512GB SSD Storage, Backlit Keyboard, 1080p FaceTime HD Camera. Works with iPhone and iPad; Space Gray AppleCare',\n",
              "       'Apple 2022 MacBook Air Laptop with M2 chip: 13.6-inch Liquid Retina Display, 8GB RAM, 256GB SSD Storage, Backlit Keyboard, 1080p FaceTime HD Camera. Works with iPhone and iPad; Silver AppleCare',\n",
              "       'Apple MacBook Pro 14\" with Liquid Retina XDR Display, M1 Max Chip with 10-Core CPU and 32-Core GPU, 64GB Memory, 1TB SSD, Space Gray, Late 2021',\n",
              "       'Apple 2022 10.9-inch iPad (Wi-Fi, 64GB) - Blue (10th Generation)',\n",
              "       'Apple iPad Air 2, 16 GB, Silver, Newest Version (Renewed)',\n",
              "       '2014 Apple iPad Air 2 (9.4 inch, Wi-Fi, 64GB) Silver (Renewed)',\n",
              "       'Apple MacBook Pro 14\" with Liquid Retina XDR Display, M1 Max Chip with 10-Core CPU and 32-Core GPU, 32GB Memory, 512GB SSD, Space Gray, Late 2021',\n",
              "       'Apple MacBook Air 13.3\" with Retina Display, M1 Chip with 8-Core CPU and 7-Core GPU, 16GB Memory, 512GB SSD, Silver, Late 2020',\n",
              "       'Apple MacBook Pro 16\" with Liquid Retina XDR Display, M1 Pro Chip with 10-Core CPU and 16-Core GPU, 32GB Memory, 512GB SSD, Silver, Late 2021',\n",
              "       'Apple MacBook Pro 13.3\" with Retina Display, M2 Chip with 8-Core CPU and 10-Core GPU, 24GB Memory, 256GB SSD, Silver, Mid 2022',\n",
              "       'Apple MacBook Air 13.3\" with Retina Display, M1 Chip with 8-Core CPU and 7-Core GPU, 16GB Memory, 512GB SSD, Silver, Late 2020',\n",
              "       'Apple MacBook Pro 14\" with Liquid Retina XDR Display, M1 Max Chip with 10-Core CPU and 32-Core GPU, 32GB Memory, 512GB SSD, Space Gray, Late 2021',\n",
              "       'Apple MacBook Pro 16\" with Liquid Retina XDR Display, M1 Pro Chip with 10-Core CPU and 16-Core GPU, 32GB Memory, 512GB SSD, Silver, Late 2021',\n",
              "       'Apple MacBook Pro 13.3\" with Retina Display, M2 Chip with 8-Core CPU and 10-Core GPU, 24GB Memory, 256GB SSD, Silver, Mid 2022',\n",
              "       'Apple iPad Air 2, 16 GB, Gold, (Renewed)',\n",
              "       'Apple MacBook Pro 13.3\" with Retina Display, M2 Chip with 8-Core CPU and 10-Core GPU, 24GB Memory, 2TB SSD, Space Gray, Mid 2022',\n",
              "       'Apple MacBook Pro 14\" with Liquid Retina XDR Display, M1 Pro Chip with 10-Core CPU and 16-Core GPU, 32GB Memory, 1TB SSD, Space Gray, Late 2021',\n",
              "       'Apple 2021 MacBook Pro (16-inch, M1 Max chip with 10‑core CPU and 32‑core GPU, 32GB RAM, 1TB SSD) - Silver AppleCare+ for 16-inch MacBook Pro (M1)',\n",
              "       'Apple MacBook Pro 16\" with Liquid Retina XDR Display, M1 Max Chip with 10-Core CPU and 32-Core GPU, 64GB Memory, 4TB SSD, Space Gray, Late 2021',\n",
              "       'Apple iPad Air 2, 16 GB, Space Gray (Renewed)',\n",
              "       '2021 Apple MacBook Pro (14-inch, Apple M1 Pro chip with 8‑core CPU and 14‑core GPU, 16GB RAM, 512GB SSD) - Silver AppleCare+ for 14-inch MacBook Pro',\n",
              "       'Apple 2021 MacBook Pro (14-inch, M1 Pro chip with 10‑core CPU and 16‑core GPU, 16GB RAM, 1TB SSD) - Silver AppleCare+ for 14-inch MacBook Pro',\n",
              "       'Apple 2022 MacBook Air Laptop with M2 chip: 13.6-inch Liquid Retina Display, 8GB RAM, 512GB SSD Storage, Backlit Keyboard, 1080p FaceTime HD Camera. Works with iPhone and iPad; Midnight AppleCare',\n",
              "       'Apple 2020 MacBook Air Laptop M1 Chip, 13” Retina Display, 8GB RAM, 256GB SSD Storage, Backlit Keyboard, FaceTime HD Camera, Touch ID. Works with iPhone/iPad; Space Gray AppleCare',\n",
              "       'Acer Aspire 1 A115-32-C96U Laptop | 15.6\" FHD | Celeron N4500 | 4GB DDR4 | 128GB eMMC | MS 365 Personal 1-Year Subscription | Win 11 Home in S Mode with AOPEN 24SA2Y bi 23.8\" FHD VA-Monitor',\n",
              "       'Acer Aspire 1 A115-32-C96U Laptop | 15.6\" FHD | Celeron N4500 | 4GB DDR4 | 128GB eMMC | WiFi 5 | MS 365 Personal 1-Year Subscription | Win 11 Home in S Mode USB Type-C Dock D501, 60W PD',\n",
              "       'Acer Aspire 1 A115-32-C96U Laptop | 15.6\" FHD | Celeron N4500 | 4GB DDR4 | 128GB eMMC | WiFi 5 | MS 365 Personal 1-Year Subscription | W11 Home in S Mode FHD USB 2MP Webcam with Microphone',\n",
              "       'Acer Spin 7, 14\" FHD Touch Display, Qualcomm Snapdragon 8cx Gen 2 5G Compute Platform, 8GB LPDDR4X, 512GB Universal Flash Storage, 5G, 4G LTE, Wi-Fi, Backlit KB, FPR, Antimicrobial, SP714-61NA-S1QA',\n",
              "       'Panasonic Toughbook CF-52 500GB 4GB 15.4\" Genuine Win 7 Pro + Microsoft Office 2010',\n",
              "       'Acer Chromebook Spin 311 11.6\" HD Convertible 2-in-1 Touchscreen Laptop, MediaTek MT8183, 4GB RAM, 32GB eMMC, Chrome OS+32GB MicroSD Card',\n",
              "       'LG FHD 32-Inch Computer Monitor 32ML600M-B, IPS with HDR 10 Compatibility, Black',\n",
              "       'Acer Chromebook Spin 314 CP314-1H-P1Q5 | Pentium N6000 | 14\" HD Touch Display | 8GB LPDDR4X | 128GB eMMC | Intel Wi-Fi 6 AX201 | Chrome OS Full HD USB 2MP Webcam with Digital Microphone',\n",
              "       'Acer Chromebook Spin 314 CP314-1H-P1Q5 | Pentium N6000 | 14\" HD Touch | 8GB RAM | 128GB eMMC | Intel Wi-Fi 6 AX201 | Chrome OS USB Type-C Dock D501 Certified Works with Chromebook, 60W PD',\n",
              "       'LG FHD 32-Inch Computer Monitor 32ML600M-B, IPS with HDR 10 Compatibility, Black',\n",
              "       'Panasonic CF-30FDSAAAM Toughbook 30 13.3\" C2D L7500 1.6GHz 1GB 80GB XP Pro',\n",
              "       'Acer Chromebook 514 Laptop | 14\" FHD Touch | MediaTek Kompanio 828 Octa-Core Processor | 8GB RAM | 64GB eMMC | Wi-Fi 6 | Backlit KB | Chrome OS | Up to 15 Hours Battery Life | CB514-2HT-K0FZ',\n",
              "       'Panasonic Toughbook CF-30CTQAZBM NoteBook Intel Core Duo L2400(1.66GHz) 13.3\" XGA 4GB Memory 160GB HDD Intel GMA950',\n",
              "       'CF-19CDBAXVM/MK1/CF-19 Digitizer/Laptop/Notebook/Panasonic Toughbook / Tablet PC / 2gb ram/ 80gb Hard Drive/ wifi/ 10.4 inch LCD/',\n",
              "       'Panasonic TOUGHBOOK CF-20 M5-6Y57 1.1GHz 8GB 128GB 10.1IN WUXGA TPM CF-20A0004KM',\n",
              "       'Panasonic Toughbook CF-20, 10.1 Multi Touch, 1920 x 1200, m5-6Y57, 8GB, 128GB SSD, Intel HD Graphics 515,Wi-Fi, Bluetooth, HDMI, Dual Pass (WWAN/WWAN), 8MP, Backlit Keyboard, Windows 10 Pro (Renewed)',\n",
              "       'Blackview Tablet Tab8, 10.1 inch Android Tablets with 4GB+64GB Octa Core Processor,1920x1200 IPS FHD Display, 13MP+5MP Dual Camera, GPS, FM, 5G WiFi Teblet Grey',\n",
              "       'Sceptre 30-inch Curved Gaming Monitor 21:9 2560x1080 Ultra Wide/ Slim HDMI DisplayPort up to 200Hz Build-in Speakers, Metal Black (C305B-200UN1)',\n",
              "       'LG Bundle Gram (2022) 14Z90Q Ultra Lightweight-Laptop, 14\" IPS-Display, Intel Evo 12th Gen i7 1260P-Processor, 32GB LPDDR5, 1TB NVMe SSD, WiFi 6E, Windows 11, Black & Gram+View Portable-Monitor',\n",
              "       'LG Bundle Gram (2022) 14Z90Q Ultra Lightweight-Laptop, 14\" IPS-Display, Intel Evo 12th Gen i7 1260P-Processor, 16GB LPDDR5, 512GB NVMe SSD, WiFi 6E, Windows 11, Gray & Gram+View Portable-Monitor',\n",
              "       'LG Bundle Gram (2022) 14Z90Q Ultra Lightweight-Laptop, 14\" IPS-Display, Intel Evo 12th Gen i5 1240P-Processor,\\xa08GB LPDDR5, 512GB NVMe SSD, WiFi 6E, Windows11, White & Gram+View Portable-Monitor',\n",
              "       'LG Bundle Gram (2022) 16T90Q 2-in-1 Tablet-Laptop, 16\" IPS-Display, Intel Evo 12th Gen i7 1260P-Processor, 16GB LPDDR5, 512GB NVMe SSD, WiFi 6E, Windows 11, Green & Gram+View Portable-Monitor',\n",
              "       'LG Bundle Gram (2022) 16T90Q 2-in-1 Tablet-Laptop, 16\" IPS-Display, Intel Evo 12th Gen i7 1260P-Processor, 16GB LPDDR5, 2TB NVMe SSD, WiFi 6E, Windows 11, Silver & Gram+View Portable-Monitor',\n",
              "       'LG Bundle Gram (2022) 14Z90Q Ultra Lightweight-Laptop, 14\" IPS-Display, Intel Evo 12th Gen i7 1260P-Processor, 16GB LPDDR5, 512GB NVMe SSD, WiFi 6E, Windows 11, Gray & Gram+View Portable-Monitor',\n",
              "       'LG Bundle Gram (2022) 14Z90Q Ultra Lightweight-Laptop, 14\" IPS-Display, Intel Evo 12th Gen i7 1260P-Processor, 16GB LPDDR5, 512GB NVMe SSD, WiFi 6E, Windows 11, Gray & Gram+View Portable-Monitor',\n",
              "       'LG Bundle Gram (2022) 14Z90Q Ultra Lightweight-Laptop, 14\" IPS-Display, Intel Evo 12th Gen i7 1260P-Processor, 32GB LPDDR5, 1TB NVMe SSD, WiFi 6E, Windows 11, Black & Gram+View Portable-Monitor',\n",
              "       'LG Bundle Gram (2022) 16T90Q 2-in-1 Tablet-Laptop, 16\" IPS-Display, Intel Evo 12th Gen i7 1260P-Processor, 16GB LPDDR5, 2TB NVMe SSD, WiFi 6E, Windows 11, Black & Gram+View Portable-Monitor',\n",
              "       \"LG Gram 16'' 2-in-1 Ultra-Lightweight Laptop, WQXGA IPS (2560 x 1600) 16:10 TouchDisplay, Intel Evo i7-1165G7, 21 hr BatteryLife, Wi-Fi 6, Thunderbolt4, Stylus Pen, Win 11(16GB RAM. 512GB PCle SSD)\",\n",
              "       'Generic 11.6 inches HD Screen Compatible with Chromebook 11 CB3-111 Laptop Replacement LED LCD',\n",
              "       'Generic New 14.0 inch Screen Compatible with THINKPAD T480 20L5 Series Replacement Screen IPS',\n",
              "       'Generic 15.6\" HD Screen Compatible with Lenovo G50-80 (5D10G74897 NT156WHM-N12) Laptop Replacement LED LCD',\n",
              "       'Generic 15.6\" HD Screen Compatible with HP ProBook 4510s 4515s 4520s 4525s 4530s 4535s 4540s 4545s Laptop Replacement LED LCD',\n",
              "       'Generic 15.6\" HD Screen Compatible with Samsung Ltn156at37-l01 Laptop Replacement LED LCD',\n",
              "       'Generic New 17.3\" LED WXGA++ Glossy HD LCD Replacement Laptop Screen/Display Compatible with LTN173KT01 (K01, T01, A01, D01)',\n",
              "       'Fullcom New 15.6 inches Compatible with OMEN Laptop 15-AX210ND / 15-AX210NR fit N156HCA-EAA, N156HCA-EAA Laptop Replacement Screen',\n",
              "       '13-15 Inch Cat Paws Print Laptop Sleeve Case/Water-Resistant Neoprene Notebook Computer Pocket Tablet Briefcase Carrying Bag/Pouch Skin Cover for HP/Dell/Lenovo/Asus/Acer/Apple',\n",
              "       'AU OPTRONICS B156HAN01.2 LAPTOP LCD SCREEN 15.6\" Full-HD DIODE (SUBSTITUTE REPLACEMENT LCD SCREEN ONLY. NOT A LAPTOP )',\n",
              "       'Generic 15.6\" HD Screen Compatible with Lenovo G50-70 20351 Laptop Replacement LED LCD',\n",
              "       'Msi A6200 Laptop LCD Screen 15.6\" Wxga Hd LED Diode (Substitute Replacement LCD Screen Only. Not A Laptop)',\n",
              "       'Dell Inspiron 1545 Bt156Gw01 V.1 Laptop LCD Screen Replacement 15.6\" Wxga Hd LED Matte',\n",
              "       'New 17.3\" LED WXGA++ Glossy HD LCD Replacement Laptop Screen/Display for HP Pavilion G72-B60US & G72-B66US',\n",
              "       'Chunghwa Claa173ua01a Replacement LAPTOP LCD Screen 17.3\" WXGA++ LED DIODE (Substitute Replacement LCD Screen Only. Not a Laptop )',\n",
              "       'Boehydis Nv156fhm-n42 Replacement LAPTOP LCD Screen 15.6\" Full-HD LED DIODE (Substitute Only. Not a ) (IPS 1080P)',\n",
              "       'Chi Mei N133bge-l41 Replacement LAPTOP LCD Screen 13.3\" WXGA HD LED DIODE (Substitute Only. Not a )',\n",
              "       'Generic New 15.6\" HD Laptop Replacement LED LCD Screen Compatible with Dell Inspiron 15-3000 (B156XTN04.0 NON TOUCH)',\n",
              "       'Generic New 14.0\" HD Glossy Replacement LED LCD Screen Compatible with Toshiba Satellite L745 Models L745-S4110, L745-S4210, L745-S4310, L745-S4235',\n",
              "       'Generic New 14.0 inch IPS FHD (1080P) Laptop LED LCD Replacement Screen/Panel Compatible with B140HAN02.1/ B140HAN02.4',\n",
              "       'Laptop 15-dy2097nr|Intel Core I7 11th Gen|Windows 11 Home|256 GB SSD|Intel Iris Xe Graphics|12 GB DDR4|15.6\" Display|2B5G1UA#ABA',\n",
              "       'Generic AOHC 13-14 inch (Jet Black) Laptop Sleeve Case Laptop Stand Adjustable, Computer Shock Resistant Bag with Mouse Pad for MacBook, Window Surface',\n",
              "       'Generic, AOHC 1314 inch (Rose Gold) Laptop Sleeve Case Laptop Stand Adjustable, Computer Shock Resistant Bag with Mouse Pad for MacBook, Window Surface',\n",
              "       'Generic New 15.6\" HD Laptop Replacement LED LCD Screen Compatible with Dell Inspiron 15-3000 (B156XTN04.0 NON TOUCH)',\n",
              "       'Generic New 15.6\" IPS FHD 1080P Laptop LED LCD Replacement Screen/Panel Compatible with LP156WF6(SP)(K6) LP156WF6-SPK6',\n",
              "       'Apple iPad Air 2, 16 GB, Space Gray (Renewed)',\n",
              "       'GENERIC 14.0\" WXGA Compatible with Dell Latitude E6420 LTN140AT16 Laptop LCD Screen Replacement',\n",
              "       'Generic, AOHC 1314 inch (Rose Gold) Laptop Sleeve Case Laptop Stand Adjustable, Computer Shock Resistant Bag with Mouse Pad for MacBook, Window Surface',\n",
              "       'Generic New 15.6\" IPS FHD 1080P Laptop LED LCD Replacement Screen/Panel Compatible with LP156WF6(SP)(K6) LP156WF6-SPK6',\n",
              "       'Generic New 14.0 inch Screen Compatible with THINKPAD T480 20L5 Series Replacement Screen IPS',\n",
              "       'Apple MacBook Pro 13.3\" with Retina Display, M2 Chip with 8-Core CPU and 10-Core GPU, 16GB Memory, 256GB SSD, Silver, Mid 2022',\n",
              "       'Alienware M15 R5 Gaming Laptop, 15.6 inch FHD 360Hz 1ms G-SYNC Display, AMD Ryzen R9 5900HX, GeForce RTX 3070, 64GB RAM, 2TB NVMe SSD, Killer WiFi, RGB Keyboard, Windows 11, Dark Side of The Moon',\n",
              "       '2022 HP Flagship Laptop, Intel Dual-Core Processor up to 2.65GHz, 15-inch, 4GB DDR4, 500GB Storage, Super-Fast WiFi, Windows 11, Dale Red (Renewed)',\n",
              "       'HP 14 Laptop, AMD 3000 Series Processor, 32GB RAM, 1TB Storage, 14-inch Micro-Edge HD Display, Long Battery Life, Webcam, Thin & Portable, Windows 10 + One Year of Office365, Rose Gold',\n",
              "       'HP Elitebook Mt42 14-inch Laptop AMD A8 2.70 GHz 8 GB 128 GB SSD Windows 10 Pro (Renewed)',\n",
              "       '2022 HP 14\" HD IPS Laptop, Windows 11 OS, Intel Pentium Quad-Core Processor Up to 3.0GHz, 4GB RAM, 128GB SSD, 4K Graphics, Dale Black(Renewed)',\n",
              "       '2022 HP 14\" HD IPS Touchscreen Chromebook, Intel Processor Up to 3.0GHz, 4GB Ram, 64GB SSD, 4K Graphics, Super-Fast 6th Gen WiFi, Chrome OS, Dale Silver(Renewed) (Dale Silver)',\n",
              "       '2022 HP Flagship 15inch HD Laptop, Intel Dual-Core Processor up to 2.65GHz, 4GB DDR4, 128GB SSD, Ultra-Fast WiFi, Windows 11, Dale Red(Renewed)',\n",
              "       '2022 HP Convertible 2-in-1 Chromebook Laptop, 14\" HD IPS Touchscreen, Intel Celeron Processor up to 2.75GHz, 4GB Ram, 32GB SSD, Super-Fast 6th Gen WiFi, Chrome OS(Renewed) (Dale Silve)',\n",
              "       '2022 HP 14\" HD Laptop, Windows 11, Intel Celeron Dual-Core Processor Up to 2.80GHz, 4GB RAM, 64GB SSD, Chromes OS, Cobalt Blue (Renewed)',\n",
              "       'Newest HP 14\" Flagship Laptop, Windows 11 OS, AMD Dual-Core Processor Up to 2.60 GHz, 4GB RAM, 64GB SSD, Webcam, Silver (Renewed)',\n",
              "       'Newest HP 14\" Flagship Laptop, Windows 11 OS, AMD Dual-Core Processor Up to 2.60 GHz, 4GB RAM, 64GB SSD, Webcam, Silver (Renewed)',\n",
              "       '2022 HP 11\" HD IPS Laptop, Windows 11, Intel Celeron Processor Up to 2.70GHz, 4GB RAM, 64GB SSD, Intel 4K Graphics, Ultra-Fast WiFi Speed, Dale Blue (Renewed)',\n",
              "       '2022 HP 14\" HD Laptop, Windows 11, Intel Celeron Dual-Core Processor Up to 2.80GHz, 4GB RAM, 64GB SSD, Chromes OS, Cobalt Blue (Renewed)',\n",
              "       'Newest HP 14\" Flagship Laptop, Windows 11 OS, AMD Processor Up to 3.2GHz, 4GB DDR4, 128GB SSD, Webcam, Sparkling Silver (Renewed)',\n",
              "       'Samsung Galaxy Tab 4 10.1in 16gb WiFi Black (Renewed)',\n",
              "       'ASUS 11.6\" C202SA Series 16GB Chromebook (Dark Blue/Silver) C202SA-YS02 (Renewed)',\n",
              "       '2020 Newest Dell Inspiron 15 3000 PC Laptop: 15.6\" HD Anti-Glare LED-Backlit Nontouch Display, Intel 2-Core 4205U Processor, 8GB RAM, 1TB HDD, WiFi, Bluetooth, HDMI, Webcam, Win 10',\n",
              "       'Samsung Chromebook 2 13.3 Inch Laptop (Samsung Exynos, 4 GB, 16 GB SSD, Luminous Titan) (Renewed)',\n",
              "       'SAMSUNG Galaxy Tab S7 FE 12.4” 64GB WiFi Android Tablet w/ Large Screen, Long Lasting Battery, S Pen Included, Multi Device Connectivity, US Version, 2021, Mystic Black',\n",
              "       'Samsung Notebook Flash Memory 4 GB, Storage 64 GB eMMC, 13.3\", Twill Charcoal (NP530XBB) (Renewed)',\n",
              "       'SAMSUNG Galaxy Book Go 14\" FHD Laptop, Qualcomm Snapdragon 7c Gen 2 , 4GB RAM, 64GB HD, Silver, Windows 10 - Includes Microsoft 365 Personal 12 Month Subscription',\n",
              "       'Dell Latitude 3190 Intel Pentium N5000 X4 2.7GHz 8GB 128GB SSD, Black (Renewed)',\n",
              "       'Samsung 12.2-inch Full-HD Touchscreen Chromebook - Intel 3965Y Dual-Core - 4GB Memory - 32GB eMMC Storage - Stealth Silver (Verizon) (Renewed)',\n",
              "       'Miwasion Case ONLY Compatible with 13.5\" Microsoft Surface Metal Keyboard Laptop(4/3),Release(1868/1951) Laptop with Keyboard Protectors Plastic Hard Shell Cases（Garden\\xa0Flowers,Floral）',\n",
              "       'New Microsoft Surface Go 2 - 10.5\" Touch-Screen - Intel Pentium - 4GB Memory - 64GB - Wifi - Platinum (Latest Model)',\n",
              "       'tomtoc 360 Protective Laptop Sleeve for 13.5-14.4 Inch New Microsoft Surface Laptop Studio/5/4/3/2/1, Surface Book 3/2/1, Waterproof Accessories Carrying Case Bag for Asus ZenBook/ VivoBook 14, Black',\n",
              "       'Microsoft Surface Go (Intel Pentium Gold, 8GB RAM, 128GB) (MCZ-00001)',\n",
              "       'Microsoft Surface Laptop 3 15\" AMD:RYZEN5 3580U/2.10GLV 8GB/ONBOARD 256GB/SSD MR 802.11AC+BT CPO, Black (Renewed)',\n",
              "       'Microsoft Surface Pro X - 13\" Touchscreen - Microsoft SQ 2 - 16GB Memory - 256GB SSD - Device Only - Platinum (Latest Model)',\n",
              "       'Microsoft Surface Pro 8-13\" Touchscreen - Intel® Evo Platform Core™ i5-16GB Memory - 256GB SSD - Graphite (Latest Model) with Microsoft 365 Family | 15-Month Subscription | PC/Mac Download',\n",
              "       'Microsoft Surface Pro 9 (2022), 13\" 2-in-1 Tablet & Laptop, Thin & Lightweight, Intel 12th Gen i5 Fast Processor for Multi-Tasking, 8GB RAM, 256GB Storage with Windows 11, Forest',\n",
              "       'Microsoft Surface Go 3 - 10.5\" Touchscreen - Intel® Pentium® Gold - 4GB Memory - 64GB eMMC - Device Only - Platinum (Latest Model)',\n",
              "       'New Microsoft Surface Go 2 - 10.5\" Touch-Screen - Intel Pentium - 4GB Memory - 64GB - Wifi - Platinum (Latest Model)'],\n",
              "      dtype=object)"
            ]
          },
          "execution_count": 32,
          "metadata": {},
          "output_type": "execute_result"
        }
      ],
      "source": [
        "cpu_missing[cpu_missing['CPU_Model'].isna()]['Title'].values"
      ]
    },
    {
      "cell_type": "code",
      "execution_count": 33,
      "metadata": {
        "colab": {
          "base_uri": "https://localhost:8080/",
          "height": 617
        },
        "id": "3SO_AKTFKj9b",
        "outputId": "94092e0d-349a-43a0-9f11-25156eb52f16"
      },
      "outputs": [
        {
          "data": {
            "text/plain": [
              "Title                  0\n",
              "Brand                  0\n",
              "Screen_Size            0\n",
              "CPU_Model            203\n",
              "Ram                  122\n",
              "Operating_System     107\n",
              "Rating               550\n",
              "Series               331\n",
              "Color                718\n",
              "Resolution          2640\n",
              "Weight              2756\n",
              "USB                 2785\n",
              "Battery             2813\n",
              "Graphics             763\n",
              "Disk_size            575\n",
              "Card_desc            191\n",
              "Price                969\n",
              "dtype: int64"
            ]
          },
          "execution_count": 33,
          "metadata": {},
          "output_type": "execute_result"
        }
      ],
      "source": [
        "df.isna().sum()"
      ]
    },
    {
      "cell_type": "markdown",
      "metadata": {
        "id": "ksdLnMpOy6Iq"
      },
      "source": [
        "###There are still some missing values left to fill. We will address missing entries of CPU_Model futher once we finish preprocessing the Price feature."
      ]
    },
    {
      "cell_type": "markdown",
      "metadata": {
        "id": "kfUEHvFF2g_x"
      },
      "source": [
        "##**Addressing Price Feature**"
      ]
    },
    {
      "cell_type": "code",
      "execution_count": 34,
      "metadata": {
        "colab": {
          "base_uri": "https://localhost:8080/"
        },
        "id": "xqKpEs2b0Gvo",
        "outputId": "ecedd5f2-1cd0-46bb-d8c5-e5521d014eeb"
      },
      "outputs": [
        {
          "data": {
            "text/plain": [
              "array([nan, '$359.99', '$2,167.00', '$818.00', '$699.00', '$2,449.99',\n",
              "       '$1,799.95', '$1,699.00', '$3,049.00', '$1,899.00', '$1,549.00',\n",
              "       '$4,345.00', '$1,799.00', '$3,295.00', '$1,399.00', '$1,949.99',\n",
              "       '$689.99', '$2,499.00', '$2,649.00', '$3,199.00', '$4,595.00',\n",
              "       '$5,195.00', '$2,319.00', '$799.00', '$599.99', '$229.99',\n",
              "       '$12.86', '$978.75', '$1,658.52', '$1,099.00', '$2,399.00',\n",
              "       '$2,799.00', '$3,599.00', '$1,449.00', '$1,199.00', '$1,499.00',\n",
              "       '$1,619.00', '$2,899.00', '$1,299.00', '$854.21', '$1,579.00',\n",
              "       '$1,468.95', '$1,242.96', '$950.61', '$1,649.00', '$2,084.45',\n",
              "       '$2,699.00', '$239.00', '$2,999.00', '$870.00', '$1,536.99',\n",
              "       '$1,045.52', '$714.49', '$2,409.00', '$1,496.24', '$1,749.99',\n",
              "       '$1,999.00', '$699.99', '$1,072.30', '$619.00', '$1,499.98',\n",
              "       '$1,574.99', '$1,197.00', '$999.00', '$1,679.00', '$1,624.92',\n",
              "       '$1,249.99', '$891.82', '$1,283.95', '$4,499.00', '$682.47',\n",
              "       '$2,349.00', '$4,699.99', '$2,099.00', '$1,090.26', '$728.72',\n",
              "       '$1,112.00', '$899.00', '$649.00', '$1,449.99', '$2,380.96',\n",
              "       '$1,599.00', '$3,649.00', '$798.00', '$5,199.00', '$2,199.99',\n",
              "       '$887.98', '$2,499.99', '$1,498.99', '$4,999.00', '$689.98',\n",
              "       '$976.54', '$1,149.00', '$3,299.00', '$999.99', '$2,299.00',\n",
              "       '$1,099.99', '$1,299.99', '$3,399.00', '$1,023.60', '$2,224.69',\n",
              "       '$2,599.99', '$1,479.00', '$1,064.32', '$949.00', '$1,999.97',\n",
              "       '$766.99', '$2,049.00', '$565.09', '$1,849.99', '$3,695.00',\n",
              "       '$1,124.49', '$1,999.99', '$1,048.99', '$4,399.00', '$3,449.00',\n",
              "       '$1,685.25', '$1,704.96', '$4,202.94', '$3,634.96', '$999.97',\n",
              "       '$949.99', '$839.58', '$2,599.00', '$801.43', '$1,399.99',\n",
              "       '$1,436.23', '$1,949.00', '$1,110.08', '$1,059.99', '$902.91',\n",
              "       '$1,659.00', '$2,222.86', '$1,088.99', '$2,149.00', '$484.00',\n",
              "       '$649.98', '$349.99', '$1,349.00', '$4,695.00', '$1,499.99',\n",
              "       '$3,419.00', '$1,249.00', '$438.00', '$735.99', '$697.26',\n",
              "       '$749.00', '$3,058.49', '$1,248.60', '$1,050.80', '$1,565.20',\n",
              "       '$1,749.00', '$4,945.00', '$3,499.00', '$179.00', '$299.00',\n",
              "       '$269.00', '$319.99', '$318.99', '$1,416.45', '$289.00', '$229.00',\n",
              "       '$519.00', '$449.99', '$629.00', '$609.00', '$599.00', '$169.00',\n",
              "       '$988.31', '$299.99', '$2,160.72', '$2,999.99', '$2,595.91',\n",
              "       '$3,019.99', '$234.00', '$764.00', '$339.00', '$129.99', '$469.00',\n",
              "       '$3,299.99', '$687.49', '$319.00', '$279.99', '$606.96', '$199.99',\n",
              "       '$969.00', '$399.99', '$179.95', '$489.00', '$118.99', '$899.99',\n",
              "       '$329.00', '$526.07', '$475.00', '$796.81', '$909.00', '$1,148.99',\n",
              "       '$489.99', '$669.00', '$178.00', '$1,199.99', '$1,582.86',\n",
              "       '$3,799.99', '$3,038.00', '$239.99', '$749.99', '$637.98',\n",
              "       '$1,040.38', '$90.95', '$447.99', '$929.99', '$1,353.91',\n",
              "       '$349.00', '$154.00', '$479.00', '$155.50', '$1,351.97',\n",
              "       '$1,029.99', '$147.88', '$79.99', '$140.66', '$1,093.96',\n",
              "       '$554.17', '$315.00', '$1,219.90', '$709.99', '$1,139.00',\n",
              "       '$499.00', '$164.95', '$628.00', '$479.99', '$88.00', '$139.00',\n",
              "       '$2,109.00', '$249.88', '$598.99', '$159.98', '$432.99',\n",
              "       '$1,149.99', '$199.00', '$212.80', '$432.84', '$122.96', '$833.11',\n",
              "       '$758.99', '$429.99', '$398.00', '$174.99', '$612.48', '$369.00',\n",
              "       '$2,009.00', '$797.81', '$939.99', '$559.00', '$849.99', '$405.00',\n",
              "       '$179.99', '$719.00', '$499.99', '$729.00', '$368.00', '$799.99',\n",
              "       '$274.95', '$225.99', '$215.00', '$181.95', '$569.99', '$298.00',\n",
              "       '$200.00', '$1,049.99', '$149.00', '$879.99', '$99.99', '$381.99',\n",
              "       '$702.00', '$627.54', '$339.10', '$187.00', '$959.00', '$2,399.99',\n",
              "       '$900.00', '$3,399.99', '$2,800.00', '$2,950.00', '$3,499.99',\n",
              "       '$2,699.99', '$542.96', '$629.99', '$579.99', '$749.90',\n",
              "       '$3,454.99', '$3,049.99', '$3,754.99', '$3,654.99', '$4,599.99',\n",
              "       '$2,446.00', '$3,300.00', '$374.99', '$655.00', '$1,599.99',\n",
              "       '$2,899.99', '$2,799.99', '$649.99', '$3,699.99', '$4,499.99',\n",
              "       '$569.00', '$4,399.99', '$189.00', '$800.23', '$600.00', '$386.00',\n",
              "       '$379.99', '$4,999.99', '$1,850.00', '$436.99', '$1,524.99',\n",
              "       '$589.99', '$2,299.99', '$2,689.99', '$1,049.00', '$497.82',\n",
              "       '$869.99', '$437.62', '$379.00', '$598.00', '$131.00', '$439.99',\n",
              "       '$375.99', '$219.00', '$3,699.00', '$880.00', '$1,298.96',\n",
              "       '$890.99', '$614.99', '$3,774.81', '$1,816.81', '$1,214.75',\n",
              "       '$1,319.63', '$1,202.71', '$1,339.99', '$849.00', '$745.00',\n",
              "       '$1,379.99', '$159.99', '$1,949.33', '$439.00', '$1,069.00',\n",
              "       '$758.00', '$399.00', '$869.00', '$325.00', '$739.00', '$89.99',\n",
              "       '$835.00', '$1,458.99', '$649.66', '$374.82', '$583.93', '$561.96',\n",
              "       '$359.12', '$1,779.99', '$238.20', '$679.00', '$665.99',\n",
              "       '$2,275.00', '$589.00', '$529.99', '$140.00', '$592.77',\n",
              "       '$1,727.10', '$586.98', '$1,079.99', '$1,349.99', '$647.00',\n",
              "       '$768.00', '$2,461.98', '$3,899.00', '$6,089.00', '$829.00',\n",
              "       '$3,149.00', '$4,199.00', '$1,425.00', '$3,099.00', '$1,197.99',\n",
              "       '$1,125.00', '$1,328.99', '$1,409.99', '$698.88', '$929.00',\n",
              "       '$1,339.00', '$919.99', '$1,359.00', '$1,114.07', '$1,209.99',\n",
              "       '$433.95', '$1,779.00', '$1,849.00', '$1,359.99', '$959.49',\n",
              "       '$211.90', '$169.99', '$135.00', '$1,469.99', '$996.00', '$249.99',\n",
              "       '$2,072.80', '$1,659.99', '$2,109.99', '$199.66', '$1,329.99',\n",
              "       '$1,318.99', '$1,899.99', '$248.00', '$1,379.00', '$1,694.55',\n",
              "       '$149.99', '$28.50', '$991.99', '$70.00', '$55.00', '$47.15',\n",
              "       '$47.96', '$309.99', '$370.00', '$1,459.90', '$188.00', '$59.93',\n",
              "       '$198.00', '$269.99', '$17.99', '$159.88', '$1,100.00', '$51.04',\n",
              "       '$62.07', '$879.49', '$56.00', '$66.47', '$31.65', '$359.00',\n",
              "       '$695.98', '$1,589.16', '$19.99', '$1,226.99', '$173.98', '$29.99',\n",
              "       '$73.85', '$509.00', '$333.99', '$1,525.00', '$483.74',\n",
              "       '$1,419.99', '$194.99', '$47.47', '$516.00', '$1,601.17',\n",
              "       '$998.00', '$1,254.96', '$1,349.79', '$1,175.00', '$1,996.99',\n",
              "       '$1,269.99', '$3,559.99', '$798.50', '$1,521.53', '$1,854.17',\n",
              "       '$1,799.99', '$965.00', '$1,094.96', '$1,499.89', '$1,343.02',\n",
              "       '$879.98', '$979.00', '$1,480.00', '$820.68', '$1,157.97',\n",
              "       '$642.46', '$962.99', '$103.99', '$208.00', '$1,579.90',\n",
              "       '$1,028.14', '$879.20', '$2,444.49', '$2,001.44', '$1,609.23',\n",
              "       '$2,278.93', '$2,320.96', '$2,303.21', '$796.55', '$1,542.96',\n",
              "       '$130.00', '$1,847.99', '$2,639.12', '$352.00', '$317.00',\n",
              "       '$680.00', '$809.00', '$385.55', '$397.00', '$1,549.99',\n",
              "       '$1,289.00', '$1,999.81', '$3,748.99', '$1,399.81', '$1,999.95',\n",
              "       '$3,200.99', '$3,999.00', '$1,549.95', '$779.00', '$4,799.81',\n",
              "       '$4,999.81', '$1,499.81', '$1,599.95', '$1,399.95', '$4,699.00',\n",
              "       '$1,499.95', '$1,224.99', '$839.00', '$4,999.95', '$1,699.95',\n",
              "       '$3,589.99', '$4,799.00', '$3,299.95', '$2,899.98', '$1,599.81',\n",
              "       '$2,095.00', '$2,499.95', '$1,749.81', '$2,794.81', '$1,099.81',\n",
              "       '$3,699.95', '$1,569.81', '$1,369.47', '$1,299.81', '$1,594.95',\n",
              "       '$2,214.85', '$1,725.00', '$2,187.49', '$6,599.00', '$1,356.29',\n",
              "       '$715.00', '$1,664.99', '$2,314.19', '$1,149.61', '$887.05',\n",
              "       '$679.99', '$1,203.96', '$568.00', '$259.00', '$839.99', '$449.00',\n",
              "       '$549.00', '$459.00', '$304.94', '$807.99', '$249.00', '$549.99',\n",
              "       '$269.95', '$337.00', '$245.00', '$159.00', '$989.00', '$429.00',\n",
              "       '$358.00', '$638.99', '$489.90', '$387.00', '$769.00', '$539.00',\n",
              "       '$834.21', '$279.00', '$796.96', '$529.00', '$634.99', '$356.00',\n",
              "       '$509.99', '$105.10', '$619.24', '$468.00', '$418.63', '$455.99',\n",
              "       '$214.00', '$324.97', '$289.99', '$273.00', '$1,129.00', '$299.98',\n",
              "       '$667.49', '$450.70', '$689.70', '$579.00', '$485.00', '$729.99',\n",
              "       '$299.94', '$1,639.99', '$438.95', '$340.77', '$465.00', '$438.34',\n",
              "       '$329.99', '$679.73', '$759.99', '$565.00', '$239.90', '$409.00',\n",
              "       '$339.99', '$209.99', '$419.00', '$582.90', '$173.21', '$527.50',\n",
              "       '$228.00', '$1,509.00', '$879.00', '$343.49', '$624.00', '$539.90',\n",
              "       '$389.00', '$375.00', '$654.39', '$142.00', '$1,000.00', '$955.00',\n",
              "       '$235.00', '$254.99', '$399.90', '$46.98', '$670.29', '$888.00',\n",
              "       '$838.98', '$698.98', '$239.95', '$166.00', '$3,099.99',\n",
              "       '$1,559.99', '$469.90', '$685.00', '$424.00', '$639.99', '$601.14',\n",
              "       '$548.97', '$1,509.99', '$193.90', '$589.09', '$219.99', '$45.99',\n",
              "       '$578.88', '$502.00', '$79.00', '$719.99', '$113.00', '$754.99',\n",
              "       '$1,160.96', '$1,888.00', '$389.90', '$1,268.88', '$899.74',\n",
              "       '$119.00', '$989.99', '$69.99', '$628.41', '$935.79', '$2,099.99',\n",
              "       '$1,768.06', '$409.99', '$202.49', '$1,289.88', '$1,648.99',\n",
              "       '$889.99', '$1,309.80', '$586.66', '$2,999.69', '$1,509.90',\n",
              "       '$2,379.00', '$284.00', '$1,649.90', '$2,143.62', '$1,075.88',\n",
              "       '$938.99', '$965.99', '$189.99', '$193.04', '$475.99', '$585.28',\n",
              "       '$499.98', '$769.99', '$2,389.99', '$764.59', '$369.99', '$534.99',\n",
              "       '$1,517.99', '$1,265.75', '$443.96', '$1,795.00', '$968.00',\n",
              "       '$2,233.90', '$549.90', '$1,355.00', '$617.00', '$799.98',\n",
              "       '$1,809.00', '$778.98', '$388.00', '$662.86', '$265.99',\n",
              "       '$1,650.00', '$2,500.00', '$1,989.00', '$1,243.99', '$645.99',\n",
              "       '$625.99', '$1,379.90', '$734.99', '$979.99', '$2,179.00',\n",
              "       '$712.80', '$232.95', '$175.99', '$262.59', '$278.00', '$539.99',\n",
              "       '$269.90', '$939.00', '$223.99', '$209.00', '$1,358.99', '$635.99',\n",
              "       '$67.98', '$779.99', '$72.88', '$69.90', '$1,069.79', '$649.94',\n",
              "       '$1,265.99', '$49.95', '$49.99', '$560.00', '$446.89', '$1,950.99',\n",
              "       '$785.00', '$553.48', '$1,699.99', '$1,905.99', '$1,183.99',\n",
              "       '$1,048.88', '$98.00', '$669.99', '$38.98', '$163.99', '$502.93',\n",
              "       '$1,259.99', '$1,109.99', '$1,649.99', '$469.99', '$139.51',\n",
              "       '$89.00', '$115.00', '$1,584.93', '$1,644.20', '$2,346.69',\n",
              "       '$893.96', '$54.98', '$1,204.97', '$2,373.96', '$615.00',\n",
              "       '$1,573.99', '$172.38', '$651.00', '$741.99', '$265.89',\n",
              "       '$1,319.64', '$86.93', '$1,098.97', '$531.16', '$564.00',\n",
              "       '$559.99', '$1,489.90', '$389.60', '$136.89', '$1,136.98',\n",
              "       '$2,450.00', '$750.00', '$599.90', '$659.00', '$309.00',\n",
              "       '$1,045.81', '$778.61', '$427.99', '$122.50', '$122.80', '$624.95',\n",
              "       '$520.00', '$973.00', '$639.00', '$410.90', '$188.99', '$151.00',\n",
              "       '$588.00', '$748.90', '$804.49', '$978.97', '$969.95', '$1,110.66',\n",
              "       '$104.99', '$460.00', '$590.90', '$1,243.94', '$1,269.00',\n",
              "       '$714.98', '$832.96', '$635.90', '$699.66', '$224.95', '$399.98',\n",
              "       '$659.65', '$207.88', '$1,093.97', '$1,948.98', '$21.99',\n",
              "       '$437.59', '$718.99', '$1,179.99', '$1,298.99', '$764.90',\n",
              "       '$278.82', '$327.96', '$699.97', '$560.99', '$234.98', '$124.99',\n",
              "       '$514.82', '$31.99', '$1,148.54', '$2,310.00', '$1,469.89',\n",
              "       '$194.00', '$748.94', '$1,184.98', '$540.32', '$2,322.92',\n",
              "       '$971.51', '$800.10', '$819.89', '$2,052.69', '$885.00',\n",
              "       '$1,605.40', '$419.99', '$2,286.37', '$490.00', '$1,503.02',\n",
              "       '$448.99', '$533.13', '$1,637.40', '$134.99', '$555.00', '$212.85',\n",
              "       '$450.00', '$262.99'], dtype=object)"
            ]
          },
          "execution_count": 34,
          "metadata": {},
          "output_type": "execute_result"
        }
      ],
      "source": [
        "df.Price.unique()"
      ]
    },
    {
      "cell_type": "markdown",
      "metadata": {
        "id": "8vLo4YR_0WR0"
      },
      "source": [
        "###Preprocessing Operations for the Price Feature\n",
        "- Droping all the missing entries where Price is not present. Since Price is a target feature, retrieving missing prices is not possible.\n",
        "- Transforming format of entries from '\\$1,379.90' to '1379.90'\n",
        "- Since Price is given in Dollars, we convert it into Rupees.\n",
        "- Let's assume 1$ = ₹82."
      ]
    },
    {
      "cell_type": "code",
      "execution_count": 35,
      "metadata": {
        "colab": {
          "base_uri": "https://localhost:8080/"
        },
        "id": "OQSouhRb2r3P",
        "outputId": "59ef9b73-3310-4dd1-fef4-945fef819a5c"
      },
      "outputs": [
        {
          "data": {
            "text/plain": [
              "(2820, 17)"
            ]
          },
          "execution_count": 35,
          "metadata": {},
          "output_type": "execute_result"
        }
      ],
      "source": [
        "df.shape"
      ]
    },
    {
      "cell_type": "code",
      "execution_count": 36,
      "metadata": {
        "id": "fsWyndeT2Az1"
      },
      "outputs": [],
      "source": [
        "# Removing missing entries where Price is not present.\n",
        "df = df.dropna(subset=['Price']).reset_index(drop=True)"
      ]
    },
    {
      "cell_type": "code",
      "execution_count": 37,
      "metadata": {
        "colab": {
          "base_uri": "https://localhost:8080/"
        },
        "id": "2ISfllno2tcO",
        "outputId": "f5ca589e-d85d-4346-8ad0-d057f2adb351"
      },
      "outputs": [
        {
          "data": {
            "text/plain": [
              "(1851, 17)"
            ]
          },
          "execution_count": 37,
          "metadata": {},
          "output_type": "execute_result"
        }
      ],
      "source": [
        "df.shape"
      ]
    },
    {
      "cell_type": "code",
      "execution_count": 38,
      "metadata": {
        "colab": {
          "base_uri": "https://localhost:8080/"
        },
        "id": "YIhDkfvKcZ-8",
        "outputId": "ecd86817-0383-4f6a-e077-cb6d96b60d3d"
      },
      "outputs": [
        {
          "data": {
            "text/plain": [
              "RangeIndex(start=0, stop=1851, step=1)"
            ]
          },
          "execution_count": 38,
          "metadata": {},
          "output_type": "execute_result"
        }
      ],
      "source": [
        "df.index"
      ]
    },
    {
      "cell_type": "code",
      "execution_count": 39,
      "metadata": {
        "id": "yZy1-4hN0R1G"
      },
      "outputs": [],
      "source": [
        "# Transforming format of entries from '$1,379.90' to '1379.90'\n",
        "df['Price'] = df['Price'].str.replace('$', '').str.replace(',', '').astype(float)"
      ]
    },
    {
      "cell_type": "code",
      "execution_count": 40,
      "metadata": {
        "id": "UeDlMraP25hL"
      },
      "outputs": [],
      "source": [
        "# Converting dollars to rupees\n",
        "df['Price'] = df['Price'] * 82"
      ]
    },
    {
      "cell_type": "code",
      "execution_count": 41,
      "metadata": {
        "colab": {
          "base_uri": "https://localhost:8080/",
          "height": 241
        },
        "id": "11q2qhgx2_3K",
        "outputId": "f0e3da3d-2bd8-4742-dbc7-c87a2554f09d"
      },
      "outputs": [
        {
          "data": {
            "text/plain": [
              "0     29519.18\n",
              "1    177694.00\n",
              "2     67076.00\n",
              "3     57318.00\n",
              "4    200899.18\n",
              "Name: Price, dtype: float64"
            ]
          },
          "execution_count": 41,
          "metadata": {},
          "output_type": "execute_result"
        }
      ],
      "source": [
        "df['Price'].head()"
      ]
    },
    {
      "cell_type": "markdown",
      "metadata": {
        "id": "2LeC_-sgrGk4"
      },
      "source": [
        "##Addressing Screen_Size features's outliers\n",
        "- It is less likely for laptop to have screen size smaller than 10 inches\n",
        "- We will try to retrieve as much information as we can from the Title section.\n",
        "- Rest of the outliers will be handled with respect to product Price"
      ]
    },
    {
      "cell_type": "code",
      "execution_count": 42,
      "metadata": {
        "colab": {
          "base_uri": "https://localhost:8080/"
        },
        "id": "hSqORijzsWcq",
        "outputId": "5660d3b2-4b94-4491-b3a6-247e31e46409"
      },
      "outputs": [
        {
          "data": {
            "text/plain": [
              "array(['Alienware Aurora R11 Gaming Desktop 10th Gen Intel Core i7, 16GB Dual Channel HyperX Fury DDR4 XMP, NVIDIA GeForce RTX 3080, 1TB HDD + 512GB SSD, Killer Wi-Fi 6, Black (Latest Model)',\n",
              "       'Alienware Aurora R10 Gaming Desktop - AMD Ryzen 9 5900, 32GB DDR4 RAM, 1TB SSD, NVIDIA GeForce RTX 3080 10GB GDDR6X, Windows 10 Home - Lunar Light',\n",
              "       'Alienware Aurora R8 Desktop, 9th Gen Intel Core i7 9700, NVIDIA GeForce RTX 2070, 8GB GDDR6 (Overclockable), 256GB SSD Boot + 2TB 7200 RPM, 16GB RAM, AWAUR8-7787SLV-PUS',\n",
              "       'Alienware Dell Aurora R10 Gaming Desktop, AMD Ryzen 9 3900, 32GB Dual Channel HyperX Fury DDR4 XMP, 1TB SSD, AMD Radeon RX 5700 XT 8GB GDDR6, Lunar Light',\n",
              "       'Alienware Aurora R10 Gaming Desktop - AMD Ryzen 9 5900, 32GB DDR4 RAM, 1TB SSD, NVIDIA GeForce RTX 3080 10GB GDDR6X, Windows 10 Home - Lunar Light',\n",
              "       'Alienware New Aurora R11 Gaming Desktop, Intel i7-10700KF, NVIDIA GeForce RTX 2080 Super 8GB GDDR6, 512GB SSD + 1TB SATA HDD, 16GB DDR4 XMP, Windows 10 Home, AWAUR11-7088BLK-PUS'],\n",
              "      dtype=object)"
            ]
          },
          "execution_count": 42,
          "metadata": {},
          "output_type": "execute_result"
        }
      ],
      "source": [
        "screen_outliers = df[df.Screen_Size < 10]\n",
        "screen_outliers.Title.values"
      ]
    },
    {
      "cell_type": "markdown",
      "metadata": {
        "id": "ll80tNmVsyox"
      },
      "source": [
        "###**Observations**\n",
        "- It appears that screen size information can't be extracted from the Title.\n",
        "- So, we will try to reassign values based on the product Price"
      ]
    },
    {
      "cell_type": "code",
      "execution_count": 43,
      "metadata": {
        "colab": {
          "base_uri": "https://localhost:8080/",
          "height": 237
        },
        "id": "EJtKUKkFtzRC",
        "outputId": "745fbacc-54a1-436e-8740-ad4463badd34"
      },
      "outputs": [
        {
          "data": {
            "text/html": [
              "<div>\n",
              "<style scoped>\n",
              "    .dataframe tbody tr th:only-of-type {\n",
              "        vertical-align: middle;\n",
              "    }\n",
              "\n",
              "    .dataframe tbody tr th {\n",
              "        vertical-align: top;\n",
              "    }\n",
              "\n",
              "    .dataframe thead th {\n",
              "        text-align: right;\n",
              "    }\n",
              "</style>\n",
              "<table border=\"1\" class=\"dataframe\">\n",
              "  <thead>\n",
              "    <tr style=\"text-align: right;\">\n",
              "      <th></th>\n",
              "      <th>Screen_Size</th>\n",
              "      <th>Price</th>\n",
              "    </tr>\n",
              "  </thead>\n",
              "  <tbody>\n",
              "    <tr>\n",
              "      <th>897</th>\n",
              "      <td>1.00</td>\n",
              "      <td>294379.18</td>\n",
              "    </tr>\n",
              "    <tr>\n",
              "      <th>904</th>\n",
              "      <td>1.00</td>\n",
              "      <td>171790.00</td>\n",
              "    </tr>\n",
              "    <tr>\n",
              "      <th>906</th>\n",
              "      <td>0.01</td>\n",
              "      <td>254118.00</td>\n",
              "    </tr>\n",
              "    <tr>\n",
              "      <th>909</th>\n",
              "      <td>1.00</td>\n",
              "      <td>188599.18</td>\n",
              "    </tr>\n",
              "    <tr>\n",
              "      <th>910</th>\n",
              "      <td>1.00</td>\n",
              "      <td>171790.00</td>\n",
              "    </tr>\n",
              "    <tr>\n",
              "      <th>919</th>\n",
              "      <td>0.10</td>\n",
              "      <td>270518.00</td>\n",
              "    </tr>\n",
              "  </tbody>\n",
              "</table>\n",
              "</div>"
            ],
            "text/plain": [
              "     Screen_Size      Price\n",
              "897         1.00  294379.18\n",
              "904         1.00  171790.00\n",
              "906         0.01  254118.00\n",
              "909         1.00  188599.18\n",
              "910         1.00  171790.00\n",
              "919         0.10  270518.00"
            ]
          },
          "execution_count": 43,
          "metadata": {},
          "output_type": "execute_result"
        }
      ],
      "source": [
        "screen_outliers[['Screen_Size', 'Price']]"
      ]
    },
    {
      "cell_type": "code",
      "execution_count": 44,
      "metadata": {
        "colab": {
          "base_uri": "https://localhost:8080/",
          "height": 423
        },
        "id": "Ka4o_KDzva4x",
        "outputId": "1d924351-7a42-44d5-b3d8-26522fa5d3c1"
      },
      "outputs": [
        {
          "data": {
            "text/html": [
              "<div>\n",
              "<style scoped>\n",
              "    .dataframe tbody tr th:only-of-type {\n",
              "        vertical-align: middle;\n",
              "    }\n",
              "\n",
              "    .dataframe tbody tr th {\n",
              "        vertical-align: top;\n",
              "    }\n",
              "\n",
              "    .dataframe thead th {\n",
              "        text-align: right;\n",
              "    }\n",
              "</style>\n",
              "<table border=\"1\" class=\"dataframe\">\n",
              "  <thead>\n",
              "    <tr style=\"text-align: right;\">\n",
              "      <th></th>\n",
              "      <th>Screen_Size</th>\n",
              "      <th>Price</th>\n",
              "    </tr>\n",
              "  </thead>\n",
              "  <tbody>\n",
              "    <tr>\n",
              "      <th>4</th>\n",
              "      <td>17.3</td>\n",
              "      <td>200899.18</td>\n",
              "    </tr>\n",
              "    <tr>\n",
              "      <th>7</th>\n",
              "      <td>17.0</td>\n",
              "      <td>250018.00</td>\n",
              "    </tr>\n",
              "    <tr>\n",
              "      <th>10</th>\n",
              "      <td>17.3</td>\n",
              "      <td>356290.00</td>\n",
              "    </tr>\n",
              "    <tr>\n",
              "      <th>11</th>\n",
              "      <td>16.0</td>\n",
              "      <td>250018.00</td>\n",
              "    </tr>\n",
              "    <tr>\n",
              "      <th>13</th>\n",
              "      <td>17.3</td>\n",
              "      <td>270190.00</td>\n",
              "    </tr>\n",
              "    <tr>\n",
              "      <th>...</th>\n",
              "      <td>...</td>\n",
              "      <td>...</td>\n",
              "    </tr>\n",
              "    <tr>\n",
              "      <th>1468</th>\n",
              "      <td>15.6</td>\n",
              "      <td>286918.00</td>\n",
              "    </tr>\n",
              "    <tr>\n",
              "      <th>1562</th>\n",
              "      <td>15.6</td>\n",
              "      <td>245999.18</td>\n",
              "    </tr>\n",
              "    <tr>\n",
              "      <th>1591</th>\n",
              "      <td>14.0</td>\n",
              "      <td>200900.00</td>\n",
              "    </tr>\n",
              "    <tr>\n",
              "      <th>1600</th>\n",
              "      <td>17.0</td>\n",
              "      <td>303318.00</td>\n",
              "    </tr>\n",
              "    <tr>\n",
              "      <th>1782</th>\n",
              "      <td>15.0</td>\n",
              "      <td>229599.18</td>\n",
              "    </tr>\n",
              "  </tbody>\n",
              "</table>\n",
              "<p>157 rows × 2 columns</p>\n",
              "</div>"
            ],
            "text/plain": [
              "      Screen_Size      Price\n",
              "4            17.3  200899.18\n",
              "7            17.0  250018.00\n",
              "10           17.3  356290.00\n",
              "11           16.0  250018.00\n",
              "13           17.3  270190.00\n",
              "...           ...        ...\n",
              "1468         15.6  286918.00\n",
              "1562         15.6  245999.18\n",
              "1591         14.0  200900.00\n",
              "1600         17.0  303318.00\n",
              "1782         15.0  229599.18\n",
              "\n",
              "[157 rows x 2 columns]"
            ]
          },
          "execution_count": 44,
          "metadata": {},
          "output_type": "execute_result"
        }
      ],
      "source": [
        "df[df.Price > 200000][['Screen_Size', 'Price']]"
      ]
    },
    {
      "cell_type": "markdown",
      "metadata": {
        "id": "0ZNzC6TyuGHi"
      },
      "source": [
        "###**Insights**\n",
        "- It appears that all of these outliers belongs to high configuration laptops.\n",
        "- So it will be logical to assign them bigger screen size like 17."
      ]
    },
    {
      "cell_type": "code",
      "execution_count": 45,
      "metadata": {
        "colab": {
          "base_uri": "https://localhost:8080/"
        },
        "id": "yrCsWeHDv4bL",
        "outputId": "e995d0f8-097d-4f95-ca8a-5881b40ade8e"
      },
      "outputs": [
        {
          "name": "stderr",
          "output_type": "stream",
          "text": [
            "C:\\Program Files\\KMSpico\\temp\\ipykernel_10308\\432613683.py:2: SettingWithCopyWarning: \n",
            "A value is trying to be set on a copy of a slice from a DataFrame.\n",
            "Try using .loc[row_indexer,col_indexer] = value instead\n",
            "\n",
            "See the caveats in the documentation: https://pandas.pydata.org/pandas-docs/stable/user_guide/indexing.html#returning-a-view-versus-a-copy\n",
            "  screen_outliers.Screen_Size = 17\n"
          ]
        }
      ],
      "source": [
        "# Reassigning screen size\n",
        "screen_outliers.Screen_Size = 17"
      ]
    },
    {
      "cell_type": "code",
      "execution_count": 46,
      "metadata": {
        "colab": {
          "base_uri": "https://localhost:8080/",
          "height": 272
        },
        "id": "bFgtSThXv-9p",
        "outputId": "c9d709cd-ad09-453a-e56c-88e73b80291c"
      },
      "outputs": [
        {
          "data": {
            "text/plain": [
              "897    17\n",
              "904    17\n",
              "906    17\n",
              "909    17\n",
              "910    17\n",
              "919    17\n",
              "Name: Screen_Size, dtype: int64"
            ]
          },
          "execution_count": 46,
          "metadata": {},
          "output_type": "execute_result"
        }
      ],
      "source": [
        "screen_outliers.Screen_Size"
      ]
    },
    {
      "cell_type": "code",
      "execution_count": 47,
      "metadata": {
        "id": "O-1s4w0NwKhv"
      },
      "outputs": [],
      "source": [
        "# Merging screen_outlier with df\n",
        "df.loc[screen_outliers.index, 'Screen_Size'] = screen_outliers.Screen_Size"
      ]
    },
    {
      "cell_type": "code",
      "execution_count": 48,
      "metadata": {
        "colab": {
          "base_uri": "https://localhost:8080/",
          "height": 1000
        },
        "id": "iJHLzuMqwUUF",
        "outputId": "7e364f08-6abb-462a-d0f5-bf18eb73c910"
      },
      "outputs": [
        {
          "data": {
            "text/plain": [
              "Screen_Size\n",
              "10.00      1\n",
              "10.10     11\n",
              "10.40      1\n",
              "10.50      3\n",
              "10.51      1\n",
              "11.00      4\n",
              "11.60    103\n",
              "12.00     10\n",
              "12.10      1\n",
              "12.20      9\n",
              "12.30      6\n",
              "12.40     20\n",
              "12.45      2\n",
              "13.00     19\n",
              "13.10     16\n",
              "13.30     54\n",
              "13.40     11\n",
              "13.50     30\n",
              "14.00    376\n",
              "14.10     12\n",
              "14.20      1\n",
              "14.40      5\n",
              "14.50      5\n",
              "15.00     36\n",
              "15.40      1\n",
              "15.60    744\n",
              "16.00     92\n",
              "16.20      2\n",
              "16.60      1\n",
              "17.00     37\n",
              "17.25      1\n",
              "17.30    226\n",
              "18.40      6\n",
              "30.00      1\n",
              "31.50      2\n",
              "34.00      1\n",
              "Name: count, dtype: int64"
            ]
          },
          "execution_count": 48,
          "metadata": {},
          "output_type": "execute_result"
        }
      ],
      "source": [
        "df.Screen_Size.value_counts().sort_index()"
      ]
    },
    {
      "cell_type": "markdown",
      "metadata": {
        "id": "kW8p_dsS3Pjj"
      },
      "source": [
        "##Addressing CPU_Model's missing entries one more time\n",
        "###Filtering Operations for the CPU_Model feature\n",
        "- Identifying entries with no missing values\n",
        "- Converting all CPU_Model entries to lower case entries\n",
        "- Design function containing regular expression to filter out categories\n",
        "- Replacing all the unique values into i3, i5, i7, i9, ryzen3, ryzen5, ryzen7, ryzen9, celeron, ultra3, ultra5, ultra7, other  "
      ]
    },
    {
      "cell_type": "code",
      "execution_count": 49,
      "metadata": {
        "colab": {
          "base_uri": "https://localhost:8080/"
        },
        "id": "H8OryNwl3WRh",
        "outputId": "16a0a959-cf7b-45aa-e736-78904eccb2b6"
      },
      "outputs": [
        {
          "data": {
            "text/plain": [
              "93"
            ]
          },
          "execution_count": 49,
          "metadata": {},
          "output_type": "execute_result"
        }
      ],
      "source": [
        "df.CPU_Model.isna().sum()"
      ]
    },
    {
      "cell_type": "code",
      "execution_count": 50,
      "metadata": {
        "colab": {
          "base_uri": "https://localhost:8080/"
        },
        "id": "2HVUgIET3jfm",
        "outputId": "cc53e944-4274-4015-9c6c-5e0204f40fdc"
      },
      "outputs": [
        {
          "data": {
            "text/plain": [
              "array(['Core i5', 'Intel Core i7-11700', 'Intel Core i5-1135G7',\n",
              "       'Ryzen 5', 'Intel Core i9', 'Core i7 8750H', 'Intel Core i7',\n",
              "       'Core i7', 'AMD Ryzen 9 5900X', 'Core i9', 'Corei5-10300H', nan,\n",
              "       'Celeron N4020', 'Core i7 Family', 'Intel Core i5', 'Ryzen 7',\n",
              "       'ARM 7100', 'Core i3', 'Core I7 11800H', 'Corei7-10750H',\n",
              "       'AMD Ryzen 7', 'Core i5 Family', 'Corei7-9750H', 'Ryzen 5 5500U',\n",
              "       'Core i7-10510U', 'Corei7-1065G7', 'Xeon Platinum 8160M',\n",
              "       'Ryzen 9', 'Core I9 12900H', 'AMD Ryzen 5 5500U', 'Celeron',\n",
              "       'Celeron N', 'AMD A Series', 'Celeron N4000', 'Apple M1',\n",
              "       'MediaTek MT8183', 'Ryzen 3 3350U', 'Core i7 Extreme', 'AMD A6',\n",
              "       'Core i5-3340s', '8032', 'Pentium', 'Core I3 1115G4',\n",
              "       'Intel Core i3', 'Ryzen 7 5800U', 'Unknown', 'AMD Ryzen 5 5600X',\n",
              "       'MediaTek_MT8127', 'AMD A4', 'Celeron 2955U',\n",
              "       'Intel Core i7-1165G7', 'Celeron N3350', 'Celeron 3205U',\n",
              "       'Ryzen 3 2300U', 'Celeron N3450', 'Core i5-10210U', 'AMD R Series',\n",
              "       'Ryzen 7 3700U', 'Ryzen 5 5600H', 'Core i5-1035G1',\n",
              "       'Ryzen 7 5700U', 'Intel Core 2 Quad', 'Core i5-3320M',\n",
              "       'Core i5 8300H', 'Core i5-750', 'Ryzen 7 4700U', 'Core i7-4810HQ',\n",
              "       'Ryzen 3', 'I5-4670k', 'Core i5 8250U', 'Core i3 Family',\n",
              "       'Intel Mobile CPU', 'AMD Ryzen 7 5800H', 'Ryzen 3 3200U',\n",
              "       'AMD Ryzen 7 5700U', 'Mediatek Mt8173C', 'Core i5 2.3 GHz',\n",
              "       'Intel Core i7 1185G7', 'Ryzen 5 4500U', 'Core m3-8100Y',\n",
              "       'Pentium N5000', 'Core i3-10110U', 'A4 3020E', 'Core i3-1005G1',\n",
              "       'Core i7-1065G7', 'Athlon 3050U', '68LC040', 'Core i7-4700MQ',\n",
              "       'Core i7 6700HQ', 'Intel Core M-5Y10 Processor', 'Core i7 6700',\n",
              "       'Pentium Other', 'Athlon Silver 3050U', 'Athlon', 'Ryzen 3 3250U',\n",
              "       'I5-2320', 'Core 2 Duo 2.33GHz', 'Intel Pentium M',\n",
              "       'Ryzen 5 3500U', 'Qualcomm Snapdragon S4 MSM8270', 'Xeon',\n",
              "       'Ryzen 7 5800H', 'Snapdragon', 'Core i5-2300', 'Core_m',\n",
              "       'Intel Celeron D', 'Intel Atom', 'Ryzen 5 3450U',\n",
              "       'Intel Core 2 Duo', 'Ryzen 7 4800H', 'Intel Xeon', 'Core M Family',\n",
              "       '80486SLC', '1.2GHz Cortex A9 Processor', 'Ryzen 5 3550H',\n",
              "       'Celeron N3060', '1.2GHz Cortex A8 Processor', 'Core I7 11370H',\n",
              "       'Exynos 5000 Series', 'Exynos 5 Octa 5420',\n",
              "       'Intel Core i7 Extreme', '80486DX2', 'Celeron N2840',\n",
              "       'Intel Core i5 1145G7', 'Mobile Intel Celeron Processor',\n",
              "       'Celeron_M', 'Ryzen 9 5900X', 'Ryzen 5 4680U', 'AMD E Series',\n",
              "       'Ryzen 5 2600X', 'Core i5 8400T'], dtype=object)"
            ]
          },
          "execution_count": 50,
          "metadata": {},
          "output_type": "execute_result"
        }
      ],
      "source": [
        "df['CPU_Model'].unique()"
      ]
    },
    {
      "cell_type": "code",
      "execution_count": 51,
      "metadata": {
        "id": "5LgoamRKB-0q"
      },
      "outputs": [],
      "source": [
        "# Filtering entries where CPU_Model value is not missing\n",
        "cpu_not_missing = df[~df['CPU_Model'].isna()]"
      ]
    },
    {
      "cell_type": "code",
      "execution_count": 52,
      "metadata": {
        "colab": {
          "base_uri": "https://localhost:8080/"
        },
        "id": "MwGuBdzSaXaE",
        "outputId": "da14b6b7-5491-4799-fa2b-e6b851331d03"
      },
      "outputs": [
        {
          "data": {
            "text/plain": [
              "(1758, 17)"
            ]
          },
          "execution_count": 52,
          "metadata": {},
          "output_type": "execute_result"
        }
      ],
      "source": [
        "cpu_not_missing.shape"
      ]
    },
    {
      "cell_type": "code",
      "execution_count": 53,
      "metadata": {
        "colab": {
          "base_uri": "https://localhost:8080/"
        },
        "id": "I4UEMbmOCtjc",
        "outputId": "bc171e6e-516c-4035-beda-5933070bc442"
      },
      "outputs": [
        {
          "name": "stderr",
          "output_type": "stream",
          "text": [
            "C:\\Program Files\\KMSpico\\temp\\ipykernel_10308\\3704837426.py:2: SettingWithCopyWarning: \n",
            "A value is trying to be set on a copy of a slice from a DataFrame.\n",
            "Try using .loc[row_indexer,col_indexer] = value instead\n",
            "\n",
            "See the caveats in the documentation: https://pandas.pydata.org/pandas-docs/stable/user_guide/indexing.html#returning-a-view-versus-a-copy\n",
            "  cpu_not_missing['CPU_Model'] = cpu_not_missing['CPU_Model'].str.lower()\n"
          ]
        }
      ],
      "source": [
        "# Converting all CPU_Model entries to lower case entries\n",
        "cpu_not_missing['CPU_Model'] = cpu_not_missing['CPU_Model'].str.lower()"
      ]
    },
    {
      "cell_type": "code",
      "execution_count": 54,
      "metadata": {
        "colab": {
          "base_uri": "https://localhost:8080/"
        },
        "id": "UW3SIihgD9XF",
        "outputId": "235f76b1-bb3a-4903-c3d8-d043f026f872"
      },
      "outputs": [
        {
          "data": {
            "text/plain": [
              "array(['core i5', 'intel core i7-11700', 'intel core i5-1135g7',\n",
              "       'ryzen 5', 'intel core i9', 'core i7 8750h', 'intel core i7',\n",
              "       'core i7', 'amd ryzen 9 5900x', 'core i9', 'corei5-10300h',\n",
              "       'celeron n4020', 'core i7 family', 'intel core i5', 'ryzen 7',\n",
              "       'arm 7100', 'core i3', 'core i7 11800h', 'corei7-10750h',\n",
              "       'amd ryzen 7', 'core i5 family', 'corei7-9750h', 'ryzen 5 5500u',\n",
              "       'core i7-10510u', 'corei7-1065g7', 'xeon platinum 8160m',\n",
              "       'ryzen 9', 'core i9 12900h', 'amd ryzen 5 5500u', 'celeron',\n",
              "       'celeron n', 'amd a series', 'celeron n4000', 'apple m1',\n",
              "       'mediatek mt8183', 'ryzen 3 3350u', 'core i7 extreme', 'amd a6',\n",
              "       'core i5-3340s', '8032', 'pentium', 'core i3 1115g4',\n",
              "       'intel core i3', 'ryzen 7 5800u', 'unknown', 'amd ryzen 5 5600x',\n",
              "       'mediatek_mt8127', 'amd a4', 'celeron 2955u',\n",
              "       'intel core i7-1165g7', 'celeron n3350', 'celeron 3205u',\n",
              "       'ryzen 3 2300u', 'celeron n3450', 'core i5-10210u', 'amd r series',\n",
              "       'ryzen 7 3700u', 'ryzen 5 5600h', 'core i5-1035g1',\n",
              "       'ryzen 7 5700u', 'intel core 2 quad', 'core i5-3320m',\n",
              "       'core i5 8300h', 'core i5-750', 'ryzen 7 4700u', 'core i7-4810hq',\n",
              "       'ryzen 3', 'i5-4670k', 'core i5 8250u', 'core i3 family',\n",
              "       'intel mobile cpu', 'amd ryzen 7 5800h', 'ryzen 3 3200u',\n",
              "       'amd ryzen 7 5700u', 'mediatek mt8173c', 'core i5 2.3 ghz',\n",
              "       'intel core i7 1185g7', 'ryzen 5 4500u', 'core m3-8100y',\n",
              "       'pentium n5000', 'core i3-10110u', 'a4 3020e', 'core i3-1005g1',\n",
              "       'core i7-1065g7', 'athlon 3050u', '68lc040', 'core i7-4700mq',\n",
              "       'core i7 6700hq', 'intel core m-5y10 processor', 'core i7 6700',\n",
              "       'pentium other', 'athlon silver 3050u', 'athlon', 'ryzen 3 3250u',\n",
              "       'i5-2320', 'core 2 duo 2.33ghz', 'intel pentium m',\n",
              "       'ryzen 5 3500u', 'qualcomm snapdragon s4 msm8270', 'xeon',\n",
              "       'ryzen 7 5800h', 'snapdragon', 'core i5-2300', 'core_m',\n",
              "       'intel celeron d', 'intel atom', 'ryzen 5 3450u',\n",
              "       'intel core 2 duo', 'ryzen 7 4800h', 'intel xeon', 'core m family',\n",
              "       '80486slc', '1.2ghz cortex a9 processor', 'ryzen 5 3550h',\n",
              "       'celeron n3060', '1.2ghz cortex a8 processor', 'core i7 11370h',\n",
              "       'exynos 5000 series', 'exynos 5 octa 5420',\n",
              "       'intel core i7 extreme', '80486dx2', 'celeron n2840',\n",
              "       'intel core i5 1145g7', 'mobile intel celeron processor',\n",
              "       'celeron_m', 'ryzen 9 5900x', 'ryzen 5 4680u', 'amd e series',\n",
              "       'ryzen 5 2600x', 'core i5 8400t'], dtype=object)"
            ]
          },
          "execution_count": 54,
          "metadata": {},
          "output_type": "execute_result"
        }
      ],
      "source": [
        "cpu_not_missing['CPU_Model'].unique()"
      ]
    },
    {
      "cell_type": "code",
      "execution_count": 55,
      "metadata": {
        "colab": {
          "base_uri": "https://localhost:8080/",
          "height": 489
        },
        "id": "SaV2jsSuIxpT",
        "outputId": "641968fb-e7c6-45b9-c7ff-b469b255a3f1"
      },
      "outputs": [
        {
          "data": {
            "text/plain": [
              "CPU_Model\n",
              "core i7            280\n",
              "core i5            159\n",
              "core i7 family     100\n",
              "celeron n4020       95\n",
              "intel core i7       82\n",
              "                  ... \n",
              "celeron 2955u        1\n",
              "core i5-2300         1\n",
              "mediatek_mt8127      1\n",
              "core i5-3340s        1\n",
              "core i5 8400t        1\n",
              "Name: count, Length: 130, dtype: int64"
            ]
          },
          "execution_count": 55,
          "metadata": {},
          "output_type": "execute_result"
        }
      ],
      "source": [
        "cpu_not_missing.CPU_Model.value_counts()"
      ]
    },
    {
      "cell_type": "code",
      "execution_count": 56,
      "metadata": {
        "colab": {
          "base_uri": "https://localhost:8080/"
        },
        "id": "7HD9PCEcINde",
        "outputId": "de62a249-b288-483f-d552-b6e9421701da"
      },
      "outputs": [
        {
          "name": "stderr",
          "output_type": "stream",
          "text": [
            "C:\\Program Files\\KMSpico\\temp\\ipykernel_10308\\2944175908.py:3: SettingWithCopyWarning: \n",
            "A value is trying to be set on a copy of a slice from a DataFrame.\n",
            "Try using .loc[row_indexer,col_indexer] = value instead\n",
            "\n",
            "See the caveats in the documentation: https://pandas.pydata.org/pandas-docs/stable/user_guide/indexing.html#returning-a-view-versus-a-copy\n",
            "  cpu_not_missing['CPU_Model'] = cpu_not_missing['CPU_Model'].str.extract(pattern_cpu_filter1)\n"
          ]
        }
      ],
      "source": [
        "# Applying Regular Expression\n",
        "pattern_cpu_filter1 = r'(intel\\s*i\\d|core\\s*i\\d|ryzen\\s*\\d|radeon\\s*r\\d|celeron|ultra\\s*\\d)'\n",
        "cpu_not_missing['CPU_Model'] = cpu_not_missing['CPU_Model'].str.extract(pattern_cpu_filter1)"
      ]
    },
    {
      "cell_type": "code",
      "execution_count": 57,
      "metadata": {
        "colab": {
          "base_uri": "https://localhost:8080/",
          "height": 460
        },
        "id": "BoMOd3LWJvdB",
        "outputId": "7809cc07-8bd6-4fea-ec8a-edee3bb1efc9"
      },
      "outputs": [
        {
          "data": {
            "text/plain": [
              "CPU_Model\n",
              "core i7    529\n",
              "core i5    336\n",
              "celeron    269\n",
              "core i3    116\n",
              "ryzen 7     81\n",
              "core i9     71\n",
              "ryzen 5     69\n",
              "ryzen 3     40\n",
              "ryzen 9     30\n",
              "corei7      17\n",
              "corei5       6\n",
              "Name: count, dtype: int64"
            ]
          },
          "execution_count": 57,
          "metadata": {},
          "output_type": "execute_result"
        }
      ],
      "source": [
        "cpu_not_missing['CPU_Model'].value_counts()"
      ]
    },
    {
      "cell_type": "code",
      "execution_count": 58,
      "metadata": {
        "colab": {
          "base_uri": "https://localhost:8080/"
        },
        "id": "UnfMJ83mVCWu",
        "outputId": "e25b155f-4778-4c0d-cd13-bad5a68fbe25"
      },
      "outputs": [
        {
          "name": "stderr",
          "output_type": "stream",
          "text": [
            "C:\\Program Files\\KMSpico\\temp\\ipykernel_10308\\3114587673.py:2: SettingWithCopyWarning: \n",
            "A value is trying to be set on a copy of a slice from a DataFrame.\n",
            "Try using .loc[row_indexer,col_indexer] = value instead\n",
            "\n",
            "See the caveats in the documentation: https://pandas.pydata.org/pandas-docs/stable/user_guide/indexing.html#returning-a-view-versus-a-copy\n",
            "  cpu_not_missing['CPU_Model'] = cpu_not_missing['CPU_Model'].str.replace('core ', 'core').str.replace('ryzen ', 'ryzen')\n"
          ]
        }
      ],
      "source": [
        "# This function will rearrange values (from core i5--> core i5, ryzen 7--> ryzen7)\n",
        "cpu_not_missing['CPU_Model'] = cpu_not_missing['CPU_Model'].str.replace('core ', 'core').str.replace('ryzen ', 'ryzen')"
      ]
    },
    {
      "cell_type": "code",
      "execution_count": 59,
      "metadata": {
        "colab": {
          "base_uri": "https://localhost:8080/",
          "height": 397
        },
        "id": "RC7R4mxpV6w3",
        "outputId": "2706b9ce-60d4-4e37-a08b-983782288471"
      },
      "outputs": [
        {
          "data": {
            "text/plain": [
              "CPU_Model\n",
              "corei7     546\n",
              "corei5     342\n",
              "celeron    269\n",
              "corei3     116\n",
              "ryzen7      81\n",
              "corei9      71\n",
              "ryzen5      69\n",
              "ryzen3      40\n",
              "ryzen9      30\n",
              "Name: count, dtype: int64"
            ]
          },
          "execution_count": 59,
          "metadata": {},
          "output_type": "execute_result"
        }
      ],
      "source": [
        "cpu_not_missing['CPU_Model'].value_counts()"
      ]
    },
    {
      "cell_type": "code",
      "execution_count": 60,
      "metadata": {
        "colab": {
          "base_uri": "https://localhost:8080/"
        },
        "id": "Q61P-zyaYchP",
        "outputId": "c14125ed-e2d8-4b83-d7bd-6cb8d428ab30"
      },
      "outputs": [
        {
          "name": "stderr",
          "output_type": "stream",
          "text": [
            "C:\\Program Files\\KMSpico\\temp\\ipykernel_10308\\585882354.py:1: SettingWithCopyWarning: \n",
            "A value is trying to be set on a copy of a slice from a DataFrame.\n",
            "Try using .loc[row_indexer,col_indexer] = value instead\n",
            "\n",
            "See the caveats in the documentation: https://pandas.pydata.org/pandas-docs/stable/user_guide/indexing.html#returning-a-view-versus-a-copy\n",
            "  cpu_not_missing['CPU_Model'] = cpu_not_missing['CPU_Model'].str.replace('core', '')\n"
          ]
        }
      ],
      "source": [
        "cpu_not_missing['CPU_Model'] = cpu_not_missing['CPU_Model'].str.replace('core', '')"
      ]
    },
    {
      "cell_type": "code",
      "execution_count": 61,
      "metadata": {
        "colab": {
          "base_uri": "https://localhost:8080/",
          "height": 397
        },
        "id": "lSU1XJvmYgcO",
        "outputId": "34e63f02-2e4f-44df-f783-0628ef13b341"
      },
      "outputs": [
        {
          "data": {
            "text/plain": [
              "CPU_Model\n",
              "celeron    269\n",
              "i3         116\n",
              "i5         342\n",
              "i7         546\n",
              "i9          71\n",
              "ryzen3      40\n",
              "ryzen5      69\n",
              "ryzen7      81\n",
              "ryzen9      30\n",
              "Name: count, dtype: int64"
            ]
          },
          "execution_count": 61,
          "metadata": {},
          "output_type": "execute_result"
        }
      ],
      "source": [
        "cpu_not_missing['CPU_Model'].value_counts().sort_index()"
      ]
    },
    {
      "cell_type": "code",
      "execution_count": 62,
      "metadata": {
        "colab": {
          "base_uri": "https://localhost:8080/"
        },
        "id": "FAsKXz37adao",
        "outputId": "282ad290-ffa8-4df8-8197-5f3802a5f795"
      },
      "outputs": [
        {
          "data": {
            "text/plain": [
              "(1758, 17)"
            ]
          },
          "execution_count": 62,
          "metadata": {},
          "output_type": "execute_result"
        }
      ],
      "source": [
        "cpu_not_missing.shape"
      ]
    },
    {
      "cell_type": "markdown",
      "metadata": {
        "id": "oIEwZvfKibfz"
      },
      "source": [
        "##Replacing all the missing values of CPU_Model feature\n",
        "- Calculating mean price per CPU_Model category\n",
        "- Deciding price range for each category\n",
        "- Replacing missing values based on the price range"
      ]
    },
    {
      "cell_type": "code",
      "execution_count": 63,
      "metadata": {
        "id": "JWwPKiIOhAJQ"
      },
      "outputs": [],
      "source": [
        "# Replacing original dataframe df with cpu_not_missing\n",
        "indexes = cpu_not_missing.index\n",
        "df.loc[indexes, 'CPU_Model'] = cpu_not_missing['CPU_Model']"
      ]
    },
    {
      "cell_type": "code",
      "execution_count": 64,
      "metadata": {
        "colab": {
          "base_uri": "https://localhost:8080/"
        },
        "id": "Me2zKWXOhYPh",
        "outputId": "432d9137-9148-459c-93ce-c645b92aecd7"
      },
      "outputs": [
        {
          "data": {
            "text/plain": [
              "287"
            ]
          },
          "execution_count": 64,
          "metadata": {},
          "output_type": "execute_result"
        }
      ],
      "source": [
        "df.CPU_Model.isna().sum()"
      ]
    },
    {
      "cell_type": "code",
      "execution_count": 65,
      "metadata": {
        "colab": {
          "base_uri": "https://localhost:8080/",
          "height": 397
        },
        "id": "Qwfh4ktRhmLc",
        "outputId": "51b4d580-fd08-49fb-b491-1076a7e7214d"
      },
      "outputs": [
        {
          "data": {
            "text/plain": [
              "CPU_Model\n",
              "celeron     19413.228699\n",
              "i3          38358.285172\n",
              "i5          74572.358480\n",
              "i7         126433.542747\n",
              "i9         270487.001690\n",
              "ryzen3      36464.190500\n",
              "ryzen5      50199.354203\n",
              "ryzen7      74182.018765\n",
              "ryzen9     150186.471333\n",
              "Name: Price, dtype: float64"
            ]
          },
          "execution_count": 65,
          "metadata": {},
          "output_type": "execute_result"
        }
      ],
      "source": [
        "df.groupby('CPU_Model')['Price'].mean()"
      ]
    },
    {
      "cell_type": "markdown",
      "metadata": {
        "id": "ueH9I0eQkAVz"
      },
      "source": [
        "### Looks like most of the laptop Prices maintains following correlation with CPU_Model\n",
        "- i3 : <50000\n",
        "- i5 : 50000 - 100000\n",
        "- i7 : 100000 - 200000\n",
        "- i9 : >250000\n",
        "\n",
        "###We will only use 'Core i' values family to replace missing entries since it is most famous.\n"
      ]
    },
    {
      "cell_type": "code",
      "execution_count": 66,
      "metadata": {
        "id": "WUczaRFej5Ir"
      },
      "outputs": [],
      "source": [
        "# Filtering out rows with missing CPU_Model values\n",
        "cpu_model_missing = df[df.CPU_Model.isna()]"
      ]
    },
    {
      "cell_type": "code",
      "execution_count": 67,
      "metadata": {
        "colab": {
          "base_uri": "https://localhost:8080/"
        },
        "id": "gYjf7E8lkPZ3",
        "outputId": "dbece6b4-c877-40ce-8ba0-9f5bb2239970"
      },
      "outputs": [
        {
          "name": "stderr",
          "output_type": "stream",
          "text": [
            "C:\\Program Files\\KMSpico\\temp\\ipykernel_10308\\751738060.py:4: SettingWithCopyWarning: \n",
            "A value is trying to be set on a copy of a slice from a DataFrame\n",
            "\n",
            "See the caveats in the documentation: https://pandas.pydata.org/pandas-docs/stable/user_guide/indexing.html#returning-a-view-versus-a-copy\n",
            "  cpu_model_missing.CPU_Model[i] = 'i3'\n",
            "C:\\Program Files\\KMSpico\\temp\\ipykernel_10308\\751738060.py:4: SettingWithCopyWarning: \n",
            "A value is trying to be set on a copy of a slice from a DataFrame\n",
            "\n",
            "See the caveats in the documentation: https://pandas.pydata.org/pandas-docs/stable/user_guide/indexing.html#returning-a-view-versus-a-copy\n",
            "  cpu_model_missing.CPU_Model[i] = 'i3'\n",
            "C:\\Program Files\\KMSpico\\temp\\ipykernel_10308\\751738060.py:8: SettingWithCopyWarning: \n",
            "A value is trying to be set on a copy of a slice from a DataFrame\n",
            "\n",
            "See the caveats in the documentation: https://pandas.pydata.org/pandas-docs/stable/user_guide/indexing.html#returning-a-view-versus-a-copy\n",
            "  cpu_model_missing.CPU_Model[i] = 'i7'\n",
            "C:\\Program Files\\KMSpico\\temp\\ipykernel_10308\\751738060.py:6: SettingWithCopyWarning: \n",
            "A value is trying to be set on a copy of a slice from a DataFrame\n",
            "\n",
            "See the caveats in the documentation: https://pandas.pydata.org/pandas-docs/stable/user_guide/indexing.html#returning-a-view-versus-a-copy\n",
            "  cpu_model_missing.CPU_Model[i] = 'i5'\n",
            "C:\\Program Files\\KMSpico\\temp\\ipykernel_10308\\751738060.py:4: SettingWithCopyWarning: \n",
            "A value is trying to be set on a copy of a slice from a DataFrame\n",
            "\n",
            "See the caveats in the documentation: https://pandas.pydata.org/pandas-docs/stable/user_guide/indexing.html#returning-a-view-versus-a-copy\n",
            "  cpu_model_missing.CPU_Model[i] = 'i3'\n",
            "C:\\Program Files\\KMSpico\\temp\\ipykernel_10308\\751738060.py:8: SettingWithCopyWarning: \n",
            "A value is trying to be set on a copy of a slice from a DataFrame\n",
            "\n",
            "See the caveats in the documentation: https://pandas.pydata.org/pandas-docs/stable/user_guide/indexing.html#returning-a-view-versus-a-copy\n",
            "  cpu_model_missing.CPU_Model[i] = 'i7'\n",
            "C:\\Program Files\\KMSpico\\temp\\ipykernel_10308\\751738060.py:4: SettingWithCopyWarning: \n",
            "A value is trying to be set on a copy of a slice from a DataFrame\n",
            "\n",
            "See the caveats in the documentation: https://pandas.pydata.org/pandas-docs/stable/user_guide/indexing.html#returning-a-view-versus-a-copy\n",
            "  cpu_model_missing.CPU_Model[i] = 'i3'\n",
            "C:\\Program Files\\KMSpico\\temp\\ipykernel_10308\\751738060.py:4: SettingWithCopyWarning: \n",
            "A value is trying to be set on a copy of a slice from a DataFrame\n",
            "\n",
            "See the caveats in the documentation: https://pandas.pydata.org/pandas-docs/stable/user_guide/indexing.html#returning-a-view-versus-a-copy\n",
            "  cpu_model_missing.CPU_Model[i] = 'i3'\n",
            "C:\\Program Files\\KMSpico\\temp\\ipykernel_10308\\751738060.py:8: SettingWithCopyWarning: \n",
            "A value is trying to be set on a copy of a slice from a DataFrame\n",
            "\n",
            "See the caveats in the documentation: https://pandas.pydata.org/pandas-docs/stable/user_guide/indexing.html#returning-a-view-versus-a-copy\n",
            "  cpu_model_missing.CPU_Model[i] = 'i7'\n",
            "C:\\Program Files\\KMSpico\\temp\\ipykernel_10308\\751738060.py:4: SettingWithCopyWarning: \n",
            "A value is trying to be set on a copy of a slice from a DataFrame\n",
            "\n",
            "See the caveats in the documentation: https://pandas.pydata.org/pandas-docs/stable/user_guide/indexing.html#returning-a-view-versus-a-copy\n",
            "  cpu_model_missing.CPU_Model[i] = 'i3'\n",
            "C:\\Program Files\\KMSpico\\temp\\ipykernel_10308\\751738060.py:4: SettingWithCopyWarning: \n",
            "A value is trying to be set on a copy of a slice from a DataFrame\n",
            "\n",
            "See the caveats in the documentation: https://pandas.pydata.org/pandas-docs/stable/user_guide/indexing.html#returning-a-view-versus-a-copy\n",
            "  cpu_model_missing.CPU_Model[i] = 'i3'\n",
            "C:\\Program Files\\KMSpico\\temp\\ipykernel_10308\\751738060.py:4: SettingWithCopyWarning: \n",
            "A value is trying to be set on a copy of a slice from a DataFrame\n",
            "\n",
            "See the caveats in the documentation: https://pandas.pydata.org/pandas-docs/stable/user_guide/indexing.html#returning-a-view-versus-a-copy\n",
            "  cpu_model_missing.CPU_Model[i] = 'i3'\n",
            "C:\\Program Files\\KMSpico\\temp\\ipykernel_10308\\751738060.py:4: SettingWithCopyWarning: \n",
            "A value is trying to be set on a copy of a slice from a DataFrame\n",
            "\n",
            "See the caveats in the documentation: https://pandas.pydata.org/pandas-docs/stable/user_guide/indexing.html#returning-a-view-versus-a-copy\n",
            "  cpu_model_missing.CPU_Model[i] = 'i3'\n",
            "C:\\Program Files\\KMSpico\\temp\\ipykernel_10308\\751738060.py:4: SettingWithCopyWarning: \n",
            "A value is trying to be set on a copy of a slice from a DataFrame\n",
            "\n",
            "See the caveats in the documentation: https://pandas.pydata.org/pandas-docs/stable/user_guide/indexing.html#returning-a-view-versus-a-copy\n",
            "  cpu_model_missing.CPU_Model[i] = 'i3'\n",
            "C:\\Program Files\\KMSpico\\temp\\ipykernel_10308\\751738060.py:6: SettingWithCopyWarning: \n",
            "A value is trying to be set on a copy of a slice from a DataFrame\n",
            "\n",
            "See the caveats in the documentation: https://pandas.pydata.org/pandas-docs/stable/user_guide/indexing.html#returning-a-view-versus-a-copy\n",
            "  cpu_model_missing.CPU_Model[i] = 'i5'\n",
            "C:\\Program Files\\KMSpico\\temp\\ipykernel_10308\\751738060.py:4: SettingWithCopyWarning: \n",
            "A value is trying to be set on a copy of a slice from a DataFrame\n",
            "\n",
            "See the caveats in the documentation: https://pandas.pydata.org/pandas-docs/stable/user_guide/indexing.html#returning-a-view-versus-a-copy\n",
            "  cpu_model_missing.CPU_Model[i] = 'i3'\n",
            "C:\\Program Files\\KMSpico\\temp\\ipykernel_10308\\751738060.py:4: SettingWithCopyWarning: \n",
            "A value is trying to be set on a copy of a slice from a DataFrame\n",
            "\n",
            "See the caveats in the documentation: https://pandas.pydata.org/pandas-docs/stable/user_guide/indexing.html#returning-a-view-versus-a-copy\n",
            "  cpu_model_missing.CPU_Model[i] = 'i3'\n",
            "C:\\Program Files\\KMSpico\\temp\\ipykernel_10308\\751738060.py:4: SettingWithCopyWarning: \n",
            "A value is trying to be set on a copy of a slice from a DataFrame\n",
            "\n",
            "See the caveats in the documentation: https://pandas.pydata.org/pandas-docs/stable/user_guide/indexing.html#returning-a-view-versus-a-copy\n",
            "  cpu_model_missing.CPU_Model[i] = 'i3'\n",
            "C:\\Program Files\\KMSpico\\temp\\ipykernel_10308\\751738060.py:4: SettingWithCopyWarning: \n",
            "A value is trying to be set on a copy of a slice from a DataFrame\n",
            "\n",
            "See the caveats in the documentation: https://pandas.pydata.org/pandas-docs/stable/user_guide/indexing.html#returning-a-view-versus-a-copy\n",
            "  cpu_model_missing.CPU_Model[i] = 'i3'\n",
            "C:\\Program Files\\KMSpico\\temp\\ipykernel_10308\\751738060.py:4: SettingWithCopyWarning: \n",
            "A value is trying to be set on a copy of a slice from a DataFrame\n",
            "\n",
            "See the caveats in the documentation: https://pandas.pydata.org/pandas-docs/stable/user_guide/indexing.html#returning-a-view-versus-a-copy\n",
            "  cpu_model_missing.CPU_Model[i] = 'i3'\n",
            "C:\\Program Files\\KMSpico\\temp\\ipykernel_10308\\751738060.py:4: SettingWithCopyWarning: \n",
            "A value is trying to be set on a copy of a slice from a DataFrame\n",
            "\n",
            "See the caveats in the documentation: https://pandas.pydata.org/pandas-docs/stable/user_guide/indexing.html#returning-a-view-versus-a-copy\n",
            "  cpu_model_missing.CPU_Model[i] = 'i3'\n",
            "C:\\Program Files\\KMSpico\\temp\\ipykernel_10308\\751738060.py:4: SettingWithCopyWarning: \n",
            "A value is trying to be set on a copy of a slice from a DataFrame\n",
            "\n",
            "See the caveats in the documentation: https://pandas.pydata.org/pandas-docs/stable/user_guide/indexing.html#returning-a-view-versus-a-copy\n",
            "  cpu_model_missing.CPU_Model[i] = 'i3'\n",
            "C:\\Program Files\\KMSpico\\temp\\ipykernel_10308\\751738060.py:4: SettingWithCopyWarning: \n",
            "A value is trying to be set on a copy of a slice from a DataFrame\n",
            "\n",
            "See the caveats in the documentation: https://pandas.pydata.org/pandas-docs/stable/user_guide/indexing.html#returning-a-view-versus-a-copy\n",
            "  cpu_model_missing.CPU_Model[i] = 'i3'\n",
            "C:\\Program Files\\KMSpico\\temp\\ipykernel_10308\\751738060.py:8: SettingWithCopyWarning: \n",
            "A value is trying to be set on a copy of a slice from a DataFrame\n",
            "\n",
            "See the caveats in the documentation: https://pandas.pydata.org/pandas-docs/stable/user_guide/indexing.html#returning-a-view-versus-a-copy\n",
            "  cpu_model_missing.CPU_Model[i] = 'i7'\n",
            "C:\\Program Files\\KMSpico\\temp\\ipykernel_10308\\751738060.py:4: SettingWithCopyWarning: \n",
            "A value is trying to be set on a copy of a slice from a DataFrame\n",
            "\n",
            "See the caveats in the documentation: https://pandas.pydata.org/pandas-docs/stable/user_guide/indexing.html#returning-a-view-versus-a-copy\n",
            "  cpu_model_missing.CPU_Model[i] = 'i3'\n",
            "C:\\Program Files\\KMSpico\\temp\\ipykernel_10308\\751738060.py:4: SettingWithCopyWarning: \n",
            "A value is trying to be set on a copy of a slice from a DataFrame\n",
            "\n",
            "See the caveats in the documentation: https://pandas.pydata.org/pandas-docs/stable/user_guide/indexing.html#returning-a-view-versus-a-copy\n",
            "  cpu_model_missing.CPU_Model[i] = 'i3'\n",
            "C:\\Program Files\\KMSpico\\temp\\ipykernel_10308\\751738060.py:4: SettingWithCopyWarning: \n",
            "A value is trying to be set on a copy of a slice from a DataFrame\n",
            "\n",
            "See the caveats in the documentation: https://pandas.pydata.org/pandas-docs/stable/user_guide/indexing.html#returning-a-view-versus-a-copy\n",
            "  cpu_model_missing.CPU_Model[i] = 'i3'\n",
            "C:\\Program Files\\KMSpico\\temp\\ipykernel_10308\\751738060.py:4: SettingWithCopyWarning: \n",
            "A value is trying to be set on a copy of a slice from a DataFrame\n",
            "\n",
            "See the caveats in the documentation: https://pandas.pydata.org/pandas-docs/stable/user_guide/indexing.html#returning-a-view-versus-a-copy\n",
            "  cpu_model_missing.CPU_Model[i] = 'i3'\n",
            "C:\\Program Files\\KMSpico\\temp\\ipykernel_10308\\751738060.py:4: SettingWithCopyWarning: \n",
            "A value is trying to be set on a copy of a slice from a DataFrame\n",
            "\n",
            "See the caveats in the documentation: https://pandas.pydata.org/pandas-docs/stable/user_guide/indexing.html#returning-a-view-versus-a-copy\n",
            "  cpu_model_missing.CPU_Model[i] = 'i3'\n",
            "C:\\Program Files\\KMSpico\\temp\\ipykernel_10308\\751738060.py:4: SettingWithCopyWarning: \n",
            "A value is trying to be set on a copy of a slice from a DataFrame\n",
            "\n",
            "See the caveats in the documentation: https://pandas.pydata.org/pandas-docs/stable/user_guide/indexing.html#returning-a-view-versus-a-copy\n",
            "  cpu_model_missing.CPU_Model[i] = 'i3'\n",
            "C:\\Program Files\\KMSpico\\temp\\ipykernel_10308\\751738060.py:4: SettingWithCopyWarning: \n",
            "A value is trying to be set on a copy of a slice from a DataFrame\n",
            "\n",
            "See the caveats in the documentation: https://pandas.pydata.org/pandas-docs/stable/user_guide/indexing.html#returning-a-view-versus-a-copy\n",
            "  cpu_model_missing.CPU_Model[i] = 'i3'\n",
            "C:\\Program Files\\KMSpico\\temp\\ipykernel_10308\\751738060.py:4: SettingWithCopyWarning: \n",
            "A value is trying to be set on a copy of a slice from a DataFrame\n",
            "\n",
            "See the caveats in the documentation: https://pandas.pydata.org/pandas-docs/stable/user_guide/indexing.html#returning-a-view-versus-a-copy\n",
            "  cpu_model_missing.CPU_Model[i] = 'i3'\n",
            "C:\\Program Files\\KMSpico\\temp\\ipykernel_10308\\751738060.py:4: SettingWithCopyWarning: \n",
            "A value is trying to be set on a copy of a slice from a DataFrame\n",
            "\n",
            "See the caveats in the documentation: https://pandas.pydata.org/pandas-docs/stable/user_guide/indexing.html#returning-a-view-versus-a-copy\n",
            "  cpu_model_missing.CPU_Model[i] = 'i3'\n",
            "C:\\Program Files\\KMSpico\\temp\\ipykernel_10308\\751738060.py:4: SettingWithCopyWarning: \n",
            "A value is trying to be set on a copy of a slice from a DataFrame\n",
            "\n",
            "See the caveats in the documentation: https://pandas.pydata.org/pandas-docs/stable/user_guide/indexing.html#returning-a-view-versus-a-copy\n",
            "  cpu_model_missing.CPU_Model[i] = 'i3'\n",
            "C:\\Program Files\\KMSpico\\temp\\ipykernel_10308\\751738060.py:8: SettingWithCopyWarning: \n",
            "A value is trying to be set on a copy of a slice from a DataFrame\n",
            "\n",
            "See the caveats in the documentation: https://pandas.pydata.org/pandas-docs/stable/user_guide/indexing.html#returning-a-view-versus-a-copy\n",
            "  cpu_model_missing.CPU_Model[i] = 'i7'\n",
            "C:\\Program Files\\KMSpico\\temp\\ipykernel_10308\\751738060.py:6: SettingWithCopyWarning: \n",
            "A value is trying to be set on a copy of a slice from a DataFrame\n",
            "\n",
            "See the caveats in the documentation: https://pandas.pydata.org/pandas-docs/stable/user_guide/indexing.html#returning-a-view-versus-a-copy\n",
            "  cpu_model_missing.CPU_Model[i] = 'i5'\n",
            "C:\\Program Files\\KMSpico\\temp\\ipykernel_10308\\751738060.py:10: SettingWithCopyWarning: \n",
            "A value is trying to be set on a copy of a slice from a DataFrame\n",
            "\n",
            "See the caveats in the documentation: https://pandas.pydata.org/pandas-docs/stable/user_guide/indexing.html#returning-a-view-versus-a-copy\n",
            "  cpu_model_missing.CPU_Model[i] = 'i9'\n",
            "C:\\Program Files\\KMSpico\\temp\\ipykernel_10308\\751738060.py:8: SettingWithCopyWarning: \n",
            "A value is trying to be set on a copy of a slice from a DataFrame\n",
            "\n",
            "See the caveats in the documentation: https://pandas.pydata.org/pandas-docs/stable/user_guide/indexing.html#returning-a-view-versus-a-copy\n",
            "  cpu_model_missing.CPU_Model[i] = 'i7'\n",
            "C:\\Program Files\\KMSpico\\temp\\ipykernel_10308\\751738060.py:8: SettingWithCopyWarning: \n",
            "A value is trying to be set on a copy of a slice from a DataFrame\n",
            "\n",
            "See the caveats in the documentation: https://pandas.pydata.org/pandas-docs/stable/user_guide/indexing.html#returning-a-view-versus-a-copy\n",
            "  cpu_model_missing.CPU_Model[i] = 'i7'\n",
            "C:\\Program Files\\KMSpico\\temp\\ipykernel_10308\\751738060.py:8: SettingWithCopyWarning: \n",
            "A value is trying to be set on a copy of a slice from a DataFrame\n",
            "\n",
            "See the caveats in the documentation: https://pandas.pydata.org/pandas-docs/stable/user_guide/indexing.html#returning-a-view-versus-a-copy\n",
            "  cpu_model_missing.CPU_Model[i] = 'i7'\n",
            "C:\\Program Files\\KMSpico\\temp\\ipykernel_10308\\751738060.py:10: SettingWithCopyWarning: \n",
            "A value is trying to be set on a copy of a slice from a DataFrame\n",
            "\n",
            "See the caveats in the documentation: https://pandas.pydata.org/pandas-docs/stable/user_guide/indexing.html#returning-a-view-versus-a-copy\n",
            "  cpu_model_missing.CPU_Model[i] = 'i9'\n",
            "C:\\Program Files\\KMSpico\\temp\\ipykernel_10308\\751738060.py:4: SettingWithCopyWarning: \n",
            "A value is trying to be set on a copy of a slice from a DataFrame\n",
            "\n",
            "See the caveats in the documentation: https://pandas.pydata.org/pandas-docs/stable/user_guide/indexing.html#returning-a-view-versus-a-copy\n",
            "  cpu_model_missing.CPU_Model[i] = 'i3'\n",
            "C:\\Program Files\\KMSpico\\temp\\ipykernel_10308\\751738060.py:8: SettingWithCopyWarning: \n",
            "A value is trying to be set on a copy of a slice from a DataFrame\n",
            "\n",
            "See the caveats in the documentation: https://pandas.pydata.org/pandas-docs/stable/user_guide/indexing.html#returning-a-view-versus-a-copy\n",
            "  cpu_model_missing.CPU_Model[i] = 'i7'\n",
            "C:\\Program Files\\KMSpico\\temp\\ipykernel_10308\\751738060.py:8: SettingWithCopyWarning: \n",
            "A value is trying to be set on a copy of a slice from a DataFrame\n",
            "\n",
            "See the caveats in the documentation: https://pandas.pydata.org/pandas-docs/stable/user_guide/indexing.html#returning-a-view-versus-a-copy\n",
            "  cpu_model_missing.CPU_Model[i] = 'i7'\n",
            "C:\\Program Files\\KMSpico\\temp\\ipykernel_10308\\751738060.py:8: SettingWithCopyWarning: \n",
            "A value is trying to be set on a copy of a slice from a DataFrame\n",
            "\n",
            "See the caveats in the documentation: https://pandas.pydata.org/pandas-docs/stable/user_guide/indexing.html#returning-a-view-versus-a-copy\n",
            "  cpu_model_missing.CPU_Model[i] = 'i7'\n",
            "C:\\Program Files\\KMSpico\\temp\\ipykernel_10308\\751738060.py:4: SettingWithCopyWarning: \n",
            "A value is trying to be set on a copy of a slice from a DataFrame\n",
            "\n",
            "See the caveats in the documentation: https://pandas.pydata.org/pandas-docs/stable/user_guide/indexing.html#returning-a-view-versus-a-copy\n",
            "  cpu_model_missing.CPU_Model[i] = 'i3'\n",
            "C:\\Program Files\\KMSpico\\temp\\ipykernel_10308\\751738060.py:8: SettingWithCopyWarning: \n",
            "A value is trying to be set on a copy of a slice from a DataFrame\n",
            "\n",
            "See the caveats in the documentation: https://pandas.pydata.org/pandas-docs/stable/user_guide/indexing.html#returning-a-view-versus-a-copy\n",
            "  cpu_model_missing.CPU_Model[i] = 'i7'\n",
            "C:\\Program Files\\KMSpico\\temp\\ipykernel_10308\\751738060.py:4: SettingWithCopyWarning: \n",
            "A value is trying to be set on a copy of a slice from a DataFrame\n",
            "\n",
            "See the caveats in the documentation: https://pandas.pydata.org/pandas-docs/stable/user_guide/indexing.html#returning-a-view-versus-a-copy\n",
            "  cpu_model_missing.CPU_Model[i] = 'i3'\n",
            "C:\\Program Files\\KMSpico\\temp\\ipykernel_10308\\751738060.py:4: SettingWithCopyWarning: \n",
            "A value is trying to be set on a copy of a slice from a DataFrame\n",
            "\n",
            "See the caveats in the documentation: https://pandas.pydata.org/pandas-docs/stable/user_guide/indexing.html#returning-a-view-versus-a-copy\n",
            "  cpu_model_missing.CPU_Model[i] = 'i3'\n",
            "C:\\Program Files\\KMSpico\\temp\\ipykernel_10308\\751738060.py:4: SettingWithCopyWarning: \n",
            "A value is trying to be set on a copy of a slice from a DataFrame\n",
            "\n",
            "See the caveats in the documentation: https://pandas.pydata.org/pandas-docs/stable/user_guide/indexing.html#returning-a-view-versus-a-copy\n",
            "  cpu_model_missing.CPU_Model[i] = 'i3'\n",
            "C:\\Program Files\\KMSpico\\temp\\ipykernel_10308\\751738060.py:4: SettingWithCopyWarning: \n",
            "A value is trying to be set on a copy of a slice from a DataFrame\n",
            "\n",
            "See the caveats in the documentation: https://pandas.pydata.org/pandas-docs/stable/user_guide/indexing.html#returning-a-view-versus-a-copy\n",
            "  cpu_model_missing.CPU_Model[i] = 'i3'\n",
            "C:\\Program Files\\KMSpico\\temp\\ipykernel_10308\\751738060.py:4: SettingWithCopyWarning: \n",
            "A value is trying to be set on a copy of a slice from a DataFrame\n",
            "\n",
            "See the caveats in the documentation: https://pandas.pydata.org/pandas-docs/stable/user_guide/indexing.html#returning-a-view-versus-a-copy\n",
            "  cpu_model_missing.CPU_Model[i] = 'i3'\n",
            "C:\\Program Files\\KMSpico\\temp\\ipykernel_10308\\751738060.py:4: SettingWithCopyWarning: \n",
            "A value is trying to be set on a copy of a slice from a DataFrame\n",
            "\n",
            "See the caveats in the documentation: https://pandas.pydata.org/pandas-docs/stable/user_guide/indexing.html#returning-a-view-versus-a-copy\n",
            "  cpu_model_missing.CPU_Model[i] = 'i3'\n",
            "C:\\Program Files\\KMSpico\\temp\\ipykernel_10308\\751738060.py:8: SettingWithCopyWarning: \n",
            "A value is trying to be set on a copy of a slice from a DataFrame\n",
            "\n",
            "See the caveats in the documentation: https://pandas.pydata.org/pandas-docs/stable/user_guide/indexing.html#returning-a-view-versus-a-copy\n",
            "  cpu_model_missing.CPU_Model[i] = 'i7'\n",
            "C:\\Program Files\\KMSpico\\temp\\ipykernel_10308\\751738060.py:8: SettingWithCopyWarning: \n",
            "A value is trying to be set on a copy of a slice from a DataFrame\n",
            "\n",
            "See the caveats in the documentation: https://pandas.pydata.org/pandas-docs/stable/user_guide/indexing.html#returning-a-view-versus-a-copy\n",
            "  cpu_model_missing.CPU_Model[i] = 'i7'\n",
            "C:\\Program Files\\KMSpico\\temp\\ipykernel_10308\\751738060.py:4: SettingWithCopyWarning: \n",
            "A value is trying to be set on a copy of a slice from a DataFrame\n",
            "\n",
            "See the caveats in the documentation: https://pandas.pydata.org/pandas-docs/stable/user_guide/indexing.html#returning-a-view-versus-a-copy\n",
            "  cpu_model_missing.CPU_Model[i] = 'i3'\n",
            "C:\\Program Files\\KMSpico\\temp\\ipykernel_10308\\751738060.py:4: SettingWithCopyWarning: \n",
            "A value is trying to be set on a copy of a slice from a DataFrame\n",
            "\n",
            "See the caveats in the documentation: https://pandas.pydata.org/pandas-docs/stable/user_guide/indexing.html#returning-a-view-versus-a-copy\n",
            "  cpu_model_missing.CPU_Model[i] = 'i3'\n",
            "C:\\Program Files\\KMSpico\\temp\\ipykernel_10308\\751738060.py:6: SettingWithCopyWarning: \n",
            "A value is trying to be set on a copy of a slice from a DataFrame\n",
            "\n",
            "See the caveats in the documentation: https://pandas.pydata.org/pandas-docs/stable/user_guide/indexing.html#returning-a-view-versus-a-copy\n",
            "  cpu_model_missing.CPU_Model[i] = 'i5'\n",
            "C:\\Program Files\\KMSpico\\temp\\ipykernel_10308\\751738060.py:4: SettingWithCopyWarning: \n",
            "A value is trying to be set on a copy of a slice from a DataFrame\n",
            "\n",
            "See the caveats in the documentation: https://pandas.pydata.org/pandas-docs/stable/user_guide/indexing.html#returning-a-view-versus-a-copy\n",
            "  cpu_model_missing.CPU_Model[i] = 'i3'\n",
            "C:\\Program Files\\KMSpico\\temp\\ipykernel_10308\\751738060.py:4: SettingWithCopyWarning: \n",
            "A value is trying to be set on a copy of a slice from a DataFrame\n",
            "\n",
            "See the caveats in the documentation: https://pandas.pydata.org/pandas-docs/stable/user_guide/indexing.html#returning-a-view-versus-a-copy\n",
            "  cpu_model_missing.CPU_Model[i] = 'i3'\n",
            "C:\\Program Files\\KMSpico\\temp\\ipykernel_10308\\751738060.py:6: SettingWithCopyWarning: \n",
            "A value is trying to be set on a copy of a slice from a DataFrame\n",
            "\n",
            "See the caveats in the documentation: https://pandas.pydata.org/pandas-docs/stable/user_guide/indexing.html#returning-a-view-versus-a-copy\n",
            "  cpu_model_missing.CPU_Model[i] = 'i5'\n",
            "C:\\Program Files\\KMSpico\\temp\\ipykernel_10308\\751738060.py:4: SettingWithCopyWarning: \n",
            "A value is trying to be set on a copy of a slice from a DataFrame\n",
            "\n",
            "See the caveats in the documentation: https://pandas.pydata.org/pandas-docs/stable/user_guide/indexing.html#returning-a-view-versus-a-copy\n",
            "  cpu_model_missing.CPU_Model[i] = 'i3'\n",
            "C:\\Program Files\\KMSpico\\temp\\ipykernel_10308\\751738060.py:4: SettingWithCopyWarning: \n",
            "A value is trying to be set on a copy of a slice from a DataFrame\n",
            "\n",
            "See the caveats in the documentation: https://pandas.pydata.org/pandas-docs/stable/user_guide/indexing.html#returning-a-view-versus-a-copy\n",
            "  cpu_model_missing.CPU_Model[i] = 'i3'\n",
            "C:\\Program Files\\KMSpico\\temp\\ipykernel_10308\\751738060.py:4: SettingWithCopyWarning: \n",
            "A value is trying to be set on a copy of a slice from a DataFrame\n",
            "\n",
            "See the caveats in the documentation: https://pandas.pydata.org/pandas-docs/stable/user_guide/indexing.html#returning-a-view-versus-a-copy\n",
            "  cpu_model_missing.CPU_Model[i] = 'i3'\n",
            "C:\\Program Files\\KMSpico\\temp\\ipykernel_10308\\751738060.py:8: SettingWithCopyWarning: \n",
            "A value is trying to be set on a copy of a slice from a DataFrame\n",
            "\n",
            "See the caveats in the documentation: https://pandas.pydata.org/pandas-docs/stable/user_guide/indexing.html#returning-a-view-versus-a-copy\n",
            "  cpu_model_missing.CPU_Model[i] = 'i7'\n",
            "C:\\Program Files\\KMSpico\\temp\\ipykernel_10308\\751738060.py:6: SettingWithCopyWarning: \n",
            "A value is trying to be set on a copy of a slice from a DataFrame\n",
            "\n",
            "See the caveats in the documentation: https://pandas.pydata.org/pandas-docs/stable/user_guide/indexing.html#returning-a-view-versus-a-copy\n",
            "  cpu_model_missing.CPU_Model[i] = 'i5'\n",
            "C:\\Program Files\\KMSpico\\temp\\ipykernel_10308\\751738060.py:4: SettingWithCopyWarning: \n",
            "A value is trying to be set on a copy of a slice from a DataFrame\n",
            "\n",
            "See the caveats in the documentation: https://pandas.pydata.org/pandas-docs/stable/user_guide/indexing.html#returning-a-view-versus-a-copy\n",
            "  cpu_model_missing.CPU_Model[i] = 'i3'\n",
            "C:\\Program Files\\KMSpico\\temp\\ipykernel_10308\\751738060.py:4: SettingWithCopyWarning: \n",
            "A value is trying to be set on a copy of a slice from a DataFrame\n",
            "\n",
            "See the caveats in the documentation: https://pandas.pydata.org/pandas-docs/stable/user_guide/indexing.html#returning-a-view-versus-a-copy\n",
            "  cpu_model_missing.CPU_Model[i] = 'i3'\n",
            "C:\\Program Files\\KMSpico\\temp\\ipykernel_10308\\751738060.py:4: SettingWithCopyWarning: \n",
            "A value is trying to be set on a copy of a slice from a DataFrame\n",
            "\n",
            "See the caveats in the documentation: https://pandas.pydata.org/pandas-docs/stable/user_guide/indexing.html#returning-a-view-versus-a-copy\n",
            "  cpu_model_missing.CPU_Model[i] = 'i3'\n",
            "C:\\Program Files\\KMSpico\\temp\\ipykernel_10308\\751738060.py:4: SettingWithCopyWarning: \n",
            "A value is trying to be set on a copy of a slice from a DataFrame\n",
            "\n",
            "See the caveats in the documentation: https://pandas.pydata.org/pandas-docs/stable/user_guide/indexing.html#returning-a-view-versus-a-copy\n",
            "  cpu_model_missing.CPU_Model[i] = 'i3'\n",
            "C:\\Program Files\\KMSpico\\temp\\ipykernel_10308\\751738060.py:4: SettingWithCopyWarning: \n",
            "A value is trying to be set on a copy of a slice from a DataFrame\n",
            "\n",
            "See the caveats in the documentation: https://pandas.pydata.org/pandas-docs/stable/user_guide/indexing.html#returning-a-view-versus-a-copy\n",
            "  cpu_model_missing.CPU_Model[i] = 'i3'\n",
            "C:\\Program Files\\KMSpico\\temp\\ipykernel_10308\\751738060.py:4: SettingWithCopyWarning: \n",
            "A value is trying to be set on a copy of a slice from a DataFrame\n",
            "\n",
            "See the caveats in the documentation: https://pandas.pydata.org/pandas-docs/stable/user_guide/indexing.html#returning-a-view-versus-a-copy\n",
            "  cpu_model_missing.CPU_Model[i] = 'i3'\n",
            "C:\\Program Files\\KMSpico\\temp\\ipykernel_10308\\751738060.py:4: SettingWithCopyWarning: \n",
            "A value is trying to be set on a copy of a slice from a DataFrame\n",
            "\n",
            "See the caveats in the documentation: https://pandas.pydata.org/pandas-docs/stable/user_guide/indexing.html#returning-a-view-versus-a-copy\n",
            "  cpu_model_missing.CPU_Model[i] = 'i3'\n",
            "C:\\Program Files\\KMSpico\\temp\\ipykernel_10308\\751738060.py:4: SettingWithCopyWarning: \n",
            "A value is trying to be set on a copy of a slice from a DataFrame\n",
            "\n",
            "See the caveats in the documentation: https://pandas.pydata.org/pandas-docs/stable/user_guide/indexing.html#returning-a-view-versus-a-copy\n",
            "  cpu_model_missing.CPU_Model[i] = 'i3'\n",
            "C:\\Program Files\\KMSpico\\temp\\ipykernel_10308\\751738060.py:4: SettingWithCopyWarning: \n",
            "A value is trying to be set on a copy of a slice from a DataFrame\n",
            "\n",
            "See the caveats in the documentation: https://pandas.pydata.org/pandas-docs/stable/user_guide/indexing.html#returning-a-view-versus-a-copy\n",
            "  cpu_model_missing.CPU_Model[i] = 'i3'\n",
            "C:\\Program Files\\KMSpico\\temp\\ipykernel_10308\\751738060.py:4: SettingWithCopyWarning: \n",
            "A value is trying to be set on a copy of a slice from a DataFrame\n",
            "\n",
            "See the caveats in the documentation: https://pandas.pydata.org/pandas-docs/stable/user_guide/indexing.html#returning-a-view-versus-a-copy\n",
            "  cpu_model_missing.CPU_Model[i] = 'i3'\n",
            "C:\\Program Files\\KMSpico\\temp\\ipykernel_10308\\751738060.py:4: SettingWithCopyWarning: \n",
            "A value is trying to be set on a copy of a slice from a DataFrame\n",
            "\n",
            "See the caveats in the documentation: https://pandas.pydata.org/pandas-docs/stable/user_guide/indexing.html#returning-a-view-versus-a-copy\n",
            "  cpu_model_missing.CPU_Model[i] = 'i3'\n",
            "C:\\Program Files\\KMSpico\\temp\\ipykernel_10308\\751738060.py:4: SettingWithCopyWarning: \n",
            "A value is trying to be set on a copy of a slice from a DataFrame\n",
            "\n",
            "See the caveats in the documentation: https://pandas.pydata.org/pandas-docs/stable/user_guide/indexing.html#returning-a-view-versus-a-copy\n",
            "  cpu_model_missing.CPU_Model[i] = 'i3'\n",
            "C:\\Program Files\\KMSpico\\temp\\ipykernel_10308\\751738060.py:4: SettingWithCopyWarning: \n",
            "A value is trying to be set on a copy of a slice from a DataFrame\n",
            "\n",
            "See the caveats in the documentation: https://pandas.pydata.org/pandas-docs/stable/user_guide/indexing.html#returning-a-view-versus-a-copy\n",
            "  cpu_model_missing.CPU_Model[i] = 'i3'\n",
            "C:\\Program Files\\KMSpico\\temp\\ipykernel_10308\\751738060.py:4: SettingWithCopyWarning: \n",
            "A value is trying to be set on a copy of a slice from a DataFrame\n",
            "\n",
            "See the caveats in the documentation: https://pandas.pydata.org/pandas-docs/stable/user_guide/indexing.html#returning-a-view-versus-a-copy\n",
            "  cpu_model_missing.CPU_Model[i] = 'i3'\n",
            "C:\\Program Files\\KMSpico\\temp\\ipykernel_10308\\751738060.py:4: SettingWithCopyWarning: \n",
            "A value is trying to be set on a copy of a slice from a DataFrame\n",
            "\n",
            "See the caveats in the documentation: https://pandas.pydata.org/pandas-docs/stable/user_guide/indexing.html#returning-a-view-versus-a-copy\n",
            "  cpu_model_missing.CPU_Model[i] = 'i3'\n",
            "C:\\Program Files\\KMSpico\\temp\\ipykernel_10308\\751738060.py:4: SettingWithCopyWarning: \n",
            "A value is trying to be set on a copy of a slice from a DataFrame\n",
            "\n",
            "See the caveats in the documentation: https://pandas.pydata.org/pandas-docs/stable/user_guide/indexing.html#returning-a-view-versus-a-copy\n",
            "  cpu_model_missing.CPU_Model[i] = 'i3'\n",
            "C:\\Program Files\\KMSpico\\temp\\ipykernel_10308\\751738060.py:4: SettingWithCopyWarning: \n",
            "A value is trying to be set on a copy of a slice from a DataFrame\n",
            "\n",
            "See the caveats in the documentation: https://pandas.pydata.org/pandas-docs/stable/user_guide/indexing.html#returning-a-view-versus-a-copy\n",
            "  cpu_model_missing.CPU_Model[i] = 'i3'\n",
            "C:\\Program Files\\KMSpico\\temp\\ipykernel_10308\\751738060.py:4: SettingWithCopyWarning: \n",
            "A value is trying to be set on a copy of a slice from a DataFrame\n",
            "\n",
            "See the caveats in the documentation: https://pandas.pydata.org/pandas-docs/stable/user_guide/indexing.html#returning-a-view-versus-a-copy\n",
            "  cpu_model_missing.CPU_Model[i] = 'i3'\n",
            "C:\\Program Files\\KMSpico\\temp\\ipykernel_10308\\751738060.py:4: SettingWithCopyWarning: \n",
            "A value is trying to be set on a copy of a slice from a DataFrame\n",
            "\n",
            "See the caveats in the documentation: https://pandas.pydata.org/pandas-docs/stable/user_guide/indexing.html#returning-a-view-versus-a-copy\n",
            "  cpu_model_missing.CPU_Model[i] = 'i3'\n",
            "C:\\Program Files\\KMSpico\\temp\\ipykernel_10308\\751738060.py:4: SettingWithCopyWarning: \n",
            "A value is trying to be set on a copy of a slice from a DataFrame\n",
            "\n",
            "See the caveats in the documentation: https://pandas.pydata.org/pandas-docs/stable/user_guide/indexing.html#returning-a-view-versus-a-copy\n",
            "  cpu_model_missing.CPU_Model[i] = 'i3'\n",
            "C:\\Program Files\\KMSpico\\temp\\ipykernel_10308\\751738060.py:4: SettingWithCopyWarning: \n",
            "A value is trying to be set on a copy of a slice from a DataFrame\n",
            "\n",
            "See the caveats in the documentation: https://pandas.pydata.org/pandas-docs/stable/user_guide/indexing.html#returning-a-view-versus-a-copy\n",
            "  cpu_model_missing.CPU_Model[i] = 'i3'\n",
            "C:\\Program Files\\KMSpico\\temp\\ipykernel_10308\\751738060.py:4: SettingWithCopyWarning: \n",
            "A value is trying to be set on a copy of a slice from a DataFrame\n",
            "\n",
            "See the caveats in the documentation: https://pandas.pydata.org/pandas-docs/stable/user_guide/indexing.html#returning-a-view-versus-a-copy\n",
            "  cpu_model_missing.CPU_Model[i] = 'i3'\n",
            "C:\\Program Files\\KMSpico\\temp\\ipykernel_10308\\751738060.py:4: SettingWithCopyWarning: \n",
            "A value is trying to be set on a copy of a slice from a DataFrame\n",
            "\n",
            "See the caveats in the documentation: https://pandas.pydata.org/pandas-docs/stable/user_guide/indexing.html#returning-a-view-versus-a-copy\n",
            "  cpu_model_missing.CPU_Model[i] = 'i3'\n",
            "C:\\Program Files\\KMSpico\\temp\\ipykernel_10308\\751738060.py:4: SettingWithCopyWarning: \n",
            "A value is trying to be set on a copy of a slice from a DataFrame\n",
            "\n",
            "See the caveats in the documentation: https://pandas.pydata.org/pandas-docs/stable/user_guide/indexing.html#returning-a-view-versus-a-copy\n",
            "  cpu_model_missing.CPU_Model[i] = 'i3'\n",
            "C:\\Program Files\\KMSpico\\temp\\ipykernel_10308\\751738060.py:4: SettingWithCopyWarning: \n",
            "A value is trying to be set on a copy of a slice from a DataFrame\n",
            "\n",
            "See the caveats in the documentation: https://pandas.pydata.org/pandas-docs/stable/user_guide/indexing.html#returning-a-view-versus-a-copy\n",
            "  cpu_model_missing.CPU_Model[i] = 'i3'\n",
            "C:\\Program Files\\KMSpico\\temp\\ipykernel_10308\\751738060.py:6: SettingWithCopyWarning: \n",
            "A value is trying to be set on a copy of a slice from a DataFrame\n",
            "\n",
            "See the caveats in the documentation: https://pandas.pydata.org/pandas-docs/stable/user_guide/indexing.html#returning-a-view-versus-a-copy\n",
            "  cpu_model_missing.CPU_Model[i] = 'i5'\n",
            "C:\\Program Files\\KMSpico\\temp\\ipykernel_10308\\751738060.py:4: SettingWithCopyWarning: \n",
            "A value is trying to be set on a copy of a slice from a DataFrame\n",
            "\n",
            "See the caveats in the documentation: https://pandas.pydata.org/pandas-docs/stable/user_guide/indexing.html#returning-a-view-versus-a-copy\n",
            "  cpu_model_missing.CPU_Model[i] = 'i3'\n",
            "C:\\Program Files\\KMSpico\\temp\\ipykernel_10308\\751738060.py:4: SettingWithCopyWarning: \n",
            "A value is trying to be set on a copy of a slice from a DataFrame\n",
            "\n",
            "See the caveats in the documentation: https://pandas.pydata.org/pandas-docs/stable/user_guide/indexing.html#returning-a-view-versus-a-copy\n",
            "  cpu_model_missing.CPU_Model[i] = 'i3'\n",
            "C:\\Program Files\\KMSpico\\temp\\ipykernel_10308\\751738060.py:4: SettingWithCopyWarning: \n",
            "A value is trying to be set on a copy of a slice from a DataFrame\n",
            "\n",
            "See the caveats in the documentation: https://pandas.pydata.org/pandas-docs/stable/user_guide/indexing.html#returning-a-view-versus-a-copy\n",
            "  cpu_model_missing.CPU_Model[i] = 'i3'\n",
            "C:\\Program Files\\KMSpico\\temp\\ipykernel_10308\\751738060.py:4: SettingWithCopyWarning: \n",
            "A value is trying to be set on a copy of a slice from a DataFrame\n",
            "\n",
            "See the caveats in the documentation: https://pandas.pydata.org/pandas-docs/stable/user_guide/indexing.html#returning-a-view-versus-a-copy\n",
            "  cpu_model_missing.CPU_Model[i] = 'i3'\n",
            "C:\\Program Files\\KMSpico\\temp\\ipykernel_10308\\751738060.py:4: SettingWithCopyWarning: \n",
            "A value is trying to be set on a copy of a slice from a DataFrame\n",
            "\n",
            "See the caveats in the documentation: https://pandas.pydata.org/pandas-docs/stable/user_guide/indexing.html#returning-a-view-versus-a-copy\n",
            "  cpu_model_missing.CPU_Model[i] = 'i3'\n",
            "C:\\Program Files\\KMSpico\\temp\\ipykernel_10308\\751738060.py:4: SettingWithCopyWarning: \n",
            "A value is trying to be set on a copy of a slice from a DataFrame\n",
            "\n",
            "See the caveats in the documentation: https://pandas.pydata.org/pandas-docs/stable/user_guide/indexing.html#returning-a-view-versus-a-copy\n",
            "  cpu_model_missing.CPU_Model[i] = 'i3'\n",
            "C:\\Program Files\\KMSpico\\temp\\ipykernel_10308\\751738060.py:4: SettingWithCopyWarning: \n",
            "A value is trying to be set on a copy of a slice from a DataFrame\n",
            "\n",
            "See the caveats in the documentation: https://pandas.pydata.org/pandas-docs/stable/user_guide/indexing.html#returning-a-view-versus-a-copy\n",
            "  cpu_model_missing.CPU_Model[i] = 'i3'\n",
            "C:\\Program Files\\KMSpico\\temp\\ipykernel_10308\\751738060.py:4: SettingWithCopyWarning: \n",
            "A value is trying to be set on a copy of a slice from a DataFrame\n",
            "\n",
            "See the caveats in the documentation: https://pandas.pydata.org/pandas-docs/stable/user_guide/indexing.html#returning-a-view-versus-a-copy\n",
            "  cpu_model_missing.CPU_Model[i] = 'i3'\n",
            "C:\\Program Files\\KMSpico\\temp\\ipykernel_10308\\751738060.py:4: SettingWithCopyWarning: \n",
            "A value is trying to be set on a copy of a slice from a DataFrame\n",
            "\n",
            "See the caveats in the documentation: https://pandas.pydata.org/pandas-docs/stable/user_guide/indexing.html#returning-a-view-versus-a-copy\n",
            "  cpu_model_missing.CPU_Model[i] = 'i3'\n",
            "C:\\Program Files\\KMSpico\\temp\\ipykernel_10308\\751738060.py:4: SettingWithCopyWarning: \n",
            "A value is trying to be set on a copy of a slice from a DataFrame\n",
            "\n",
            "See the caveats in the documentation: https://pandas.pydata.org/pandas-docs/stable/user_guide/indexing.html#returning-a-view-versus-a-copy\n",
            "  cpu_model_missing.CPU_Model[i] = 'i3'\n",
            "C:\\Program Files\\KMSpico\\temp\\ipykernel_10308\\751738060.py:4: SettingWithCopyWarning: \n",
            "A value is trying to be set on a copy of a slice from a DataFrame\n",
            "\n",
            "See the caveats in the documentation: https://pandas.pydata.org/pandas-docs/stable/user_guide/indexing.html#returning-a-view-versus-a-copy\n",
            "  cpu_model_missing.CPU_Model[i] = 'i3'\n",
            "C:\\Program Files\\KMSpico\\temp\\ipykernel_10308\\751738060.py:4: SettingWithCopyWarning: \n",
            "A value is trying to be set on a copy of a slice from a DataFrame\n",
            "\n",
            "See the caveats in the documentation: https://pandas.pydata.org/pandas-docs/stable/user_guide/indexing.html#returning-a-view-versus-a-copy\n",
            "  cpu_model_missing.CPU_Model[i] = 'i3'\n",
            "C:\\Program Files\\KMSpico\\temp\\ipykernel_10308\\751738060.py:4: SettingWithCopyWarning: \n",
            "A value is trying to be set on a copy of a slice from a DataFrame\n",
            "\n",
            "See the caveats in the documentation: https://pandas.pydata.org/pandas-docs/stable/user_guide/indexing.html#returning-a-view-versus-a-copy\n",
            "  cpu_model_missing.CPU_Model[i] = 'i3'\n",
            "C:\\Program Files\\KMSpico\\temp\\ipykernel_10308\\751738060.py:6: SettingWithCopyWarning: \n",
            "A value is trying to be set on a copy of a slice from a DataFrame\n",
            "\n",
            "See the caveats in the documentation: https://pandas.pydata.org/pandas-docs/stable/user_guide/indexing.html#returning-a-view-versus-a-copy\n",
            "  cpu_model_missing.CPU_Model[i] = 'i5'\n",
            "C:\\Program Files\\KMSpico\\temp\\ipykernel_10308\\751738060.py:6: SettingWithCopyWarning: \n",
            "A value is trying to be set on a copy of a slice from a DataFrame\n",
            "\n",
            "See the caveats in the documentation: https://pandas.pydata.org/pandas-docs/stable/user_guide/indexing.html#returning-a-view-versus-a-copy\n",
            "  cpu_model_missing.CPU_Model[i] = 'i5'\n",
            "C:\\Program Files\\KMSpico\\temp\\ipykernel_10308\\751738060.py:8: SettingWithCopyWarning: \n",
            "A value is trying to be set on a copy of a slice from a DataFrame\n",
            "\n",
            "See the caveats in the documentation: https://pandas.pydata.org/pandas-docs/stable/user_guide/indexing.html#returning-a-view-versus-a-copy\n",
            "  cpu_model_missing.CPU_Model[i] = 'i7'\n",
            "C:\\Program Files\\KMSpico\\temp\\ipykernel_10308\\751738060.py:8: SettingWithCopyWarning: \n",
            "A value is trying to be set on a copy of a slice from a DataFrame\n",
            "\n",
            "See the caveats in the documentation: https://pandas.pydata.org/pandas-docs/stable/user_guide/indexing.html#returning-a-view-versus-a-copy\n",
            "  cpu_model_missing.CPU_Model[i] = 'i7'\n",
            "C:\\Program Files\\KMSpico\\temp\\ipykernel_10308\\751738060.py:8: SettingWithCopyWarning: \n",
            "A value is trying to be set on a copy of a slice from a DataFrame\n",
            "\n",
            "See the caveats in the documentation: https://pandas.pydata.org/pandas-docs/stable/user_guide/indexing.html#returning-a-view-versus-a-copy\n",
            "  cpu_model_missing.CPU_Model[i] = 'i7'\n",
            "C:\\Program Files\\KMSpico\\temp\\ipykernel_10308\\751738060.py:8: SettingWithCopyWarning: \n",
            "A value is trying to be set on a copy of a slice from a DataFrame\n",
            "\n",
            "See the caveats in the documentation: https://pandas.pydata.org/pandas-docs/stable/user_guide/indexing.html#returning-a-view-versus-a-copy\n",
            "  cpu_model_missing.CPU_Model[i] = 'i7'\n",
            "C:\\Program Files\\KMSpico\\temp\\ipykernel_10308\\751738060.py:4: SettingWithCopyWarning: \n",
            "A value is trying to be set on a copy of a slice from a DataFrame\n",
            "\n",
            "See the caveats in the documentation: https://pandas.pydata.org/pandas-docs/stable/user_guide/indexing.html#returning-a-view-versus-a-copy\n",
            "  cpu_model_missing.CPU_Model[i] = 'i3'\n",
            "C:\\Program Files\\KMSpico\\temp\\ipykernel_10308\\751738060.py:8: SettingWithCopyWarning: \n",
            "A value is trying to be set on a copy of a slice from a DataFrame\n",
            "\n",
            "See the caveats in the documentation: https://pandas.pydata.org/pandas-docs/stable/user_guide/indexing.html#returning-a-view-versus-a-copy\n",
            "  cpu_model_missing.CPU_Model[i] = 'i7'\n",
            "C:\\Program Files\\KMSpico\\temp\\ipykernel_10308\\751738060.py:8: SettingWithCopyWarning: \n",
            "A value is trying to be set on a copy of a slice from a DataFrame\n",
            "\n",
            "See the caveats in the documentation: https://pandas.pydata.org/pandas-docs/stable/user_guide/indexing.html#returning-a-view-versus-a-copy\n",
            "  cpu_model_missing.CPU_Model[i] = 'i7'\n",
            "C:\\Program Files\\KMSpico\\temp\\ipykernel_10308\\751738060.py:4: SettingWithCopyWarning: \n",
            "A value is trying to be set on a copy of a slice from a DataFrame\n",
            "\n",
            "See the caveats in the documentation: https://pandas.pydata.org/pandas-docs/stable/user_guide/indexing.html#returning-a-view-versus-a-copy\n",
            "  cpu_model_missing.CPU_Model[i] = 'i3'\n",
            "C:\\Program Files\\KMSpico\\temp\\ipykernel_10308\\751738060.py:8: SettingWithCopyWarning: \n",
            "A value is trying to be set on a copy of a slice from a DataFrame\n",
            "\n",
            "See the caveats in the documentation: https://pandas.pydata.org/pandas-docs/stable/user_guide/indexing.html#returning-a-view-versus-a-copy\n",
            "  cpu_model_missing.CPU_Model[i] = 'i7'\n",
            "C:\\Program Files\\KMSpico\\temp\\ipykernel_10308\\751738060.py:10: SettingWithCopyWarning: \n",
            "A value is trying to be set on a copy of a slice from a DataFrame\n",
            "\n",
            "See the caveats in the documentation: https://pandas.pydata.org/pandas-docs/stable/user_guide/indexing.html#returning-a-view-versus-a-copy\n",
            "  cpu_model_missing.CPU_Model[i] = 'i9'\n",
            "C:\\Program Files\\KMSpico\\temp\\ipykernel_10308\\751738060.py:10: SettingWithCopyWarning: \n",
            "A value is trying to be set on a copy of a slice from a DataFrame\n",
            "\n",
            "See the caveats in the documentation: https://pandas.pydata.org/pandas-docs/stable/user_guide/indexing.html#returning-a-view-versus-a-copy\n",
            "  cpu_model_missing.CPU_Model[i] = 'i9'\n",
            "C:\\Program Files\\KMSpico\\temp\\ipykernel_10308\\751738060.py:8: SettingWithCopyWarning: \n",
            "A value is trying to be set on a copy of a slice from a DataFrame\n",
            "\n",
            "See the caveats in the documentation: https://pandas.pydata.org/pandas-docs/stable/user_guide/indexing.html#returning-a-view-versus-a-copy\n",
            "  cpu_model_missing.CPU_Model[i] = 'i7'\n",
            "C:\\Program Files\\KMSpico\\temp\\ipykernel_10308\\751738060.py:10: SettingWithCopyWarning: \n",
            "A value is trying to be set on a copy of a slice from a DataFrame\n",
            "\n",
            "See the caveats in the documentation: https://pandas.pydata.org/pandas-docs/stable/user_guide/indexing.html#returning-a-view-versus-a-copy\n",
            "  cpu_model_missing.CPU_Model[i] = 'i9'\n",
            "C:\\Program Files\\KMSpico\\temp\\ipykernel_10308\\751738060.py:8: SettingWithCopyWarning: \n",
            "A value is trying to be set on a copy of a slice from a DataFrame\n",
            "\n",
            "See the caveats in the documentation: https://pandas.pydata.org/pandas-docs/stable/user_guide/indexing.html#returning-a-view-versus-a-copy\n",
            "  cpu_model_missing.CPU_Model[i] = 'i7'\n",
            "C:\\Program Files\\KMSpico\\temp\\ipykernel_10308\\751738060.py:10: SettingWithCopyWarning: \n",
            "A value is trying to be set on a copy of a slice from a DataFrame\n",
            "\n",
            "See the caveats in the documentation: https://pandas.pydata.org/pandas-docs/stable/user_guide/indexing.html#returning-a-view-versus-a-copy\n",
            "  cpu_model_missing.CPU_Model[i] = 'i9'\n",
            "C:\\Program Files\\KMSpico\\temp\\ipykernel_10308\\751738060.py:8: SettingWithCopyWarning: \n",
            "A value is trying to be set on a copy of a slice from a DataFrame\n",
            "\n",
            "See the caveats in the documentation: https://pandas.pydata.org/pandas-docs/stable/user_guide/indexing.html#returning-a-view-versus-a-copy\n",
            "  cpu_model_missing.CPU_Model[i] = 'i7'\n",
            "C:\\Program Files\\KMSpico\\temp\\ipykernel_10308\\751738060.py:8: SettingWithCopyWarning: \n",
            "A value is trying to be set on a copy of a slice from a DataFrame\n",
            "\n",
            "See the caveats in the documentation: https://pandas.pydata.org/pandas-docs/stable/user_guide/indexing.html#returning-a-view-versus-a-copy\n",
            "  cpu_model_missing.CPU_Model[i] = 'i7'\n",
            "C:\\Program Files\\KMSpico\\temp\\ipykernel_10308\\751738060.py:8: SettingWithCopyWarning: \n",
            "A value is trying to be set on a copy of a slice from a DataFrame\n",
            "\n",
            "See the caveats in the documentation: https://pandas.pydata.org/pandas-docs/stable/user_guide/indexing.html#returning-a-view-versus-a-copy\n",
            "  cpu_model_missing.CPU_Model[i] = 'i7'\n",
            "C:\\Program Files\\KMSpico\\temp\\ipykernel_10308\\751738060.py:8: SettingWithCopyWarning: \n",
            "A value is trying to be set on a copy of a slice from a DataFrame\n",
            "\n",
            "See the caveats in the documentation: https://pandas.pydata.org/pandas-docs/stable/user_guide/indexing.html#returning-a-view-versus-a-copy\n",
            "  cpu_model_missing.CPU_Model[i] = 'i7'\n",
            "C:\\Program Files\\KMSpico\\temp\\ipykernel_10308\\751738060.py:10: SettingWithCopyWarning: \n",
            "A value is trying to be set on a copy of a slice from a DataFrame\n",
            "\n",
            "See the caveats in the documentation: https://pandas.pydata.org/pandas-docs/stable/user_guide/indexing.html#returning-a-view-versus-a-copy\n",
            "  cpu_model_missing.CPU_Model[i] = 'i9'\n",
            "C:\\Program Files\\KMSpico\\temp\\ipykernel_10308\\751738060.py:8: SettingWithCopyWarning: \n",
            "A value is trying to be set on a copy of a slice from a DataFrame\n",
            "\n",
            "See the caveats in the documentation: https://pandas.pydata.org/pandas-docs/stable/user_guide/indexing.html#returning-a-view-versus-a-copy\n",
            "  cpu_model_missing.CPU_Model[i] = 'i7'\n",
            "C:\\Program Files\\KMSpico\\temp\\ipykernel_10308\\751738060.py:8: SettingWithCopyWarning: \n",
            "A value is trying to be set on a copy of a slice from a DataFrame\n",
            "\n",
            "See the caveats in the documentation: https://pandas.pydata.org/pandas-docs/stable/user_guide/indexing.html#returning-a-view-versus-a-copy\n",
            "  cpu_model_missing.CPU_Model[i] = 'i7'\n",
            "C:\\Program Files\\KMSpico\\temp\\ipykernel_10308\\751738060.py:10: SettingWithCopyWarning: \n",
            "A value is trying to be set on a copy of a slice from a DataFrame\n",
            "\n",
            "See the caveats in the documentation: https://pandas.pydata.org/pandas-docs/stable/user_guide/indexing.html#returning-a-view-versus-a-copy\n",
            "  cpu_model_missing.CPU_Model[i] = 'i9'\n",
            "C:\\Program Files\\KMSpico\\temp\\ipykernel_10308\\751738060.py:10: SettingWithCopyWarning: \n",
            "A value is trying to be set on a copy of a slice from a DataFrame\n",
            "\n",
            "See the caveats in the documentation: https://pandas.pydata.org/pandas-docs/stable/user_guide/indexing.html#returning-a-view-versus-a-copy\n",
            "  cpu_model_missing.CPU_Model[i] = 'i9'\n",
            "C:\\Program Files\\KMSpico\\temp\\ipykernel_10308\\751738060.py:10: SettingWithCopyWarning: \n",
            "A value is trying to be set on a copy of a slice from a DataFrame\n",
            "\n",
            "See the caveats in the documentation: https://pandas.pydata.org/pandas-docs/stable/user_guide/indexing.html#returning-a-view-versus-a-copy\n",
            "  cpu_model_missing.CPU_Model[i] = 'i9'\n",
            "C:\\Program Files\\KMSpico\\temp\\ipykernel_10308\\751738060.py:10: SettingWithCopyWarning: \n",
            "A value is trying to be set on a copy of a slice from a DataFrame\n",
            "\n",
            "See the caveats in the documentation: https://pandas.pydata.org/pandas-docs/stable/user_guide/indexing.html#returning-a-view-versus-a-copy\n",
            "  cpu_model_missing.CPU_Model[i] = 'i9'\n",
            "C:\\Program Files\\KMSpico\\temp\\ipykernel_10308\\751738060.py:10: SettingWithCopyWarning: \n",
            "A value is trying to be set on a copy of a slice from a DataFrame\n",
            "\n",
            "See the caveats in the documentation: https://pandas.pydata.org/pandas-docs/stable/user_guide/indexing.html#returning-a-view-versus-a-copy\n",
            "  cpu_model_missing.CPU_Model[i] = 'i9'\n",
            "C:\\Program Files\\KMSpico\\temp\\ipykernel_10308\\751738060.py:8: SettingWithCopyWarning: \n",
            "A value is trying to be set on a copy of a slice from a DataFrame\n",
            "\n",
            "See the caveats in the documentation: https://pandas.pydata.org/pandas-docs/stable/user_guide/indexing.html#returning-a-view-versus-a-copy\n",
            "  cpu_model_missing.CPU_Model[i] = 'i7'\n",
            "C:\\Program Files\\KMSpico\\temp\\ipykernel_10308\\751738060.py:8: SettingWithCopyWarning: \n",
            "A value is trying to be set on a copy of a slice from a DataFrame\n",
            "\n",
            "See the caveats in the documentation: https://pandas.pydata.org/pandas-docs/stable/user_guide/indexing.html#returning-a-view-versus-a-copy\n",
            "  cpu_model_missing.CPU_Model[i] = 'i7'\n",
            "C:\\Program Files\\KMSpico\\temp\\ipykernel_10308\\751738060.py:8: SettingWithCopyWarning: \n",
            "A value is trying to be set on a copy of a slice from a DataFrame\n",
            "\n",
            "See the caveats in the documentation: https://pandas.pydata.org/pandas-docs/stable/user_guide/indexing.html#returning-a-view-versus-a-copy\n",
            "  cpu_model_missing.CPU_Model[i] = 'i7'\n",
            "C:\\Program Files\\KMSpico\\temp\\ipykernel_10308\\751738060.py:8: SettingWithCopyWarning: \n",
            "A value is trying to be set on a copy of a slice from a DataFrame\n",
            "\n",
            "See the caveats in the documentation: https://pandas.pydata.org/pandas-docs/stable/user_guide/indexing.html#returning-a-view-versus-a-copy\n",
            "  cpu_model_missing.CPU_Model[i] = 'i7'\n",
            "C:\\Program Files\\KMSpico\\temp\\ipykernel_10308\\751738060.py:8: SettingWithCopyWarning: \n",
            "A value is trying to be set on a copy of a slice from a DataFrame\n",
            "\n",
            "See the caveats in the documentation: https://pandas.pydata.org/pandas-docs/stable/user_guide/indexing.html#returning-a-view-versus-a-copy\n",
            "  cpu_model_missing.CPU_Model[i] = 'i7'\n",
            "C:\\Program Files\\KMSpico\\temp\\ipykernel_10308\\751738060.py:4: SettingWithCopyWarning: \n",
            "A value is trying to be set on a copy of a slice from a DataFrame\n",
            "\n",
            "See the caveats in the documentation: https://pandas.pydata.org/pandas-docs/stable/user_guide/indexing.html#returning-a-view-versus-a-copy\n",
            "  cpu_model_missing.CPU_Model[i] = 'i3'\n",
            "C:\\Program Files\\KMSpico\\temp\\ipykernel_10308\\751738060.py:4: SettingWithCopyWarning: \n",
            "A value is trying to be set on a copy of a slice from a DataFrame\n",
            "\n",
            "See the caveats in the documentation: https://pandas.pydata.org/pandas-docs/stable/user_guide/indexing.html#returning-a-view-versus-a-copy\n",
            "  cpu_model_missing.CPU_Model[i] = 'i3'\n",
            "C:\\Program Files\\KMSpico\\temp\\ipykernel_10308\\751738060.py:6: SettingWithCopyWarning: \n",
            "A value is trying to be set on a copy of a slice from a DataFrame\n",
            "\n",
            "See the caveats in the documentation: https://pandas.pydata.org/pandas-docs/stable/user_guide/indexing.html#returning-a-view-versus-a-copy\n",
            "  cpu_model_missing.CPU_Model[i] = 'i5'\n",
            "C:\\Program Files\\KMSpico\\temp\\ipykernel_10308\\751738060.py:4: SettingWithCopyWarning: \n",
            "A value is trying to be set on a copy of a slice from a DataFrame\n",
            "\n",
            "See the caveats in the documentation: https://pandas.pydata.org/pandas-docs/stable/user_guide/indexing.html#returning-a-view-versus-a-copy\n",
            "  cpu_model_missing.CPU_Model[i] = 'i3'\n",
            "C:\\Program Files\\KMSpico\\temp\\ipykernel_10308\\751738060.py:4: SettingWithCopyWarning: \n",
            "A value is trying to be set on a copy of a slice from a DataFrame\n",
            "\n",
            "See the caveats in the documentation: https://pandas.pydata.org/pandas-docs/stable/user_guide/indexing.html#returning-a-view-versus-a-copy\n",
            "  cpu_model_missing.CPU_Model[i] = 'i3'\n",
            "C:\\Program Files\\KMSpico\\temp\\ipykernel_10308\\751738060.py:6: SettingWithCopyWarning: \n",
            "A value is trying to be set on a copy of a slice from a DataFrame\n",
            "\n",
            "See the caveats in the documentation: https://pandas.pydata.org/pandas-docs/stable/user_guide/indexing.html#returning-a-view-versus-a-copy\n",
            "  cpu_model_missing.CPU_Model[i] = 'i5'\n",
            "C:\\Program Files\\KMSpico\\temp\\ipykernel_10308\\751738060.py:4: SettingWithCopyWarning: \n",
            "A value is trying to be set on a copy of a slice from a DataFrame\n",
            "\n",
            "See the caveats in the documentation: https://pandas.pydata.org/pandas-docs/stable/user_guide/indexing.html#returning-a-view-versus-a-copy\n",
            "  cpu_model_missing.CPU_Model[i] = 'i3'\n",
            "C:\\Program Files\\KMSpico\\temp\\ipykernel_10308\\751738060.py:4: SettingWithCopyWarning: \n",
            "A value is trying to be set on a copy of a slice from a DataFrame\n",
            "\n",
            "See the caveats in the documentation: https://pandas.pydata.org/pandas-docs/stable/user_guide/indexing.html#returning-a-view-versus-a-copy\n",
            "  cpu_model_missing.CPU_Model[i] = 'i3'\n",
            "C:\\Program Files\\KMSpico\\temp\\ipykernel_10308\\751738060.py:4: SettingWithCopyWarning: \n",
            "A value is trying to be set on a copy of a slice from a DataFrame\n",
            "\n",
            "See the caveats in the documentation: https://pandas.pydata.org/pandas-docs/stable/user_guide/indexing.html#returning-a-view-versus-a-copy\n",
            "  cpu_model_missing.CPU_Model[i] = 'i3'\n",
            "C:\\Program Files\\KMSpico\\temp\\ipykernel_10308\\751738060.py:4: SettingWithCopyWarning: \n",
            "A value is trying to be set on a copy of a slice from a DataFrame\n",
            "\n",
            "See the caveats in the documentation: https://pandas.pydata.org/pandas-docs/stable/user_guide/indexing.html#returning-a-view-versus-a-copy\n",
            "  cpu_model_missing.CPU_Model[i] = 'i3'\n",
            "C:\\Program Files\\KMSpico\\temp\\ipykernel_10308\\751738060.py:4: SettingWithCopyWarning: \n",
            "A value is trying to be set on a copy of a slice from a DataFrame\n",
            "\n",
            "See the caveats in the documentation: https://pandas.pydata.org/pandas-docs/stable/user_guide/indexing.html#returning-a-view-versus-a-copy\n",
            "  cpu_model_missing.CPU_Model[i] = 'i3'\n",
            "C:\\Program Files\\KMSpico\\temp\\ipykernel_10308\\751738060.py:4: SettingWithCopyWarning: \n",
            "A value is trying to be set on a copy of a slice from a DataFrame\n",
            "\n",
            "See the caveats in the documentation: https://pandas.pydata.org/pandas-docs/stable/user_guide/indexing.html#returning-a-view-versus-a-copy\n",
            "  cpu_model_missing.CPU_Model[i] = 'i3'\n",
            "C:\\Program Files\\KMSpico\\temp\\ipykernel_10308\\751738060.py:4: SettingWithCopyWarning: \n",
            "A value is trying to be set on a copy of a slice from a DataFrame\n",
            "\n",
            "See the caveats in the documentation: https://pandas.pydata.org/pandas-docs/stable/user_guide/indexing.html#returning-a-view-versus-a-copy\n",
            "  cpu_model_missing.CPU_Model[i] = 'i3'\n",
            "C:\\Program Files\\KMSpico\\temp\\ipykernel_10308\\751738060.py:4: SettingWithCopyWarning: \n",
            "A value is trying to be set on a copy of a slice from a DataFrame\n",
            "\n",
            "See the caveats in the documentation: https://pandas.pydata.org/pandas-docs/stable/user_guide/indexing.html#returning-a-view-versus-a-copy\n",
            "  cpu_model_missing.CPU_Model[i] = 'i3'\n",
            "C:\\Program Files\\KMSpico\\temp\\ipykernel_10308\\751738060.py:4: SettingWithCopyWarning: \n",
            "A value is trying to be set on a copy of a slice from a DataFrame\n",
            "\n",
            "See the caveats in the documentation: https://pandas.pydata.org/pandas-docs/stable/user_guide/indexing.html#returning-a-view-versus-a-copy\n",
            "  cpu_model_missing.CPU_Model[i] = 'i3'\n",
            "C:\\Program Files\\KMSpico\\temp\\ipykernel_10308\\751738060.py:6: SettingWithCopyWarning: \n",
            "A value is trying to be set on a copy of a slice from a DataFrame\n",
            "\n",
            "See the caveats in the documentation: https://pandas.pydata.org/pandas-docs/stable/user_guide/indexing.html#returning-a-view-versus-a-copy\n",
            "  cpu_model_missing.CPU_Model[i] = 'i5'\n",
            "C:\\Program Files\\KMSpico\\temp\\ipykernel_10308\\751738060.py:4: SettingWithCopyWarning: \n",
            "A value is trying to be set on a copy of a slice from a DataFrame\n",
            "\n",
            "See the caveats in the documentation: https://pandas.pydata.org/pandas-docs/stable/user_guide/indexing.html#returning-a-view-versus-a-copy\n",
            "  cpu_model_missing.CPU_Model[i] = 'i3'\n",
            "C:\\Program Files\\KMSpico\\temp\\ipykernel_10308\\751738060.py:4: SettingWithCopyWarning: \n",
            "A value is trying to be set on a copy of a slice from a DataFrame\n",
            "\n",
            "See the caveats in the documentation: https://pandas.pydata.org/pandas-docs/stable/user_guide/indexing.html#returning-a-view-versus-a-copy\n",
            "  cpu_model_missing.CPU_Model[i] = 'i3'\n",
            "C:\\Program Files\\KMSpico\\temp\\ipykernel_10308\\751738060.py:4: SettingWithCopyWarning: \n",
            "A value is trying to be set on a copy of a slice from a DataFrame\n",
            "\n",
            "See the caveats in the documentation: https://pandas.pydata.org/pandas-docs/stable/user_guide/indexing.html#returning-a-view-versus-a-copy\n",
            "  cpu_model_missing.CPU_Model[i] = 'i3'\n",
            "C:\\Program Files\\KMSpico\\temp\\ipykernel_10308\\751738060.py:4: SettingWithCopyWarning: \n",
            "A value is trying to be set on a copy of a slice from a DataFrame\n",
            "\n",
            "See the caveats in the documentation: https://pandas.pydata.org/pandas-docs/stable/user_guide/indexing.html#returning-a-view-versus-a-copy\n",
            "  cpu_model_missing.CPU_Model[i] = 'i3'\n",
            "C:\\Program Files\\KMSpico\\temp\\ipykernel_10308\\751738060.py:4: SettingWithCopyWarning: \n",
            "A value is trying to be set on a copy of a slice from a DataFrame\n",
            "\n",
            "See the caveats in the documentation: https://pandas.pydata.org/pandas-docs/stable/user_guide/indexing.html#returning-a-view-versus-a-copy\n",
            "  cpu_model_missing.CPU_Model[i] = 'i3'\n",
            "C:\\Program Files\\KMSpico\\temp\\ipykernel_10308\\751738060.py:6: SettingWithCopyWarning: \n",
            "A value is trying to be set on a copy of a slice from a DataFrame\n",
            "\n",
            "See the caveats in the documentation: https://pandas.pydata.org/pandas-docs/stable/user_guide/indexing.html#returning-a-view-versus-a-copy\n",
            "  cpu_model_missing.CPU_Model[i] = 'i5'\n",
            "C:\\Program Files\\KMSpico\\temp\\ipykernel_10308\\751738060.py:4: SettingWithCopyWarning: \n",
            "A value is trying to be set on a copy of a slice from a DataFrame\n",
            "\n",
            "See the caveats in the documentation: https://pandas.pydata.org/pandas-docs/stable/user_guide/indexing.html#returning-a-view-versus-a-copy\n",
            "  cpu_model_missing.CPU_Model[i] = 'i3'\n",
            "C:\\Program Files\\KMSpico\\temp\\ipykernel_10308\\751738060.py:4: SettingWithCopyWarning: \n",
            "A value is trying to be set on a copy of a slice from a DataFrame\n",
            "\n",
            "See the caveats in the documentation: https://pandas.pydata.org/pandas-docs/stable/user_guide/indexing.html#returning-a-view-versus-a-copy\n",
            "  cpu_model_missing.CPU_Model[i] = 'i3'\n",
            "C:\\Program Files\\KMSpico\\temp\\ipykernel_10308\\751738060.py:6: SettingWithCopyWarning: \n",
            "A value is trying to be set on a copy of a slice from a DataFrame\n",
            "\n",
            "See the caveats in the documentation: https://pandas.pydata.org/pandas-docs/stable/user_guide/indexing.html#returning-a-view-versus-a-copy\n",
            "  cpu_model_missing.CPU_Model[i] = 'i5'\n",
            "C:\\Program Files\\KMSpico\\temp\\ipykernel_10308\\751738060.py:4: SettingWithCopyWarning: \n",
            "A value is trying to be set on a copy of a slice from a DataFrame\n",
            "\n",
            "See the caveats in the documentation: https://pandas.pydata.org/pandas-docs/stable/user_guide/indexing.html#returning-a-view-versus-a-copy\n",
            "  cpu_model_missing.CPU_Model[i] = 'i3'\n",
            "C:\\Program Files\\KMSpico\\temp\\ipykernel_10308\\751738060.py:4: SettingWithCopyWarning: \n",
            "A value is trying to be set on a copy of a slice from a DataFrame\n",
            "\n",
            "See the caveats in the documentation: https://pandas.pydata.org/pandas-docs/stable/user_guide/indexing.html#returning-a-view-versus-a-copy\n",
            "  cpu_model_missing.CPU_Model[i] = 'i3'\n",
            "C:\\Program Files\\KMSpico\\temp\\ipykernel_10308\\751738060.py:6: SettingWithCopyWarning: \n",
            "A value is trying to be set on a copy of a slice from a DataFrame\n",
            "\n",
            "See the caveats in the documentation: https://pandas.pydata.org/pandas-docs/stable/user_guide/indexing.html#returning-a-view-versus-a-copy\n",
            "  cpu_model_missing.CPU_Model[i] = 'i5'\n",
            "C:\\Program Files\\KMSpico\\temp\\ipykernel_10308\\751738060.py:4: SettingWithCopyWarning: \n",
            "A value is trying to be set on a copy of a slice from a DataFrame\n",
            "\n",
            "See the caveats in the documentation: https://pandas.pydata.org/pandas-docs/stable/user_guide/indexing.html#returning-a-view-versus-a-copy\n",
            "  cpu_model_missing.CPU_Model[i] = 'i3'\n",
            "C:\\Program Files\\KMSpico\\temp\\ipykernel_10308\\751738060.py:4: SettingWithCopyWarning: \n",
            "A value is trying to be set on a copy of a slice from a DataFrame\n",
            "\n",
            "See the caveats in the documentation: https://pandas.pydata.org/pandas-docs/stable/user_guide/indexing.html#returning-a-view-versus-a-copy\n",
            "  cpu_model_missing.CPU_Model[i] = 'i3'\n",
            "C:\\Program Files\\KMSpico\\temp\\ipykernel_10308\\751738060.py:6: SettingWithCopyWarning: \n",
            "A value is trying to be set on a copy of a slice from a DataFrame\n",
            "\n",
            "See the caveats in the documentation: https://pandas.pydata.org/pandas-docs/stable/user_guide/indexing.html#returning-a-view-versus-a-copy\n",
            "  cpu_model_missing.CPU_Model[i] = 'i5'\n",
            "C:\\Program Files\\KMSpico\\temp\\ipykernel_10308\\751738060.py:4: SettingWithCopyWarning: \n",
            "A value is trying to be set on a copy of a slice from a DataFrame\n",
            "\n",
            "See the caveats in the documentation: https://pandas.pydata.org/pandas-docs/stable/user_guide/indexing.html#returning-a-view-versus-a-copy\n",
            "  cpu_model_missing.CPU_Model[i] = 'i3'\n",
            "C:\\Program Files\\KMSpico\\temp\\ipykernel_10308\\751738060.py:4: SettingWithCopyWarning: \n",
            "A value is trying to be set on a copy of a slice from a DataFrame\n",
            "\n",
            "See the caveats in the documentation: https://pandas.pydata.org/pandas-docs/stable/user_guide/indexing.html#returning-a-view-versus-a-copy\n",
            "  cpu_model_missing.CPU_Model[i] = 'i3'\n",
            "C:\\Program Files\\KMSpico\\temp\\ipykernel_10308\\751738060.py:4: SettingWithCopyWarning: \n",
            "A value is trying to be set on a copy of a slice from a DataFrame\n",
            "\n",
            "See the caveats in the documentation: https://pandas.pydata.org/pandas-docs/stable/user_guide/indexing.html#returning-a-view-versus-a-copy\n",
            "  cpu_model_missing.CPU_Model[i] = 'i3'\n",
            "C:\\Program Files\\KMSpico\\temp\\ipykernel_10308\\751738060.py:6: SettingWithCopyWarning: \n",
            "A value is trying to be set on a copy of a slice from a DataFrame\n",
            "\n",
            "See the caveats in the documentation: https://pandas.pydata.org/pandas-docs/stable/user_guide/indexing.html#returning-a-view-versus-a-copy\n",
            "  cpu_model_missing.CPU_Model[i] = 'i5'\n",
            "C:\\Program Files\\KMSpico\\temp\\ipykernel_10308\\751738060.py:4: SettingWithCopyWarning: \n",
            "A value is trying to be set on a copy of a slice from a DataFrame\n",
            "\n",
            "See the caveats in the documentation: https://pandas.pydata.org/pandas-docs/stable/user_guide/indexing.html#returning-a-view-versus-a-copy\n",
            "  cpu_model_missing.CPU_Model[i] = 'i3'\n",
            "C:\\Program Files\\KMSpico\\temp\\ipykernel_10308\\751738060.py:4: SettingWithCopyWarning: \n",
            "A value is trying to be set on a copy of a slice from a DataFrame\n",
            "\n",
            "See the caveats in the documentation: https://pandas.pydata.org/pandas-docs/stable/user_guide/indexing.html#returning-a-view-versus-a-copy\n",
            "  cpu_model_missing.CPU_Model[i] = 'i3'\n",
            "C:\\Program Files\\KMSpico\\temp\\ipykernel_10308\\751738060.py:4: SettingWithCopyWarning: \n",
            "A value is trying to be set on a copy of a slice from a DataFrame\n",
            "\n",
            "See the caveats in the documentation: https://pandas.pydata.org/pandas-docs/stable/user_guide/indexing.html#returning-a-view-versus-a-copy\n",
            "  cpu_model_missing.CPU_Model[i] = 'i3'\n",
            "C:\\Program Files\\KMSpico\\temp\\ipykernel_10308\\751738060.py:6: SettingWithCopyWarning: \n",
            "A value is trying to be set on a copy of a slice from a DataFrame\n",
            "\n",
            "See the caveats in the documentation: https://pandas.pydata.org/pandas-docs/stable/user_guide/indexing.html#returning-a-view-versus-a-copy\n",
            "  cpu_model_missing.CPU_Model[i] = 'i5'\n",
            "C:\\Program Files\\KMSpico\\temp\\ipykernel_10308\\751738060.py:4: SettingWithCopyWarning: \n",
            "A value is trying to be set on a copy of a slice from a DataFrame\n",
            "\n",
            "See the caveats in the documentation: https://pandas.pydata.org/pandas-docs/stable/user_guide/indexing.html#returning-a-view-versus-a-copy\n",
            "  cpu_model_missing.CPU_Model[i] = 'i3'\n",
            "C:\\Program Files\\KMSpico\\temp\\ipykernel_10308\\751738060.py:4: SettingWithCopyWarning: \n",
            "A value is trying to be set on a copy of a slice from a DataFrame\n",
            "\n",
            "See the caveats in the documentation: https://pandas.pydata.org/pandas-docs/stable/user_guide/indexing.html#returning-a-view-versus-a-copy\n",
            "  cpu_model_missing.CPU_Model[i] = 'i3'\n",
            "C:\\Program Files\\KMSpico\\temp\\ipykernel_10308\\751738060.py:4: SettingWithCopyWarning: \n",
            "A value is trying to be set on a copy of a slice from a DataFrame\n",
            "\n",
            "See the caveats in the documentation: https://pandas.pydata.org/pandas-docs/stable/user_guide/indexing.html#returning-a-view-versus-a-copy\n",
            "  cpu_model_missing.CPU_Model[i] = 'i3'\n",
            "C:\\Program Files\\KMSpico\\temp\\ipykernel_10308\\751738060.py:4: SettingWithCopyWarning: \n",
            "A value is trying to be set on a copy of a slice from a DataFrame\n",
            "\n",
            "See the caveats in the documentation: https://pandas.pydata.org/pandas-docs/stable/user_guide/indexing.html#returning-a-view-versus-a-copy\n",
            "  cpu_model_missing.CPU_Model[i] = 'i3'\n",
            "C:\\Program Files\\KMSpico\\temp\\ipykernel_10308\\751738060.py:4: SettingWithCopyWarning: \n",
            "A value is trying to be set on a copy of a slice from a DataFrame\n",
            "\n",
            "See the caveats in the documentation: https://pandas.pydata.org/pandas-docs/stable/user_guide/indexing.html#returning-a-view-versus-a-copy\n",
            "  cpu_model_missing.CPU_Model[i] = 'i3'\n",
            "C:\\Program Files\\KMSpico\\temp\\ipykernel_10308\\751738060.py:4: SettingWithCopyWarning: \n",
            "A value is trying to be set on a copy of a slice from a DataFrame\n",
            "\n",
            "See the caveats in the documentation: https://pandas.pydata.org/pandas-docs/stable/user_guide/indexing.html#returning-a-view-versus-a-copy\n",
            "  cpu_model_missing.CPU_Model[i] = 'i3'\n",
            "C:\\Program Files\\KMSpico\\temp\\ipykernel_10308\\751738060.py:4: SettingWithCopyWarning: \n",
            "A value is trying to be set on a copy of a slice from a DataFrame\n",
            "\n",
            "See the caveats in the documentation: https://pandas.pydata.org/pandas-docs/stable/user_guide/indexing.html#returning-a-view-versus-a-copy\n",
            "  cpu_model_missing.CPU_Model[i] = 'i3'\n",
            "C:\\Program Files\\KMSpico\\temp\\ipykernel_10308\\751738060.py:4: SettingWithCopyWarning: \n",
            "A value is trying to be set on a copy of a slice from a DataFrame\n",
            "\n",
            "See the caveats in the documentation: https://pandas.pydata.org/pandas-docs/stable/user_guide/indexing.html#returning-a-view-versus-a-copy\n",
            "  cpu_model_missing.CPU_Model[i] = 'i3'\n",
            "C:\\Program Files\\KMSpico\\temp\\ipykernel_10308\\751738060.py:4: SettingWithCopyWarning: \n",
            "A value is trying to be set on a copy of a slice from a DataFrame\n",
            "\n",
            "See the caveats in the documentation: https://pandas.pydata.org/pandas-docs/stable/user_guide/indexing.html#returning-a-view-versus-a-copy\n",
            "  cpu_model_missing.CPU_Model[i] = 'i3'\n",
            "C:\\Program Files\\KMSpico\\temp\\ipykernel_10308\\751738060.py:4: SettingWithCopyWarning: \n",
            "A value is trying to be set on a copy of a slice from a DataFrame\n",
            "\n",
            "See the caveats in the documentation: https://pandas.pydata.org/pandas-docs/stable/user_guide/indexing.html#returning-a-view-versus-a-copy\n",
            "  cpu_model_missing.CPU_Model[i] = 'i3'\n",
            "C:\\Program Files\\KMSpico\\temp\\ipykernel_10308\\751738060.py:4: SettingWithCopyWarning: \n",
            "A value is trying to be set on a copy of a slice from a DataFrame\n",
            "\n",
            "See the caveats in the documentation: https://pandas.pydata.org/pandas-docs/stable/user_guide/indexing.html#returning-a-view-versus-a-copy\n",
            "  cpu_model_missing.CPU_Model[i] = 'i3'\n",
            "C:\\Program Files\\KMSpico\\temp\\ipykernel_10308\\751738060.py:4: SettingWithCopyWarning: \n",
            "A value is trying to be set on a copy of a slice from a DataFrame\n",
            "\n",
            "See the caveats in the documentation: https://pandas.pydata.org/pandas-docs/stable/user_guide/indexing.html#returning-a-view-versus-a-copy\n",
            "  cpu_model_missing.CPU_Model[i] = 'i3'\n",
            "C:\\Program Files\\KMSpico\\temp\\ipykernel_10308\\751738060.py:4: SettingWithCopyWarning: \n",
            "A value is trying to be set on a copy of a slice from a DataFrame\n",
            "\n",
            "See the caveats in the documentation: https://pandas.pydata.org/pandas-docs/stable/user_guide/indexing.html#returning-a-view-versus-a-copy\n",
            "  cpu_model_missing.CPU_Model[i] = 'i3'\n",
            "C:\\Program Files\\KMSpico\\temp\\ipykernel_10308\\751738060.py:4: SettingWithCopyWarning: \n",
            "A value is trying to be set on a copy of a slice from a DataFrame\n",
            "\n",
            "See the caveats in the documentation: https://pandas.pydata.org/pandas-docs/stable/user_guide/indexing.html#returning-a-view-versus-a-copy\n",
            "  cpu_model_missing.CPU_Model[i] = 'i3'\n",
            "C:\\Program Files\\KMSpico\\temp\\ipykernel_10308\\751738060.py:4: SettingWithCopyWarning: \n",
            "A value is trying to be set on a copy of a slice from a DataFrame\n",
            "\n",
            "See the caveats in the documentation: https://pandas.pydata.org/pandas-docs/stable/user_guide/indexing.html#returning-a-view-versus-a-copy\n",
            "  cpu_model_missing.CPU_Model[i] = 'i3'\n",
            "C:\\Program Files\\KMSpico\\temp\\ipykernel_10308\\751738060.py:4: SettingWithCopyWarning: \n",
            "A value is trying to be set on a copy of a slice from a DataFrame\n",
            "\n",
            "See the caveats in the documentation: https://pandas.pydata.org/pandas-docs/stable/user_guide/indexing.html#returning-a-view-versus-a-copy\n",
            "  cpu_model_missing.CPU_Model[i] = 'i3'\n",
            "C:\\Program Files\\KMSpico\\temp\\ipykernel_10308\\751738060.py:4: SettingWithCopyWarning: \n",
            "A value is trying to be set on a copy of a slice from a DataFrame\n",
            "\n",
            "See the caveats in the documentation: https://pandas.pydata.org/pandas-docs/stable/user_guide/indexing.html#returning-a-view-versus-a-copy\n",
            "  cpu_model_missing.CPU_Model[i] = 'i3'\n",
            "C:\\Program Files\\KMSpico\\temp\\ipykernel_10308\\751738060.py:4: SettingWithCopyWarning: \n",
            "A value is trying to be set on a copy of a slice from a DataFrame\n",
            "\n",
            "See the caveats in the documentation: https://pandas.pydata.org/pandas-docs/stable/user_guide/indexing.html#returning-a-view-versus-a-copy\n",
            "  cpu_model_missing.CPU_Model[i] = 'i3'\n",
            "C:\\Program Files\\KMSpico\\temp\\ipykernel_10308\\751738060.py:4: SettingWithCopyWarning: \n",
            "A value is trying to be set on a copy of a slice from a DataFrame\n",
            "\n",
            "See the caveats in the documentation: https://pandas.pydata.org/pandas-docs/stable/user_guide/indexing.html#returning-a-view-versus-a-copy\n",
            "  cpu_model_missing.CPU_Model[i] = 'i3'\n",
            "C:\\Program Files\\KMSpico\\temp\\ipykernel_10308\\751738060.py:4: SettingWithCopyWarning: \n",
            "A value is trying to be set on a copy of a slice from a DataFrame\n",
            "\n",
            "See the caveats in the documentation: https://pandas.pydata.org/pandas-docs/stable/user_guide/indexing.html#returning-a-view-versus-a-copy\n",
            "  cpu_model_missing.CPU_Model[i] = 'i3'\n",
            "C:\\Program Files\\KMSpico\\temp\\ipykernel_10308\\751738060.py:6: SettingWithCopyWarning: \n",
            "A value is trying to be set on a copy of a slice from a DataFrame\n",
            "\n",
            "See the caveats in the documentation: https://pandas.pydata.org/pandas-docs/stable/user_guide/indexing.html#returning-a-view-versus-a-copy\n",
            "  cpu_model_missing.CPU_Model[i] = 'i5'\n",
            "C:\\Program Files\\KMSpico\\temp\\ipykernel_10308\\751738060.py:4: SettingWithCopyWarning: \n",
            "A value is trying to be set on a copy of a slice from a DataFrame\n",
            "\n",
            "See the caveats in the documentation: https://pandas.pydata.org/pandas-docs/stable/user_guide/indexing.html#returning-a-view-versus-a-copy\n",
            "  cpu_model_missing.CPU_Model[i] = 'i3'\n",
            "C:\\Program Files\\KMSpico\\temp\\ipykernel_10308\\751738060.py:4: SettingWithCopyWarning: \n",
            "A value is trying to be set on a copy of a slice from a DataFrame\n",
            "\n",
            "See the caveats in the documentation: https://pandas.pydata.org/pandas-docs/stable/user_guide/indexing.html#returning-a-view-versus-a-copy\n",
            "  cpu_model_missing.CPU_Model[i] = 'i3'\n",
            "C:\\Program Files\\KMSpico\\temp\\ipykernel_10308\\751738060.py:4: SettingWithCopyWarning: \n",
            "A value is trying to be set on a copy of a slice from a DataFrame\n",
            "\n",
            "See the caveats in the documentation: https://pandas.pydata.org/pandas-docs/stable/user_guide/indexing.html#returning-a-view-versus-a-copy\n",
            "  cpu_model_missing.CPU_Model[i] = 'i3'\n",
            "C:\\Program Files\\KMSpico\\temp\\ipykernel_10308\\751738060.py:4: SettingWithCopyWarning: \n",
            "A value is trying to be set on a copy of a slice from a DataFrame\n",
            "\n",
            "See the caveats in the documentation: https://pandas.pydata.org/pandas-docs/stable/user_guide/indexing.html#returning-a-view-versus-a-copy\n",
            "  cpu_model_missing.CPU_Model[i] = 'i3'\n",
            "C:\\Program Files\\KMSpico\\temp\\ipykernel_10308\\751738060.py:4: SettingWithCopyWarning: \n",
            "A value is trying to be set on a copy of a slice from a DataFrame\n",
            "\n",
            "See the caveats in the documentation: https://pandas.pydata.org/pandas-docs/stable/user_guide/indexing.html#returning-a-view-versus-a-copy\n",
            "  cpu_model_missing.CPU_Model[i] = 'i3'\n",
            "C:\\Program Files\\KMSpico\\temp\\ipykernel_10308\\751738060.py:4: SettingWithCopyWarning: \n",
            "A value is trying to be set on a copy of a slice from a DataFrame\n",
            "\n",
            "See the caveats in the documentation: https://pandas.pydata.org/pandas-docs/stable/user_guide/indexing.html#returning-a-view-versus-a-copy\n",
            "  cpu_model_missing.CPU_Model[i] = 'i3'\n",
            "C:\\Program Files\\KMSpico\\temp\\ipykernel_10308\\751738060.py:6: SettingWithCopyWarning: \n",
            "A value is trying to be set on a copy of a slice from a DataFrame\n",
            "\n",
            "See the caveats in the documentation: https://pandas.pydata.org/pandas-docs/stable/user_guide/indexing.html#returning-a-view-versus-a-copy\n",
            "  cpu_model_missing.CPU_Model[i] = 'i5'\n",
            "C:\\Program Files\\KMSpico\\temp\\ipykernel_10308\\751738060.py:4: SettingWithCopyWarning: \n",
            "A value is trying to be set on a copy of a slice from a DataFrame\n",
            "\n",
            "See the caveats in the documentation: https://pandas.pydata.org/pandas-docs/stable/user_guide/indexing.html#returning-a-view-versus-a-copy\n",
            "  cpu_model_missing.CPU_Model[i] = 'i3'\n",
            "C:\\Program Files\\KMSpico\\temp\\ipykernel_10308\\751738060.py:4: SettingWithCopyWarning: \n",
            "A value is trying to be set on a copy of a slice from a DataFrame\n",
            "\n",
            "See the caveats in the documentation: https://pandas.pydata.org/pandas-docs/stable/user_guide/indexing.html#returning-a-view-versus-a-copy\n",
            "  cpu_model_missing.CPU_Model[i] = 'i3'\n",
            "C:\\Program Files\\KMSpico\\temp\\ipykernel_10308\\751738060.py:4: SettingWithCopyWarning: \n",
            "A value is trying to be set on a copy of a slice from a DataFrame\n",
            "\n",
            "See the caveats in the documentation: https://pandas.pydata.org/pandas-docs/stable/user_guide/indexing.html#returning-a-view-versus-a-copy\n",
            "  cpu_model_missing.CPU_Model[i] = 'i3'\n",
            "C:\\Program Files\\KMSpico\\temp\\ipykernel_10308\\751738060.py:4: SettingWithCopyWarning: \n",
            "A value is trying to be set on a copy of a slice from a DataFrame\n",
            "\n",
            "See the caveats in the documentation: https://pandas.pydata.org/pandas-docs/stable/user_guide/indexing.html#returning-a-view-versus-a-copy\n",
            "  cpu_model_missing.CPU_Model[i] = 'i3'\n",
            "C:\\Program Files\\KMSpico\\temp\\ipykernel_10308\\751738060.py:10: SettingWithCopyWarning: \n",
            "A value is trying to be set on a copy of a slice from a DataFrame\n",
            "\n",
            "See the caveats in the documentation: https://pandas.pydata.org/pandas-docs/stable/user_guide/indexing.html#returning-a-view-versus-a-copy\n",
            "  cpu_model_missing.CPU_Model[i] = 'i9'\n",
            "C:\\Program Files\\KMSpico\\temp\\ipykernel_10308\\751738060.py:4: SettingWithCopyWarning: \n",
            "A value is trying to be set on a copy of a slice from a DataFrame\n",
            "\n",
            "See the caveats in the documentation: https://pandas.pydata.org/pandas-docs/stable/user_guide/indexing.html#returning-a-view-versus-a-copy\n",
            "  cpu_model_missing.CPU_Model[i] = 'i3'\n",
            "C:\\Program Files\\KMSpico\\temp\\ipykernel_10308\\751738060.py:4: SettingWithCopyWarning: \n",
            "A value is trying to be set on a copy of a slice from a DataFrame\n",
            "\n",
            "See the caveats in the documentation: https://pandas.pydata.org/pandas-docs/stable/user_guide/indexing.html#returning-a-view-versus-a-copy\n",
            "  cpu_model_missing.CPU_Model[i] = 'i3'\n",
            "C:\\Program Files\\KMSpico\\temp\\ipykernel_10308\\751738060.py:4: SettingWithCopyWarning: \n",
            "A value is trying to be set on a copy of a slice from a DataFrame\n",
            "\n",
            "See the caveats in the documentation: https://pandas.pydata.org/pandas-docs/stable/user_guide/indexing.html#returning-a-view-versus-a-copy\n",
            "  cpu_model_missing.CPU_Model[i] = 'i3'\n",
            "C:\\Program Files\\KMSpico\\temp\\ipykernel_10308\\751738060.py:4: SettingWithCopyWarning: \n",
            "A value is trying to be set on a copy of a slice from a DataFrame\n",
            "\n",
            "See the caveats in the documentation: https://pandas.pydata.org/pandas-docs/stable/user_guide/indexing.html#returning-a-view-versus-a-copy\n",
            "  cpu_model_missing.CPU_Model[i] = 'i3'\n",
            "C:\\Program Files\\KMSpico\\temp\\ipykernel_10308\\751738060.py:4: SettingWithCopyWarning: \n",
            "A value is trying to be set on a copy of a slice from a DataFrame\n",
            "\n",
            "See the caveats in the documentation: https://pandas.pydata.org/pandas-docs/stable/user_guide/indexing.html#returning-a-view-versus-a-copy\n",
            "  cpu_model_missing.CPU_Model[i] = 'i3'\n",
            "C:\\Program Files\\KMSpico\\temp\\ipykernel_10308\\751738060.py:6: SettingWithCopyWarning: \n",
            "A value is trying to be set on a copy of a slice from a DataFrame\n",
            "\n",
            "See the caveats in the documentation: https://pandas.pydata.org/pandas-docs/stable/user_guide/indexing.html#returning-a-view-versus-a-copy\n",
            "  cpu_model_missing.CPU_Model[i] = 'i5'\n",
            "C:\\Program Files\\KMSpico\\temp\\ipykernel_10308\\751738060.py:4: SettingWithCopyWarning: \n",
            "A value is trying to be set on a copy of a slice from a DataFrame\n",
            "\n",
            "See the caveats in the documentation: https://pandas.pydata.org/pandas-docs/stable/user_guide/indexing.html#returning-a-view-versus-a-copy\n",
            "  cpu_model_missing.CPU_Model[i] = 'i3'\n",
            "C:\\Program Files\\KMSpico\\temp\\ipykernel_10308\\751738060.py:4: SettingWithCopyWarning: \n",
            "A value is trying to be set on a copy of a slice from a DataFrame\n",
            "\n",
            "See the caveats in the documentation: https://pandas.pydata.org/pandas-docs/stable/user_guide/indexing.html#returning-a-view-versus-a-copy\n",
            "  cpu_model_missing.CPU_Model[i] = 'i3'\n",
            "C:\\Program Files\\KMSpico\\temp\\ipykernel_10308\\751738060.py:4: SettingWithCopyWarning: \n",
            "A value is trying to be set on a copy of a slice from a DataFrame\n",
            "\n",
            "See the caveats in the documentation: https://pandas.pydata.org/pandas-docs/stable/user_guide/indexing.html#returning-a-view-versus-a-copy\n",
            "  cpu_model_missing.CPU_Model[i] = 'i3'\n",
            "C:\\Program Files\\KMSpico\\temp\\ipykernel_10308\\751738060.py:4: SettingWithCopyWarning: \n",
            "A value is trying to be set on a copy of a slice from a DataFrame\n",
            "\n",
            "See the caveats in the documentation: https://pandas.pydata.org/pandas-docs/stable/user_guide/indexing.html#returning-a-view-versus-a-copy\n",
            "  cpu_model_missing.CPU_Model[i] = 'i3'\n",
            "C:\\Program Files\\KMSpico\\temp\\ipykernel_10308\\751738060.py:4: SettingWithCopyWarning: \n",
            "A value is trying to be set on a copy of a slice from a DataFrame\n",
            "\n",
            "See the caveats in the documentation: https://pandas.pydata.org/pandas-docs/stable/user_guide/indexing.html#returning-a-view-versus-a-copy\n",
            "  cpu_model_missing.CPU_Model[i] = 'i3'\n",
            "C:\\Program Files\\KMSpico\\temp\\ipykernel_10308\\751738060.py:4: SettingWithCopyWarning: \n",
            "A value is trying to be set on a copy of a slice from a DataFrame\n",
            "\n",
            "See the caveats in the documentation: https://pandas.pydata.org/pandas-docs/stable/user_guide/indexing.html#returning-a-view-versus-a-copy\n",
            "  cpu_model_missing.CPU_Model[i] = 'i3'\n",
            "C:\\Program Files\\KMSpico\\temp\\ipykernel_10308\\751738060.py:4: SettingWithCopyWarning: \n",
            "A value is trying to be set on a copy of a slice from a DataFrame\n",
            "\n",
            "See the caveats in the documentation: https://pandas.pydata.org/pandas-docs/stable/user_guide/indexing.html#returning-a-view-versus-a-copy\n",
            "  cpu_model_missing.CPU_Model[i] = 'i3'\n",
            "C:\\Program Files\\KMSpico\\temp\\ipykernel_10308\\751738060.py:4: SettingWithCopyWarning: \n",
            "A value is trying to be set on a copy of a slice from a DataFrame\n",
            "\n",
            "See the caveats in the documentation: https://pandas.pydata.org/pandas-docs/stable/user_guide/indexing.html#returning-a-view-versus-a-copy\n",
            "  cpu_model_missing.CPU_Model[i] = 'i3'\n",
            "C:\\Program Files\\KMSpico\\temp\\ipykernel_10308\\751738060.py:4: SettingWithCopyWarning: \n",
            "A value is trying to be set on a copy of a slice from a DataFrame\n",
            "\n",
            "See the caveats in the documentation: https://pandas.pydata.org/pandas-docs/stable/user_guide/indexing.html#returning-a-view-versus-a-copy\n",
            "  cpu_model_missing.CPU_Model[i] = 'i3'\n",
            "C:\\Program Files\\KMSpico\\temp\\ipykernel_10308\\751738060.py:4: SettingWithCopyWarning: \n",
            "A value is trying to be set on a copy of a slice from a DataFrame\n",
            "\n",
            "See the caveats in the documentation: https://pandas.pydata.org/pandas-docs/stable/user_guide/indexing.html#returning-a-view-versus-a-copy\n",
            "  cpu_model_missing.CPU_Model[i] = 'i3'\n",
            "C:\\Program Files\\KMSpico\\temp\\ipykernel_10308\\751738060.py:4: SettingWithCopyWarning: \n",
            "A value is trying to be set on a copy of a slice from a DataFrame\n",
            "\n",
            "See the caveats in the documentation: https://pandas.pydata.org/pandas-docs/stable/user_guide/indexing.html#returning-a-view-versus-a-copy\n",
            "  cpu_model_missing.CPU_Model[i] = 'i3'\n",
            "C:\\Program Files\\KMSpico\\temp\\ipykernel_10308\\751738060.py:6: SettingWithCopyWarning: \n",
            "A value is trying to be set on a copy of a slice from a DataFrame\n",
            "\n",
            "See the caveats in the documentation: https://pandas.pydata.org/pandas-docs/stable/user_guide/indexing.html#returning-a-view-versus-a-copy\n",
            "  cpu_model_missing.CPU_Model[i] = 'i5'\n",
            "C:\\Program Files\\KMSpico\\temp\\ipykernel_10308\\751738060.py:8: SettingWithCopyWarning: \n",
            "A value is trying to be set on a copy of a slice from a DataFrame\n",
            "\n",
            "See the caveats in the documentation: https://pandas.pydata.org/pandas-docs/stable/user_guide/indexing.html#returning-a-view-versus-a-copy\n",
            "  cpu_model_missing.CPU_Model[i] = 'i7'\n",
            "C:\\Program Files\\KMSpico\\temp\\ipykernel_10308\\751738060.py:4: SettingWithCopyWarning: \n",
            "A value is trying to be set on a copy of a slice from a DataFrame\n",
            "\n",
            "See the caveats in the documentation: https://pandas.pydata.org/pandas-docs/stable/user_guide/indexing.html#returning-a-view-versus-a-copy\n",
            "  cpu_model_missing.CPU_Model[i] = 'i3'\n",
            "C:\\Program Files\\KMSpico\\temp\\ipykernel_10308\\751738060.py:4: SettingWithCopyWarning: \n",
            "A value is trying to be set on a copy of a slice from a DataFrame\n",
            "\n",
            "See the caveats in the documentation: https://pandas.pydata.org/pandas-docs/stable/user_guide/indexing.html#returning-a-view-versus-a-copy\n",
            "  cpu_model_missing.CPU_Model[i] = 'i3'\n",
            "C:\\Program Files\\KMSpico\\temp\\ipykernel_10308\\751738060.py:4: SettingWithCopyWarning: \n",
            "A value is trying to be set on a copy of a slice from a DataFrame\n",
            "\n",
            "See the caveats in the documentation: https://pandas.pydata.org/pandas-docs/stable/user_guide/indexing.html#returning-a-view-versus-a-copy\n",
            "  cpu_model_missing.CPU_Model[i] = 'i3'\n",
            "C:\\Program Files\\KMSpico\\temp\\ipykernel_10308\\751738060.py:4: SettingWithCopyWarning: \n",
            "A value is trying to be set on a copy of a slice from a DataFrame\n",
            "\n",
            "See the caveats in the documentation: https://pandas.pydata.org/pandas-docs/stable/user_guide/indexing.html#returning-a-view-versus-a-copy\n",
            "  cpu_model_missing.CPU_Model[i] = 'i3'\n",
            "C:\\Program Files\\KMSpico\\temp\\ipykernel_10308\\751738060.py:4: SettingWithCopyWarning: \n",
            "A value is trying to be set on a copy of a slice from a DataFrame\n",
            "\n",
            "See the caveats in the documentation: https://pandas.pydata.org/pandas-docs/stable/user_guide/indexing.html#returning-a-view-versus-a-copy\n",
            "  cpu_model_missing.CPU_Model[i] = 'i3'\n",
            "C:\\Program Files\\KMSpico\\temp\\ipykernel_10308\\751738060.py:4: SettingWithCopyWarning: \n",
            "A value is trying to be set on a copy of a slice from a DataFrame\n",
            "\n",
            "See the caveats in the documentation: https://pandas.pydata.org/pandas-docs/stable/user_guide/indexing.html#returning-a-view-versus-a-copy\n",
            "  cpu_model_missing.CPU_Model[i] = 'i3'\n",
            "C:\\Program Files\\KMSpico\\temp\\ipykernel_10308\\751738060.py:4: SettingWithCopyWarning: \n",
            "A value is trying to be set on a copy of a slice from a DataFrame\n",
            "\n",
            "See the caveats in the documentation: https://pandas.pydata.org/pandas-docs/stable/user_guide/indexing.html#returning-a-view-versus-a-copy\n",
            "  cpu_model_missing.CPU_Model[i] = 'i3'\n",
            "C:\\Program Files\\KMSpico\\temp\\ipykernel_10308\\751738060.py:4: SettingWithCopyWarning: \n",
            "A value is trying to be set on a copy of a slice from a DataFrame\n",
            "\n",
            "See the caveats in the documentation: https://pandas.pydata.org/pandas-docs/stable/user_guide/indexing.html#returning-a-view-versus-a-copy\n",
            "  cpu_model_missing.CPU_Model[i] = 'i3'\n",
            "C:\\Program Files\\KMSpico\\temp\\ipykernel_10308\\751738060.py:4: SettingWithCopyWarning: \n",
            "A value is trying to be set on a copy of a slice from a DataFrame\n",
            "\n",
            "See the caveats in the documentation: https://pandas.pydata.org/pandas-docs/stable/user_guide/indexing.html#returning-a-view-versus-a-copy\n",
            "  cpu_model_missing.CPU_Model[i] = 'i3'\n",
            "C:\\Program Files\\KMSpico\\temp\\ipykernel_10308\\751738060.py:4: SettingWithCopyWarning: \n",
            "A value is trying to be set on a copy of a slice from a DataFrame\n",
            "\n",
            "See the caveats in the documentation: https://pandas.pydata.org/pandas-docs/stable/user_guide/indexing.html#returning-a-view-versus-a-copy\n",
            "  cpu_model_missing.CPU_Model[i] = 'i3'\n",
            "C:\\Program Files\\KMSpico\\temp\\ipykernel_10308\\751738060.py:4: SettingWithCopyWarning: \n",
            "A value is trying to be set on a copy of a slice from a DataFrame\n",
            "\n",
            "See the caveats in the documentation: https://pandas.pydata.org/pandas-docs/stable/user_guide/indexing.html#returning-a-view-versus-a-copy\n",
            "  cpu_model_missing.CPU_Model[i] = 'i3'\n",
            "C:\\Program Files\\KMSpico\\temp\\ipykernel_10308\\751738060.py:4: SettingWithCopyWarning: \n",
            "A value is trying to be set on a copy of a slice from a DataFrame\n",
            "\n",
            "See the caveats in the documentation: https://pandas.pydata.org/pandas-docs/stable/user_guide/indexing.html#returning-a-view-versus-a-copy\n",
            "  cpu_model_missing.CPU_Model[i] = 'i3'\n",
            "C:\\Program Files\\KMSpico\\temp\\ipykernel_10308\\751738060.py:4: SettingWithCopyWarning: \n",
            "A value is trying to be set on a copy of a slice from a DataFrame\n",
            "\n",
            "See the caveats in the documentation: https://pandas.pydata.org/pandas-docs/stable/user_guide/indexing.html#returning-a-view-versus-a-copy\n",
            "  cpu_model_missing.CPU_Model[i] = 'i3'\n",
            "C:\\Program Files\\KMSpico\\temp\\ipykernel_10308\\751738060.py:4: SettingWithCopyWarning: \n",
            "A value is trying to be set on a copy of a slice from a DataFrame\n",
            "\n",
            "See the caveats in the documentation: https://pandas.pydata.org/pandas-docs/stable/user_guide/indexing.html#returning-a-view-versus-a-copy\n",
            "  cpu_model_missing.CPU_Model[i] = 'i3'\n",
            "C:\\Program Files\\KMSpico\\temp\\ipykernel_10308\\751738060.py:4: SettingWithCopyWarning: \n",
            "A value is trying to be set on a copy of a slice from a DataFrame\n",
            "\n",
            "See the caveats in the documentation: https://pandas.pydata.org/pandas-docs/stable/user_guide/indexing.html#returning-a-view-versus-a-copy\n",
            "  cpu_model_missing.CPU_Model[i] = 'i3'\n",
            "C:\\Program Files\\KMSpico\\temp\\ipykernel_10308\\751738060.py:4: SettingWithCopyWarning: \n",
            "A value is trying to be set on a copy of a slice from a DataFrame\n",
            "\n",
            "See the caveats in the documentation: https://pandas.pydata.org/pandas-docs/stable/user_guide/indexing.html#returning-a-view-versus-a-copy\n",
            "  cpu_model_missing.CPU_Model[i] = 'i3'\n",
            "C:\\Program Files\\KMSpico\\temp\\ipykernel_10308\\751738060.py:4: SettingWithCopyWarning: \n",
            "A value is trying to be set on a copy of a slice from a DataFrame\n",
            "\n",
            "See the caveats in the documentation: https://pandas.pydata.org/pandas-docs/stable/user_guide/indexing.html#returning-a-view-versus-a-copy\n",
            "  cpu_model_missing.CPU_Model[i] = 'i3'\n",
            "C:\\Program Files\\KMSpico\\temp\\ipykernel_10308\\751738060.py:4: SettingWithCopyWarning: \n",
            "A value is trying to be set on a copy of a slice from a DataFrame\n",
            "\n",
            "See the caveats in the documentation: https://pandas.pydata.org/pandas-docs/stable/user_guide/indexing.html#returning-a-view-versus-a-copy\n",
            "  cpu_model_missing.CPU_Model[i] = 'i3'\n",
            "C:\\Program Files\\KMSpico\\temp\\ipykernel_10308\\751738060.py:4: SettingWithCopyWarning: \n",
            "A value is trying to be set on a copy of a slice from a DataFrame\n",
            "\n",
            "See the caveats in the documentation: https://pandas.pydata.org/pandas-docs/stable/user_guide/indexing.html#returning-a-view-versus-a-copy\n",
            "  cpu_model_missing.CPU_Model[i] = 'i3'\n",
            "C:\\Program Files\\KMSpico\\temp\\ipykernel_10308\\751738060.py:4: SettingWithCopyWarning: \n",
            "A value is trying to be set on a copy of a slice from a DataFrame\n",
            "\n",
            "See the caveats in the documentation: https://pandas.pydata.org/pandas-docs/stable/user_guide/indexing.html#returning-a-view-versus-a-copy\n",
            "  cpu_model_missing.CPU_Model[i] = 'i3'\n",
            "C:\\Program Files\\KMSpico\\temp\\ipykernel_10308\\751738060.py:6: SettingWithCopyWarning: \n",
            "A value is trying to be set on a copy of a slice from a DataFrame\n",
            "\n",
            "See the caveats in the documentation: https://pandas.pydata.org/pandas-docs/stable/user_guide/indexing.html#returning-a-view-versus-a-copy\n",
            "  cpu_model_missing.CPU_Model[i] = 'i5'\n",
            "C:\\Program Files\\KMSpico\\temp\\ipykernel_10308\\751738060.py:6: SettingWithCopyWarning: \n",
            "A value is trying to be set on a copy of a slice from a DataFrame\n",
            "\n",
            "See the caveats in the documentation: https://pandas.pydata.org/pandas-docs/stable/user_guide/indexing.html#returning-a-view-versus-a-copy\n",
            "  cpu_model_missing.CPU_Model[i] = 'i5'\n",
            "C:\\Program Files\\KMSpico\\temp\\ipykernel_10308\\751738060.py:4: SettingWithCopyWarning: \n",
            "A value is trying to be set on a copy of a slice from a DataFrame\n",
            "\n",
            "See the caveats in the documentation: https://pandas.pydata.org/pandas-docs/stable/user_guide/indexing.html#returning-a-view-versus-a-copy\n",
            "  cpu_model_missing.CPU_Model[i] = 'i3'\n",
            "C:\\Program Files\\KMSpico\\temp\\ipykernel_10308\\751738060.py:4: SettingWithCopyWarning: \n",
            "A value is trying to be set on a copy of a slice from a DataFrame\n",
            "\n",
            "See the caveats in the documentation: https://pandas.pydata.org/pandas-docs/stable/user_guide/indexing.html#returning-a-view-versus-a-copy\n",
            "  cpu_model_missing.CPU_Model[i] = 'i3'\n",
            "C:\\Program Files\\KMSpico\\temp\\ipykernel_10308\\751738060.py:4: SettingWithCopyWarning: \n",
            "A value is trying to be set on a copy of a slice from a DataFrame\n",
            "\n",
            "See the caveats in the documentation: https://pandas.pydata.org/pandas-docs/stable/user_guide/indexing.html#returning-a-view-versus-a-copy\n",
            "  cpu_model_missing.CPU_Model[i] = 'i3'\n",
            "C:\\Program Files\\KMSpico\\temp\\ipykernel_10308\\751738060.py:4: SettingWithCopyWarning: \n",
            "A value is trying to be set on a copy of a slice from a DataFrame\n",
            "\n",
            "See the caveats in the documentation: https://pandas.pydata.org/pandas-docs/stable/user_guide/indexing.html#returning-a-view-versus-a-copy\n",
            "  cpu_model_missing.CPU_Model[i] = 'i3'\n",
            "C:\\Program Files\\KMSpico\\temp\\ipykernel_10308\\751738060.py:4: SettingWithCopyWarning: \n",
            "A value is trying to be set on a copy of a slice from a DataFrame\n",
            "\n",
            "See the caveats in the documentation: https://pandas.pydata.org/pandas-docs/stable/user_guide/indexing.html#returning-a-view-versus-a-copy\n",
            "  cpu_model_missing.CPU_Model[i] = 'i3'\n",
            "C:\\Program Files\\KMSpico\\temp\\ipykernel_10308\\751738060.py:4: SettingWithCopyWarning: \n",
            "A value is trying to be set on a copy of a slice from a DataFrame\n",
            "\n",
            "See the caveats in the documentation: https://pandas.pydata.org/pandas-docs/stable/user_guide/indexing.html#returning-a-view-versus-a-copy\n",
            "  cpu_model_missing.CPU_Model[i] = 'i3'\n",
            "C:\\Program Files\\KMSpico\\temp\\ipykernel_10308\\751738060.py:4: SettingWithCopyWarning: \n",
            "A value is trying to be set on a copy of a slice from a DataFrame\n",
            "\n",
            "See the caveats in the documentation: https://pandas.pydata.org/pandas-docs/stable/user_guide/indexing.html#returning-a-view-versus-a-copy\n",
            "  cpu_model_missing.CPU_Model[i] = 'i3'\n",
            "C:\\Program Files\\KMSpico\\temp\\ipykernel_10308\\751738060.py:6: SettingWithCopyWarning: \n",
            "A value is trying to be set on a copy of a slice from a DataFrame\n",
            "\n",
            "See the caveats in the documentation: https://pandas.pydata.org/pandas-docs/stable/user_guide/indexing.html#returning-a-view-versus-a-copy\n",
            "  cpu_model_missing.CPU_Model[i] = 'i5'\n",
            "C:\\Program Files\\KMSpico\\temp\\ipykernel_10308\\751738060.py:4: SettingWithCopyWarning: \n",
            "A value is trying to be set on a copy of a slice from a DataFrame\n",
            "\n",
            "See the caveats in the documentation: https://pandas.pydata.org/pandas-docs/stable/user_guide/indexing.html#returning-a-view-versus-a-copy\n",
            "  cpu_model_missing.CPU_Model[i] = 'i3'\n",
            "C:\\Program Files\\KMSpico\\temp\\ipykernel_10308\\751738060.py:4: SettingWithCopyWarning: \n",
            "A value is trying to be set on a copy of a slice from a DataFrame\n",
            "\n",
            "See the caveats in the documentation: https://pandas.pydata.org/pandas-docs/stable/user_guide/indexing.html#returning-a-view-versus-a-copy\n",
            "  cpu_model_missing.CPU_Model[i] = 'i3'\n",
            "C:\\Program Files\\KMSpico\\temp\\ipykernel_10308\\751738060.py:4: SettingWithCopyWarning: \n",
            "A value is trying to be set on a copy of a slice from a DataFrame\n",
            "\n",
            "See the caveats in the documentation: https://pandas.pydata.org/pandas-docs/stable/user_guide/indexing.html#returning-a-view-versus-a-copy\n",
            "  cpu_model_missing.CPU_Model[i] = 'i3'\n",
            "C:\\Program Files\\KMSpico\\temp\\ipykernel_10308\\751738060.py:4: SettingWithCopyWarning: \n",
            "A value is trying to be set on a copy of a slice from a DataFrame\n",
            "\n",
            "See the caveats in the documentation: https://pandas.pydata.org/pandas-docs/stable/user_guide/indexing.html#returning-a-view-versus-a-copy\n",
            "  cpu_model_missing.CPU_Model[i] = 'i3'\n",
            "C:\\Program Files\\KMSpico\\temp\\ipykernel_10308\\751738060.py:4: SettingWithCopyWarning: \n",
            "A value is trying to be set on a copy of a slice from a DataFrame\n",
            "\n",
            "See the caveats in the documentation: https://pandas.pydata.org/pandas-docs/stable/user_guide/indexing.html#returning-a-view-versus-a-copy\n",
            "  cpu_model_missing.CPU_Model[i] = 'i3'\n",
            "C:\\Program Files\\KMSpico\\temp\\ipykernel_10308\\751738060.py:4: SettingWithCopyWarning: \n",
            "A value is trying to be set on a copy of a slice from a DataFrame\n",
            "\n",
            "See the caveats in the documentation: https://pandas.pydata.org/pandas-docs/stable/user_guide/indexing.html#returning-a-view-versus-a-copy\n",
            "  cpu_model_missing.CPU_Model[i] = 'i3'\n",
            "C:\\Program Files\\KMSpico\\temp\\ipykernel_10308\\751738060.py:8: SettingWithCopyWarning: \n",
            "A value is trying to be set on a copy of a slice from a DataFrame\n",
            "\n",
            "See the caveats in the documentation: https://pandas.pydata.org/pandas-docs/stable/user_guide/indexing.html#returning-a-view-versus-a-copy\n",
            "  cpu_model_missing.CPU_Model[i] = 'i7'\n",
            "C:\\Program Files\\KMSpico\\temp\\ipykernel_10308\\751738060.py:4: SettingWithCopyWarning: \n",
            "A value is trying to be set on a copy of a slice from a DataFrame\n",
            "\n",
            "See the caveats in the documentation: https://pandas.pydata.org/pandas-docs/stable/user_guide/indexing.html#returning-a-view-versus-a-copy\n",
            "  cpu_model_missing.CPU_Model[i] = 'i3'\n",
            "C:\\Program Files\\KMSpico\\temp\\ipykernel_10308\\751738060.py:4: SettingWithCopyWarning: \n",
            "A value is trying to be set on a copy of a slice from a DataFrame\n",
            "\n",
            "See the caveats in the documentation: https://pandas.pydata.org/pandas-docs/stable/user_guide/indexing.html#returning-a-view-versus-a-copy\n",
            "  cpu_model_missing.CPU_Model[i] = 'i3'\n",
            "C:\\Program Files\\KMSpico\\temp\\ipykernel_10308\\751738060.py:4: SettingWithCopyWarning: \n",
            "A value is trying to be set on a copy of a slice from a DataFrame\n",
            "\n",
            "See the caveats in the documentation: https://pandas.pydata.org/pandas-docs/stable/user_guide/indexing.html#returning-a-view-versus-a-copy\n",
            "  cpu_model_missing.CPU_Model[i] = 'i3'\n",
            "C:\\Program Files\\KMSpico\\temp\\ipykernel_10308\\751738060.py:6: SettingWithCopyWarning: \n",
            "A value is trying to be set on a copy of a slice from a DataFrame\n",
            "\n",
            "See the caveats in the documentation: https://pandas.pydata.org/pandas-docs/stable/user_guide/indexing.html#returning-a-view-versus-a-copy\n",
            "  cpu_model_missing.CPU_Model[i] = 'i5'\n",
            "C:\\Program Files\\KMSpico\\temp\\ipykernel_10308\\751738060.py:4: SettingWithCopyWarning: \n",
            "A value is trying to be set on a copy of a slice from a DataFrame\n",
            "\n",
            "See the caveats in the documentation: https://pandas.pydata.org/pandas-docs/stable/user_guide/indexing.html#returning-a-view-versus-a-copy\n",
            "  cpu_model_missing.CPU_Model[i] = 'i3'\n",
            "C:\\Program Files\\KMSpico\\temp\\ipykernel_10308\\751738060.py:4: SettingWithCopyWarning: \n",
            "A value is trying to be set on a copy of a slice from a DataFrame\n",
            "\n",
            "See the caveats in the documentation: https://pandas.pydata.org/pandas-docs/stable/user_guide/indexing.html#returning-a-view-versus-a-copy\n",
            "  cpu_model_missing.CPU_Model[i] = 'i3'\n",
            "C:\\Program Files\\KMSpico\\temp\\ipykernel_10308\\751738060.py:4: SettingWithCopyWarning: \n",
            "A value is trying to be set on a copy of a slice from a DataFrame\n",
            "\n",
            "See the caveats in the documentation: https://pandas.pydata.org/pandas-docs/stable/user_guide/indexing.html#returning-a-view-versus-a-copy\n",
            "  cpu_model_missing.CPU_Model[i] = 'i3'\n",
            "C:\\Program Files\\KMSpico\\temp\\ipykernel_10308\\751738060.py:4: SettingWithCopyWarning: \n",
            "A value is trying to be set on a copy of a slice from a DataFrame\n",
            "\n",
            "See the caveats in the documentation: https://pandas.pydata.org/pandas-docs/stable/user_guide/indexing.html#returning-a-view-versus-a-copy\n",
            "  cpu_model_missing.CPU_Model[i] = 'i3'\n",
            "C:\\Program Files\\KMSpico\\temp\\ipykernel_10308\\751738060.py:4: SettingWithCopyWarning: \n",
            "A value is trying to be set on a copy of a slice from a DataFrame\n",
            "\n",
            "See the caveats in the documentation: https://pandas.pydata.org/pandas-docs/stable/user_guide/indexing.html#returning-a-view-versus-a-copy\n",
            "  cpu_model_missing.CPU_Model[i] = 'i3'\n",
            "C:\\Program Files\\KMSpico\\temp\\ipykernel_10308\\751738060.py:4: SettingWithCopyWarning: \n",
            "A value is trying to be set on a copy of a slice from a DataFrame\n",
            "\n",
            "See the caveats in the documentation: https://pandas.pydata.org/pandas-docs/stable/user_guide/indexing.html#returning-a-view-versus-a-copy\n",
            "  cpu_model_missing.CPU_Model[i] = 'i3'\n",
            "C:\\Program Files\\KMSpico\\temp\\ipykernel_10308\\751738060.py:6: SettingWithCopyWarning: \n",
            "A value is trying to be set on a copy of a slice from a DataFrame\n",
            "\n",
            "See the caveats in the documentation: https://pandas.pydata.org/pandas-docs/stable/user_guide/indexing.html#returning-a-view-versus-a-copy\n",
            "  cpu_model_missing.CPU_Model[i] = 'i5'\n",
            "C:\\Program Files\\KMSpico\\temp\\ipykernel_10308\\751738060.py:8: SettingWithCopyWarning: \n",
            "A value is trying to be set on a copy of a slice from a DataFrame\n",
            "\n",
            "See the caveats in the documentation: https://pandas.pydata.org/pandas-docs/stable/user_guide/indexing.html#returning-a-view-versus-a-copy\n",
            "  cpu_model_missing.CPU_Model[i] = 'i7'\n",
            "C:\\Program Files\\KMSpico\\temp\\ipykernel_10308\\751738060.py:4: SettingWithCopyWarning: \n",
            "A value is trying to be set on a copy of a slice from a DataFrame\n",
            "\n",
            "See the caveats in the documentation: https://pandas.pydata.org/pandas-docs/stable/user_guide/indexing.html#returning-a-view-versus-a-copy\n",
            "  cpu_model_missing.CPU_Model[i] = 'i3'\n",
            "C:\\Program Files\\KMSpico\\temp\\ipykernel_10308\\751738060.py:4: SettingWithCopyWarning: \n",
            "A value is trying to be set on a copy of a slice from a DataFrame\n",
            "\n",
            "See the caveats in the documentation: https://pandas.pydata.org/pandas-docs/stable/user_guide/indexing.html#returning-a-view-versus-a-copy\n",
            "  cpu_model_missing.CPU_Model[i] = 'i3'\n",
            "C:\\Program Files\\KMSpico\\temp\\ipykernel_10308\\751738060.py:4: SettingWithCopyWarning: \n",
            "A value is trying to be set on a copy of a slice from a DataFrame\n",
            "\n",
            "See the caveats in the documentation: https://pandas.pydata.org/pandas-docs/stable/user_guide/indexing.html#returning-a-view-versus-a-copy\n",
            "  cpu_model_missing.CPU_Model[i] = 'i3'\n",
            "C:\\Program Files\\KMSpico\\temp\\ipykernel_10308\\751738060.py:4: SettingWithCopyWarning: \n",
            "A value is trying to be set on a copy of a slice from a DataFrame\n",
            "\n",
            "See the caveats in the documentation: https://pandas.pydata.org/pandas-docs/stable/user_guide/indexing.html#returning-a-view-versus-a-copy\n",
            "  cpu_model_missing.CPU_Model[i] = 'i3'\n",
            "C:\\Program Files\\KMSpico\\temp\\ipykernel_10308\\751738060.py:4: SettingWithCopyWarning: \n",
            "A value is trying to be set on a copy of a slice from a DataFrame\n",
            "\n",
            "See the caveats in the documentation: https://pandas.pydata.org/pandas-docs/stable/user_guide/indexing.html#returning-a-view-versus-a-copy\n",
            "  cpu_model_missing.CPU_Model[i] = 'i3'\n",
            "C:\\Program Files\\KMSpico\\temp\\ipykernel_10308\\751738060.py:4: SettingWithCopyWarning: \n",
            "A value is trying to be set on a copy of a slice from a DataFrame\n",
            "\n",
            "See the caveats in the documentation: https://pandas.pydata.org/pandas-docs/stable/user_guide/indexing.html#returning-a-view-versus-a-copy\n",
            "  cpu_model_missing.CPU_Model[i] = 'i3'\n",
            "C:\\Program Files\\KMSpico\\temp\\ipykernel_10308\\751738060.py:4: SettingWithCopyWarning: \n",
            "A value is trying to be set on a copy of a slice from a DataFrame\n",
            "\n",
            "See the caveats in the documentation: https://pandas.pydata.org/pandas-docs/stable/user_guide/indexing.html#returning-a-view-versus-a-copy\n",
            "  cpu_model_missing.CPU_Model[i] = 'i3'\n",
            "C:\\Program Files\\KMSpico\\temp\\ipykernel_10308\\751738060.py:4: SettingWithCopyWarning: \n",
            "A value is trying to be set on a copy of a slice from a DataFrame\n",
            "\n",
            "See the caveats in the documentation: https://pandas.pydata.org/pandas-docs/stable/user_guide/indexing.html#returning-a-view-versus-a-copy\n",
            "  cpu_model_missing.CPU_Model[i] = 'i3'\n"
          ]
        }
      ],
      "source": [
        "# Assigning values\n",
        "for i in cpu_model_missing.index:\n",
        "  if cpu_model_missing.Price[i] < 50000:\n",
        "    cpu_model_missing.CPU_Model[i] = 'i3'\n",
        "  elif cpu_model_missing.Price[i] >= 50000 and cpu_model_missing.Price[i] <= 100000:\n",
        "    cpu_model_missing.CPU_Model[i] = 'i5'\n",
        "  elif cpu_model_missing.Price[i] > 100000 and cpu_model_missing.Price[i] <= 250000:\n",
        "    cpu_model_missing.CPU_Model[i] = 'i7'\n",
        "  else:\n",
        "    cpu_model_missing.CPU_Model[i] = 'i9'"
      ]
    },
    {
      "cell_type": "code",
      "execution_count": 68,
      "metadata": {
        "id": "3lvyRuHIlN42"
      },
      "outputs": [],
      "source": [
        "# Replacing dataframes\n",
        "df.loc[cpu_model_missing.index, 'CPU_Model'] = cpu_model_missing.CPU_Model"
      ]
    },
    {
      "cell_type": "code",
      "execution_count": 69,
      "metadata": {
        "colab": {
          "base_uri": "https://localhost:8080/",
          "height": 617
        },
        "id": "UV6fZ4N4lHSV",
        "outputId": "1ff12100-a8cc-462a-94ab-a9e23d1d0106"
      },
      "outputs": [
        {
          "data": {
            "text/plain": [
              "Title                  0\n",
              "Brand                  0\n",
              "Screen_Size            0\n",
              "CPU_Model              0\n",
              "Ram                   82\n",
              "Operating_System      69\n",
              "Rating               308\n",
              "Series               208\n",
              "Color                366\n",
              "Resolution          1756\n",
              "Weight              1823\n",
              "USB                 1835\n",
              "Battery             1848\n",
              "Graphics             503\n",
              "Disk_size            381\n",
              "Card_desc            128\n",
              "Price                  0\n",
              "dtype: int64"
            ]
          },
          "execution_count": 69,
          "metadata": {},
          "output_type": "execute_result"
        }
      ],
      "source": [
        "df.isna().sum()"
      ]
    },
    {
      "cell_type": "markdown",
      "metadata": {
        "id": "gcUxio5mmOnC"
      },
      "source": [
        "##**Addressing RAM feature**\n",
        "- RAM values will be extracted from the Title feature using Regular Expressions\n",
        "- Removing outliers\n",
        "- All the values will be converted into single unit(GB) with following formula\n",
        "- 1 GB = 1024 MB, 1 TB = 1024 GB"
      ]
    },
    {
      "cell_type": "code",
      "execution_count": 70,
      "metadata": {
        "colab": {
          "base_uri": "https://localhost:8080/"
        },
        "id": "NXUDJBLwTYmX",
        "outputId": "dcbaabc9-6f12-49da-e36a-3c123a05745c"
      },
      "outputs": [
        {
          "data": {
            "text/plain": [
              "array(['4 GB', '32 GB', '16 GB', '64 GB', nan, '8 GB', '128 GB', '12 GB',\n",
              "       '20 GB', '24 GB', '2 GB', '6 GB', '1 TB', '40 GB', '16 MB'],\n",
              "      dtype=object)"
            ]
          },
          "execution_count": 70,
          "metadata": {},
          "output_type": "execute_result"
        }
      ],
      "source": [
        "df.Ram.unique()"
      ]
    },
    {
      "cell_type": "markdown",
      "metadata": {
        "id": "51IOk6_dpcZ9"
      },
      "source": [
        "###It is highly unlikely for RAM to of size of 1TB"
      ]
    },
    {
      "cell_type": "code",
      "execution_count": 71,
      "metadata": {
        "colab": {
          "base_uri": "https://localhost:8080/",
          "height": 219
        },
        "id": "ZDUecA7RolTA",
        "outputId": "cfcbb22b-b398-4086-8bbf-0ca1006f9571"
      },
      "outputs": [
        {
          "data": {
            "text/html": [
              "<div>\n",
              "<style scoped>\n",
              "    .dataframe tbody tr th:only-of-type {\n",
              "        vertical-align: middle;\n",
              "    }\n",
              "\n",
              "    .dataframe tbody tr th {\n",
              "        vertical-align: top;\n",
              "    }\n",
              "\n",
              "    .dataframe thead th {\n",
              "        text-align: right;\n",
              "    }\n",
              "</style>\n",
              "<table border=\"1\" class=\"dataframe\">\n",
              "  <thead>\n",
              "    <tr style=\"text-align: right;\">\n",
              "      <th></th>\n",
              "      <th>Title</th>\n",
              "      <th>Brand</th>\n",
              "      <th>Screen_Size</th>\n",
              "      <th>CPU_Model</th>\n",
              "      <th>Ram</th>\n",
              "      <th>Operating_System</th>\n",
              "      <th>Rating</th>\n",
              "      <th>Series</th>\n",
              "      <th>Color</th>\n",
              "      <th>Resolution</th>\n",
              "      <th>Weight</th>\n",
              "      <th>USB</th>\n",
              "      <th>Battery</th>\n",
              "      <th>Graphics</th>\n",
              "      <th>Disk_size</th>\n",
              "      <th>Card_desc</th>\n",
              "      <th>Price</th>\n",
              "    </tr>\n",
              "  </thead>\n",
              "  <tbody>\n",
              "    <tr>\n",
              "      <th>452</th>\n",
              "      <td>CF-31/MK6/16GB RAM/1TB SSD/Windows/Intel Core ...</td>\n",
              "      <td>Panasonic</td>\n",
              "      <td>13.1</td>\n",
              "      <td>i5</td>\n",
              "      <td>1 TB</td>\n",
              "      <td>Windows 10</td>\n",
              "      <td>NaN</td>\n",
              "      <td>CF-318</td>\n",
              "      <td>SILVER BLACK</td>\n",
              "      <td>NaN</td>\n",
              "      <td>NaN</td>\n",
              "      <td>NaN</td>\n",
              "      <td>NaN</td>\n",
              "      <td>Intel</td>\n",
              "      <td>1000 GB</td>\n",
              "      <td>Integrated</td>\n",
              "      <td>377199.18</td>\n",
              "    </tr>\n",
              "    <tr>\n",
              "      <th>1825</th>\n",
              "      <td>SAMSUNG 15.6” Galaxy Book2 Pro with Intel ARC ...</td>\n",
              "      <td>SAMSUNG</td>\n",
              "      <td>15.6</td>\n",
              "      <td>i7</td>\n",
              "      <td>1 TB</td>\n",
              "      <td>Windows</td>\n",
              "      <td>4.1</td>\n",
              "      <td>Galaxy Book2 Pro</td>\n",
              "      <td>Graphite</td>\n",
              "      <td>NaN</td>\n",
              "      <td>NaN</td>\n",
              "      <td>NaN</td>\n",
              "      <td>NaN</td>\n",
              "      <td>Intel ARC A350M</td>\n",
              "      <td>NaN</td>\n",
              "      <td>Dedicated</td>\n",
              "      <td>147599.18</td>\n",
              "    </tr>\n",
              "  </tbody>\n",
              "</table>\n",
              "</div>"
            ],
            "text/plain": [
              "                                                  Title      Brand  \\\n",
              "452   CF-31/MK6/16GB RAM/1TB SSD/Windows/Intel Core ...  Panasonic   \n",
              "1825  SAMSUNG 15.6” Galaxy Book2 Pro with Intel ARC ...    SAMSUNG   \n",
              "\n",
              "      Screen_Size CPU_Model   Ram Operating_System  Rating            Series  \\\n",
              "452          13.1        i5  1 TB       Windows 10     NaN            CF-318   \n",
              "1825         15.6        i7  1 TB          Windows     4.1  Galaxy Book2 Pro   \n",
              "\n",
              "             Color Resolution Weight  USB Battery         Graphics Disk_size  \\\n",
              "452   SILVER BLACK        NaN    NaN  NaN     NaN            Intel   1000 GB   \n",
              "1825      Graphite        NaN    NaN  NaN     NaN  Intel ARC A350M       NaN   \n",
              "\n",
              "       Card_desc      Price  \n",
              "452   Integrated  377199.18  \n",
              "1825   Dedicated  147599.18  "
            ]
          },
          "execution_count": 71,
          "metadata": {},
          "output_type": "execute_result"
        }
      ],
      "source": [
        "df[df.Ram == '1 TB']"
      ]
    },
    {
      "cell_type": "code",
      "execution_count": 72,
      "metadata": {
        "colab": {
          "base_uri": "https://localhost:8080/"
        },
        "id": "fZRBUHUGTgFX",
        "outputId": "98150c65-ccd6-4767-e5ee-ccc1fbbd4a4b"
      },
      "outputs": [
        {
          "data": {
            "text/plain": [
              "(82, 17)"
            ]
          },
          "execution_count": 72,
          "metadata": {},
          "output_type": "execute_result"
        }
      ],
      "source": [
        "ram_missing = df[df.Ram.isna()]\n",
        "ram_missing.shape"
      ]
    },
    {
      "cell_type": "code",
      "execution_count": 73,
      "metadata": {
        "colab": {
          "base_uri": "https://localhost:8080/"
        },
        "id": "3j419fN5TqqF",
        "outputId": "408900f0-106c-4ae5-dd51-d23366437073"
      },
      "outputs": [
        {
          "data": {
            "text/plain": [
              "array(['Ficihp 13.3\" Laptop Screen Extender for M1 MacBook One Cable Plug&Play, Cooling System Triple Portable Monitor for Laptop with USB C HDMI, Monitor Attachment for Laptop Frame 13-16 inch Mac/Android',\n",
              "       'B BELK Compatible with MacBook Air 13 inch Case M1, MacBook Air Case 2021 2020 2019 2018 Model A2337 A2179 A1932 with Touch ID, Clear Plastic Laptop Hard Shell + 2 Keyboard Covers + Screen Protector',\n",
              "       'ASUS 17 Chromebook 17.3 Inch FHD Laptop 2023 Newest, Intel Celeron N4500 Up to 2.8Ghz, 4GBRAM, 192GB Storage, USB C, Wifi6, Bluetooth, 17hours Battery Life, Chrome OS',\n",
              "       'Acer 2022 Aspire 5 Slim Laptop, 15.6\" Full HD Display, AMD Ryzen 5 5500U Hexa Core Processor, AMD Radeon Graphics, WiFi 6, Backlit Keyboard, Windows 11 Home (24GB RAM | 1TB SSD)',\n",
              "       'Acer Spin 7, 14\" FHD Touch Display, Qualcomm Snapdragon 8cx Gen 2 5G Compute Platform, 8GB LPDDR4X, 512GB Universal Flash Storage, 5G, 4G LTE, Wi-Fi, Backlit KB, FPR, Antimicrobial, SP714-61NA-S1QA',\n",
              "       'LG FHD 32-Inch Computer Monitor 32ML600M-B, IPS with HDR 10 Compatibility, Black',\n",
              "       'Acer TravelMate P6 Thin & Light Business Laptop, 14\" FHD IPS, Intel Core i5-10310U with vPro, 8GB DDR4, 256GB SSD, 23 Hrs Battery, Win 10 Pro, TMP 2.0, Mil-Spec, Fingerprint Reader, TMP614-51-G2-5442',\n",
              "       'Acer TravelMate P6 Thin & Light Business Laptop, 14\" FHD IPS, Intel Core i5-10310U with vPro, 8GB DDR4, 256GB SSD, 23 Hrs Battery, Win 10 Pro, TMP 2.0, Mil-Spec, Fingerprint Reader, TMP614-51-G2-5442',\n",
              "       'LG FHD 32-Inch Computer Monitor 32ML600M-B, IPS with HDR 10 Compatibility, Black',\n",
              "       'Toughbook CF-31JEGAX1M 13.1\" Notebook - Core i5 i5-2520M 2.50 GHz - Magnesium Alloy',\n",
              "       'Panasonic Toughbook CF-31ACAAA1M 13.1\" LED Notebook - Core i5 i5-520M 2.40 GHz',\n",
              "       'Panasonic Toughbook CF-31JF7991M 13.1\" LED Notebook - Intel Core i5 i5-2520M 2.50 GHz - 1024 x 768',\n",
              "       'Blackview Tablet Tab8, 10.1 inch Android Tablets with 4GB+64GB Octa Core Processor,1920x1200 IPS FHD Display, 13MP+5MP Dual Camera, GPS, FM, 5G WiFi Teblet Grey',\n",
              "       'Sceptre 30-inch Curved Gaming Monitor 21:9 2560x1080 Ultra Wide/ Slim HDMI DisplayPort up to 200Hz Build-in Speakers, Metal Black (C305B-200UN1)',\n",
              "       'LG Gram 15Z90N Laptop 15.6\" IPS Ultra-Lightweight, (1920 x 1080), 10th Gen Intel Core i7 , 16GB RAM, 1TB SSD, Windows 10 Home, USB-C, HDMI, Headphone Input - Silver',\n",
              "       'LG Gram 15Z90N Laptop 15.6\" IPS Ultra-Lightweight, (1920 x 1080), 10th Gen Intel Core i7 , 16GB RAM, 1TB SSD, Windows 10 Home, USB-C, HDMI, Headphone Input - Silver',\n",
              "       'ASUS VivoBook 15 Thin Light 15.6 Inch FHD Laptop 2023 Newest, Intel Core i3-1115G4 Up to 4.1GHz Beat i5-1030G7, Fingerprint, USB Type C (i5-1135G7 12GB RAM| 512GB SSD)',\n",
              "       'Generic 11.6 inches HD Screen Compatible with Chromebook 11 CB3-111 Laptop Replacement LED LCD',\n",
              "       'Generic New 14.0 inch Screen Compatible with THINKPAD T480 20L5 Series Replacement Screen IPS',\n",
              "       'Lenovo Chromebook Flex 5 13\" Laptop, FHD Touch Display, Intel Core i3-10110U, 4GB RAM, 64GB Storage, Chrome OS',\n",
              "       'Generic 15.6\" HD Screen Compatible with Lenovo G50-80 (5D10G74897 NT156WHM-N12) Laptop Replacement LED LCD',\n",
              "       'Generic 15.6\" HD Screen Compatible with HP ProBook 4510s 4515s 4520s 4525s 4530s 4535s 4540s 4545s Laptop Replacement LED LCD',\n",
              "       'Generic 15.6\" HD Screen Compatible with Samsung Ltn156at37-l01 Laptop Replacement LED LCD',\n",
              "       'Generic New 17.3\" LED WXGA++ Glossy HD LCD Replacement Laptop Screen/Display Compatible with LTN173KT01 (K01, T01, A01, D01)',\n",
              "       'Fullcom New 15.6 inches Compatible with OMEN Laptop 15-AX210ND / 15-AX210NR fit N156HCA-EAA, N156HCA-EAA Laptop Replacement Screen',\n",
              "       '13-15 Inch Cat Paws Print Laptop Sleeve Case/Water-Resistant Neoprene Notebook Computer Pocket Tablet Briefcase Carrying Bag/Pouch Skin Cover for HP/Dell/Lenovo/Asus/Acer/Apple',\n",
              "       'AU OPTRONICS B156HAN01.2 LAPTOP LCD SCREEN 15.6\" Full-HD DIODE (SUBSTITUTE REPLACEMENT LCD SCREEN ONLY. NOT A LAPTOP )',\n",
              "       'Generic 15.6\" HD Screen Compatible with Lenovo G50-70 20351 Laptop Replacement LED LCD',\n",
              "       'Msi A6200 Laptop LCD Screen 15.6\" Wxga Hd LED Diode (Substitute Replacement LCD Screen Only. Not A Laptop)',\n",
              "       'Dell Inspiron 1545 Bt156Gw01 V.1 Laptop LCD Screen Replacement 15.6\" Wxga Hd LED Matte',\n",
              "       'New 17.3\" LED WXGA++ Glossy HD LCD Replacement Laptop Screen/Display for HP Pavilion G72-B60US & G72-B66US',\n",
              "       'Chunghwa Claa173ua01a Replacement LAPTOP LCD Screen 17.3\" WXGA++ LED DIODE (Substitute Replacement LCD Screen Only. Not a Laptop )',\n",
              "       'Boehydis Nv156fhm-n42 Replacement LAPTOP LCD Screen 15.6\" Full-HD LED DIODE (Substitute Only. Not a ) (IPS 1080P)',\n",
              "       'Chi Mei N133bge-l41 Replacement LAPTOP LCD Screen 13.3\" WXGA HD LED DIODE (Substitute Only. Not a )',\n",
              "       'Generic New 15.6\" HD Laptop Replacement LED LCD Screen Compatible with Dell Inspiron 15-3000 (B156XTN04.0 NON TOUCH)',\n",
              "       'Generic New 14.0\" HD Glossy Replacement LED LCD Screen Compatible with Toshiba Satellite L745 Models L745-S4110, L745-S4210, L745-S4310, L745-S4235',\n",
              "       'Generic New 14.0 inch IPS FHD (1080P) Laptop LED LCD Replacement Screen/Panel Compatible with B140HAN02.1/ B140HAN02.4',\n",
              "       'Generic AOHC 13-14 inch (Jet Black) Laptop Sleeve Case Laptop Stand Adjustable, Computer Shock Resistant Bag with Mouse Pad for MacBook, Window Surface',\n",
              "       'ASUS L410 MA-DB02 Ultra Thin Laptop, 14” FHD Display, Intel Celeron N4020 Processor, 4GB RAM, 64GB Storage, NumberPad, Windows 10 Home in S Mode, Star Black',\n",
              "       'Generic, AOHC 1314 inch (Rose Gold) Laptop Sleeve Case Laptop Stand Adjustable, Computer Shock Resistant Bag with Mouse Pad for MacBook, Window Surface',\n",
              "       'Generic New 15.6\" HD Laptop Replacement LED LCD Screen Compatible with Dell Inspiron 15-3000 (B156XTN04.0 NON TOUCH)',\n",
              "       'Generic New 15.6\" IPS FHD 1080P Laptop LED LCD Replacement Screen/Panel Compatible with LP156WF6(SP)(K6) LP156WF6-SPK6',\n",
              "       'GENERIC 14.0\" WXGA Compatible with Dell Latitude E6420 LTN140AT16 Laptop LCD Screen Replacement',\n",
              "       'Generic, AOHC 1314 inch (Rose Gold) Laptop Sleeve Case Laptop Stand Adjustable, Computer Shock Resistant Bag with Mouse Pad for MacBook, Window Surface',\n",
              "       'Generic New 15.6\" IPS FHD 1080P Laptop LED LCD Replacement Screen/Panel Compatible with LP156WF6(SP)(K6) LP156WF6-SPK6',\n",
              "       'Generic New 14.0 inch Screen Compatible with THINKPAD T480 20L5 Series Replacement Screen IPS',\n",
              "       'Alienware 15 R3 AW15R3 Laptop with Quad-Core i7-6700HQ up to 3.50 GHz Turbo, 16GB DDR4, 128SSD + 1TB HDD, and NVIDIA GeForce GTX1060 6GB GDDR5 (Black)',\n",
              "       'Alienware Gaming AW17R5-7405SLV-PUS 8th Gen Intel Core i7 Processor Laptop, 8GB RAM, 1TB Hard Drive plus 8GB SSD, NVIDIA GeForce GTX 1060, 17.3\" Full HD Display, Epic Silver',\n",
              "       'Alienware M15 R6 Gaming Laptop, 15.6 inch QHD 240Hz Display, Intel Core i7-11800H, 32GB DDR4 RAM, 1TB SSD, NVIDIA GeForce RTX 3080 8GB GDDR6, Windows 11 Home, Dark Side of The Moon',\n",
              "       'Alienware M15 R5 Gaming Laptop, 15.6 inch FHD 360Hz 1ms G-SYNC Display, AMD Ryzen R9 5900HX, GeForce RTX 3070, 64GB RAM, 2TB NVMe SSD, Killer WiFi, RGB Keyboard, Windows 11, Dark Side of The Moon',\n",
              "       'HP Pavilion 15.6\" FHD Touchscreen Laptop, AMD Ryzen 7-5825U Processor (Beat i7-1180G7),32GB RAM, 1TB PCIe SSD, Wi-Fi 6, Backlit Keyboard, HDMI, Webcam, Bluetooth, Windows 11 Home, Silver',\n",
              "       'HP Pavilion 15.6\" FHD Touchscreen Laptop, 12th Gen Intel Core i7-1255U Processor, Intel Iris Xe Graphics, Wi-Fi 6, HDMI, Webcam, Bluetooth, Windows 11 Home (32GB | 1TB SSD)',\n",
              "       'HP 14 Laptop, AMD 3000 Series Processor, 32GB RAM, 1TB Storage, 14-inch Micro-Edge HD Display, Long Battery Life, Webcam, Thin & Portable, Windows 10 + One Year of Office365, Rose Gold',\n",
              "       'HP Victus Gaming Laptop, AMD Ryzen 7 5800H Processor, GeForce RTX 3050 Ti, 15.6\" FHD 144Hz IPS Display, Webcam, WiFi 6, HDMI, Bluetooth, Enlarged Touchpad, Windows 11, Silver (32GB RAM | 1TB SSD)',\n",
              "       '2022 Newest HP Envy 2-in-1 Laptop, 15.6\" IPS FHD Touchscreen, AMD Ryzen 5 5625U(> i7-1165G7), 16GB DDR4, 512GB SSD, Backlit Keyboard, Fast Charge, Amazon Alexa, Wi-Fi 6E, W/ Stylus, Windows 11, Black',\n",
              "       'HP Victus Gaming Laptop, AMD Ryzen 7 5800H Processor, GeForce RTX 3050 Ti, 15.6\" FHD 144Hz IPS Display, Webcam, WiFi 6, HDMI, Bluetooth, Enlarged Touchpad, Windows 11, Silver (32GB RAM | 1TB SSD)',\n",
              "       'HP 2022 Newest Envy 2-in-1 Laptop, 15.6\" IPS FHD Touchscreen, AMD Ryzen 5 5625U(> i7-1165G7), 16GB DDR4, 512GB SSD, Backlit Keyboard, Fast Charge, Amazon Alexa, Wi-Fi 6E, W/ Stylus, Windows 11, Black',\n",
              "       'HP 2022 Newest Envy 2-in-1 Laptop, 15.6\" IPS FHD Touchscreen, AMD Ryzen 5 5625U(> i7-1165G7), 16GB DDR4, 512GB SSD, Backlit Keyboard, Fast Charge, Amazon Alexa, Wi-Fi 6E, W/ Stylus, Windows 11, Black',\n",
              "       'ASUS 17 Chromebook 17.3 Inch FHD Laptop 2023 Newest, Intel Celeron N4500 Up to 2.8Ghz, 4GBRAM, 192GB Storage, USB C, Wifi6, Bluetooth, 17hours Battery Life, Chrome OS',\n",
              "       'Dell 2022 Newest Inspiron 15 3000 Series Laptop, 15.6\" FHD Touchscreen Anti-Glare, 10th Gen Intel Core i5-1035G1 Quad-Core Processor, HDMI, Webcam, Windows 11, Black (16GB RAM | 1 TB SSD)',\n",
              "       'Dell G15 15.6\" FHD 120Hz Gaming Laptop, AMD Ryzen7 5800H(8-core, Up to 4.4 GHz), NVIDIA GeForce RTX 3050 Ti, 32GB 3200MHz RAM, 1TB PCIe SSD, Backlit Keyboard, HDMI, WiFi 6, Win 11, Grey',\n",
              "       'Dell A6-9220e Inspiron Flagship High-Performance Laptop, 11.6',\n",
              "       'Dell G15 15.6\" FHD 120Hz Gaming Laptop, AMD Ryzen7 5800H(8-core, Up to 4.4 GHz), NVIDIA GeForce RTX 3050 Ti, 32GB 3200MHz RAM, 1TB PCIe SSD, Backlit Keyboard, HDMI, WiFi 6, Win 11, Grey',\n",
              "       'SAMSUNG Chromebook 12.2\" XE520QAB-K04US, Touchscreen',\n",
              "       'SAMSUNG Galaxy Tab S7 FE 12.4” 64GB WiFi Android Tablet w/ Large Screen, Long Lasting Battery, S Pen Included, Multi Device Connectivity, US Version, 2021, Mystic Black',\n",
              "       'ASUS L410 MA-DB02 Ultra Thin Laptop, 14” FHD Display, Intel Celeron N4020 Processor, 4GB RAM, 64GB Storage, NumberPad, Windows 10 Home in S Mode, Star Black',\n",
              "       'Miwasion Case ONLY Compatible with 13.5\" Microsoft Surface Metal Keyboard Laptop(4/3),Release(1868/1951) Laptop with Keyboard Protectors Plastic Hard Shell Cases（Garden\\xa0Flowers,Floral）',\n",
              "       'New Microsoft Surface Go 2 - 10.5\" Touch-Screen - Intel Pentium - 4GB Memory - 64GB - Wifi - Platinum (Latest Model)',\n",
              "       'Surface Laptop 12\"',\n",
              "       'Microsoft Surface Pro 7 – 12.3\" Touch-Screen - 10th Gen Intel Core i7 - 16GB Memory – 1TB SSD – Platinum',\n",
              "       'Microsoft Surface Pro 7 – 12.3\" Touch-Screen - Intel Core i3-4GB Memory - 128GB Solid State Drive – Platinum,',\n",
              "       'tomtoc 360 Protective Laptop Sleeve for 13.5-14.4 Inch New Microsoft Surface Laptop Studio/5/4/3/2/1, Surface Book 3/2/1, Waterproof Accessories Carrying Case Bag for Asus ZenBook/ VivoBook 14, Black',\n",
              "       'Microsoft Surface Go (Intel Pentium Gold, 8GB RAM, 128GB) (MCZ-00001)',\n",
              "       'Microsoft Surface Laptop 4 13.5\" Touch Screen - AMD Ryzen 5 Surface Edition - 8GB Memory - 128GB Solid State Drive with Windows 10 Home (Latest Model) – Platinum, Alcantara, 5M8-00001',\n",
              "       'Microsoft Surface Pro 7 – 12.3\" Touch-Screen - 10th Gen Intel Core i5 - 8GB Memory - 128GB SSD – Platinum',\n",
              "       'Lenovo Chromebook Flex 5 13\" Laptop, FHD Touch Display, Intel Core i3-10110U, 4GB RAM, 64GB Storage, Chrome OS',\n",
              "       'Microsoft Surface Pro 7 – 12.3\" Touch-Screen - Intel Core i5 - 8GB Memory - 256GB SSD Platinum',\n",
              "       'Microsoft Surface Pro X - 13\" Touchscreen - Microsoft SQ 2 - 16GB Memory - 256GB SSD - Device Only - Platinum (Latest Model)',\n",
              "       'Microsoft Surface Pro 6 12.3\" PixelSense Touchscreen Intel Core i5-8250U 16GB RAM 256GB SSD Windows 10 Home',\n",
              "       'Microsoft Surface Book Tablet PC - 13.5\" - PixelSense - Wireless LAN - Intel Core i7 i7-6600U Dual-core (2 Core) 2.60 GHz - Silver SW6-00001',\n",
              "       'Microsoft Surface Go 3 - 10.5\" Touchscreen - Intel® Pentium® Gold - 4GB Memory - 64GB eMMC - Device Only - Platinum (Latest Model)',\n",
              "       'New Microsoft Surface Go 2 - 10.5\" Touch-Screen - Intel Pentium - 4GB Memory - 64GB - Wifi - Platinum (Latest Model)'],\n",
              "      dtype=object)"
            ]
          },
          "execution_count": 73,
          "metadata": {},
          "output_type": "execute_result"
        }
      ],
      "source": [
        "ram_missing.Title.values"
      ]
    },
    {
      "cell_type": "code",
      "execution_count": 74,
      "metadata": {
        "colab": {
          "base_uri": "https://localhost:8080/"
        },
        "id": "Ns2k0L3sT3DG",
        "outputId": "2c08e2da-2e2a-48df-c4e9-ce9e080def0c"
      },
      "outputs": [
        {
          "name": "stderr",
          "output_type": "stream",
          "text": [
            "C:\\Program Files\\KMSpico\\temp\\ipykernel_10308\\2396449359.py:2: SettingWithCopyWarning: \n",
            "A value is trying to be set on a copy of a slice from a DataFrame.\n",
            "Try using .loc[row_indexer,col_indexer] = value instead\n",
            "\n",
            "See the caveats in the documentation: https://pandas.pydata.org/pandas-docs/stable/user_guide/indexing.html#returning-a-view-versus-a-copy\n",
            "  ram_missing['Ram'] = ram_missing.Title.str.extract(ram_patterns)\n"
          ]
        }
      ],
      "source": [
        "ram_patterns = r'(\\d{1,2}\\s*GB)'\n",
        "ram_missing['Ram'] = ram_missing.Title.str.extract(ram_patterns)"
      ]
    },
    {
      "cell_type": "code",
      "execution_count": 75,
      "metadata": {
        "colab": {
          "base_uri": "https://localhost:8080/"
        },
        "id": "iKyzpqcrqfzM",
        "outputId": "96c4d1a8-cc99-4e9d-b82d-88c8a6658a4e"
      },
      "outputs": [
        {
          "data": {
            "text/plain": [
              "array([nan, '4GB', '24GB', '8GB', '16GB', '12GB', '32GB', '64GB'],\n",
              "      dtype=object)"
            ]
          },
          "execution_count": 75,
          "metadata": {},
          "output_type": "execute_result"
        }
      ],
      "source": [
        "ram_missing.Ram.unique()"
      ]
    },
    {
      "cell_type": "code",
      "execution_count": 76,
      "metadata": {
        "id": "nkWfm-sHUpwY"
      },
      "outputs": [],
      "source": [
        "df.fillna(ram_missing, inplace=True)"
      ]
    },
    {
      "cell_type": "code",
      "execution_count": 77,
      "metadata": {
        "colab": {
          "base_uri": "https://localhost:8080/"
        },
        "id": "u-0ccad9qOuu",
        "outputId": "2cea7004-e849-4c75-df53-352d6a1cb496"
      },
      "outputs": [
        {
          "data": {
            "text/plain": [
              "41"
            ]
          },
          "execution_count": 77,
          "metadata": {},
          "output_type": "execute_result"
        }
      ],
      "source": [
        "df.Ram.isna().sum()"
      ]
    },
    {
      "cell_type": "code",
      "execution_count": 78,
      "metadata": {
        "colab": {
          "base_uri": "https://localhost:8080/"
        },
        "id": "9_YMbNmWVE2M",
        "outputId": "9bf1b289-757d-4baf-a65b-fc4be6f88a72"
      },
      "outputs": [
        {
          "data": {
            "text/plain": [
              "array(['Ficihp 13.3\" Laptop Screen Extender for M1 MacBook One Cable Plug&Play, Cooling System Triple Portable Monitor for Laptop with USB C HDMI, Monitor Attachment for Laptop Frame 13-16 inch Mac/Android',\n",
              "       'B BELK Compatible with MacBook Air 13 inch Case M1, MacBook Air Case 2021 2020 2019 2018 Model A2337 A2179 A1932 with Touch ID, Clear Plastic Laptop Hard Shell + 2 Keyboard Covers + Screen Protector',\n",
              "       'LG FHD 32-Inch Computer Monitor 32ML600M-B, IPS with HDR 10 Compatibility, Black',\n",
              "       'LG FHD 32-Inch Computer Monitor 32ML600M-B, IPS with HDR 10 Compatibility, Black',\n",
              "       'Toughbook CF-31JEGAX1M 13.1\" Notebook - Core i5 i5-2520M 2.50 GHz - Magnesium Alloy',\n",
              "       'Panasonic Toughbook CF-31ACAAA1M 13.1\" LED Notebook - Core i5 i5-520M 2.40 GHz',\n",
              "       'Panasonic Toughbook CF-31JF7991M 13.1\" LED Notebook - Intel Core i5 i5-2520M 2.50 GHz - 1024 x 768',\n",
              "       'Sceptre 30-inch Curved Gaming Monitor 21:9 2560x1080 Ultra Wide/ Slim HDMI DisplayPort up to 200Hz Build-in Speakers, Metal Black (C305B-200UN1)',\n",
              "       'Generic 11.6 inches HD Screen Compatible with Chromebook 11 CB3-111 Laptop Replacement LED LCD',\n",
              "       'Generic New 14.0 inch Screen Compatible with THINKPAD T480 20L5 Series Replacement Screen IPS',\n",
              "       'Generic 15.6\" HD Screen Compatible with Lenovo G50-80 (5D10G74897 NT156WHM-N12) Laptop Replacement LED LCD',\n",
              "       'Generic 15.6\" HD Screen Compatible with HP ProBook 4510s 4515s 4520s 4525s 4530s 4535s 4540s 4545s Laptop Replacement LED LCD',\n",
              "       'Generic 15.6\" HD Screen Compatible with Samsung Ltn156at37-l01 Laptop Replacement LED LCD',\n",
              "       'Generic New 17.3\" LED WXGA++ Glossy HD LCD Replacement Laptop Screen/Display Compatible with LTN173KT01 (K01, T01, A01, D01)',\n",
              "       'Fullcom New 15.6 inches Compatible with OMEN Laptop 15-AX210ND / 15-AX210NR fit N156HCA-EAA, N156HCA-EAA Laptop Replacement Screen',\n",
              "       '13-15 Inch Cat Paws Print Laptop Sleeve Case/Water-Resistant Neoprene Notebook Computer Pocket Tablet Briefcase Carrying Bag/Pouch Skin Cover for HP/Dell/Lenovo/Asus/Acer/Apple',\n",
              "       'AU OPTRONICS B156HAN01.2 LAPTOP LCD SCREEN 15.6\" Full-HD DIODE (SUBSTITUTE REPLACEMENT LCD SCREEN ONLY. NOT A LAPTOP )',\n",
              "       'Generic 15.6\" HD Screen Compatible with Lenovo G50-70 20351 Laptop Replacement LED LCD',\n",
              "       'Msi A6200 Laptop LCD Screen 15.6\" Wxga Hd LED Diode (Substitute Replacement LCD Screen Only. Not A Laptop)',\n",
              "       'Dell Inspiron 1545 Bt156Gw01 V.1 Laptop LCD Screen Replacement 15.6\" Wxga Hd LED Matte',\n",
              "       'New 17.3\" LED WXGA++ Glossy HD LCD Replacement Laptop Screen/Display for HP Pavilion G72-B60US & G72-B66US',\n",
              "       'Chunghwa Claa173ua01a Replacement LAPTOP LCD Screen 17.3\" WXGA++ LED DIODE (Substitute Replacement LCD Screen Only. Not a Laptop )',\n",
              "       'Boehydis Nv156fhm-n42 Replacement LAPTOP LCD Screen 15.6\" Full-HD LED DIODE (Substitute Only. Not a ) (IPS 1080P)',\n",
              "       'Chi Mei N133bge-l41 Replacement LAPTOP LCD Screen 13.3\" WXGA HD LED DIODE (Substitute Only. Not a )',\n",
              "       'Generic New 15.6\" HD Laptop Replacement LED LCD Screen Compatible with Dell Inspiron 15-3000 (B156XTN04.0 NON TOUCH)',\n",
              "       'Generic New 14.0\" HD Glossy Replacement LED LCD Screen Compatible with Toshiba Satellite L745 Models L745-S4110, L745-S4210, L745-S4310, L745-S4235',\n",
              "       'Generic New 14.0 inch IPS FHD (1080P) Laptop LED LCD Replacement Screen/Panel Compatible with B140HAN02.1/ B140HAN02.4',\n",
              "       'Generic AOHC 13-14 inch (Jet Black) Laptop Sleeve Case Laptop Stand Adjustable, Computer Shock Resistant Bag with Mouse Pad for MacBook, Window Surface',\n",
              "       'Generic, AOHC 1314 inch (Rose Gold) Laptop Sleeve Case Laptop Stand Adjustable, Computer Shock Resistant Bag with Mouse Pad for MacBook, Window Surface',\n",
              "       'Generic New 15.6\" HD Laptop Replacement LED LCD Screen Compatible with Dell Inspiron 15-3000 (B156XTN04.0 NON TOUCH)',\n",
              "       'Generic New 15.6\" IPS FHD 1080P Laptop LED LCD Replacement Screen/Panel Compatible with LP156WF6(SP)(K6) LP156WF6-SPK6',\n",
              "       'GENERIC 14.0\" WXGA Compatible with Dell Latitude E6420 LTN140AT16 Laptop LCD Screen Replacement',\n",
              "       'Generic, AOHC 1314 inch (Rose Gold) Laptop Sleeve Case Laptop Stand Adjustable, Computer Shock Resistant Bag with Mouse Pad for MacBook, Window Surface',\n",
              "       'Generic New 15.6\" IPS FHD 1080P Laptop LED LCD Replacement Screen/Panel Compatible with LP156WF6(SP)(K6) LP156WF6-SPK6',\n",
              "       'Generic New 14.0 inch Screen Compatible with THINKPAD T480 20L5 Series Replacement Screen IPS',\n",
              "       'Dell A6-9220e Inspiron Flagship High-Performance Laptop, 11.6',\n",
              "       'SAMSUNG Chromebook 12.2\" XE520QAB-K04US, Touchscreen',\n",
              "       'Miwasion Case ONLY Compatible with 13.5\" Microsoft Surface Metal Keyboard Laptop(4/3),Release(1868/1951) Laptop with Keyboard Protectors Plastic Hard Shell Cases（Garden\\xa0Flowers,Floral）',\n",
              "       'Surface Laptop 12\"',\n",
              "       'tomtoc 360 Protective Laptop Sleeve for 13.5-14.4 Inch New Microsoft Surface Laptop Studio/5/4/3/2/1, Surface Book 3/2/1, Waterproof Accessories Carrying Case Bag for Asus ZenBook/ VivoBook 14, Black',\n",
              "       'Microsoft Surface Book Tablet PC - 13.5\" - PixelSense - Wireless LAN - Intel Core i7 i7-6600U Dual-core (2 Core) 2.60 GHz - Silver SW6-00001'],\n",
              "      dtype=object)"
            ]
          },
          "execution_count": 78,
          "metadata": {},
          "output_type": "execute_result"
        }
      ],
      "source": [
        "ram_missing[ram_missing['Ram'].isna()].Title.values"
      ]
    },
    {
      "cell_type": "markdown",
      "metadata": {
        "id": "1SES5x1yVgxa"
      },
      "source": [
        "###It appears that ram value is missing from the title description of the remaining rows. Since, we don't have any other way to find the ram value, we will drop all the rows with ram value missing."
      ]
    },
    {
      "cell_type": "code",
      "execution_count": 79,
      "metadata": {
        "colab": {
          "base_uri": "https://localhost:8080/"
        },
        "id": "z-3zxifHrPUd",
        "outputId": "8e2640d2-38a9-4c95-ad84-649853d71284"
      },
      "outputs": [
        {
          "data": {
            "text/plain": [
              "(1851, 17)"
            ]
          },
          "execution_count": 79,
          "metadata": {},
          "output_type": "execute_result"
        }
      ],
      "source": [
        "df.shape"
      ]
    },
    {
      "cell_type": "code",
      "execution_count": 80,
      "metadata": {
        "id": "9LiUBkuIVGd6"
      },
      "outputs": [],
      "source": [
        "df.dropna(subset=['Ram'], inplace=True)"
      ]
    },
    {
      "cell_type": "code",
      "execution_count": 81,
      "metadata": {
        "colab": {
          "base_uri": "https://localhost:8080/"
        },
        "id": "j2R6gJfirdz3",
        "outputId": "b889b8e1-a4de-4022-a6e5-f232fc61b7d5"
      },
      "outputs": [
        {
          "data": {
            "text/plain": [
              "(1810, 17)"
            ]
          },
          "execution_count": 81,
          "metadata": {},
          "output_type": "execute_result"
        }
      ],
      "source": [
        "df.shape"
      ]
    },
    {
      "cell_type": "code",
      "execution_count": 82,
      "metadata": {
        "colab": {
          "base_uri": "https://localhost:8080/",
          "height": 617
        },
        "id": "DIqzATW_V_3t",
        "outputId": "b8989e7d-c8b5-432a-a062-7a5b4522c658"
      },
      "outputs": [
        {
          "data": {
            "text/plain": [
              "Title                  0\n",
              "Brand                  0\n",
              "Screen_Size            0\n",
              "CPU_Model              0\n",
              "Ram                    0\n",
              "Operating_System      34\n",
              "Rating               303\n",
              "Series               174\n",
              "Color                338\n",
              "Resolution          1723\n",
              "Weight              1784\n",
              "USB                 1794\n",
              "Battery             1807\n",
              "Graphics             467\n",
              "Disk_size            345\n",
              "Card_desc             93\n",
              "Price                  0\n",
              "dtype: int64"
            ]
          },
          "execution_count": 82,
          "metadata": {},
          "output_type": "execute_result"
        }
      ],
      "source": [
        "df.isna().sum()"
      ]
    },
    {
      "cell_type": "code",
      "execution_count": 83,
      "metadata": {
        "colab": {
          "base_uri": "https://localhost:8080/"
        },
        "id": "GB0L5xzArrhw",
        "outputId": "afe93e90-2cd4-4be5-fd5b-8765635ac41d"
      },
      "outputs": [
        {
          "data": {
            "text/plain": [
              "array(['4 GB', '32 GB', '16 GB', '64 GB', '8 GB', '128 GB', '12 GB',\n",
              "       '20 GB', '24 GB', '4GB', '24GB', '2 GB', '8GB', '6 GB', '1 TB',\n",
              "       '16GB', '12GB', '40 GB', '32GB', '64GB', '16 MB'], dtype=object)"
            ]
          },
          "execution_count": 83,
          "metadata": {},
          "output_type": "execute_result"
        }
      ],
      "source": [
        "df.Ram.unique()"
      ]
    },
    {
      "cell_type": "markdown",
      "metadata": {
        "id": "t36FVRT0sWA_"
      },
      "source": [
        "There is only one unique value for entry in TB and MB"
      ]
    },
    {
      "cell_type": "markdown",
      "metadata": {
        "id": "cUbu49VHsInD"
      },
      "source": [
        "##**Observations**\n",
        "- It appears that unique entries have different units for the volume\n",
        "- For model training, all the valumes must have same unit\n",
        "- We will go with GB"
      ]
    },
    {
      "cell_type": "code",
      "execution_count": 84,
      "metadata": {
        "id": "t5H9PFCms3Tv"
      },
      "outputs": [],
      "source": [
        "def ram_to_number(string):\n",
        "  \"\"\"\n",
        "  Extracts number from a string and convert it into number.\n",
        "\n",
        "  Args:\n",
        "    string : string containing magnetude and unit.\n",
        "\n",
        "  Returns:\n",
        "    A number in GB.\n",
        "  \"\"\"\n",
        "\n",
        "  pattern_num = r'(\\d{1,3})'  # Regular expression to identify number\n",
        "  pattern_unit = r'(GB|MB|TB)'  # Regular expression to identify unit\n",
        "  number = int(re.findall(pattern_num, string)[0])\n",
        "  unit = re.findall(pattern_unit, string)[0]\n",
        "  if unit == 'GB':\n",
        "    return number\n",
        "  elif unit == 'MB':\n",
        "    return number / 1024\n",
        "  else:\n",
        "    return number * 1024\n",
        "\n",
        "df.Ram = df.Ram.apply(ram_to_number)"
      ]
    },
    {
      "cell_type": "code",
      "execution_count": 85,
      "metadata": {
        "colab": {
          "base_uri": "https://localhost:8080/",
          "height": 554
        },
        "id": "p4cFvS1XugnF",
        "outputId": "c042a7e6-66d4-4e48-d856-fa1a690fc343"
      },
      "outputs": [
        {
          "data": {
            "text/plain": [
              "Ram\n",
              "0.015625         1\n",
              "2.000000        12\n",
              "4.000000       347\n",
              "6.000000        10\n",
              "8.000000       472\n",
              "12.000000       36\n",
              "16.000000      615\n",
              "20.000000       27\n",
              "24.000000        6\n",
              "32.000000      219\n",
              "40.000000        3\n",
              "64.000000       53\n",
              "128.000000       7\n",
              "1024.000000      2\n",
              "Name: count, dtype: int64"
            ]
          },
          "execution_count": 85,
          "metadata": {},
          "output_type": "execute_result"
        }
      ],
      "source": [
        "df.Ram.value_counts().sort_index()"
      ]
    },
    {
      "cell_type": "markdown",
      "metadata": {
        "id": "-FfppXilxPZz"
      },
      "source": [
        "##**Addressing Operating System feature**"
      ]
    },
    {
      "cell_type": "code",
      "execution_count": 86,
      "metadata": {
        "colab": {
          "base_uri": "https://localhost:8080/"
        },
        "id": "Qdkr-hWiXMwU",
        "outputId": "bfa11088-1ec5-4178-acaf-c0bd8c25deab"
      },
      "outputs": [
        {
          "data": {
            "text/plain": [
              "array(['Windows 11 Pro', 'Windows 11 Home', 'Windows 10 Pro',\n",
              "       'Windows 11', 'Windows 10 Home', 'Windows 7', 'Windows 10',\n",
              "       'MacOS 12 Monterey', 'Win 10 PRO /Free upgrade to Win 11',\n",
              "       'Windows 11 Home (S Mode)', 'Microsoft Windows 11 Professional',\n",
              "       'Microsoft Windows 10 Professional (64-Bit)',\n",
              "       'Microsoft Windows 10 Professional (64bit)',\n",
              "       'Win 10 Pro / Free upgrade to Win 11',\n",
              "       'Win 10 Multi-language /Free upgrade to Win 11',\n",
              "       'Microsoft Windows 11 Home', 'Chrome OS', 'Windows 10 S',\n",
              "       'Windows', 'Windows 11 Home in S Mode', 'Windows 11 S',\n",
              "       'Windows 7 Professional', nan, 'Pc', 'Windows xp',\n",
              "       'Windows 8 Professional', 'Windows 7 Professional, Windows 7',\n",
              "       'Windows 8 Pro, Windows 7', 'Windows 11 Home S Mode', 'Android 10',\n",
              "       'Window', 'Win 10 PRO Free upgrade to Win 11',\n",
              "       'Windows 10 Home, Windows 11, Windows 10', 'Windows 11 in S mode',\n",
              "       'Mac OS', 'Windows 8', 'Microsoft Windows 10 (64-Bit)',\n",
              "       'Windows 7 Home Premium 64-bit', 'Windows 10 64bits Pro',\n",
              "       'Windows 10 sekunda', 'Windows 11 Home in S mode',\n",
              "       'Windows 11 sekunda', 'Windows, Windows 11',\n",
              "       'Windows 10 Home, Windows 10 S, Windows, Windows 10',\n",
              "       'Google Chrome', 'Windows XP Professional 32 bit',\n",
              "       'Windows 10 Home, Windows 10 S', 'Windows 7, Windows, Windows 10',\n",
              "       'Windows 11 S - 2022 Version',\n",
              "       'Windows 10 Pro (Includes Windo ws 11 Pro License)',\n",
              "       'Windows 10 Pro, Windows 10 Home, Windows 10 S, Windows, Windows 11, Windows 10',\n",
              "       'Windows 11 Home | Laptop Only', 'Windows 10 S Mode'], dtype=object)"
            ]
          },
          "execution_count": 86,
          "metadata": {},
          "output_type": "execute_result"
        }
      ],
      "source": [
        "df.Operating_System.unique()"
      ]
    },
    {
      "cell_type": "code",
      "execution_count": 87,
      "metadata": {
        "colab": {
          "base_uri": "https://localhost:8080/"
        },
        "id": "k1BA8Saq0oOY",
        "outputId": "2ad8c1dc-5c93-4295-e232-a3b131e2a134"
      },
      "outputs": [
        {
          "data": {
            "text/plain": [
              "34"
            ]
          },
          "execution_count": 87,
          "metadata": {},
          "output_type": "execute_result"
        }
      ],
      "source": [
        "df.Operating_System.isna().sum()"
      ]
    },
    {
      "cell_type": "markdown",
      "metadata": {
        "id": "smdLjv7UyBWh"
      },
      "source": [
        "##**Observations**\n",
        "###Maority of unique entries contains 'Windows' versions.\n",
        "###Other entries got 'Mac OS' and 'Chrome OS'\n",
        "\n",
        "##**Preprocessing**\n",
        "###In order to check whether Operating Systems's significance with Price and handling missing values, following preprocessing operations should be performed\n",
        "- Transform all values into lower case\n",
        "- Filter out entries with no missing values and store it in a seperate dataframe. Continue further operations on new dataframe.\n",
        "- Remove extra part from each string other than Operating System's name and its version. (like 'Windows 11 Home | Laptop Only' to 'windows 10')\n",
        "- Calculate group mean of each Operating System's version with the Price and check whether it gives any insight.\n",
        "- Based on the insights, apply modifications if required and merge new dataframe back with original."
      ]
    },
    {
      "cell_type": "code",
      "execution_count": 88,
      "metadata": {
        "id": "ye2CXN0A7iV8"
      },
      "outputs": [],
      "source": [
        "# Filtering out entries with no missing values for Operating System feature\n",
        "os_present = df[~df.Operating_System.isna()]"
      ]
    },
    {
      "cell_type": "code",
      "execution_count": 89,
      "metadata": {
        "colab": {
          "base_uri": "https://localhost:8080/"
        },
        "id": "1G5YIdRXSGhu",
        "outputId": "57323ea4-f0c2-4f64-bcf5-6816c8868053"
      },
      "outputs": [
        {
          "data": {
            "text/plain": [
              "0"
            ]
          },
          "execution_count": 89,
          "metadata": {},
          "output_type": "execute_result"
        }
      ],
      "source": [
        "os_present.Operating_System.isna().sum()"
      ]
    },
    {
      "cell_type": "code",
      "execution_count": 90,
      "metadata": {
        "colab": {
          "base_uri": "https://localhost:8080/"
        },
        "id": "j_rQich8Sv06",
        "outputId": "1bf46ef4-fa91-4011-e556-ac540cc6f831"
      },
      "outputs": [
        {
          "data": {
            "text/plain": [
              "(1776, 17)"
            ]
          },
          "execution_count": 90,
          "metadata": {},
          "output_type": "execute_result"
        }
      ],
      "source": [
        "os_present.shape"
      ]
    },
    {
      "cell_type": "code",
      "execution_count": 91,
      "metadata": {
        "colab": {
          "base_uri": "https://localhost:8080/"
        },
        "id": "E6hWkcDKXy69",
        "outputId": "e426c5f6-7af2-4580-bd03-dcb398ca9324"
      },
      "outputs": [
        {
          "name": "stderr",
          "output_type": "stream",
          "text": [
            "C:\\Program Files\\KMSpico\\temp\\ipykernel_10308\\396848333.py:2: SettingWithCopyWarning: \n",
            "A value is trying to be set on a copy of a slice from a DataFrame.\n",
            "Try using .loc[row_indexer,col_indexer] = value instead\n",
            "\n",
            "See the caveats in the documentation: https://pandas.pydata.org/pandas-docs/stable/user_guide/indexing.html#returning-a-view-versus-a-copy\n",
            "  os_present.Operating_System = os_present.Operating_System.str.lower()\n"
          ]
        }
      ],
      "source": [
        "# Transforming entries into lower case\n",
        "os_present.Operating_System = os_present.Operating_System.str.lower()"
      ]
    },
    {
      "cell_type": "code",
      "execution_count": 92,
      "metadata": {
        "colab": {
          "base_uri": "https://localhost:8080/",
          "height": 690
        },
        "id": "fblsLjAtYiax",
        "outputId": "1245e5cb-80e5-4c12-f053-b46b576f2266"
      },
      "outputs": [
        {
          "name": "stderr",
          "output_type": "stream",
          "text": [
            "C:\\Program Files\\KMSpico\\temp\\ipykernel_10308\\2771543150.py:2: SettingWithCopyWarning: \n",
            "A value is trying to be set on a copy of a slice from a DataFrame.\n",
            "Try using .loc[row_indexer,col_indexer] = value instead\n",
            "\n",
            "See the caveats in the documentation: https://pandas.pydata.org/pandas-docs/stable/user_guide/indexing.html#returning-a-view-versus-a-copy\n",
            "  os_present['Operating_System'] = os_present.Operating_System.str.extract(pattern_os)\n"
          ]
        },
        {
          "data": {
            "text/plain": [
              "Operating_System\n",
              "windows 11    840\n",
              "windows 10    680\n",
              "chrome        175\n",
              "windows 7      27\n",
              "microsoft      15\n",
              "windows        12\n",
              "win 10         10\n",
              "windows 8       6\n",
              "macos 12        3\n",
              "windows         2\n",
              "mac             2\n",
              "pc              1\n",
              "android 10      1\n",
              "window          1\n",
              "google          1\n",
              "Name: count, dtype: int64"
            ]
          },
          "execution_count": 92,
          "metadata": {},
          "output_type": "execute_result"
        }
      ],
      "source": [
        "pattern_os = r'(\\w+\\s*\\d*)' # Regular Expression to filter OS and it's version\n",
        "os_present['Operating_System'] = os_present.Operating_System.str.extract(pattern_os)\n",
        "os_present.Operating_System.value_counts()"
      ]
    },
    {
      "cell_type": "markdown",
      "metadata": {
        "id": "1p8YHqnI8kBK"
      },
      "source": [
        "###Unique entries can be combined further in following manner:\n",
        "- chrome, android 10, google, pc : chrome_os\n",
        "- microsoft, windows, win 10, window : windows 10\n",
        "- macos 12, mac : mac_os"
      ]
    },
    {
      "cell_type": "code",
      "execution_count": 93,
      "metadata": {
        "colab": {
          "base_uri": "https://localhost:8080/"
        },
        "id": "64QioEC_94tk",
        "outputId": "92884c24-a430-4e11-c9fa-c95ecf8ca975"
      },
      "outputs": [
        {
          "name": "stderr",
          "output_type": "stream",
          "text": [
            "C:\\Program Files\\KMSpico\\temp\\ipykernel_10308\\2633631600.py:22: SettingWithCopyWarning: \n",
            "A value is trying to be set on a copy of a slice from a DataFrame.\n",
            "Try using .loc[row_indexer,col_indexer] = value instead\n",
            "\n",
            "See the caveats in the documentation: https://pandas.pydata.org/pandas-docs/stable/user_guide/indexing.html#returning-a-view-versus-a-copy\n",
            "  os_present['Operating_System'] = os_present.Operating_System.apply(os_renaming)\n"
          ]
        }
      ],
      "source": [
        "def os_renaming(string):\n",
        "  \"\"\"\n",
        "  This function standardizes operating system names to a few common values.\n",
        "\n",
        "  Args:\n",
        "    string: The original operating system name.\n",
        "\n",
        "  Returns:\n",
        "    A standardized operating system name (chrome_os, windows 10, or mac_os),\n",
        "    or None if the input doesn't match any known names.\n",
        "  \"\"\"\n",
        "  string = string.strip() # Important step : removing white space characters around the string\n",
        "  if string in ['chrome', 'android 10', 'google', 'pc']:\n",
        "    return 'chrome_os'\n",
        "  elif string in ['microsoft', 'windows', 'win 10', 'window']:\n",
        "    return 'windows 10'\n",
        "  elif string in ['macos 12', 'mac']:\n",
        "    return 'mac_os'\n",
        "  else :\n",
        "    return string\n",
        "\n",
        "os_present['Operating_System'] = os_present.Operating_System.apply(os_renaming)"
      ]
    },
    {
      "cell_type": "code",
      "execution_count": 94,
      "metadata": {
        "colab": {
          "base_uri": "https://localhost:8080/",
          "height": 303
        },
        "id": "xwSGGXLQaUMr",
        "outputId": "05aa5a63-29ab-4322-8ab3-c2865f4a4f77"
      },
      "outputs": [
        {
          "data": {
            "text/plain": [
              "Operating_System\n",
              "windows 11    840\n",
              "windows 10    720\n",
              "chrome_os     178\n",
              "windows 7      27\n",
              "windows 8       6\n",
              "mac_os          5\n",
              "Name: count, dtype: int64"
            ]
          },
          "execution_count": 94,
          "metadata": {},
          "output_type": "execute_result"
        }
      ],
      "source": [
        "os_present.Operating_System.value_counts()"
      ]
    },
    {
      "cell_type": "markdown",
      "metadata": {
        "id": "_RhHWaeGX7no"
      },
      "source": [
        "###Applying One Way Annova to check significance of Operating System feature with Price"
      ]
    },
    {
      "cell_type": "code",
      "execution_count": 95,
      "metadata": {
        "colab": {
          "base_uri": "https://localhost:8080/"
        },
        "id": "WcxcHcNuVIPz",
        "outputId": "4df7ee9e-8102-477a-c9f3-74e829c24e45"
      },
      "outputs": [
        {
          "name": "stdout",
          "output_type": "stream",
          "text": [
            "46.67892181084525 1.9757686880864124e-45\n"
          ]
        }
      ],
      "source": [
        "grouped_data = os_present.groupby('Operating_System')['Price'].apply(list)\n",
        "fvalue, pvalue = stats.f_oneway(*grouped_data)\n",
        "print(fvalue, pvalue)"
      ]
    },
    {
      "cell_type": "code",
      "execution_count": 96,
      "metadata": {
        "colab": {
          "base_uri": "https://localhost:8080/"
        },
        "id": "oCFZJsyfV1da",
        "outputId": "11f13186-e709-4f5a-cf3d-8df681a19ed6"
      },
      "outputs": [
        {
          "name": "stdout",
          "output_type": "stream",
          "text": [
            "Reject the null hypothesis\n"
          ]
        }
      ],
      "source": [
        "if pvalue < 0.05:\n",
        "  print('Reject the null hypothesis')\n",
        "else:\n",
        "  print('Accept the null hypothesis')"
      ]
    },
    {
      "cell_type": "code",
      "execution_count": 97,
      "metadata": {
        "colab": {
          "base_uri": "https://localhost:8080/",
          "height": 303
        },
        "id": "NFHH7cfoV7v5",
        "outputId": "7129dfd9-75b2-48bd-95fe-777c29075f6e"
      },
      "outputs": [
        {
          "data": {
            "text/plain": [
              "Operating_System\n",
              "chrome_os      18495.717303\n",
              "mac_os        168452.764000\n",
              "windows 10     93866.754139\n",
              "windows 11     89875.756381\n",
              "windows 7     191741.328889\n",
              "windows 8     144857.920000\n",
              "Name: Price, dtype: float64"
            ]
          },
          "execution_count": 97,
          "metadata": {},
          "output_type": "execute_result"
        }
      ],
      "source": [
        "os_present.groupby('Operating_System')['Price'].mean().sort_index()"
      ]
    },
    {
      "cell_type": "markdown",
      "metadata": {
        "id": "UYTYZqskYTq-"
      },
      "source": [
        "###Since, p_value is smaller than 0.05, we know different OS have maintain their significance with Price.\n",
        "###Let's check whether there is a mean difference between different versions os 'windows' operating system.\n",
        "###If there is no mean difference, we will combine all windows versions into single one."
      ]
    },
    {
      "cell_type": "code",
      "execution_count": 98,
      "metadata": {
        "id": "snHyB7sLWJrJ"
      },
      "outputs": [],
      "source": [
        "# Filtering out entries where OS is a version of 'windows'\n",
        "temp_os = os_present[(os_present.Operating_System == 'windows 7') | (os_present.Operating_System == 'windows 8') | \\\n",
        " (os_present.Operating_System == 'windows 10') | (os_present.Operating_System == 'windows 11')]"
      ]
    },
    {
      "cell_type": "code",
      "execution_count": 99,
      "metadata": {
        "colab": {
          "base_uri": "https://localhost:8080/"
        },
        "id": "hyj2MyOWWwSO",
        "outputId": "f4faa694-3059-4f5f-f95b-0e2f8bf6ec8e"
      },
      "outputs": [
        {
          "name": "stdout",
          "output_type": "stream",
          "text": [
            "16.47918960043456 1.5115600417120242e-10\n"
          ]
        }
      ],
      "source": [
        "grouped_data = temp_os.groupby('Operating_System')['Price'].apply(list)\n",
        "fvalue, pvalue = stats.f_oneway(*grouped_data)\n",
        "print(fvalue, pvalue)"
      ]
    },
    {
      "cell_type": "code",
      "execution_count": 100,
      "metadata": {
        "colab": {
          "base_uri": "https://localhost:8080/"
        },
        "id": "B4IijnaDXOQZ",
        "outputId": "e414f5e3-22d4-4e69-a506-6c8e90f98065"
      },
      "outputs": [
        {
          "name": "stdout",
          "output_type": "stream",
          "text": [
            "Reject the null hypothesis\n"
          ]
        }
      ],
      "source": [
        "if pvalue < 0.05:\n",
        "  print('Reject the null hypothesis')\n",
        "else:\n",
        "  print('Accept the null hypothesis')"
      ]
    },
    {
      "cell_type": "markdown",
      "metadata": {
        "id": "EfurE1HdZd8i"
      },
      "source": [
        "###It is proven than there is no mean difference between different versions of windows OS, so unique values of OS shouldn't be updated anymore\n",
        "###Now, this new dataframe should be combined with original one to handle missing values"
      ]
    },
    {
      "cell_type": "code",
      "execution_count": 101,
      "metadata": {
        "id": "T1uJ6l_FaXCp"
      },
      "outputs": [],
      "source": [
        "df.loc[os_present.index, 'Operating_System'] = os_present.Operating_System"
      ]
    },
    {
      "cell_type": "code",
      "execution_count": 102,
      "metadata": {
        "colab": {
          "base_uri": "https://localhost:8080/",
          "height": 303
        },
        "id": "uo0KiQeCabDr",
        "outputId": "70381755-1cea-4271-9979-ae3267cfaeb6"
      },
      "outputs": [
        {
          "data": {
            "text/plain": [
              "Operating_System\n",
              "windows 11    840\n",
              "windows 10    720\n",
              "chrome_os     178\n",
              "windows 7      27\n",
              "windows 8       6\n",
              "mac_os          5\n",
              "Name: count, dtype: int64"
            ]
          },
          "execution_count": 102,
          "metadata": {},
          "output_type": "execute_result"
        }
      ],
      "source": [
        "df.Operating_System.value_counts()"
      ]
    },
    {
      "cell_type": "code",
      "execution_count": 103,
      "metadata": {
        "colab": {
          "base_uri": "https://localhost:8080/"
        },
        "id": "3-LdunYUarhY",
        "outputId": "4c86ef2a-e94b-4ccb-88f3-d7c4f571556d"
      },
      "outputs": [
        {
          "data": {
            "text/plain": [
              "34"
            ]
          },
          "execution_count": 103,
          "metadata": {},
          "output_type": "execute_result"
        }
      ],
      "source": [
        "df.Operating_System.isna().sum()"
      ]
    },
    {
      "cell_type": "code",
      "execution_count": 104,
      "metadata": {
        "id": "g2MvHoq0ayiI"
      },
      "outputs": [],
      "source": [
        "# Filtering out missing entries from Operating System feature\n",
        "missing_os = df[df.Operating_System.isna()]"
      ]
    },
    {
      "cell_type": "code",
      "execution_count": 105,
      "metadata": {
        "colab": {
          "base_uri": "https://localhost:8080/",
          "height": 241
        },
        "id": "HIZqYCZoc39I",
        "outputId": "a390f779-962a-4737-a1f7-0fb2a644992b"
      },
      "outputs": [
        {
          "data": {
            "text/plain": [
              "CPU_Model\n",
              "i3         30215.987059\n",
              "i5         67778.487692\n",
              "i7        187548.486667\n",
              "ryzen3     40999.180000\n",
              "Name: Price, dtype: float64"
            ]
          },
          "execution_count": 105,
          "metadata": {},
          "output_type": "execute_result"
        }
      ],
      "source": [
        "missing_os.groupby('CPU_Model')['Price'].mean()"
      ]
    },
    {
      "cell_type": "markdown",
      "metadata": {
        "id": "polQWrIxjTJC"
      },
      "source": [
        "##**Observations**\n",
        "- Usually, higher Core i version number correlates with higher Price. Same is observed during CPU_Model preprocessing steps. But, in this case correlation is reversed.\n",
        "- Let's check whether there is same correlation present with individual Operating System in the original dataframe"
      ]
    },
    {
      "cell_type": "code",
      "execution_count": 106,
      "metadata": {
        "colab": {
          "base_uri": "https://localhost:8080/",
          "height": 241
        },
        "id": "XZaEmh_5eCHO",
        "outputId": "8e70369c-167a-4681-e3e7-b6b59864f27d"
      },
      "outputs": [
        {
          "data": {
            "text/plain": [
              "CPU_Model\n",
              "i3        237799.180000\n",
              "i5        194612.622667\n",
              "i7        193884.818000\n",
              "ryzen7     81179.180000\n",
              "Name: Price, dtype: float64"
            ]
          },
          "execution_count": 106,
          "metadata": {},
          "output_type": "execute_result"
        }
      ],
      "source": [
        "df[df.Operating_System == 'windows 7'][['CPU_Model', 'Price']].groupby('CPU_Model')['Price'].mean()"
      ]
    },
    {
      "cell_type": "code",
      "execution_count": 107,
      "metadata": {
        "colab": {
          "base_uri": "https://localhost:8080/",
          "height": 178
        },
        "id": "WBZ5XFZYe6tn",
        "outputId": "4b3963a4-170a-4e93-a75b-1eea30658b09"
      },
      "outputs": [
        {
          "data": {
            "text/plain": [
              "CPU_Model\n",
              "i5    196799.18\n",
              "i7    118887.29\n",
              "Name: Price, dtype: float64"
            ]
          },
          "execution_count": 107,
          "metadata": {},
          "output_type": "execute_result"
        }
      ],
      "source": [
        "df[df.Operating_System == 'windows 8'][['CPU_Model', 'Price']].groupby('CPU_Model')['Price'].mean()"
      ]
    },
    {
      "cell_type": "code",
      "execution_count": 108,
      "metadata": {
        "colab": {
          "base_uri": "https://localhost:8080/",
          "height": 397
        },
        "id": "yMDQXFoQmq_O",
        "outputId": "90386ccb-5f22-47c9-9720-0a2f367befba"
      },
      "outputs": [
        {
          "data": {
            "text/plain": [
              "CPU_Model\n",
              "celeron     21559.358812\n",
              "i3          33927.627556\n",
              "i5          75960.279351\n",
              "i7         129968.529964\n",
              "i9         323880.292667\n",
              "ryzen3      33473.657333\n",
              "ryzen5      50044.513684\n",
              "ryzen7      76252.751200\n",
              "ryzen9     167106.756364\n",
              "Name: Price, dtype: float64"
            ]
          },
          "execution_count": 108,
          "metadata": {},
          "output_type": "execute_result"
        }
      ],
      "source": [
        "df[df.Operating_System == 'windows 10'][['CPU_Model', 'Price']].groupby('CPU_Model')['Price'].mean()"
      ]
    },
    {
      "cell_type": "code",
      "execution_count": 109,
      "metadata": {
        "colab": {
          "base_uri": "https://localhost:8080/",
          "height": 397
        },
        "id": "ArY5HD08mvaA",
        "outputId": "956a8105-5816-4989-8f8d-ced2f0d69913"
      },
      "outputs": [
        {
          "data": {
            "text/plain": [
              "CPU_Model\n",
              "celeron     21894.675294\n",
              "i3          35127.235229\n",
              "i5          61718.204343\n",
              "i7         124181.165714\n",
              "i9         256985.091321\n",
              "ryzen3      38144.315833\n",
              "ryzen5      50258.193600\n",
              "ryzen7      73113.555636\n",
              "ryzen9     140390.516842\n",
              "Name: Price, dtype: float64"
            ]
          },
          "execution_count": 109,
          "metadata": {},
          "output_type": "execute_result"
        }
      ],
      "source": [
        "df[df.Operating_System == 'windows 11'][['CPU_Model', 'Price']].groupby('CPU_Model')['Price'].mean()"
      ]
    },
    {
      "cell_type": "markdown",
      "metadata": {
        "id": "kQ8Q-BRrnUSY"
      },
      "source": [
        "##**Observations**\n",
        "- It appears that Operating_System with subcategory 'windows 7' and 'windows 8' also are following reverse correlation.\n",
        "- Let's check whether entries with these Operating_Systems are having any outliers in the original dataframe"
      ]
    },
    {
      "cell_type": "code",
      "execution_count": 110,
      "metadata": {
        "colab": {
          "base_uri": "https://localhost:8080/",
          "height": 303
        },
        "id": "w7rfYjcgsHM_",
        "outputId": "a58fd480-767b-4b1c-9939-698ef7ba1107"
      },
      "outputs": [
        {
          "data": {
            "text/plain": [
              "Operating_System\n",
              "windows 11    840\n",
              "windows 10    720\n",
              "chrome_os     178\n",
              "windows 7      27\n",
              "windows 8       6\n",
              "mac_os          5\n",
              "Name: count, dtype: int64"
            ]
          },
          "execution_count": 110,
          "metadata": {},
          "output_type": "execute_result"
        }
      ],
      "source": [
        "df.Operating_System.value_counts()"
      ]
    },
    {
      "cell_type": "code",
      "execution_count": 111,
      "metadata": {
        "colab": {
          "base_uri": "https://localhost:8080/",
          "height": 896
        },
        "id": "RVhgtRoloLMj",
        "outputId": "ba923139-68ec-491b-a4f8-3fb1238673b1"
      },
      "outputs": [
        {
          "data": {
            "text/html": [
              "<div>\n",
              "<style scoped>\n",
              "    .dataframe tbody tr th:only-of-type {\n",
              "        vertical-align: middle;\n",
              "    }\n",
              "\n",
              "    .dataframe tbody tr th {\n",
              "        vertical-align: top;\n",
              "    }\n",
              "\n",
              "    .dataframe thead th {\n",
              "        text-align: right;\n",
              "    }\n",
              "</style>\n",
              "<table border=\"1\" class=\"dataframe\">\n",
              "  <thead>\n",
              "    <tr style=\"text-align: right;\">\n",
              "      <th></th>\n",
              "      <th>Brand</th>\n",
              "      <th>Ram</th>\n",
              "      <th>Disk_size</th>\n",
              "      <th>CPU_Model</th>\n",
              "      <th>Price</th>\n",
              "    </tr>\n",
              "  </thead>\n",
              "  <tbody>\n",
              "    <tr>\n",
              "      <th>308</th>\n",
              "      <td>Toughbook</td>\n",
              "      <td>4.0</td>\n",
              "      <td>320 GB</td>\n",
              "      <td>i5</td>\n",
              "      <td>49199.18</td>\n",
              "    </tr>\n",
              "    <tr>\n",
              "      <th>400</th>\n",
              "      <td>Panasonic</td>\n",
              "      <td>2.0</td>\n",
              "      <td>160 GB</td>\n",
              "      <td>i5</td>\n",
              "      <td>65599.18</td>\n",
              "    </tr>\n",
              "    <tr>\n",
              "      <th>305</th>\n",
              "      <td>Panasonic</td>\n",
              "      <td>4.0</td>\n",
              "      <td>500 GB</td>\n",
              "      <td>i5</td>\n",
              "      <td>73799.18</td>\n",
              "    </tr>\n",
              "    <tr>\n",
              "      <th>1275</th>\n",
              "      <td>ASUS</td>\n",
              "      <td>4.0</td>\n",
              "      <td>1 TB</td>\n",
              "      <td>ryzen7</td>\n",
              "      <td>81179.18</td>\n",
              "    </tr>\n",
              "    <tr>\n",
              "      <th>438</th>\n",
              "      <td>Panasonic</td>\n",
              "      <td>4.0</td>\n",
              "      <td>500 GB</td>\n",
              "      <td>i5</td>\n",
              "      <td>114799.18</td>\n",
              "    </tr>\n",
              "    <tr>\n",
              "      <th>459</th>\n",
              "      <td>Toughbook</td>\n",
              "      <td>4.0</td>\n",
              "      <td>500 GB</td>\n",
              "      <td>i7</td>\n",
              "      <td>131199.18</td>\n",
              "    </tr>\n",
              "    <tr>\n",
              "      <th>15</th>\n",
              "      <td>Panasonic</td>\n",
              "      <td>4.0</td>\n",
              "      <td>320 GB</td>\n",
              "      <td>i5</td>\n",
              "      <td>159899.18</td>\n",
              "    </tr>\n",
              "    <tr>\n",
              "      <th>872</th>\n",
              "      <td>Alienware</td>\n",
              "      <td>8.0</td>\n",
              "      <td>1024 GB</td>\n",
              "      <td>i7</td>\n",
              "      <td>163918.00</td>\n",
              "    </tr>\n",
              "    <tr>\n",
              "      <th>891</th>\n",
              "      <td>Alienware</td>\n",
              "      <td>8.0</td>\n",
              "      <td>1 TB</td>\n",
              "      <td>i7</td>\n",
              "      <td>163984.42</td>\n",
              "    </tr>\n",
              "    <tr>\n",
              "      <th>864</th>\n",
              "      <td>Alienware</td>\n",
              "      <td>8.0</td>\n",
              "      <td>1 TB</td>\n",
              "      <td>i7</td>\n",
              "      <td>163984.42</td>\n",
              "    </tr>\n",
              "    <tr>\n",
              "      <th>874</th>\n",
              "      <td>Alienware</td>\n",
              "      <td>16.0</td>\n",
              "      <td>1024 GB</td>\n",
              "      <td>i7</td>\n",
              "      <td>163995.90</td>\n",
              "    </tr>\n",
              "    <tr>\n",
              "      <th>920</th>\n",
              "      <td>Alienware</td>\n",
              "      <td>8.0</td>\n",
              "      <td>1024 GB</td>\n",
              "      <td>i7</td>\n",
              "      <td>163995.90</td>\n",
              "    </tr>\n",
              "    <tr>\n",
              "      <th>441</th>\n",
              "      <td>Panasonic</td>\n",
              "      <td>4.0</td>\n",
              "      <td>320 GB</td>\n",
              "      <td>i5</td>\n",
              "      <td>163999.18</td>\n",
              "    </tr>\n",
              "    <tr>\n",
              "      <th>453</th>\n",
              "      <td>Panasonic</td>\n",
              "      <td>4.0</td>\n",
              "      <td>500 GB</td>\n",
              "      <td>i7</td>\n",
              "      <td>200572.00</td>\n",
              "    </tr>\n",
              "    <tr>\n",
              "      <th>489</th>\n",
              "      <td>Toughbook</td>\n",
              "      <td>4.0</td>\n",
              "      <td>320 GB</td>\n",
              "      <td>i5</td>\n",
              "      <td>200899.18</td>\n",
              "    </tr>\n",
              "    <tr>\n",
              "      <th>439</th>\n",
              "      <td>Panasonic</td>\n",
              "      <td>4.0</td>\n",
              "      <td>500 GB</td>\n",
              "      <td>i5</td>\n",
              "      <td>221399.18</td>\n",
              "    </tr>\n",
              "    <tr>\n",
              "      <th>435</th>\n",
              "      <td>Panasonic</td>\n",
              "      <td>4.0</td>\n",
              "      <td>320 GB</td>\n",
              "      <td>i7</td>\n",
              "      <td>229600.00</td>\n",
              "    </tr>\n",
              "    <tr>\n",
              "      <th>461</th>\n",
              "      <td>Panasonic</td>\n",
              "      <td>2.0</td>\n",
              "      <td>320 GB</td>\n",
              "      <td>i3</td>\n",
              "      <td>237799.18</td>\n",
              "    </tr>\n",
              "    <tr>\n",
              "      <th>436</th>\n",
              "      <td>Toughbook</td>\n",
              "      <td>4.0</td>\n",
              "      <td>500 GB</td>\n",
              "      <td>i5</td>\n",
              "      <td>241900.00</td>\n",
              "    </tr>\n",
              "    <tr>\n",
              "      <th>262</th>\n",
              "      <td>Toughbook</td>\n",
              "      <td>4.0</td>\n",
              "      <td>NaN</td>\n",
              "      <td>i5</td>\n",
              "      <td>245999.18</td>\n",
              "    </tr>\n",
              "    <tr>\n",
              "      <th>460</th>\n",
              "      <td>Panasonic</td>\n",
              "      <td>8.0</td>\n",
              "      <td>500 GB</td>\n",
              "      <td>i7</td>\n",
              "      <td>245999.18</td>\n",
              "    </tr>\n",
              "    <tr>\n",
              "      <th>449</th>\n",
              "      <td>Panasonic</td>\n",
              "      <td>4.0</td>\n",
              "      <td>500 GB</td>\n",
              "      <td>i5</td>\n",
              "      <td>250099.18</td>\n",
              "    </tr>\n",
              "    <tr>\n",
              "      <th>273</th>\n",
              "      <td>Panasonic</td>\n",
              "      <td>4.0</td>\n",
              "      <td>500 GB</td>\n",
              "      <td>i5</td>\n",
              "      <td>270599.18</td>\n",
              "    </tr>\n",
              "    <tr>\n",
              "      <th>454</th>\n",
              "      <td>Panasonic</td>\n",
              "      <td>4.0</td>\n",
              "      <td>NaN</td>\n",
              "      <td>i5</td>\n",
              "      <td>270600.00</td>\n",
              "    </tr>\n",
              "    <tr>\n",
              "      <th>437</th>\n",
              "      <td>Panasonic</td>\n",
              "      <td>4.0</td>\n",
              "      <td>500 GB</td>\n",
              "      <td>i5</td>\n",
              "      <td>286999.18</td>\n",
              "    </tr>\n",
              "    <tr>\n",
              "      <th>468</th>\n",
              "      <td>Panasonic</td>\n",
              "      <td>4.0</td>\n",
              "      <td>500 GB</td>\n",
              "      <td>i5</td>\n",
              "      <td>303399.18</td>\n",
              "    </tr>\n",
              "    <tr>\n",
              "      <th>306</th>\n",
              "      <td>Toughbook</td>\n",
              "      <td>4.0</td>\n",
              "      <td>500 GB</td>\n",
              "      <td>i7</td>\n",
              "      <td>311599.18</td>\n",
              "    </tr>\n",
              "  </tbody>\n",
              "</table>\n",
              "</div>"
            ],
            "text/plain": [
              "          Brand   Ram Disk_size CPU_Model      Price\n",
              "308   Toughbook   4.0    320 GB        i5   49199.18\n",
              "400   Panasonic   2.0    160 GB        i5   65599.18\n",
              "305   Panasonic   4.0    500 GB        i5   73799.18\n",
              "1275       ASUS   4.0      1 TB    ryzen7   81179.18\n",
              "438   Panasonic   4.0    500 GB        i5  114799.18\n",
              "459   Toughbook   4.0    500 GB        i7  131199.18\n",
              "15    Panasonic   4.0    320 GB        i5  159899.18\n",
              "872   Alienware   8.0   1024 GB        i7  163918.00\n",
              "891   Alienware   8.0      1 TB        i7  163984.42\n",
              "864   Alienware   8.0      1 TB        i7  163984.42\n",
              "874   Alienware  16.0   1024 GB        i7  163995.90\n",
              "920   Alienware   8.0   1024 GB        i7  163995.90\n",
              "441   Panasonic   4.0    320 GB        i5  163999.18\n",
              "453   Panasonic   4.0    500 GB        i7  200572.00\n",
              "489   Toughbook   4.0    320 GB        i5  200899.18\n",
              "439   Panasonic   4.0    500 GB        i5  221399.18\n",
              "435   Panasonic   4.0    320 GB        i7  229600.00\n",
              "461   Panasonic   2.0    320 GB        i3  237799.18\n",
              "436   Toughbook   4.0    500 GB        i5  241900.00\n",
              "262   Toughbook   4.0       NaN        i5  245999.18\n",
              "460   Panasonic   8.0    500 GB        i7  245999.18\n",
              "449   Panasonic   4.0    500 GB        i5  250099.18\n",
              "273   Panasonic   4.0    500 GB        i5  270599.18\n",
              "454   Panasonic   4.0       NaN        i5  270600.00\n",
              "437   Panasonic   4.0    500 GB        i5  286999.18\n",
              "468   Panasonic   4.0    500 GB        i5  303399.18\n",
              "306   Toughbook   4.0    500 GB        i7  311599.18"
            ]
          },
          "execution_count": 111,
          "metadata": {},
          "output_type": "execute_result"
        }
      ],
      "source": [
        "df[df.Operating_System == 'windows 7'][['Brand', 'Ram', 'Disk_size', 'CPU_Model', 'Price']].sort_values('Price')"
      ]
    },
    {
      "cell_type": "markdown",
      "metadata": {
        "id": "dufMGAiOv1oN"
      },
      "source": [
        "###**Observations**\n",
        "- Hard to filter considerable number of outliers\n",
        "- Higher Prices have higher versions of CPU_Models\n",
        "- For a time being, we will assign following structure of missing values of Operating System\n",
        "- For Price < 30000 : chrome_os\n",
        "- For Price >= 30000 : windows 10"
      ]
    },
    {
      "cell_type": "code",
      "execution_count": 112,
      "metadata": {
        "colab": {
          "base_uri": "https://localhost:8080/"
        },
        "id": "48kAGMZ_xAtW",
        "outputId": "6234f8b2-458f-4bcd-b6c6-70a06db37ca5"
      },
      "outputs": [
        {
          "name": "stderr",
          "output_type": "stream",
          "text": [
            "C:\\Program Files\\KMSpico\\temp\\ipykernel_10308\\2491107593.py:16: SettingWithCopyWarning: \n",
            "A value is trying to be set on a copy of a slice from a DataFrame.\n",
            "Try using .loc[row_indexer,col_indexer] = value instead\n",
            "\n",
            "See the caveats in the documentation: https://pandas.pydata.org/pandas-docs/stable/user_guide/indexing.html#returning-a-view-versus-a-copy\n",
            "  missing_os['Operating_System'] = missing_os.Price.apply(os_assigner)\n"
          ]
        }
      ],
      "source": [
        "def os_assigner(price):\n",
        "  \"\"\"Assigns an operating system based on the price.\n",
        "\n",
        "  Args:\n",
        "    price: The price of the device.\n",
        "\n",
        "  Returns:\n",
        "    'chrome_os' if the price is less than 30000,\n",
        "    'windows 10' otherwise.\n",
        "  \"\"\"\n",
        "  if price < 30000:\n",
        "    return 'chrome_os'  # Assign 'chrome_os' for lower-priced devices\n",
        "  else:\n",
        "    return 'windows 10'  # Assign 'windows 10' for higher-priced devices\n",
        "\n",
        "missing_os['Operating_System'] = missing_os.Price.apply(os_assigner)"
      ]
    },
    {
      "cell_type": "code",
      "execution_count": 113,
      "metadata": {
        "colab": {
          "base_uri": "https://localhost:8080/"
        },
        "id": "Fn2hf5rgyNVp",
        "outputId": "c5841a11-1834-4e4b-b254-f9a4068711ed"
      },
      "outputs": [
        {
          "data": {
            "text/plain": [
              "0"
            ]
          },
          "execution_count": 113,
          "metadata": {},
          "output_type": "execute_result"
        }
      ],
      "source": [
        "missing_os.Operating_System.isna().sum()"
      ]
    },
    {
      "cell_type": "code",
      "execution_count": 114,
      "metadata": {
        "id": "CpItLed6yUKJ"
      },
      "outputs": [],
      "source": [
        "# Merging with original dataframe\n",
        "df.loc[missing_os.index, 'Operating_System'] = missing_os.Operating_System"
      ]
    },
    {
      "cell_type": "code",
      "execution_count": 115,
      "metadata": {
        "colab": {
          "base_uri": "https://localhost:8080/",
          "height": 617
        },
        "id": "yEp9cKDayaKu",
        "outputId": "cf4a964e-e7bc-43d3-fc89-382523e2b63c"
      },
      "outputs": [
        {
          "data": {
            "text/plain": [
              "Title                  0\n",
              "Brand                  0\n",
              "Screen_Size            0\n",
              "CPU_Model              0\n",
              "Ram                    0\n",
              "Operating_System       0\n",
              "Rating               303\n",
              "Series               174\n",
              "Color                338\n",
              "Resolution          1723\n",
              "Weight              1784\n",
              "USB                 1794\n",
              "Battery             1807\n",
              "Graphics             467\n",
              "Disk_size            345\n",
              "Card_desc             93\n",
              "Price                  0\n",
              "dtype: int64"
            ]
          },
          "execution_count": 115,
          "metadata": {},
          "output_type": "execute_result"
        }
      ],
      "source": [
        "df.isna().sum()"
      ]
    },
    {
      "cell_type": "markdown",
      "metadata": {
        "id": "UKoBErZB9-0-"
      },
      "source": [
        "##**Addressing Ratings**"
      ]
    },
    {
      "cell_type": "code",
      "execution_count": 116,
      "metadata": {
        "colab": {
          "base_uri": "https://localhost:8080/"
        },
        "id": "9IOjJotnEU9N",
        "outputId": "ff2fc084-76d2-4460-cad9-45b7e5cd2ce3"
      },
      "outputs": [
        {
          "data": {
            "text/plain": [
              "array([3.9, 4.4, 4.3, 4.5, 5. , 4.1, nan, 3.1, 4.2, 4.8, 3.8, 3. , 4.9,\n",
              "       2.8, 4.6, 3.7, 4. , 2.5, 4.7, 2. , 1. , 3.3, 3.6, 3.4, 3.5, 2.1,\n",
              "       2.6, 3.2, 2.4, 2.7, 2.9, 2.3])"
            ]
          },
          "execution_count": 116,
          "metadata": {},
          "output_type": "execute_result"
        }
      ],
      "source": [
        "df.Rating.unique()"
      ]
    },
    {
      "cell_type": "code",
      "execution_count": 117,
      "metadata": {
        "colab": {
          "base_uri": "https://localhost:8080/"
        },
        "id": "AKzPNMlMEaa7",
        "outputId": "876cc7d4-934d-4e61-9dbd-b69ff797cd32"
      },
      "outputs": [
        {
          "data": {
            "text/plain": [
              "303"
            ]
          },
          "execution_count": 117,
          "metadata": {},
          "output_type": "execute_result"
        }
      ],
      "source": [
        "df.Rating.isna().sum()"
      ]
    },
    {
      "cell_type": "markdown",
      "metadata": {
        "id": "oPqMDGrMEhS1"
      },
      "source": [
        "- Retrieving rating through from some other feature like Title is not possible since Title doesn't describe ratings.\n",
        "- Two options: Assign average ratings or assign zero ratings.\n",
        "- We will asign zeo ratings to all missing entries."
      ]
    },
    {
      "cell_type": "code",
      "execution_count": 118,
      "metadata": {
        "id": "fPa6XhnDFVIC"
      },
      "outputs": [],
      "source": [
        "df.Rating.fillna(0, inplace=True)"
      ]
    },
    {
      "cell_type": "code",
      "execution_count": 119,
      "metadata": {
        "colab": {
          "base_uri": "https://localhost:8080/",
          "height": 617
        },
        "id": "xqLKHQ4uFYH-",
        "outputId": "39337d5b-4e04-4ca9-86ef-79e63bfec6cb"
      },
      "outputs": [
        {
          "data": {
            "text/plain": [
              "Title                  0\n",
              "Brand                  0\n",
              "Screen_Size            0\n",
              "CPU_Model              0\n",
              "Ram                    0\n",
              "Operating_System       0\n",
              "Rating                 0\n",
              "Series               174\n",
              "Color                338\n",
              "Resolution          1723\n",
              "Weight              1784\n",
              "USB                 1794\n",
              "Battery             1807\n",
              "Graphics             467\n",
              "Disk_size            345\n",
              "Card_desc             93\n",
              "Price                  0\n",
              "dtype: int64"
            ]
          },
          "execution_count": 119,
          "metadata": {},
          "output_type": "execute_result"
        }
      ],
      "source": [
        "df.isna().sum()"
      ]
    },
    {
      "cell_type": "markdown",
      "metadata": {
        "id": "TKo4ANiBFiVS"
      },
      "source": [
        "###Features including Resolution, Weight, USB, Battery have missing entries almost equal to total entries. And from the Title description, it's hard to retrieve even 50% of those values. Hence, we will drop them."
      ]
    },
    {
      "cell_type": "markdown",
      "metadata": {
        "id": "8mg2aHLlJaj9"
      },
      "source": [
        "##**Addressing Resolution, Weight, USB, Battery**"
      ]
    },
    {
      "cell_type": "code",
      "execution_count": 120,
      "metadata": {
        "id": "ZvGE-Ez-IhUu"
      },
      "outputs": [],
      "source": [
        "df.drop(['Resolution', 'Weight', 'USB', 'Battery'], axis=1, inplace=True)"
      ]
    },
    {
      "cell_type": "code",
      "execution_count": 121,
      "metadata": {
        "colab": {
          "base_uri": "https://localhost:8080/",
          "height": 491
        },
        "id": "BIEFvP5EJGGK",
        "outputId": "73881776-2bce-4c9d-c3ed-b1da762da4ca"
      },
      "outputs": [
        {
          "data": {
            "text/plain": [
              "Title                 0\n",
              "Brand                 0\n",
              "Screen_Size           0\n",
              "CPU_Model             0\n",
              "Ram                   0\n",
              "Operating_System      0\n",
              "Rating                0\n",
              "Series              174\n",
              "Color               338\n",
              "Graphics            467\n",
              "Disk_size           345\n",
              "Card_desc            93\n",
              "Price                 0\n",
              "dtype: int64"
            ]
          },
          "execution_count": 121,
          "metadata": {},
          "output_type": "execute_result"
        }
      ],
      "source": [
        "df.isna().sum()"
      ]
    },
    {
      "cell_type": "markdown",
      "metadata": {
        "id": "EXB9ApXQKhrI"
      },
      "source": [
        "##**Addressing Series**"
      ]
    },
    {
      "cell_type": "code",
      "execution_count": 122,
      "metadata": {
        "colab": {
          "base_uri": "https://localhost:8080/",
          "height": 489
        },
        "id": "BiPfPvJCaZge",
        "outputId": "497cb586-a476-4bf3-ded1-37cb542163e8"
      },
      "outputs": [
        {
          "data": {
            "text/plain": [
              "Series\n",
              "inspiron                  34\n",
              "pavilion                  23\n",
              "aspire 5                  23\n",
              "vivobook                  22\n",
              "dell inspiron             21\n",
              "                          ..\n",
              "aero 17                    1\n",
              "victus 15                  1\n",
              "aorus 15p yd-73us244sh     1\n",
              "antique                    1\n",
              "ms1zo00001ob               1\n",
              "Name: count, Length: 915, dtype: int64"
            ]
          },
          "execution_count": 122,
          "metadata": {},
          "output_type": "execute_result"
        }
      ],
      "source": [
        "series = df.Series.str.lower().value_counts()\n",
        "series"
      ]
    },
    {
      "cell_type": "code",
      "execution_count": 123,
      "metadata": {
        "colab": {
          "base_uri": "https://localhost:8080/",
          "height": 523
        },
        "id": "ThuxHSgQMtBb",
        "outputId": "16e8b0d1-175a-4eb0-b577-5694eccc3242"
      },
      "outputs": [
        {
          "data": {
            "text/plain": [
              "Series\n",
              "inspiron                   34\n",
              "pavilion                   23\n",
              "aspire 5                   23\n",
              "vivobook                   22\n",
              "dell inspiron              21\n",
              "hp                         19\n",
              "asus vivobook              16\n",
              "hp pavilion                14\n",
              "surface laptop             13\n",
              "galaxy book pro            13\n",
              "lg gram                    11\n",
              "chromebook 4               11\n",
              "dell alienware area 51m    11\n",
              "Name: count, dtype: int64"
            ]
          },
          "execution_count": 123,
          "metadata": {},
          "output_type": "execute_result"
        }
      ],
      "source": [
        "series[series > 10]"
      ]
    },
    {
      "cell_type": "code",
      "execution_count": 124,
      "metadata": {
        "colab": {
          "base_uri": "https://localhost:8080/"
        },
        "id": "SUUyTZwAcKHv",
        "outputId": "9b114d10-4731-465f-87fa-5555ae7cf03d"
      },
      "outputs": [
        {
          "data": {
            "text/plain": [
              "(1810, 13)"
            ]
          },
          "execution_count": 124,
          "metadata": {},
          "output_type": "execute_result"
        }
      ],
      "source": [
        "df.shape"
      ]
    },
    {
      "cell_type": "code",
      "execution_count": 125,
      "metadata": {
        "colab": {
          "base_uri": "https://localhost:8080/"
        },
        "id": "rvRhuRUqciI5",
        "outputId": "b17d76e5-137f-4c69-acba-1ba44c5e0fd6"
      },
      "outputs": [
        {
          "data": {
            "text/plain": [
              "905.0"
            ]
          },
          "execution_count": 125,
          "metadata": {},
          "output_type": "execute_result"
        }
      ],
      "source": [
        "1810/2"
      ]
    },
    {
      "cell_type": "markdown",
      "metadata": {
        "id": "5mQ7u4-5KmE4"
      },
      "source": [
        "###We have more than 50% of total entries as unique entries inside Series component. Most of them have occured only once and maximum count entry is of 34."
      ]
    },
    {
      "cell_type": "code",
      "execution_count": 126,
      "metadata": {
        "id": "Y9NN4FxMKNs1"
      },
      "outputs": [],
      "source": [
        "df.drop('Series', axis=1, inplace=True)"
      ]
    },
    {
      "cell_type": "code",
      "execution_count": 127,
      "metadata": {
        "colab": {
          "base_uri": "https://localhost:8080/",
          "height": 460
        },
        "id": "nlddtD4Bcs36",
        "outputId": "5e4d78ff-84f9-4ed9-93aa-30f34e184f91"
      },
      "outputs": [
        {
          "data": {
            "text/plain": [
              "Title                 0\n",
              "Brand                 0\n",
              "Screen_Size           0\n",
              "CPU_Model             0\n",
              "Ram                   0\n",
              "Operating_System      0\n",
              "Rating                0\n",
              "Color               338\n",
              "Graphics            467\n",
              "Disk_size           345\n",
              "Card_desc            93\n",
              "Price                 0\n",
              "dtype: int64"
            ]
          },
          "execution_count": 127,
          "metadata": {},
          "output_type": "execute_result"
        }
      ],
      "source": [
        "df.isna().sum()"
      ]
    },
    {
      "cell_type": "markdown",
      "metadata": {
        "id": "BvcEEixlcydJ"
      },
      "source": [
        "##**Addressing Color**"
      ]
    },
    {
      "cell_type": "code",
      "execution_count": 128,
      "metadata": {
        "colab": {
          "base_uri": "https://localhost:8080/",
          "height": 489
        },
        "id": "jVbbT9ZEcx97",
        "outputId": "2793c646-d223-4909-a8a5-5ca121d92f93"
      },
      "outputs": [
        {
          "data": {
            "text/plain": [
              "Color\n",
              "Black                 332\n",
              "Silver                262\n",
              "Gray                   66\n",
              "Blue                   47\n",
              "16GB RAM               42\n",
              "                     ... \n",
              "Black / Silver Top      1\n",
              "Red Backlit             1\n",
              "Snowflake white         1\n",
              "SPRUCE BLUE             1\n",
              "Lunar light             1\n",
              "Name: count, Length: 194, dtype: int64"
            ]
          },
          "execution_count": 128,
          "metadata": {},
          "output_type": "execute_result"
        }
      ],
      "source": [
        "colors = df.Color.value_counts()\n",
        "colors"
      ]
    },
    {
      "cell_type": "code",
      "execution_count": 129,
      "metadata": {
        "colab": {
          "base_uri": "https://localhost:8080/"
        },
        "id": "LEeKS76bdJsS",
        "outputId": "5b4b394c-5b3c-45d8-b8fe-28ec2bad989c"
      },
      "outputs": [
        {
          "data": {
            "text/plain": [
              "338"
            ]
          },
          "execution_count": 129,
          "metadata": {},
          "output_type": "execute_result"
        }
      ],
      "source": [
        "df.Color.isna().sum()"
      ]
    },
    {
      "cell_type": "code",
      "execution_count": 130,
      "metadata": {
        "colab": {
          "base_uri": "https://localhost:8080/",
          "height": 805
        },
        "id": "trZg1-bqivlN",
        "outputId": "ae7261b4-a807-4e3b-9479-0a3939fa3e95"
      },
      "outputs": [
        {
          "data": {
            "text/plain": [
              "Color\n",
              "Black              332\n",
              "Silver             262\n",
              "Gray                66\n",
              "Blue                47\n",
              "16GB RAM            42\n",
              "Natural Silver      39\n",
              "32GB RAM            32\n",
              "White               23\n",
              "Carbon Gray         22\n",
              "Core Black          21\n",
              "Graphite            20\n",
              "Grey                20\n",
              "Platinum            20\n",
              "Star Black          20\n",
              "Rose Gold           17\n",
              "64GB RAM            17\n",
              "Gold                16\n",
              "Slate Grey          15\n",
              "Epic Silver         12\n",
              "Platinum Silver     12\n",
              "Pine Grey           11\n",
              "Pure Silver         11\n",
              "Name: count, dtype: int64"
            ]
          },
          "execution_count": 130,
          "metadata": {},
          "output_type": "execute_result"
        }
      ],
      "source": [
        "colors[colors > 10]"
      ]
    },
    {
      "cell_type": "markdown",
      "metadata": {
        "id": "C1AK7PBKeAb_"
      },
      "source": [
        "- Since we have 194 unique categories, and only 2 of them have entries more than 100.\n",
        "- Rather than having multiple unique categories, we will select most occuring colors and do reassignment.\n",
        "- All the missing entries will be replaced with 'other'"
      ]
    },
    {
      "cell_type": "code",
      "execution_count": 131,
      "metadata": {
        "id": "X2t0MrjYggUv"
      },
      "outputs": [],
      "source": [
        "# Handling missing values for Color\n",
        "df.Color.fillna('other', inplace=True)"
      ]
    },
    {
      "cell_type": "code",
      "execution_count": 132,
      "metadata": {
        "id": "onR-T0Ylem01"
      },
      "outputs": [],
      "source": [
        "def color_assigner(string):\n",
        "  string = string.lower().strip()\n",
        "  if 'black' in string:\n",
        "    return 'black'\n",
        "  elif 'white' in string:\n",
        "    return 'white'\n",
        "  elif 'silver' in string:\n",
        "    return 'silver'\n",
        "  elif 'gray' in string:\n",
        "    return 'gray'\n",
        "  elif 'gold' in string:\n",
        "    return 'gold'\n",
        "  elif 'blue' in string:\n",
        "    return 'blue'\n",
        "  elif 'blue' in string:\n",
        "    return 'blue'\n",
        "  else:\n",
        "    return 'other'\n",
        "\n",
        "df.Color = df.Color.apply(color_assigner)"
      ]
    },
    {
      "cell_type": "code",
      "execution_count": 133,
      "metadata": {
        "colab": {
          "base_uri": "https://localhost:8080/",
          "height": 335
        },
        "id": "ABbzafqfgow0",
        "outputId": "25dace76-a426-4340-ebec-c25c848cec88"
      },
      "outputs": [
        {
          "data": {
            "text/plain": [
              "Color\n",
              "other     666\n",
              "black     472\n",
              "silver    367\n",
              "gray      125\n",
              "blue       95\n",
              "white      47\n",
              "gold       38\n",
              "Name: count, dtype: int64"
            ]
          },
          "execution_count": 133,
          "metadata": {},
          "output_type": "execute_result"
        }
      ],
      "source": [
        "df.Color.value_counts()"
      ]
    },
    {
      "cell_type": "code",
      "execution_count": 134,
      "metadata": {
        "colab": {
          "base_uri": "https://localhost:8080/",
          "height": 460
        },
        "id": "nY8WKZhagbvj",
        "outputId": "6f62916d-572b-45af-e071-124ef0a62098"
      },
      "outputs": [
        {
          "data": {
            "text/plain": [
              "Title                 0\n",
              "Brand                 0\n",
              "Screen_Size           0\n",
              "CPU_Model             0\n",
              "Ram                   0\n",
              "Operating_System      0\n",
              "Rating                0\n",
              "Color                 0\n",
              "Graphics            467\n",
              "Disk_size           345\n",
              "Card_desc            93\n",
              "Price                 0\n",
              "dtype: int64"
            ]
          },
          "execution_count": 134,
          "metadata": {},
          "output_type": "execute_result"
        }
      ],
      "source": [
        "df.isna().sum()"
      ]
    },
    {
      "cell_type": "markdown",
      "metadata": {
        "id": "t580YrzNiMdf"
      },
      "source": [
        "##**Addressing Graphics**"
      ]
    },
    {
      "cell_type": "code",
      "execution_count": 135,
      "metadata": {
        "colab": {
          "base_uri": "https://localhost:8080/"
        },
        "id": "yk8EmS7-k3rM",
        "outputId": "0f332a55-a2f9-46d0-ff3c-201f403f7393"
      },
      "outputs": [
        {
          "data": {
            "text/plain": [
              "467"
            ]
          },
          "execution_count": 135,
          "metadata": {},
          "output_type": "execute_result"
        }
      ],
      "source": [
        "df.Graphics.isna().sum()"
      ]
    },
    {
      "cell_type": "code",
      "execution_count": 136,
      "metadata": {
        "colab": {
          "base_uri": "https://localhost:8080/"
        },
        "id": "NfMRmSUUnpQ5",
        "outputId": "0b76f307-f651-46e8-dd90-77dd1342386d"
      },
      "outputs": [
        {
          "data": {
            "text/plain": [
              "array([nan, 'Intel UHD Graphics', 'NVIDIA GeForce GTX 1070',\n",
              "       'NVIDIA GeForce RTX 3070', 'NVIDIA GeForce RTX 3070 Ti',\n",
              "       'Intel Iris Xe Graphics', 'NVIDIA GeForce RTX 3080',\n",
              "       'NVIDIA GeForce RTX 3060', 'Intel HD Graphics 4000',\n",
              "       'NVIDIA GeForce GTX 1650', 'NVIDIA Quadro RTX A3000',\n",
              "       'NVIDIA GeForce RTX 3080 Ti', 'NVIDIA Quadro RTX A2000',\n",
              "       'NVIDIA GeForce GTX 1650 Max-Q', 'NVIDIA GeForce RTX 3050',\n",
              "       'NVIDIA Quadro A2000', 'AMD Radeon RX6700M',\n",
              "       'NVIDIA GeForce RTX 2070', '\\u200eIntel Iris Xe', 'M1 Pro',\n",
              "       'NVIDIA GeForce RTX 3050 Ti',\n",
              "       'NVIDIA GeForce RTX 3060 Max-Q 6GB GDDR6', 'Intel UMA',\n",
              "       'NVIDIA GeForce GTX 1050 Ti', 'AMD Radeon RX 6600',\n",
              "       'NVIDIA GTX 1650 Ti MAX-Q', 'NVIDIA GeForce GTX 1660Ti',\n",
              "       'NVIDIA GeForce RTX 2060', 'NVIDIA GeForce RTX 2080', 'Intel Iris',\n",
              "       'NVIDIA GeForce GTX 1050', 'NVIDIA RTX A3000',\n",
              "       'NVIDIA GTX 1650 MAX-Q', 'NVIDIA GeForce RTX 2080 Super',\n",
              "       'NVIDIA GeForce GTX', 'NVIDIA GeForce® RTX3060 6G GDDR6',\n",
              "       'NVIDIA RTX 2070 Super',\n",
              "       'Dedicated NVIDIA GeForce RTX 3050 Ti 4GB',\n",
              "       'NVIDIA Quadro RTX A5000', 'NVIDIA Quadro T1200', '600',\n",
              "       'AMD Radeon RX 6800S', 'NVIDIA GeForce RTX 4080',\n",
              "       'AMD Radeon Graphics', 'GeForce GTX 1650, 4GB GDDR6',\n",
              "       'AMD Radeon R3', 'Intel HD Graphics 600', 'Intel',\n",
              "       'Intel UHD Graphics 600', 'MediaTek Integrated Graphics',\n",
              "       'AMD Radeon Vega 3', 'AMD Radeon Vega 10 Mobile Graphics',\n",
              "       'AMD RadeonTM R5 Graphics', 'GPU', 'Intel HD', 'IntelHD Graphics',\n",
              "       'Intel UHD Graphics 620', 'Intel HD Graphics 620', 'Arm',\n",
              "       'Intel HD Graphics 4400', 'Intel UHD Graphics 630', 'Integrated',\n",
              "       'Intel UHD Graphics 5000', '\\u200eRadeon Vega 6 Graphics',\n",
              "       'Intel HD Graphics 3000', '\\u200eAMD Radeon Graphics',\n",
              "       'Intel HD Graphics', '\\u200eIntel Integrated Graphics',\n",
              "       'Intel HD Graphics 615', 'AMD Radeon RX Vega 8',\n",
              "       'Integrated Arm Mali-G72 MP3', 'Integrated/Other', 'AMD Radeon R4',\n",
              "       'NVIDIA GeForce RTX 2050', 'Intel HD Graphics 400',\n",
              "       'NVIDIA GeForce RTX 3060 6GB DDR6', '\\u200eUHD Graphics 600',\n",
              "       'Intel HD Graphics 520', 'NVIDIA GeForce RTX 2060 Graphics',\n",
              "       'AMD Radeon R5', 'Intel HD Graphics 500', 'NVIDIA', 'UHD Graphics',\n",
              "       'AMD Radeon RX Vega M GL', 'HD Graphics 500', 'Radeon RX Vega 8',\n",
              "       'Nvidia RTX 3050 Ti 4GB', 'Mali-G72 MP3', 'INTEL',\n",
              "       '\\u200eMediaTek Integrated Graphics', 'NVIDIA GeForce GTX 1650 Ti',\n",
              "       'Integrated Intel Graphics', 'AMD', 'ATI Discrete Graphics',\n",
              "       'AMD Radeon HD 7750M', 'HD Graphics 520', '4', 'Shared',\n",
              "       'AMD Radeon RX Vega 10', 'HD Graphics 515',\n",
              "       'Radeon Vega 6 Graphics', 'NVIDIA GeForce RTX 2070 Max-Q',\n",
              "       'AMD Radeon', 'PowerVR GX6250', 'GeForce RTX™ 3060',\n",
              "       'Integrated Graphics', 'Intel Iris Plus',\n",
              "       'Intel 11th Gen i7-1195G7', 'Intel HD Graphics 5000',\n",
              "       'Intel UHD Graphics 605', 'AMD Radeon Vega 7',\n",
              "       'Integrated Intel Iris Xe', 'I7 family',\n",
              "       'Intel Integrated Graphics', 'AMD Radeon RX 6800M', 'Amd',\n",
              "       'Intel® HD Graphics', 'Intel® Iris Xᵉ Graphics',\n",
              "       'Intel Xe Graphics', 'AMD Radeon Graphics 5500', 'AMD Radeon R7',\n",
              "       'NVIDIA GeForce GTX 1060', 'Intel HD Graphics 630',\n",
              "       'NVIDIA RTX 3070 8GB GDDR6', '2070 SUPER™ 8GB GDDR6',\n",
              "       'Dual AMD Radeon R9 M290X',\n",
              "       'Dual NVIDIA® GeForce® GTX 765M with 2GB GDDR5 - NVIDIA SLI® Enabled',\n",
              "       'Dual NVIDIA GeForce GTX 860M', 'NVIDIA GeForce GTX 1080',\n",
              "       'NVIDIA GeForce GTX 1660', 'NVIDIA®', 'NVIDIA GeForce GTX 980M',\n",
              "       'NVIDIA GeForce RTX3060 Max-Q',\n",
              "       'Dual NVIDIA® GeForce® GTX 770M with 3GB GDDR5 - NVIDIA SLI® Enabled',\n",
              "       'NVIDIA GeForce GTX 970M', 'AMD Radeon Graphics 5',\n",
              "       'NVIDIA GeForce MX550', 'Radeon Graphics', 'MediaTek',\n",
              "       'AMD Radeon™ Graphics', 'AMD Radeon 530', 'AMD Radeon graphics',\n",
              "       'AMD Radeon™ graphics', 'Intel Pentium', 'Intel Integrated SoC',\n",
              "       'Intel Graphics_coprocessor', 'Intel HD Graphics 605',\n",
              "       'NVIDIA GeForce MX450', 'NVIDIA GeForce RTX 2060 Max-Q',\n",
              "       'Intel HD Graphics 610', 'Intel Iris Xe Graphics Integrated',\n",
              "       'NVIDIA GeForce RTX 3070 graphics', 'Intel NM10',\n",
              "       'Intel Integrated GMA X3100', 'Intel Iris Xe Grapghics',\n",
              "       'Intel Graphics', 'AMD Radeon Vega 8',\n",
              "       'NVIDIA GeForce RTX 2080 SUPER Max-Q 8GB GDDR6',\n",
              "       'Radeon RX 6800M Graphics', 'NVIDIA RTX A5000',\n",
              "       'Intel HD 610 Graphics', 'NVIDIA GeForce',\n",
              "       'NVIDIA GeForce GTX 960M', 'NVIDIA RTX A3000 12GB GDDR6',\n",
              "       '\\u200eNVIDIA® GeForce RTX™ 3060 6GB GDDR6', 'AMD Radeon GPU',\n",
              "       'Integrated ARM G72 MP3 Graphics', 'UHD Graphics 500',\n",
              "       'Intel® UHD Graphics for 10th Gen Intel® Processors',\n",
              "       'NVIDIA GeForce MX250', 'Intel Graphics Integrated',\n",
              "       'Dedicated NVIDIA GeForce RTX 3050 4GB', 'Intel HM370',\n",
              "       '\\u200eIntel UHD Graphics 600', 'AMD Radeon™ Vega 8 graphics',\n",
              "       'Intel Celeron Processor N4000',\n",
              "       'Intel UHD Graphics Integrated Graphics Card',\n",
              "       'NVIDIA GeForce MX350', 'Intel Iris Xe Max Graphics',\n",
              "       'Intel® Celeron® Processor N4020', 'AMD Radeon RX 6700',\n",
              "       'NVIDIA GeForce MX450, 2GB GDDR6',\n",
              "       'NVIDIA GeForce RTX 3050 Ti Max-Q Graphics',\n",
              "       '\\u200eIntel Iris Xe Max Graphics', 'Intel Irix Xe Graphics',\n",
              "       'Iris™ Plus graphics 950', 'AMD Radeon Vega 11',\n",
              "       'AMD Radeon Vega 9', 'Integrated intel graphics',\n",
              "       'Intel Iris Plus Graphics 640',\n",
              "       'Dedicated NVIDIA Geforce GTX 1050 2GB GDDR5 vRAM',\n",
              "       'AMD Radeon RX Vega 11', 'Intel iris', 'NVIDA GeForce RTX 3050Ti',\n",
              "       'Intel ARC A350M'], dtype=object)"
            ]
          },
          "execution_count": 136,
          "metadata": {},
          "output_type": "execute_result"
        }
      ],
      "source": [
        "df.Graphics.unique()"
      ]
    },
    {
      "cell_type": "markdown",
      "metadata": {
        "id": "HDU_ixg6lWW_"
      },
      "source": [
        "###**Observations and Modifications**\n",
        "- We have three major graphics category belonging to Nvidia, AMD and Intel.\n",
        "- We will merge all other categories into 'other'\n",
        "- All the missing values can be retrieved from the Title description\n",
        "\n",
        " **Steps**\n",
        "\n",
        "- Filter out all missing entries of Graphics feature and have a new dataframe\n",
        "- Assign them values retrieved from Title feature (Nvidia, AMD, Intel)\n",
        "- Assign 'other' for values that couldn't retrieve anything from Title description\n",
        "- Merge modified dataframe with the original dataframe  \n",
        "- Project non-missing entries on (Nvidia, AMD, Intel)."
      ]
    },
    {
      "cell_type": "code",
      "execution_count": 137,
      "metadata": {
        "id": "3j7pHG9Un1kC"
      },
      "outputs": [],
      "source": [
        "graphics_missing = df[df.Graphics.isna()]"
      ]
    },
    {
      "cell_type": "code",
      "execution_count": 138,
      "metadata": {
        "colab": {
          "base_uri": "https://localhost:8080/"
        },
        "id": "JSPqIGGZlgkl",
        "outputId": "a7e3078c-8065-4586-b974-497a76913f6e"
      },
      "outputs": [
        {
          "data": {
            "text/plain": [
              "array(['2022 Microsoft Surface Laptop Go 12.4\" Touchscreen, Intel Core i5-1035G1 Processor, Up to 13Hr Battery Life, WiFi, Webcam, Windows 11 Pro, Platinum Silver (4GB RAM | 256GB SSD)',\n",
              "       'HP Envy 34” All-in-One Desktop, NVIDIA GeForce GTX 1650, 11th Gen Intel Core i7-11700 Processor, 32 GB RAM, 512 GB SSD, WUHD IPS Display, Windows 11 Home, Detachable Magnetic Camera (34-c0010, 2021)',\n",
              "       'MSI Bravo 15 15.6\" 144Hz Gaming Laptop: AMD Ryzen R5-5600H, RX 5500M, 16GB, 512GB NVMe SSD, Win11 (B5DD-243)',\n",
              "       'MSI Latest GE76 Raider Gaming Laptop | 17.3\" 144 Hz FHD Display | Intel 14-Core i9-12900H | 64GB DDR5 2TB SSD | NVIDIA RTX3060 | WiFi 6 | HDMI | RJ45 | Thunberbolt4 | Backlit KB RGB | DTS | Win11 Pro',\n",
              "       'MSI Raider GE66 15.6\" QHD 240Hz Gaming Laptop: Intel Core i7-12700H RTX 3070 Ti 32GB DDR5 1TB NVMe SSD, USB-Type C, Thunderbolt 4, Cooler Boost 5, Win11 Home: Titanium Blue 12UGS-238',\n",
              "       'Packard Bell CloudBook 14.1 inch Laptop, Full HD Display, Windows 11 Home S Mode, Intel Celeron N4020 Quad Core, 4GB RAM, 128GB Memory SSD, WiFi Connectable, HD Camera, Thin & Light, Blue',\n",
              "       'Apple MacBook Air 13.3\" with Retina Display, M1 Chip with 8-Core CPU and 7-Core GPU, 16GB Memory, 1TB SSD, Space Gray, Late 2020',\n",
              "       'MSI Pulse GL66 15.6\" 144Hz 3ms FHD Gaming Laptop Intel Core i7-11800H RTX3050 16GB 1TBNVMe SSD Win11 - Gray (11UCK-1249)',\n",
              "       'MSI 2022 GF76 Katana 17.3\" 144 Hz FHD Gaming Laptop 12th Intel i7-12700H 14-Core 32GB DDR4 1TB NVMe SSD NVIDIA GeForce RTX 3060 6GB Backlit Keyboard DTS Audio Windows 10 Pro WiFi 6 w/RATZK 32GB USB',\n",
              "       'Acer Aspire 5 A515-56-36UT, 15.6\" Full HD Display, 11th Gen Intel Core i3-1115G4 Processor, 4GB DDR4, 128GB NVMe SSD, WiFi 6, Windows 11 Home (S Mode)'],\n",
              "      dtype=object)"
            ]
          },
          "execution_count": 138,
          "metadata": {},
          "output_type": "execute_result"
        }
      ],
      "source": [
        "graphics_missing.Title.values[:10]"
      ]
    },
    {
      "cell_type": "code",
      "execution_count": 139,
      "metadata": {
        "colab": {
          "base_uri": "https://localhost:8080/"
        },
        "id": "Xup5vBiNmSrz",
        "outputId": "57e2d422-99b2-4411-ff92-0ff523566243"
      },
      "outputs": [
        {
          "name": "stderr",
          "output_type": "stream",
          "text": [
            "C:\\Program Files\\KMSpico\\temp\\ipykernel_10308\\2460385536.py:23: SettingWithCopyWarning: \n",
            "A value is trying to be set on a copy of a slice from a DataFrame.\n",
            "Try using .loc[row_indexer,col_indexer] = value instead\n",
            "\n",
            "See the caveats in the documentation: https://pandas.pydata.org/pandas-docs/stable/user_guide/indexing.html#returning-a-view-versus-a-copy\n",
            "  graphics_missing['Graphics'] = graphics_missing.Title.apply(graphics_retriever)\n"
          ]
        }
      ],
      "source": [
        "def graphics_retriever(string):\n",
        "  \"\"\"\n",
        "  This function identifies the graphics card manufacturer from a string.\n",
        "\n",
        "  Args:\n",
        "    string: The input string containing the description of the graphics card.\n",
        "\n",
        "  Returns:\n",
        "    The name of the graphics card manufacturer (\"Nvidia\", \"AMD\", \"Intel\", or \"Other\").\n",
        "  \"\"\"\n",
        "  string = string.lower()\n",
        "  if 'nvidia' in string:\n",
        "    return 'Nvidia'\n",
        "  elif 'amd' in string or 'radeon' in string:\n",
        "    return 'AMD'\n",
        "  elif 'intel' in string:\n",
        "    return 'Intel'\n",
        "  else:\n",
        "    return 'Other'\n",
        "\n",
        "# Apply the graphics_retriever function to the 'Title' column of the graphics_missing DataFrame\n",
        "# to extract the graphics card manufacturer and store it in the 'Graphics' column.\n",
        "graphics_missing['Graphics'] = graphics_missing.Title.apply(graphics_retriever)"
      ]
    },
    {
      "cell_type": "code",
      "execution_count": 140,
      "metadata": {
        "colab": {
          "base_uri": "https://localhost:8080/",
          "height": 241
        },
        "id": "pfAqmGr3nGA4",
        "outputId": "051f8a4c-1df0-4637-b4a2-78d6adbbd604"
      },
      "outputs": [
        {
          "data": {
            "text/plain": [
              "Graphics\n",
              "Intel     316\n",
              "Nvidia     53\n",
              "AMD        53\n",
              "Other      45\n",
              "Name: count, dtype: int64"
            ]
          },
          "execution_count": 140,
          "metadata": {},
          "output_type": "execute_result"
        }
      ],
      "source": [
        "graphics_missing.Graphics.value_counts()"
      ]
    },
    {
      "cell_type": "code",
      "execution_count": 141,
      "metadata": {
        "id": "P3Wby_WdqFlT"
      },
      "outputs": [],
      "source": [
        "# Merging graphics_missing with original dataframe\n",
        "df.loc[graphics_missing.index, 'Graphics'] = graphics_missing.Graphics"
      ]
    },
    {
      "cell_type": "code",
      "execution_count": 142,
      "metadata": {
        "id": "Mcbhhdq4kS5M"
      },
      "outputs": [],
      "source": [
        "def graphics_categorization(graphics_string):\n",
        "  \"\"\"\n",
        "  Categorizes graphics cards based on their names.\n",
        "\n",
        "  Args:\n",
        "    graphics_string: The name of the graphics card as a string.\n",
        "\n",
        "  Returns:\n",
        "    The category of the graphics card (\"Nvidia\", \"AMD\", \"Intel\", or \"Other\").\n",
        "  \"\"\"\n",
        "  graphics_string = graphics_string.lower()\n",
        "  if 'nvidia' in graphics_string:\n",
        "    return 'Nvidia'\n",
        "  elif 'amd' in graphics_string or 'radeon' in graphics_string:\n",
        "    return 'AMD'\n",
        "  elif 'intel' in graphics_string:\n",
        "    return 'Intel'\n",
        "  else:\n",
        "    return 'Other'\n",
        "\n",
        "# Apply the categorization function to the \"Graphics\" column of the DataFrame.\n",
        "df['Graphics'] = df['Graphics'].apply(graphics_categorization)"
      ]
    },
    {
      "cell_type": "code",
      "execution_count": 143,
      "metadata": {
        "colab": {
          "base_uri": "https://localhost:8080/",
          "height": 241
        },
        "id": "U9DTsZymqURW",
        "outputId": "ec5b6d85-0cbd-45dc-95f7-aeb15143e6d5"
      },
      "outputs": [
        {
          "data": {
            "text/plain": [
              "Graphics\n",
              "Intel     1000\n",
              "Nvidia     516\n",
              "AMD        205\n",
              "Other       89\n",
              "Name: count, dtype: int64"
            ]
          },
          "execution_count": 143,
          "metadata": {},
          "output_type": "execute_result"
        }
      ],
      "source": [
        "df.Graphics.value_counts()"
      ]
    },
    {
      "cell_type": "code",
      "execution_count": 144,
      "metadata": {
        "colab": {
          "base_uri": "https://localhost:8080/",
          "height": 460
        },
        "id": "1vPeeX05qP8X",
        "outputId": "c4055a2d-0b2c-43f8-b357-103a9d766cf9"
      },
      "outputs": [
        {
          "data": {
            "text/plain": [
              "Title                 0\n",
              "Brand                 0\n",
              "Screen_Size           0\n",
              "CPU_Model             0\n",
              "Ram                   0\n",
              "Operating_System      0\n",
              "Rating                0\n",
              "Color                 0\n",
              "Graphics              0\n",
              "Disk_size           345\n",
              "Card_desc            93\n",
              "Price                 0\n",
              "dtype: int64"
            ]
          },
          "execution_count": 144,
          "metadata": {},
          "output_type": "execute_result"
        }
      ],
      "source": [
        "df.isna().sum()"
      ]
    },
    {
      "cell_type": "markdown",
      "metadata": {
        "id": "sRtlsLNhqrM8"
      },
      "source": [
        "##**Addressing Disk_size**"
      ]
    },
    {
      "cell_type": "code",
      "execution_count": 145,
      "metadata": {
        "colab": {
          "base_uri": "https://localhost:8080/"
        },
        "id": "8f0jFCDgqqYH",
        "outputId": "fe981357-f0fa-42b0-86d5-777d4913d830"
      },
      "outputs": [
        {
          "data": {
            "text/plain": [
              "345"
            ]
          },
          "execution_count": 145,
          "metadata": {},
          "output_type": "execute_result"
        }
      ],
      "source": [
        "df.Disk_size.isna().sum()"
      ]
    },
    {
      "cell_type": "code",
      "execution_count": 146,
      "metadata": {
        "colab": {
          "base_uri": "https://localhost:8080/"
        },
        "id": "XLDpZaHyOi0r",
        "outputId": "15396dc6-2502-49fc-bda2-1f99820877d5"
      },
      "outputs": [
        {
          "data": {
            "text/plain": [
              "array(['256 GB', nan, '512 GB', '2 TB', '1 TB', '3 TB', '4 TB', '320 GB',\n",
              "       '128 GB', '32 GB', '1000 GB', '1000 TB', '64 GB', '64', '4 GB',\n",
              "       '500 GB', '16 GB', '1 GB', '628 GB', '160 GB', '6 GB', '256',\n",
              "       '512', '6 TB', '1.5 TB', '1512 GB', '1256 GB', '1024 GB',\n",
              "       '1128 GB', '2000 GB', '0.01 GB', '80 GB', '384 GB', '1', '65 GB',\n",
              "       '2', '128 TB'], dtype=object)"
            ]
          },
          "execution_count": 146,
          "metadata": {},
          "output_type": "execute_result"
        }
      ],
      "source": [
        "df.Disk_size.unique()"
      ]
    },
    {
      "cell_type": "code",
      "execution_count": 147,
      "metadata": {
        "colab": {
          "base_uri": "https://localhost:8080/"
        },
        "id": "q08slQDsOvUK",
        "outputId": "5d966eb3-9c8f-49f2-ef8c-58c76ea55d9b"
      },
      "outputs": [
        {
          "data": {
            "text/plain": [
              "array(['Dell XPS 15 9520 (Latest Model) Intel 12th Gen Core i9-12900HK (14-CORE) 2TB PCIe SSD 64GB DDR5 RAM FHD+ Non Touch RTX 3050Ti Win 11 Pro (Certified Refurb)',\n",
              "       'ASUS ROG Zephyrus G15 Ultra Slim Gaming Laptop, 15.6” 165Hz QHD Display, GeForce RTX 3080, AMD Ryzen 9 5900HS, 16GB DDR4, 1TB PCIe NVMe SSD, Wi-Fi 6, Windows 10, Eclipse Gray, GA503QS-BS96Q',\n",
              "       'SAMSUNG Chromebook Plus (WiFi + LTE Verizon) Chrome OS 12.2\" HD Touchscreen Intel Celeron 3965Y 4GB RAM 32GB eMMC - XE525QBB-K01US (Stealth Silver)'],\n",
              "      dtype=object)"
            ]
          },
          "execution_count": 147,
          "metadata": {},
          "output_type": "execute_result"
        }
      ],
      "source": [
        "df[df.Disk_size == '1'].Title.values"
      ]
    },
    {
      "cell_type": "code",
      "execution_count": 148,
      "metadata": {
        "colab": {
          "base_uri": "https://localhost:8080/"
        },
        "id": "uqQkvyaiq4Yj",
        "outputId": "30b8afc5-2e19-42f3-a5d1-f5aec3ac3c9d"
      },
      "outputs": [
        {
          "data": {
            "text/plain": [
              "1465"
            ]
          },
          "execution_count": 148,
          "metadata": {},
          "output_type": "execute_result"
        }
      ],
      "source": [
        "df.Disk_size.value_counts().sum()"
      ]
    },
    {
      "cell_type": "code",
      "execution_count": 149,
      "metadata": {
        "id": "6gTzbzwirHLY"
      },
      "outputs": [],
      "source": [
        "# Converting all disk units and Title string into lower case\n",
        "df.Disk_size = df.Disk_size.str.lower()\n",
        "df.Title = df.Title.str.lower()"
      ]
    },
    {
      "cell_type": "code",
      "execution_count": 150,
      "metadata": {
        "colab": {
          "base_uri": "https://localhost:8080/",
          "height": 293
        },
        "id": "xrGgLW2Jrxz0",
        "outputId": "62b7bc5c-31bb-4ae5-d69f-f88ee3725f2f"
      },
      "outputs": [
        {
          "data": {
            "text/html": [
              "<div>\n",
              "<style scoped>\n",
              "    .dataframe tbody tr th:only-of-type {\n",
              "        vertical-align: middle;\n",
              "    }\n",
              "\n",
              "    .dataframe tbody tr th {\n",
              "        vertical-align: top;\n",
              "    }\n",
              "\n",
              "    .dataframe thead th {\n",
              "        text-align: right;\n",
              "    }\n",
              "</style>\n",
              "<table border=\"1\" class=\"dataframe\">\n",
              "  <thead>\n",
              "    <tr style=\"text-align: right;\">\n",
              "      <th></th>\n",
              "      <th>Title</th>\n",
              "      <th>Brand</th>\n",
              "      <th>Screen_Size</th>\n",
              "      <th>CPU_Model</th>\n",
              "      <th>Ram</th>\n",
              "      <th>Operating_System</th>\n",
              "      <th>Rating</th>\n",
              "      <th>Color</th>\n",
              "      <th>Graphics</th>\n",
              "      <th>Disk_size</th>\n",
              "      <th>Card_desc</th>\n",
              "      <th>Price</th>\n",
              "    </tr>\n",
              "  </thead>\n",
              "  <tbody>\n",
              "    <tr>\n",
              "      <th>0</th>\n",
              "      <td>2022 microsoft surface laptop go 12.4\" touchsc...</td>\n",
              "      <td>Microsoft</td>\n",
              "      <td>12.4</td>\n",
              "      <td>i5</td>\n",
              "      <td>4.0</td>\n",
              "      <td>windows 11</td>\n",
              "      <td>3.9</td>\n",
              "      <td>silver</td>\n",
              "      <td>Intel</td>\n",
              "      <td>256 gb</td>\n",
              "      <td>Integrated</td>\n",
              "      <td>29519.18</td>\n",
              "    </tr>\n",
              "    <tr>\n",
              "      <th>1</th>\n",
              "      <td>hp envy 34” all-in-one desktop, nvidia geforce...</td>\n",
              "      <td>HP</td>\n",
              "      <td>34.0</td>\n",
              "      <td>i7</td>\n",
              "      <td>32.0</td>\n",
              "      <td>windows 11</td>\n",
              "      <td>4.4</td>\n",
              "      <td>other</td>\n",
              "      <td>Nvidia</td>\n",
              "      <td>NaN</td>\n",
              "      <td>NaN</td>\n",
              "      <td>177694.00</td>\n",
              "    </tr>\n",
              "    <tr>\n",
              "      <th>2</th>\n",
              "      <td>dell latitude 3510 business laptop black (inte...</td>\n",
              "      <td>Dell</td>\n",
              "      <td>15.6</td>\n",
              "      <td>i5</td>\n",
              "      <td>16.0</td>\n",
              "      <td>windows 10</td>\n",
              "      <td>4.3</td>\n",
              "      <td>black</td>\n",
              "      <td>Intel</td>\n",
              "      <td>256 gb</td>\n",
              "      <td>Integrated</td>\n",
              "      <td>67076.00</td>\n",
              "    </tr>\n",
              "    <tr>\n",
              "      <th>3</th>\n",
              "      <td>msi bravo 15 15.6\" 144hz gaming laptop: amd ry...</td>\n",
              "      <td>MSI</td>\n",
              "      <td>15.6</td>\n",
              "      <td>ryzen5</td>\n",
              "      <td>16.0</td>\n",
              "      <td>windows 11</td>\n",
              "      <td>4.5</td>\n",
              "      <td>black</td>\n",
              "      <td>AMD</td>\n",
              "      <td>512 gb</td>\n",
              "      <td>RX 5500M</td>\n",
              "      <td>57318.00</td>\n",
              "    </tr>\n",
              "    <tr>\n",
              "      <th>4</th>\n",
              "      <td>msi latest ge76 raider gaming laptop | 17.3\" 1...</td>\n",
              "      <td>MSI</td>\n",
              "      <td>17.3</td>\n",
              "      <td>i9</td>\n",
              "      <td>64.0</td>\n",
              "      <td>windows 11</td>\n",
              "      <td>5.0</td>\n",
              "      <td>blue</td>\n",
              "      <td>Nvidia</td>\n",
              "      <td>2 tb</td>\n",
              "      <td>Dedicated</td>\n",
              "      <td>200899.18</td>\n",
              "    </tr>\n",
              "  </tbody>\n",
              "</table>\n",
              "</div>"
            ],
            "text/plain": [
              "                                               Title      Brand  Screen_Size  \\\n",
              "0  2022 microsoft surface laptop go 12.4\" touchsc...  Microsoft         12.4   \n",
              "1  hp envy 34” all-in-one desktop, nvidia geforce...         HP         34.0   \n",
              "2  dell latitude 3510 business laptop black (inte...       Dell         15.6   \n",
              "3  msi bravo 15 15.6\" 144hz gaming laptop: amd ry...        MSI         15.6   \n",
              "4  msi latest ge76 raider gaming laptop | 17.3\" 1...        MSI         17.3   \n",
              "\n",
              "  CPU_Model   Ram Operating_System  Rating   Color Graphics Disk_size  \\\n",
              "0        i5   4.0       windows 11     3.9  silver    Intel    256 gb   \n",
              "1        i7  32.0       windows 11     4.4   other   Nvidia       NaN   \n",
              "2        i5  16.0       windows 10     4.3   black    Intel    256 gb   \n",
              "3    ryzen5  16.0       windows 11     4.5   black      AMD    512 gb   \n",
              "4        i9  64.0       windows 11     5.0    blue   Nvidia      2 tb   \n",
              "\n",
              "    Card_desc      Price  \n",
              "0  Integrated   29519.18  \n",
              "1         NaN  177694.00  \n",
              "2  Integrated   67076.00  \n",
              "3    RX 5500M   57318.00  \n",
              "4   Dedicated  200899.18  "
            ]
          },
          "execution_count": 150,
          "metadata": {},
          "output_type": "execute_result"
        }
      ],
      "source": [
        "df.head()"
      ]
    },
    {
      "cell_type": "code",
      "execution_count": 151,
      "metadata": {
        "id": "j5_5nlArssi2"
      },
      "outputs": [],
      "source": [
        "disk_missing = df[df.Disk_size.isna()]"
      ]
    },
    {
      "cell_type": "code",
      "execution_count": 152,
      "metadata": {
        "colab": {
          "base_uri": "https://localhost:8080/"
        },
        "id": "oa24O_6Vs9qi",
        "outputId": "f0816ec7-64c0-44a7-b6d8-11d07784a5c6"
      },
      "outputs": [
        {
          "data": {
            "text/plain": [
              "array(['hp envy 34” all-in-one desktop, nvidia geforce gtx 1650, 11th gen intel core i7-11700 processor, 32 gb ram, 512 gb ssd, wuhd ips display, windows 11 home, detachable magnetic camera (34-c0010, 2021)',\n",
              "       'excaliberpc 2022 msi creator z17 a12ugst-049 (i7-12700h, 32gb ram, 1tb nvme ssd, rtx 3070ti 8gb, 17\" qhd+ 165hz touch, windows 11 pro) content creation laptop',\n",
              "       'excaliberpc 2022 msi raider ge67hx 12ugs-013 (i7-12800hx, 16gb ram, 1tb nvme ssd, rtx 3070ti 8gb, 15.6\" qhd 240hz, windows 11 pro) gaming laptop',\n",
              "       'excaliberpc 2022 msi summit e13flipevo a12mt-013 (i7-1260p, 32gb ram, 1tb nvme ssd, intel iris xe, 13.4\" fhd+ touch, windows 11 pro) professional laptop',\n",
              "       'excaliberpc 2022 msi creator z16p b12uht-041 (i7-12700h, 32gb ram, 1tb nvme ssd, rtx 3080 8gb, 16\" qhd+ 165hz touch, windows 11 pro) content creation laptop',\n",
              "       'excaliberpc 2021 msi we76 11uk-460 (i7-11800h, 32gb ram, 1tb nvme ssd, quadro rtx a3000 6gb, 17.3\" 144hz fhd, windows 10 pro) mobile workstation laptop',\n",
              "       'excaliberpc 2022 msi raider ge66 12uhs-236 (i7-12700h, 32gb ram, 1tb nvme ssd, rtx 3080ti 16gb, 15.6\" qhd 240hz, windows 11) gaming laptop',\n",
              "       'excaliberpc 2022 msi stealth gs77 12uhs-040 (i9-12900h, 32gb ram, 1tb nvme ssd, rtx 3080ti 16gb, 17.3\" 4k uhd, windows 11 pro) gaming laptop',\n",
              "       'excaliberpc 2022 msi pulse gl66 12ugok-825 (i9-12900h, 16gb ram, 1tb nvme ssd, rtx 3070 8gb, 15.6\" 165hz qhd, windows 11) gaming laptop',\n",
              "       'msi katana gf76 17.3\" 144hz fhd gaming laptop intel core i5-11400h rtx3050 8gb 512gbnvme ssd win11 (11uc-492) ,black',\n",
              "       'excaliberpc 2022 asus zenbook pro duo 15 oled ux582zm-xs96t (i9-12900h, 32gb ram, 1tb nvme ssd, rtx 3060 6gb, 15.6\" fhd, windows 11 pro) touchscreen laptop - celestial blue',\n",
              "       'excaliberpc 2022 msi vector gp76 12uhso-877 (i7-12650h, 16gb ram, 1tb nvme ssd, rtx 3080ti 16gb, 17.3\" fhd 360hz 3ms, windows 11) gaming laptop',\n",
              "       'excaliberpc 2022 msi creator z16p b12uhst-040 (i7-12700h, 32gb ram, 1tb nvme ssd, rtx 3080ti 16gb, 16\" qhd+ 165hz touch, windows 11 pro) content creation laptop',\n",
              "       'excaliberpc 2022 msi delta 15 a5efk-097 (amd ryzen 7 5800h, 16gb ram, 1tb nvme ssd, radeon rx6700m, 15.6\" full hd, windows 11) gaming laptop',\n",
              "       'apple macbook air 13.3\" with retina display, m1 chip with 8-core cpu and 7-core gpu, 16gb memory, 1tb ssd, space gray, late 2020',\n",
              "       'excaliberpc 2022 msi raider ge77hx 12uhs-082 (i9-12900hx, 32gb ram, 1tb nvme ssd, rtx 3080ti 16gb, 17.3\" qhd 240hz, windows 11 pro) gaming laptop',\n",
              "       'msi katana gf66 15.6\" 144hz fhd gaming laptop: intel core i5-12500h rtx3050 8gb 512gbnvme ssd win11 - black (12uc-056)',\n",
              "       'excaliberpc 2022 msi raider ge77hx 12ugs-004 (i7-12800hx, 16gb ram, 1tb nvme ssd, rtx 3070ti 8gb, 17.3\" qhd 240hz, windows 11 pro) gaming laptop',\n",
              "       'msi modern 14 a10m-460 14\" ultra thin and light professional laptop intel core i5-10210uuma 8gb ddr4 512gb nvme ssd win10 home carbon gray',\n",
              "       'msi gp66 leopard gaming laptop: 15.6\" 144hz fhd 1080p display, intel core i7-11800h, nvidia geforce rtx 3070, 16gb, 512gb ssd, win10, black (11ug-050)',\n",
              "       'msi summit e14 a11scs-088 14\" uhd ultra thin and light professional laptop intel core i7-1185g7 nvidia geforce gtx1650ti max-q 16gb ddr4 1tb nvme ssd win10pro, ink black',\n",
              "       'msi katana gf66 15.6\" 144hz 3ms fhd gaming laptop intel core i7-11800h rtx3060 16gb 1tbnvme ssd win10 - black (11ue-031)',\n",
              "       'excaliberpc 2022 msi raider ge77hx 12uhs-074 (i7-12800hx, 16gb ram, 1tb nvme ssd, rtx 3080ti 16gb, 17.3\" fhd 360hz, windows 11) gaming laptop',\n",
              "       'excaliberpc 2022 msi creator z17 a12ugst-049 (i7-12700h, 32gb ram, 1tb nvme ssd, rtx 3070ti 8gb, 17\" qhd+ 165hz touch, windows 11 pro) content creation laptop',\n",
              "       'excaliberpc 2022 msi raider ge67hx 12ugs-070 (i7-12800hx, 16gb ram, 1tb nvme ssd, rtx 3070ti 8gb, 15.6\" qhd 240hz, windows 11) gaming laptop',\n",
              "       'excaliberpc 2022 msi raider ge67hx 12ugs-013 (i7-12800hx, 16gb ram, 1tb nvme ssd, rtx 3070ti 8gb, 15.6\" qhd 240hz, windows 11 pro) gaming laptop',\n",
              "       'msi prestige 15 a11scx-217 15.6\" uhd ultra thin and light professional laptop intel core i7-1185g7 nvidia geforce gtx1650 max-q 32gb ddr4 1tb nvme ssd win10pro, urban silver',\n",
              "       'excaliberpc 2022 msi katana gf76 11ud-663 (i7-11800h, 16gb ram, 512gb nvme ssd, rtx 3050ti 4gb, 17.3\" 144hz fhd, windows 11) gaming laptop',\n",
              "       'msi ge66 raider 10sgs-288 15.6\" 300hz 3ms gaming laptop intel core i7-10875h rtx2080 super 32gb 1tb nvme ssd win10 vr ready',\n",
              "       'excaliberpc 2022 msi pulse gl66 12ugok-825 (i9-12900h, 16gb ram, 1tb nvme ssd, rtx 3070 8gb, 15.6\" 165hz qhd, windows 11) gaming laptop',\n",
              "       'msi prestige 15 15.6\" fhd ultra thin and light professional laptop intel core i7-1185g7 gtx1650 max-q 16gb ddr4 512gb nvme ssd win10 - gray (a11sc-034)',\n",
              "       'msi gs75 stealth-479 17.3\" gaming laptop 144hz display, thin bezel, intel core i9-9880h, nvidia geforce rtx2080, 32gb, 1tb nvme ssd, thunderbolt 3',\n",
              "       'msi ge63 raider rgb-499 15.6\" gaming laptop, 144hz display, intel core i7-9750h, nvidia geforce rtx2080, 32gb, 512gb nvme ssd',\n",
              "       'msi gp66 leopard 15.6\" 240hz 3.5ms gaming laptop intel core i7-11800h rtx3070 32gb 1tb nvme ssd win11 pro vr ready - black (11ug-687)',\n",
              "       'msi gf63 thin 8sc-030 15.6\" gaming laptop, thin bezel, intel core i5-8300h, nvidia geforce gtx1650, 8gb, 256gb nvme nvme ssd',\n",
              "       'excaliberpc 2022 msi summit e13flipevo a12mt-013 (i7-1260p, 32gb ram, 1tb nvme ssd, intel iris xe, 13.4\" fhd+ touch, windows 11 pro) professional laptop',\n",
              "       'excaliberpc 2022 msi raider ge66 12uhs-236 (i7-12700h, 32gb ram, 1tb nvme ssd, rtx 3080ti 16gb, 15.6\" qhd 240hz, windows 11) gaming laptop',\n",
              "       'msi raider ge76 17.3\" fhd 360hz gaming laptop: intel core i9-12900hk rtx 3070 ti 32gb ddr5 1tb nvme ssd, usb-type c, thunderbolt 4, cooler boost 5, win11 home: titanium blue 12ugs-294',\n",
              "       'msi prestige 15 a11scx-217 15.6\" uhd ultra thin and light professional laptop intel core i7-1185g7 nvidia geforce gtx1650 max-q 32gb ddr4 1tb nvme ssd win10pro, urban silver',\n",
              "       'excaliberpc 2022 msi creator z16p b12uht-041 (i7-12700h, 32gb ram, 1tb nvme ssd, rtx 3080 8gb, 16\" qhd+ 165hz touch, windows 11 pro) content creation laptop',\n",
              "       'msi gf65 thin 9sd-252 15. 6\" 120hz gaming laptop intel core i7-9750h gtx1660ti 8gb 512gb ssd win10',\n",
              "       'msi gs66 stealth 15.6\" fhd 240hz 2.5ms ultra thin and light gaming laptop intel core i7-11800h rtx3060 16gb 1tb nvme ssd win11 vr ready - black (11ue-662)',\n",
              "       'excaliberpc 2022 msi titan gt77 12ugs-009 (i7-12800hx, 32gb ram, 1tb nvme ssd, rtx 3070ti 8gb, 17.3\" 4k uhd, windows 11 pro) gaming laptop',\n",
              "       'msi summit 13.4\" touchscreen 2-in-1 intel evo platform laptop - 12th gen intel core i7-1280p - 1920 x 1200 - 120hz - windows 11 w/hdmi cable pen (16gb lpddr5 ram | 1tb pcie ssd)',\n",
              "       'excaliberpc 2022 msi summit e16flipevo a12mt-009 (i7-1260p, 16gb ram, 512gb nvme ssd, intel iris xe, 16\" fhd+ touch, windows 11 pro) professional laptop',\n",
              "       'excaliberpc 2022 msi gp66 leopard 11ug-687 (i7-11800h, 32gb ram, 1tb nvme ssd, rtx 3070 8gb, 15.6\" 240hz fhd, windows 11 pro) gaming laptop',\n",
              "       'msi summit e13 13.4\" 2-in-1 laptop, 14 cores 12th gen intel evo core i7-1280p, 120hz, 100%srgb, 16:10, wi-fi 6e, dts, hi-res, thunberbolt 4, w/cloth and msi pen (16gb lpddr5 ram | 1tb pcie ssd)',\n",
              "       'excaliberpc 2022 msi katana gf66 11ue-879 (i7-11800h, 16gb ram, 512gb nvme ssd, rtx 3060 6gb, 15.6\" 144hz fhd, windows 11) gaming laptop',\n",
              "       'excaliberpc 2021 msi creator z16 a11uet-013 (i7-11800h, 32gb ram, 1tb nvme ssd, rtx 3060 6gb, 16\" qhd+ 120hz, windows 10 pro) content creation laptop',\n",
              "       'excaliberpc 2022 asus rog zephyrus g14 ga402rk-g14.r96800 (amd ryzen 9 6900hs, 16gb ram, 1tb nvme ssd, amd radeon rx 6800s, 14\" wqxga 120hz, windows 11) gaming notebook - moonlight white',\n",
              "       'excaliberpc 2022 asus rog zephyrus g15 ga503rm-g15.r93060 (amd ryzen 9 6900hs, 16gb ram, 512gb nvme ssd, rtx 3060 6gb, 15.6\" wqhd 165hz, windows 11) gaming notebook - eclipse grey',\n",
              "       'excaliberpc 2022 msi katana gf76 11ud-663 (i7-11800h, 16gb ram, 512gb nvme ssd, rtx 3050ti 4gb, 17.3\" 144hz fhd, windows 11) gaming laptop',\n",
              "       'excaliberpc 2021 expc wf66 11ui-268 by_msi 15 inch mobile workstation laptop (i7-11800h, 16gb ram, 512gb nvme ssd, quadro t1200 4gb, 15.6\" fhd, windows 10 pro) 3d professional notebook computer',\n",
              "       'msi titan gt77 17.3\" uhd 144hz mini led: intel core i9-13980hx, rtx 4080, 64gb ddr5, 2tb nvme ssd, thunderbolt 4, usb-type c, cooler boost titan, win 11 pro: core black 13vh-046us',\n",
              "       'msi gs76 stealth gaming laptop: 17.3\" 300hz fhd 1080p display, intel core i7-11800h, nvidia geforce rtx 3080, 32gb, 1tb ssd, thunderbolt 4, wifi 6, win10, black (11uh-029)',\n",
              "       'msi gf63 15.6\" 144hz gaming laptop intel core i7-11800h rtx 3050 16gb 512gb nvme ssd win11 (11uc-262)',\n",
              "       'excaliberpc 2022 msi raider ge77hx 12ugs-004 (i7-12800hx, 16gb ram, 1tb nvme ssd, rtx 3070ti 8gb, 17.3\" qhd 240hz, windows 11 pro) gaming laptop',\n",
              "       'excaliberpc 2022 msi gs66 stealth 11ue-662 (i7-11800h, 16gb ram, 1tb nvme ssd, rtx 3060 6gb, 15.6\" fhd 240hz, windows 11) gaming laptop',\n",
              "       'excaliberpc 2022 msi raider ge67hx 12ugs-070 (i7-12800hx, 16gb ram, 1tb nvme ssd, rtx 3070ti 8gb, 15.6\" qhd 240hz, windows 11) gaming laptop',\n",
              "       'acer aspire 5 a517-52-58ul laptop | 17.3\" full hd ips display | 11th gen intel core i5-1135g7 | intel iris xe graphics | 8gb ddr4 | 512gb ssd | wifi 6 | fingerprint reader | bl keyboard | windows 11',\n",
              "       'acer spin 5 convertible laptop, 13.5\" 2256 x 1504 ips touch | 10th gen intel core i5-1035g4 | 8gb lpddr4 | 256gb nvme ssd | wifi 6 | backlit kb | fpr | active stylus | windows 10 pro | sp513-54n-58xd',\n",
              "       'panasonic toughbook cf-54g2878vm 256gb ssd, 8rg ram, emissive backlit keyboard, windows 10 pro',\n",
              "       'panasonic toughbook laptop cf-31 sblax!m new!',\n",
              "       'acer chromebook spin 314 convertible laptop | intel pentium silver n6000 | 14\" hd corning gorilla glass touch display | 4gb lpddr4x | 128gb emmc | intel wi-fi 6 ax201 | chrome os | cp314-1h-p9g7',\n",
              "       'acer swift 3 intel evo thin & light laptop | 14.0\" full hd ips | intel core i7-1165g7 | intel iris xe graphics | 16gb lpddr4x | 512gb nvme ssd | wifi 6 | back-lit kb | windows 11 home | sf314-511-753k',\n",
              "       'acer swift 5 intel evo thin & light laptop | 14\" wxga ips 100% srgb touch | 12th gen intel i7-1260p | intel iris xe graphics | 16gb lpddr5 | 1tb gen 4 ssd | killer hdmi,wi-fi 6e ax1675 |sf514-56t-797t',\n",
              "       'acer enduro urban n3 eun314-51w-70rf 14\" full hd notebook computer, intel core i7-1165g7 2.8ghz, 16gb ram, 1tb ssd, windows 10 home, free upgrade to windows 11, hunter green',\n",
              "       'acer 2022 aspire 5 slim laptop, 15.6\" full hd display, amd ryzen 5 5500u hexa core processor, amd radeon graphics, wifi 6, backlit keyboard, windows 11 home (24gb ram | 1tb ssd)',\n",
              "       'acer 317 chromebook - 17.3\" intel celeron n4500 1.1ghz 4gb ram 64gb chromeos',\n",
              "       'acer nitro 5 gaming laptop | intel core i7-11800h | nvidia geforce rtx 3050 ti | 15.6\" fhd 144hz ips display | killer wi-fi 6 | backlit keyboard | type c | w/mouse pad (16gb ram | 512gb pcie ssd)',\n",
              "       'acer aspire 3 a315-24pt-r8cy slim laptop | 15.6\" full hd ips touch display | amd ryzen 5 7520u quad-core processor | amd radeon graphics | 8gb lpddr5 | 512gb nvme ssd | wi-fi 5 | windows 11 home',\n",
              "       'acer swift 3 intel evo thin & light laptop | 14\" fhd 100% srgb | intel core i5-1240p | intel iris xe graphics | 8gb lpddr4x | 512gb ssd | killer wi-fi 6e ax1675 | windows 11 home | sf314-512-53l0',\n",
              "       'acer 2022 new nitro 5 - 15.6\" 144 hz ips - intel core i5 12th 12500h - nvidia geforce rtx 3050 - thunderbolt 4 - killer wi-fi 6 - windows 11- gaming laptop w/mouse pad (16gb ram |1tb pcie ssd)',\n",
              "       'acer swift x sfx14-51g-71y1 creator laptop | 14\" 2240 x 1400 100% srgb | 12th gen intel i7-1260p | nvidia rtx 3050 laptop gpu | 16gb lpddr5 | 512gb nvme ssd | wi-fi 6e | backlit keyboard | windows 11',\n",
              "       'acer spin 7, 14\" fhd touch display, qualcomm snapdragon 8cx gen 2 5g compute platform, 8gb lpddr4x, 512gb universal flash storage, 5g, 4g lte, wi-fi, backlit kb, fpr, antimicrobial, sp714-61na-s1qa',\n",
              "       'acer predator triton 500 se gaming/creator laptop | 12th gen intel i7-12700h | geforce rtx 3060 | 16\" wqxga 240hz g-sync display | 16gb ddr5 | 512gb gen 4x4 ssd | killer wi-fi 6e | pt316-51s-7397',\n",
              "       'acer enduro n3 en314-51w-53rr rugged laptop, 14\" full hd ips, 10th gen intel core i5-10210u, 8gb ddr4, 256gb nvme ssd, intel wireless wi-fi 6, fingerprint reader, windows 10 professional',\n",
              "       'acer chromebook 315 laptop | intel celeron n4500 | 15.6\" full hd ips display | intel uhd graphics | 4gb lpddr4x | 64gb emmc | intel wi-fi 6 | dts audio | usb type-c | chrome os | cb315-4h-c8xu',\n",
              "       'acer swift 3 oled intel evo thin & light laptop | 14\" oled 2880x1800 | intel core i5-12500h | intel iris xe graphics | 8gb lpddr5 | 512gb ssd | killer wi-fi 6e ax1675 | windows 11 home | sf314-71-51nn',\n",
              "       'acer chromebook 311 laptop | amd a-series dual-core a4-9120c | 11.6\" hd display | amd radeon r4 graphics | 4gb ddr4 | 64gb emmc | 802.11ac wifi 5 | bluetooth 4.2 | chrome os | cb311-10h-41m9',\n",
              "       'acer conceptd 3 pro cn315-71p-58n0 creator laptop, intel i5-9300h, nvidia quadro t1000, nvidia studio, 15.6\" fhd ips, 100% dci-p3 color gamut, pantone validated, delta e<2, 16gb ddr4, 512gb nvme ssd',\n",
              "       'acer aspire 5 a515-57g-735f slim laptop | 15.6\" full hd ips | intel core i7-1260p | nvidia geforce rtx 2050 | 16gb ddr4 | 512gb ssd | wi-fi 6 | thunderbolt 4 | fingerprint reader | backlit kb | win 11',\n",
              "       'acer swift 3 intel evo thin&light laptop | 14\" qhd 100% srgb | intel core i7-1260p | intel iris xe graphics | 16gb lpddr4x | 1tb ssd | killer wi-fi 6e ax1675|bluetooth| windows 11 home |sf314-512-73yz',\n",
              "       'acer travelmate p6 thin & light business laptop, 14\" fhd ips, intel core i5-10310u with vpro, 8gb ddr4, 256gb ssd, 23 hrs battery, win 10 pro, tmp 2.0, mil-spec, fingerprint reader, tmp614-51-g2-5442',\n",
              "       'acer swift 3 oled intel evo thin & light laptop | 14\" oled 2880x1800 | intel core i7-12700h | intel iris xe graphics | 16gb lpddr5 | 1tb ssd | killer wi-fi 6e ax1675 | windows 11 home | sf314-71-75mw',\n",
              "       'acer swift 3 sf314-512t-56ct thin & light laptop | 14\" fhd touch | intel core i5-1240p | intel iris xe graphics | 16gb lpddr4x | 512gb ssd | intel wi-fi 6e | backlit keyboard | windows 11',\n",
              "       'acer chromebook spin 511 r753t r753t-c1pt 11.6\" touchscreen convertible 2 in 1 chromebook - hd - 1366 x 768 - intel celeron n5100 quad-core (4 core) 1.10 ghz - 8 gb ram - 64 gb flash memory',\n",
              "       'acer travelmate b3 tmb311-31-c343 - celeron n4020 / 1.1 ghz -',\n",
              "       'acer predator triton 300 se pt316-51s-74rm 16\" wqxga 240hz gaming notebook computer, intel core i7-12700h 2.3ghz, 16gb ram, 1tb ssd, nvidia geforce rtx 3070 ti 8gb, windows 11 home',\n",
              "       'acer chromebook 315 laptop | intel pentium silver n6000 | 15.6\" full hd ips touch | intel uhd graphics | 8gb lpddr4x | 64gb emmc | wi-fi 6 | dts audio | chrome os | cb315-4ht-p8pq',\n",
              "       'acer chromebook 11 c740-c4pe (11.6-inch hd, 4 gb, 16gb ssd)',\n",
              "       'acer chromebook 314, intel celeron n4000, 14\" hd display, 4gb lpddr4, 64gb emmc, gigabit wifi, google chrome, cb314-1h-c34n',\n",
              "       'acer spin 3 convertible laptop, 14\" full hd ips touch,intel core i5-1035g1,a8gb lpddr4,256gb nvme ssd,wifi 6, backlit kb,fingerprint reader,rechargeable active stylus,win 10 pro,sp314-54n-53bf,silver',\n",
              "       'acer chromebook 314 laptop | intel celeron n4020 | 14.0\" full hd ips display | intel uhd graphics | 4gb lpddr4 | 32gb emmc | 802.11ac gigabit wi-fi 5 | chrome os | cb314-1h-c17s',\n",
              "       'acer travelmate p6 thin & light business laptop, 14\" fhd ips, intel core i5-10310u with vpro, 8gb ddr4, 256gb ssd, 23 hrs battery, win 10 pro, tmp 2.0, mil-spec, fingerprint reader, tmp614-51-g2-5442',\n",
              "       'acer aspire 5 a514-55-545g slim laptop | 14.0\" full hd ips display | 12th gen intel core i5-1235u | 8gb ddr4 | 512gb nvme gen 4 ssd | 802.11ax wi-fi 6e | thunderbolt 4 | backlit keyboard | win 11 home',\n",
              "       'acer enduro urban n3 eun314a-51w-51fp rugged laptop | 14\" full hd ips 450nit gorilla glass display | intel core i5-1135g7 | 8gb ddr4 | 512gb nvme ssd | wi-fi 6 | mil-std 810h | backlit kb | windows 11',\n",
              "       'acer vero 14\" fhd laptop intel core i5-1235u 10-core 16gb lpddr4x ram 512gb pci-e solid state drive 14\" widescreen ips led-backlit fhd (1920 x 1080) display',\n",
              "       'acer swift 3 sf314-44-r3zm laptop | 14\" full hd ips | 100% srgb | amd ryzen 5 5625u hexa-core processor | amd radeon graphics | 16gb lpddr4x | 512gb ssd | wi-fi 6e | backlit keyboard | windows 11',\n",
              "       'acer nitro 5 - 15.6\" 144 hz ips - intel core i5 12th gen 12500h (12-core, 2.50ghz) - nvidia geforce rtx 3060 - thunderbolt 4 - windows 11 - gaming laptop – w/mouse pad (32gb ram | 2tb pcie ssd)',\n",
              "       'acer - chromebook spin 713 2-in-1 13.5\" 2k vertiview 3:2 touch - intel i5-10210u - 8gb memory - 128gb ssd – steel gray',\n",
              "       'acer chromebook 514 laptop | 14\" fhd touch | mediatek kompanio 828 octa-core processor | 8gb ram | 64gb emmc | wi-fi 6 | backlit kb | chrome os | up to 15 hours battery life | cb514-2ht-k0fz',\n",
              "       'acer swift 3 intel evo thin & light laptop | 14\" qhd 100% srgb | intel core i7-1260p | intel iris xe graphics | 16gb lpddr4x | 512gb ssd | killer wi-fi 6e ax1675 | windows 11 home | sf314-512-78jg',\n",
              "       'panasonic toughbook cf-30ctqazbm notebook intel core duo l2400(1.66ghz) 13.3\" xga 4gb memory 160gb hdd intel gma950',\n",
              "       'fz-g1u/ea21/barcode scanner/mk5/core i5-7300u/2.60ghz /win10 pro 64 bit/ 10.1\" wuxga gloved multi touch + digitizer lcd /256gb ssd/8gb /wi-fi/bt/dual pass/rear cam/infrared hello webcam/tpm 2.0',\n",
              "       'acer swift 3 sf314-43-r6ne laptop | 14\" full hd ips | amd ryzen 7 5700u octa-core processor | amd radeon graphics | 16gb lpddr4x | 512gb ssd | wi-fi 6 | fingerprint reader | backlit kb | windows 11',\n",
              "       'acer aspire 5 a515-57g-58r7 slim laptop | 15.6\" full hd ips | intel core i5-1240p | nvidia geforce rtx 2050 | 8gb ddr4 | 512gb ssd | wi-fi 6 | thunderbolt 4 | fingerprint reader | backlit kb | win 11',\n",
              "       'acer aspire 5 15.6\" fhd ips display slim laptop 11th gen intel i3-1115g4 dual core processor wifi 6\\xa0alexa windows 11 home in s mode (4gb ram | 128gb ssd)',\n",
              "       'acer 2022 nitro 5 17.3\" fhd ips 144hz gaming laptop core i5 12500h(beats i7-11800h) nvidia rtx 3050 tgp 95w thunderbolt 4 intel killer ethernet w/mouse pad (8gb ram | 512gb pcie ssd)',\n",
              "       'acer aspire 5 a515-47-r3y6 slim laptop | 15.6\" full hd ips | amd ryzen 5 5625u hexa-core mobile processor | 8gb ddr4 | 512gb nvme ssd | wifi 6 | backlit kb | usb type-c | windows 11 home',\n",
              "       'panasonic cf-31sal781m win7, intel core i5-3320m 2.60ghz, vpro, 13.1 xga touch, 500gb(7200rpm), 4gb, in',\n",
              "       'acer predator triton 300 15.6\" fhd 144hz gaming notebook, intel core i7-11800h 2.3ghz, 16gb ram, 512gb ssd, nvidia geforce rtx 3060 6gb, windows 10 home, free windows 11 upgrade, obsidian black',\n",
              "       'acer swift x intel evo thin & light creator laptop | 16\" wuxga 100% srgb | 12th gen intel i7-1260p | intel arc a370m | 16gb lpddr5 | 512gb gen4 ssd| killer wifi 6e ax1675 | windows 11 | sfx16-52g-73u6',\n",
              "       'acer nitro 5 an517-41-r7ey gaming laptop, amd ryzen 5 5600h hexa-core processor | nvidia geforce gtx 1650 | 17.3\" fhd ips display | 8gb ddr4 | 512gb nvme ssd | wifi 6 | backlit keyboard',\n",
              "       'acer aspire 5 a515-57-53t2 slim laptop | 15.6\" full hd ips display | 12th gen intel core i5-1235u | 8gb ddr4 | 512gb nvme ssd | 802.11ax wi-fi 6 | thunderbolt 4 | backlit keyboard | windows 11 home',\n",
              "       'acer aspire 3 a315-24p-r7vh slim laptop | 15.6\" full hd ips display | amd ryzen 3 7320u quad-core processor | amd radeon graphics | 8gb lpddr5 | 128gb nvme ssd | wi-fi 6 | windows 11 home in s mode',\n",
              "       'acer nitro 5 an515-58-725a gaming laptop | intel core i7-12700h | nvidia geforce rtx 3060 gpu | 15.6\" fhd 144hz 3ms ips display | 16gb ddr4 | 512gb gen 4 ssd | killer wi-fi 6 | rgb keyboard',\n",
              "       'acer aspire 7 a715-76-765n laptop | 15.6\" full hd ips display | 12th gen intel core i7-12700h | 8gb ddr4 | 512gb nvme gen 4 ssd | wi-fi 6 | thunderbolt 4 | backlit keyboard | fingerprint reader',\n",
              "       'acer chromebook 512 laptop | intel celeron n4020 | 12\" hd+ display | intel uhd graphics 600 | 4gb lpddr4 | 32gb emmc | intel 9560 802.11ac gigabit wifi 5 | mil-std 810g | chrome os | cb512-c1kj',\n",
              "       'acer 2022 newest aspire 5 slim laptop, 15.6 inch full hd ips display, intel core i3-1115g4 processor(beat i5-1030g7), 12gb ram, 512gb ssd, wifi 6, windows 11 home in s mode, bundle with jawfoal',\n",
              "       'msi pulse gl66 15.6\" fhd 144hz gaming laptop: intel core i7-12700h rtx 3070 16gb 512gb nvme ssd, type-c usb 3.2 gen 1, rgb gaming keyboard, cooler boost 5, win11 home: black 12ugkv-464',\n",
              "       'gigabyte aero 17 ye5 - 17.3\" 4k/uhd miniled 120hz, intel core i9-12900hk, nvidia geforce rtx 3080 ti gpu 16gb gddr6, 32gb ddr5 ram, 2tb ssd, win11 pro, creator & gaming laptop (aero 17 ye5-94us748hp)',\n",
              "       'gigabyte aorus 15p (wb) thin and light performance gaming laptop, 15.6-inch fhd 144hz ips, geforce rtx 2070 max-q, 10th gen intel i7-10750h, 16gb ddr4, 512gb nvme ssd (aorus 15p wb-7us1130sh)',\n",
              "       'aero 17 wa-7us1130so 17.3\" thin bezel 144hz fhd, i7-9750h, nvidia geforce rtx 2060 gddr6 6gb, samsung 16gb ddr4 2666mhz ram, pcie 512gb ssd, windows 10 home+office 365, rgb kb, ultra slim laptop',\n",
              "       'hp victus 15.6\" gaming laptop - amd ryzen 7 5800h - geforce rtx 3050 ti - 144hz 1080p - windows 11 w/hdmi (16gb ram | 1tb pcie ssd)',\n",
              "       'hp victus 15.6\" gaming laptop pc, nvidia geforce rtx 3050 ti, amd ryzen 7 5800h, refined 1080p ips display, compact design, all-in-one keyboard with enlarged touchpad, hd webcam (15-fb0028nr, 2022)',\n",
              "       'blackview tablet tab8, 10.1 inch android tablets with 4gb+64gb octa core processor,1920x1200 ips fhd display, 13mp+5mp dual camera, gps, fm, 5g wifi teblet grey',\n",
              "       'acer travelmate b1 b118-m tmb118-m-c8j5 11.6\" notebook - 1366 x 768 - celeron n4100-4 gb ram - 128 gb ssd - windows 10 pro education 64-bit - intel uhd graphics 600 - comfyview - english keyboa',\n",
              "       'hp 15.6 inch full hd touchscreen laptop amd 8-core ryzen 7 5700u (beat i7-10710u), 16gb ddr4 ram 512gb ssd wifi 6 windows 10 silver',\n",
              "       'gigabyte aero 17 hdr sa-7us4020sh 17.3\" thin bezel uhd hdr, i7-9750h, nvidia geforce gtx 1660 ti, samsung gddr6 6gb 8gb ddr4 2666mhz ram, 256gb intel 760p ssd, win10 home, rgb kb, ultra slim laptop',\n",
              "       'hp victus 15 gaming laptop, nvidia geforce rtx 3050, 12th gen intel core i5-12500h, 8 gb ram, 512 gb ssd, full hd display, windows 11 home, backlit keyboard, enhanced thermals (15-fa0025nr, 2022)',\n",
              "       'acer aspire vero av15-51-7617 green pc | 15.6\" fhd ips 100% srgb-display | 11th gen intel core i7-1195g7 | intel iris xe graphics | 16gb ddr4 | 512gb nvme ssd | wi-fi 6 | pcr materials | vero-sleeve',\n",
              "       'gigabyte aorus 15g (wb) performance gaming laptop 15.6-inch fhd 240hz ips, geforce rtx 2070 max-q, 10th gen intel i7-10750h, w/ mechanical keys, 16gb ddr4, 512gb nvme ssd (aorus 15g wb-7us2130mh)',\n",
              "       'msi stealth 17 studio 17.3\" qhd 240hz gaming laptop: intel core i9-13900h, rtx 4080, 32gb ddr5, 1tb nvme ssd, thunderbolt 4, usb-type c, cooler boost trinity+, win11 home: core black a13vh-053us',\n",
              "       'gigabyte aero 5 xe4 - 16\" 4k/uhd samsung amoled, intel core i7-12700h, nvidia geforce rtx 3070 ti gpu 8gb gddr6, 16gb ddr4 ram, 1tb ssd, win11 home laptop (aero 5 xe4-73us614sh)',\n",
              "       'excaliberpc 2021 expc wf66 11ui-268 by_msi 15 inch mobile workstation laptop (i7-11800h, 16gb ram, 512gb nvme ssd, quadro t1200 4gb, 15.6\" fhd, windows 10 pro) 3d professional notebook computer',\n",
              "       'excaliberpc 2021 msi ws76 11um-468 mobile workstation laptop (i9-11900h, 64gb ram, 1tb nvme ssd, quadro rtx a5000 16gb, 17.3\" fhd, windows 10 pro) 3d professional notebook computer',\n",
              "       'excaliberpc 2022 msi raider ge77hx 12uhs-074 (i7-12800hx, 16gb ram, 1tb nvme ssd, rtx 3080ti 16gb, 17.3\" fhd 360hz, windows 11) gaming laptop',\n",
              "       'excaliberpc 2022 msi raider ge77hx 12uhs-082 (i9-12900hx, 32gb ram, 1tb nvme ssd, rtx 3080ti 16gb, 17.3\" qhd 240hz, windows 11 pro) gaming laptop',\n",
              "       'lg gram lightweight laptop 16\" wqxga ips lgd dci-p3 99% (2560 x 1600) display intel evo core i7-1260p dts x ultra fhd webcam backlit keyboard wifi 6e thunderbolt 4 windows 11 (16gb ram | 512gb ssd)',\n",
              "       'lg newest gram 15.6\" ips 99% srgb touchscreen slim laptop, up to 5.0 ghz intel 11th gen i7-1195g7, backlit kb, wi-fi 6, 19.5 hr battery life, fingerprint, 2xthunderbolt 4 (16gb ram | 2tb pcie ssd)',\n",
              "       'lg gram 15z90n laptop 15.6\" ips ultra-lightweight, (1920 x 1080), 10th gen intel core i7 , 16gb ram, 1tb ssd, windows 10 home, usb-c, hdmi, headphone input - silver',\n",
              "       'lg gram 15z90n laptop 15.6\" ips ultra-lightweight, (1920 x 1080), 10th gen intel core i7 , 16gb ram, 1tb ssd, windows 10 home, usb-c, hdmi, headphone input - silver',\n",
              "       'lg 15zt90p-g.am33u1 15\" gram lightweight notebook',\n",
              "       'samsung 15.6” galaxy book2 pro laptop computer, i5 / 8gb / 512gb, 12th gen intel core processor, evo certified, lightweight, 2022 model, graphite',\n",
              "       'fusion5 14.1\" t90 n4 intel quad core windows 11 home laptop (intel celeron, n4120 quad core, 64gb emmc, 4gb ram, windows 11, dualband wifi, webcam, 2x usb 3.0, mini hdmi)',\n",
              "       'lg 17zt90p-g.ax33u1 17\" gram lightweight notebook',\n",
              "       'lg 14zt90p-g.am32u1 14\" gram lightweight notebook, hdd tpm, 8gb ddr, 256gb ssd',\n",
              "       \"lg gram 16'' 2-in-1 ultra-lightweight laptop, wqxga ips (2560 x 1600) 16:10 touchdisplay, intel evo i7-1165g7, 21 hr batterylife, wi-fi 6, thunderbolt4, stylus pen, win 11(16gb ram. 512gb pcle ssd)\",\n",
              "       'lg gram 15.6\" full hd notebook computer, intel core i5-1135g7 2.4ghz, 16gb ram, 512gb ssd, windows 10 home, free upgrade to windows 11, dark silver',\n",
              "       'samsung 15.6” galaxy book2 pro laptop computer, i5 / 8gb / 512gb, 12th gen intel core processor, evo certified, lightweight, 2022 model, graphite',\n",
              "       'acer chromebook spin 511 r753t r753t-c1pt 11.6\" touchscreen convertible 2 in 1 chromebook - hd - 1366 x 768 - intel celeron n5100 quad-core (4 core) 1.10 ghz - 8 gb ram - 64 gb flash memory',\n",
              "       'asusvivobook student business laptop, 15.6\" fhd display, i3-1115g4 cpu, 4gb ddr4 ram, 128gb ssd, windows 11 home in s mode, slate grey, nowco accessories',\n",
              "       'h p 11.6\" chromebook laptop student business (2022 newest model), amda4-9120c(up to 2.4ghz), 4gb ddr4 ram, 32gb emmc 802.11ac wifi, bluetooth 5.0 black, chrome os nowco accessories',\n",
              "       '15.6 inch laptop pc, notebook, n5100 quad core cpu, 6gb ram, 128gb rom(1tb ssd expandable storage), 1366 x 768 ips hd display, windows 10 pro, online meeting, webcam, compact design, wi-fi',\n",
              "       'laptop 15-dy2097nr|intel core i7 11th gen|windows 11 home|256 gb ssd|intel iris xe graphics|12 gb ddr4|15.6\" display|2b5g1ua#aba',\n",
              "       'lg gram 15 15z95n ultra lightweight 15.6\" fhd (intel i5-1135g7 (beat i7-1065g7), 16gb ram, 1tb ssd, uhd graphics) military grade business laptop, 21hr battery, backlit kb, webcam, windows 11 home',\n",
              "       'samsung 15.6” galaxy book2 pro laptop computer, i5 / 8gb / 512gb, 12th gen intel core processor, evo certified, lightweight, 2022 model, silver',\n",
              "       'samsung 13.3” galaxy book2 pro laptop computer, i5 / 8gb / 256gb, 12th gen intel core processor, evo certified, lightweight, 2022 model, graphite',\n",
              "       'samsung 15.6” galaxy book2 pro laptop computer, i5 / 8gb / 512gb, 12th gen intel core processor, evo certified, lightweight, 2022 model, graphite',\n",
              "       'samsung 15.6” galaxy book2 pro laptop computer, i7 / 16gb / 512gb, 12th gen intel core processor, evo certified, lightweight, 2022 model, silver',\n",
              "       'lg ultrapc 16u70q thin and lightweight laptop, 16” (1920 x 1200) anti-glare ips display, ryzen 7 processor, 16gb memory – 512gb solid state drive, wifi 6, windows 11, gray',\n",
              "       'acer aspire vero av15-51-7617 green pc | 15.6\" fhd ips 100% srgb-display | 11th gen intel core i7-1195g7 | intel iris xe graphics | 16gb ddr4 | 512gb nvme ssd | wi-fi 6 | pcr materials | vero-sleeve',\n",
              "       '15.6 inch laptop,windows 10 pro, 1366×768 hd screen,intel celeron n5100 processor,6gb ram，128g ssd',\n",
              "       'gigabyte aero 16 xe5 - 16\" 4k/uhd+ samsung amoled, intel core i7-12700h, nvidia geforce rtx 3070 ti laptop gpu 8gb gddr6, 32gb ddr5 ram, 2tb ssd,win11 pro laptop (aero 16 xe5-73us948hp)',\n",
              "       'gigabyte aorus 17 ye5 - 17.3\" fhd 1920x1080 ips-level display, intel core i7-12900h, nvidia geforce rtx 3080 ti laptop gpu 16gb gddr6, 32gb ddr5 ram, 1tb ssd, win11 home (aorus 17 ye5-a4us544sp)',\n",
              "       'gigabyte aero 16 ye5 - 16\" 4k/uhd+ samsung amoled, intel core i9-12900h, nvidia geforce rtx 3080 ti laptop gpu 16gb gddr6, 64gb ddr5 ram, 2tb ssd, win11 pro (aero 16 ye5-a4us958hp)',\n",
              "       'gigabyte aero 16 ye5: 16\" 4k/uhd+ samsung amoled, intel core i9-12900h, nvidia geforce rtx 3080 ti laptop gpu 16gb gddr6, 32gb ddr5 ram, 2tb ssd, win11 pro (aero 16 ye5-a4us948hp)',\n",
              "       'gigabyte [2020] aero 15s oled xb thin+light high performance laptop, 15.6\" 4k uhd oled display w/ 100% dci-p3, geforce rtx 2070 super max-q, i7-10875h, 16gb ddr4',\n",
              "       'gigabyte aorus 17 ye5: 17.3\" fhd 1920x1080 ips-level display, intel core i7-12700h, nvidia geforce rtx 3080 ti laptop gpu 16gb gddr6, 32gb ddr5 ram, 1tb ssd, win11 home (aorus 17 ye5-74us544sh)',\n",
              "       'gigabyte aero 17 xe5 - 17.3\" 4k/uhd miniled 120hz, intel core i7-12700h, nvidia geforce rtx 3070 ti gpu 16gb gddr6, 16gb ddr5 ram, 2tb ssd, win11 pro, creator & gaming laptop (aero 17 xe5-73us738hp)',\n",
              "       'gigabyte aero 17 ye5: 17.3\" 4k/uhd miniled 120hz, intel core i7-12700h, nvidia geforce rtx 3080 ti laptop gpu 16gb gddr6, 32gb ddr5 ram, 2tb ssd, win11 pro (aero 17 ye5-74us748hp)',\n",
              "       'gigabyte aorus 17 ye5: 17.3\" fhd 1920x1080 ips-level display, intel core i7-12700h, nvidia geforce rtx 3080 ti laptop gpu 16gb gddr6, 32gb ddr5 ram, 1tb ssd, win11 home (aorus 17 ye5-74us544sh)',\n",
              "       'gigabyte aero 17 ye5: 17.3\" 4k/uhd miniled 120hz, intel core i7-12700h, nvidia geforce rtx 3080 ti laptop gpu 16gb gddr6, 32gb ddr5 ram, 2tb ssd, win11 pro (aero 17 ye5-74us748hp)',\n",
              "       'gigabyte g5 me: 15.6\" fhd 144hz, nvidia geforce rtx 3050 laptop gpu 6gb gddr6, intel core i5-12500h, 16gb memory, 512gb ssd, win11 home, gaming laptop (g5 me-51us213sh)',\n",
              "       'acer chromebook 311 laptop | amd a-series dual-core a4-9120c | 11.6\" hd display | amd radeon r4 graphics | 4gb ddr4 | 64gb emmc | 802.11ac wifi 5 | bluetooth 4.2 | chrome os | cb311-10h-42ly',\n",
              "       'acer aspire 5 a515-56-347n slim laptop - 15.6\" full hd ips display - 11th gen intel i3-1115g4 dual core processor - 8gb ddr4 - 128gb nvme ssd - wifi 6 - amazon alexa - windows 11 home in s mode',\n",
              "       'acer aspire 5 a517-52-75n6 laptop | 17.3\" full hd ips display | 11th gen intel core i7-1165g7 | intel iris xe graphics | 16gb ddr4 | 512gb ssd | wifi 6 | fingerprint reader | bl keyboard | windows 11',\n",
              "       'acer 2023 newest aspire 5 15.6\" fhd ips slim laptop, intel core i3-1115g4(up to 4.1ghz), 20gb ram, 512gb nvme ssd, wifi 6, usb, rj-45, webcam, amazon alexa, windows 11 s, w/gm accessories',\n",
              "       'acer aspire vero av15-51-7617 green pc | 15.6\" fhd ips 100% srgb-display | 11th gen intel core i7-1195g7 | intel iris xe graphics | 16gb ddr4 | 512gb nvme ssd | wi-fi 6 | pcr materials | vero-sleeve',\n",
              "       'acer chromebook 311 laptop | amd a-series dual-core a4-9120c | 11.6\" hd display | amd radeon r4 graphics | 4gb ddr4 | 64gb emmc | 802.11ac wifi 5 | bluetooth 4.2 | chrome os | cb311-10h-42ly',\n",
              "       'acer aspire 3 a315-24p-r75b slim laptop | 15.6\" full hd ips display | amd ryzen 3 7320u quad-core processor | amd radeon graphics | 8gb lpddr5 | 128gb nvme ssd | wifi 6 | windows 11 home in s mode',\n",
              "       'acer aspire 5 a515-56-347n slim laptop - 15.6\" full hd ips display - 11th gen intel i3-1115g4 dual core processor - 8gb ddr4 - 128gb nvme ssd - wifi 6 - amazon alexa - windows 11 home in s mode',\n",
              "       'msi pulse gl66 15.6\" fhd 144hz gaming laptop: intel core i7-12700h rtx 3070 16gb 512gb nvme ssd, type-c usb 3.2 gen 1, rgb gaming keyboard, cooler boost 5, win11 home: black 12ugkv-464',\n",
              "       'alienware m17 awm17 7257-17.3\" - i7-8750h - nvidia rtx 2070-16gb - 1tb hdd+256gb ssd',\n",
              "       'alienware m17 gaming laptop, 17.3\", fhd, intel core i7-8750h, nvidia rtx 2060 6gb, 256gb ssd + 1tb storage, 16gb ram',\n",
              "       'alienware aw13r3-7000slv-pus 13.3\" gaming laptop (7th generation intel core i7, 8gb ram, 256 ssd, silver) with nvidia gtx 1060',\n",
              "       'alienware m15 awm15 7264-15.6\" - i7-8750h - nvidia gtx 1060-16gb - 1tb hdd+256gb ssd',\n",
              "       'alienware aurora r11 gaming desktop 10th gen intel core i7, 16gb dual channel hyperx fury ddr4 xmp, nvidia geforce rtx 3080, 1tb hdd + 512gb ssd, killer wi-fi 6, black (latest model)',\n",
              "       'alienware aurora r10 gaming desktop - amd ryzen 9 5900, 32gb ddr4 ram, 1tb ssd, nvidia geforce rtx 3080 10gb gddr6x, windows 10 home - lunar light',\n",
              "       'alienware aurora r8 desktop, 9th gen intel core i7 9700, nvidia geforce rtx 2070, 8gb gddr6 (overclockable), 256gb ssd boot + 2tb 7200 rpm, 16gb ram, awaur8-7787slv-pus',\n",
              "       'alienware dell aurora r10 gaming desktop, amd ryzen 9 3900, 32gb dual channel hyperx fury ddr4 xmp, 1tb ssd, amd radeon rx 5700 xt 8gb gddr6, lunar light',\n",
              "       'alienware aurora r10 gaming desktop - amd ryzen 9 5900, 32gb ddr4 ram, 1tb ssd, nvidia geforce rtx 3080 10gb gddr6x, windows 10 home - lunar light',\n",
              "       '2019_dell alien.ware gaming desktop, 8th gen intel core i7-8700, 16gb ram, 256gb ssd+2tb hdd, wireless+bluetooth, nvidia geforce rtx 2070 8gb gddr6, hdmi，window 10',\n",
              "       'alienware new aurora r11 gaming desktop, intel i7-10700kf, nvidia geforce rtx 2080 super 8gb gddr6, 512gb ssd + 1tb sata hdd, 16gb ddr4 xmp, windows 10 home, awaur11-7088blk-pus',\n",
              "       'alienware 17r4 17.3\" r4 i7 7700hq 16gb 1t hdd + 128gb ssd gtx 1070',\n",
              "       'alienware m15 r6 gaming laptop, 15.6 inch qhd 240hz display, intel core i7-11800h, 32gb ddr4 ram, 1tb ssd, nvidia geforce rtx 3080 8gb gddr6, windows 11 home, dark side of the moon',\n",
              "       'msi pulse gl66 15.6\" fhd 144hz gaming laptop: intel core i7-12700h rtx 3070 16gb 512gb nvme ssd, type-c usb 3.2 gen 1, rgb gaming keyboard, cooler boost 5, win11 home: black 12ugkv-464',\n",
              "       'alienware m15 r5 gaming laptop, 15.6 inch fhd 360hz 1ms g-sync display, amd ryzen r9 5900hx, geforce rtx 3070, 64gb ram, 2tb nvme ssd, killer wifi, rgb keyboard, windows 11, dark side of the moon',\n",
              "       'msi prestige 14 evo 14\" fhd ultra thin and light professional laptop intel core i7-1185g7 intel iris xe 32gb ddr4 1tb nvme ssd win10home - gray (a11mo-217)',\n",
              "       'msi raider ge77hx 17.3\" qhd 240hz gaming laptop: intel core i7-12800hx rtx 3070 ti 16gb ddr5 1tb nvme ssd, thunderbolt 4, usb-type c, cooler boost 5, win11 pro: dark grey 12uhs-004',\n",
              "       'msi pulse gl66 15.6\" fhd 144hz gaming laptop: intel core i7-12700h rtx 3070 16gb 512gb nvme ssd, type-c usb 3.2 gen 1, rgb gaming keyboard, cooler boost 5, win11 home: black 12ugkv-464',\n",
              "       'hp - envy x360 2-in-1 15.6\" touch-screen laptop - amd ryzen 5 - 8gb memory - 256gb ssd - nightfall black',\n",
              "       'hp pavilion 15.6\" fhd touchscreen laptop, amd ryzen 7-5825u processor (beat i7-1180g7),32gb ram, 1tb pcie ssd, wi-fi 6, backlit keyboard, hdmi, webcam, bluetooth, windows 11 home, silver',\n",
              "       'hp pavilion 15.6\" fhd touchscreen laptop, 12th gen intel core i7-1255u processor, intel iris xe graphics, wi-fi 6, hdmi, webcam, bluetooth, windows 11 home (32gb | 1tb ssd)',\n",
              "       '2021 hp probook 450 g8 15.6\" ips fhd 1080p business laptop (intel quad-core i5-1135g7 (beats i7-8565u), 16gb ram, 512gb pcie ssd) backlit, type-c, rj-45, webcam, windows 10 pro + hdmi cable',\n",
              "       'hp zbook firefly 14-inch g8 mobile workstation pc 11th gen intel core i7-1185g7 16gb 256gb pcle gen 3 ssd intel iris xe graphics windows 10 pro - new',\n",
              "       'hp 14 laptop, amd 3000 series processor, 32gb ram, 1tb storage, 14-inch micro-edge hd display, long battery life, webcam, thin & portable, windows 10 + one year of office365, rose gold',\n",
              "       'hp 17 laptop, 17.3\" hd+ touchscreen, amd ryzen 5 5625u, 32gb ddr4 ram, 1tb pcie nvme ssd, webcam, wi-fi, bluetooth, windows 11 home, silver',\n",
              "       'hp pavilion 17.3-inch ips fhd laptop (2022 model), intel core i5-1135g7 (beats i7-1065g7), iris xe graphics, backlit keyboard, long battery life, wi-fi 5, windows 11 (16gb ram | 1tb pcie ssd)',\n",
              "       'hp chromebook 11-inch laptop - mediatek - mt8183 - 4 gb ram - 32 gb emmc storage - 11.6-inch hd display - with chrome os™ - (11a-na0010nr, 2020 model)',\n",
              "       'hp - spectre x360 2-in-1 13.5\" 3k2k oled touchscreen laptop - intel evo core i7 1195g7 2x tb4 mpp 2.0 tilt pen included windows 11 home+ hdmi cable (16gb ram | 1tb pcie ssd+32gb intel optane)',\n",
              "       'hp pavilion 15 laptop – 15.6 \" fhd ips 1080p touchscreen - intel core 12th gen i5-1235u (10-core) – 16gb ram – 512gb pcie ssd – wi-fi 6 – windows 11 – type-c - webcam - w/mouse pad',\n",
              "       'hp 15.6\" fhd laptop - intel celeron n4020, 4gb ram, 128gb ssd, windows 10 s mode - black (15-dw1001wm)',\n",
              "       'hp victus gaming laptop, amd ryzen 7 5800h processor, geforce rtx 3050 ti, 15.6\" fhd 144hz ips display, webcam, wifi 6, hdmi, bluetooth, enlarged touchpad, windows 11, silver (32gb ram | 1tb ssd)',\n",
              "       'hp newest pavilion 15.6\" hd laptop, intel quad-core pentium processor, 16gb ram, 1tb ssd, 11 hr battry life, office 365 1-year, intel uhd graphics, hd webcam, bluetooth, wifi, windows home in s model',\n",
              "       'hp pavilion 15.6\" touchscreen laptop - amd ryzen 7 5825u - 1080p - windows 11 notebook 15-eh2085cl 16gb ram 512gb ssd',\n",
              "       'hp 2022 pavilion 17.3 inch ips fhd laptop, amd ryzen5 5500u, 16gb ram, 256gb pcie + 512gb sata ssd, fingerprint, wifi5, windows 10 s mode with 1yr antivirus',\n",
              "       '2022 newest hp envy 2-in-1 laptop, 15.6\" ips fhd touchscreen, amd ryzen 5 5625u(> i7-1165g7), 16gb ddr4, 512gb ssd, backlit keyboard, fast charge, amazon alexa, wi-fi 6e, w/ stylus, windows 11, black',\n",
              "       'hp 15.6\" fhd laptop - intel celeron n4020, 4gb ram, 128gb ssd, windows 10 s mode - black (15-dw1001wm)',\n",
              "       '2022 hp pavilion 17.3 inch ips fhd laptop, intel core i5-1135g7 (beats i7-1065g7), iris xe graphics, 16gb ram, 1tb pcie ssd, backlit keyboard, wifi 5, long battery life, webcam, windows 11',\n",
              "       'hp newest pavilion 15.6\" hd laptop, intel quad-core pentium processor, 16gb ram, 1tb ssd, 11 hr battry life, office 365 1-year, intel uhd graphics, hd webcam, bluetooth, wifi, windows home in s model',\n",
              "       'hp victus gaming laptop, amd ryzen 7 5800h processor, geforce rtx 3050 ti, 15.6\" fhd 144hz ips display, webcam, wifi 6, hdmi, bluetooth, enlarged touchpad, windows 11, silver (32gb ram | 1tb ssd)',\n",
              "       '2022 newest hp pavilion x360 2-in-1 laptop, 14 inch fhd multi-touch display, intel core i5-1135g7 (beats i7-1065g7), 16gb ram, 1tb ssd, ,windows 11 home, bundle with jawfoal',\n",
              "       'hp 2022 newest envy 2-in-1 laptop, 15.6\" ips fhd touchscreen, amd ryzen 5 5625u(> i7-1165g7), 16gb ddr4, 512gb ssd, backlit keyboard, fast charge, amazon alexa, wi-fi 6e, w/ stylus, windows 11, black',\n",
              "       'hp - envy x360 2-in-1 15.6\" touch-screen laptop - amd ryzen 5 - 8gb memory - 256gb ssd - nightfall black',\n",
              "       'hp pavilion 15.6\" touchscreen laptop - 10-core 12th gen intel core i5-1235u - 1080p - windows 11 - intel® iris® xe graphics - w/hdmi cable (32gb ram | 1tb pcie ssd)',\n",
              "       'hp 2022 newest envy 2-in-1 laptop, 15.6\" ips fhd touchscreen, amd ryzen 5 5625u(> i7-1165g7), 16gb ddr4, 512gb ssd, backlit keyboard, fast charge, amazon alexa, wi-fi 6e, w/ stylus, windows 11, black',\n",
              "       'hp - envy x360 2-in-1 15.6\" touch-screen laptop - amd ryzen 5 - 8gb memory - 256gb ssd - nightfall black',\n",
              "       '2022 newest hp pavilion x360 2-in-1 laptop, 14 inch fhd multi-touch display, intel core i5-1135g7 (beats i7-1065g7), 16gb ram, 1tb ssd, ,windows 11 home, bundle with jawfoal',\n",
              "       'hp 17 laptop, 17.3\" hd+ touchscreen, amd ryzen 5 5625u, 32gb ddr4 ram, 1tb pcie nvme ssd, webcam, wi-fi, bluetooth, windows 11 home, silver',\n",
              "       'hp stream 11 laptop, intel celeron n4020, 4 gb ram, 64 gb storage, 11.6” hd anti-glare display, windows 11, long battery life, thin & portable, includes microsoft 365 (11-ak0040nr, 2021 diamond white)',\n",
              "       '2020 hp 14\" hd (1366 x 768) thin and light laptop pc, intel celeron n4020 dual-core processor, 4gb ddr4 memory, 64gb emmc, hdmi, wifi, bluetooth, windows 10 s, 1 year microsoft 365, snowflake white',\n",
              "       'asus 15 slim chrome os laptop intel processor up to 2.4ghz 15.6in full hd nanoedge-display with 180 degree-hinge 4gb ddr4 64gb storage wifi + bt (c523 – renewed)',\n",
              "       'samsung [windows 11] galaxy book 15.6\" fhd touchscreen laptop, intel quad-core i5-1135g7 (beat i7-1065g7), 8gb lpddr4x ram, 256gb pcie ssd, wifi 6, bluetooth, webcam, mystic silver',\n",
              "       'samsung - galaxy book flex2 alpha 13.3\" qled touch-screen laptop - intel core i7-1165g7 - 16gb memory - 512gb ssd - mystic black',\n",
              "       'samsung np340xla-ka6us 14\" 64gb galaxy book go with snapdragon - silver (2022)',\n",
              "       'asus tuf gaming a17 (2022) gaming laptop, 17.3” 144hz fhd ips-type display, amd ryzen 7 6800h, geforce rtx 3050 ti, 16gb ddr5, 512gb pcie ssd, wi-fi 6, windows 11 home, mecha gray, fa707re-ms73',\n",
              "       'samsung galaxy book2 pro 13.3” 256gb laptop computer w/ 8gb ram, 12th gen intel core i5 evo certified processor, amoled screen, long lasting battery, thin design, 2022, us version, silver',\n",
              "       'dell newest inspiron 15 3511 laptop, 15.6\" fhd 1080p touchscreen, intel core i5-1135g1, 16gb ram, 256gb + 1tb ssd, hdmi, wifi, windows 11 home, black with 1yr antivirus',\n",
              "       'newestlenovo ideapad 1, 14.0\" student business laptop, intelpentium n5030, quad-core processor 4gb ram, 128gb emmc ssd, grey, windows 11 in s mode + office 365, authorized nowco accessories',\n",
              "       'dell 2022 newest inspiron 15 3000 series laptop, 15.6\" fhd touchscreen anti-glare, 10th gen intel core i5-1035g1 quad-core processor, hdmi, webcam, windows 11, black (16gb ram | 1 tb ssd)',\n",
              "       'samsung notebook 7 np750xbe-k04us 15.6 inch intel core i5 (8th gen) 8265u 1.6ghz/ 8gb lpddr3/ 256gb ssd nvme/ windows 10 pro notebook(platinum titan)',\n",
              "       '2021 flagship asus laptop 15.6\" thin light laptop computer, 15.6\" fhd display, intel celeron n4020 (up to 2.8ghz),4gb ram, 128gb emmc,webcam,wifi, backlit keyboard，microsoft 365,win10 s+marxsol cables',\n",
              "       'samsung chromebook 4+, 15.6-inch full hd display, intel celeron n4000, intel uhd graphics 600, 4gb ram, 64gb emmc, wi-fi 5, bluetooth, chrome os, silver, w/ md accessories',\n",
              "       'asus ultra-slim zenbook 14.0\" fhd ips laptop | amd ryzen 5 5500u | nvidia geforce mx450 | wi-fi 6 | harman kardon audio | hd webcam | backlit kb | usb-c | windows 11 (8gb ram | 256gb pcie ssd)',\n",
              "       'dell inspiron 15 3000, 3511 15.6-inch fhd (1920 x 1080) laptop 11th gener ation intel(r) core(tm) i3-1115g4 processor 8gb, 8gx1, ddr4, 2666mhz 128gb m.2 pcie nvme solid state drive',\n",
              "       'asus zenbook 14x 14 16:10 oled 2.8k (2880 x 1800) touch laptop core i7-1165g7 nvidia geforce mx450 win11 pro 550 nits 100% dci-p3 pantone backlit kb harman / kardon w/hdmi (16gb ram | 1tb pcie ssd)',\n",
              "       'asus 2022 newest tuf premium gaming laptop, 17.3\" fhd ips 144hz, intel 6-core i5-11400h(>i5-11260h), geforce rtx 3050 ti, 16gb, 512gb ssd, rgb backlit kb, wi-fi 6, win 11, dts',\n",
              "       'asus 2022 newest vivobook go laptop, 11.6 inch hd ultra-thin display, intel dual core, 4gb ram, 64gb emmc, wi-fi, bluetooth, windows 11 home in s mode, bundle with jawfoal',\n",
              "       'asus zenbook 14\" oled 2.8k (2880 x 1800) touchscreen laptop core i7-1165g7 nvidia geforce mx450 550 nits 100% dci-p3 pantone backlit kb harman / kardon win11 pro w/mousepad (16gb ram | 1tb pcie ssd)',\n",
              "       \"2022 asus rog zephyrus 16'' fhd 165hz gaming laptop-intel core i7-12700h (beat i9-11900h), nvidia geforce rtx 3060 (tgp 120w) - with hdmi (40gb ddr5 ram\",\n",
              "       'asus 2022 newest rog zephyrus 14\" fhd 144hz gaming laptop - amd ryzen 7 5800hs - nvidia geforce rtx 3060 - moonlight white w/mouse pad (40gb ram|1tb pcie ssd)',\n",
              "       'asus rog zephyrus s15 gaming laptop, 300hz 15.6\" fhd 3ms ips level, intel core i7-10875h, nvidia geforce rtx 2080 super, 32gb ddr4, 1tb raid 0 ssd, wi-fi 6, per-key rgb, windows 10 pro, gx502lxs-xs79',\n",
              "       'asus rog zephyrus g15 15.6\" 165hz qhd (2560x1440) slim gaming laptop, 8 cores amd ryzen 9 5900hs, geforce rtx 3060, 100% dci-p3 pantone, rgb backlit kb, wi-fi 6 (24gb ram | 1tb pcie ssd)',\n",
              "       '2022 flagship asus chromebook light laptop, 17.3\" fhd 1080p widescreen, intel celeron n4500 (upto 2.8ghz), 4gb ram, 32gb emmc, webcam, uhd graphic, wifi 6,17+ hours battery,chrome os +hubxcelaccessory',\n",
              "       'asus slim vivobook s 14x laptop 14.5\" oled 2.8k(2880 x 1800 100% dci-p3 120hz 16:10 600nits) 14-core intel evo 12th gen i7-12700h thunderbolt 4 wi-fi 6e +hdmi cable (24gb ram | 1tb pcie ssd)',\n",
              "       'asus 2022 tuf gaming a15 15.6\" fhd 144hz gaming laptop - amd ryzen 7 -6800h -rtx 3050 ti, ddr5, mux, rgb backlit kb, wifi 6, win 11, w/hdmi(16gb ram 512gb ssd)',\n",
              "       'asus vivobook pro 16x 16 oled 4k uhd wquxga (3840 x 2400) slim laptop core i7-11370h nvidia geforce rtx 3050 backlit kb 100% dci-p3 pantone win11 pro w/hdmi (16gb ram | 2tb ssd)',\n",
              "       'asus vivobook x712 laptop; 17.3\" hd+ 1600x900; intel i5-1035g1 4-core; 12gb ram, 1tb hdd; intel uhd; bluetooth, win 11 home s with 1yr antivirus',\n",
              "       'asus vivobook s15 s533 thin and light laptop, 15.6” fhd display, intel core i5-1135g7 cpu, 8gb ddr4 ram, 512gb pcie ssd, wi-fi 6, windows 11 home, ai noise-cancellation, resolute red, 533ea-dh51-rd',\n",
              "       'asus rog zephyrus s15 gaming laptop, 300hz 15.6\" fhd 3ms ips level, intel core i7-10875h, nvidia geforce rtx 2080 super, 32gb ddr4, 1tb raid 0 ssd, wi-fi 6, per-key rgb, windows 10 pro, gx502lxs-xs79',\n",
              "       'asus chromebook vibe cx34 flip cloud gaming laptop with stylus, 14\" 144 hz touch display (1920x1200), intel® core™ i5-1235u processor, 256gb ssd, 8gb ram, chromeos, pearl white, cx3401fba-dh586t-s',\n",
              "       'dell latitude 7430 laptop - 14\" fhd ag 300-nits touch display - intel core i7-1270p 12-core (12th gen) - 32gb ram - 256gb ssd - 5 years prosupport - win11 pro',\n",
              "       'asus vivobook pro 16x oled 16\" 4k uhd 16:10 display slim laptop intel core i7-11370h nvidia geforce rtx 3050 backlit kb 100% dci-p3 pantone win11 pro w/hdmi (16gb ram | 1tb ssd)',\n",
              "       'asus zenbook 2-in-1 15.6” touch 360° flip slim laptop | amd ryzen 7 5700u(beat i7-1180g7) | nvidia geforce mx450 | backlit kb | windows 11 | harman/kardon | w/mouse pad (8gb ram | 256gb ssd)',\n",
              "       'asus 15.6\" rog strix g15 laptop - amd ryzen 7 4800h - geforce rtx 3060 – win 11 home-with hdmi cable (32gb ram | 1tb pcie ssd)',\n",
              "       'asus zenbook 14x oled laptop, 14” 2.8k 16:10 display, intel core i7-12700h cpu, intel iris xe graphics, 16gb ram, 1tb ssd, windows 11 home, wi-fi 6e, pine grey, ux5401za-ps74',\n",
              "       '2022 newest asus ultra thin light laptop computer, 15.6\" fhd display, intel celeron n4020 (upto 2.8ghz), 4gb ram, 128gb emmc,wifi, backlit keyboard,8-hour battery, microsoft 365, win10 s+hubxcelcable',\n",
              "       'asus zenbook 14x oled laptop, 14” 2.8k 16:10 touch display, intel core i7-1260p cpu, nvidia geforce mx550, 16gb ram, 512gb ssd, windows 11 home, pine grey, ux5400zb-db74t',\n",
              "       '2022 newest asus ultra thin light laptop computer, 15.6\" fhd display, intel celeron n4020 (upto 2.8ghz), 4gb ram, 128gb emmc,wifi, backlit keyboard,8-hour battery, microsoft 365, win10 s+hubxcelcable',\n",
              "       '15.6\" s15 n2 full hd windows 11 professional slim n light laptop - intel n4020 - 128gb storage, 4gb ram, intel dual-core dedicated num-pad, dual-band wifi, expandable storage',\n",
              "       \"asus 2022 newest tuf gaming a15 15.6'' fhd 144hz laptop - amd ryzen 7 -6800h -rtx 3050 ti, ddr5, mux, rgb backlit kb, wifi 6, gray, win 11, w/hdmi (32gb ram\",\n",
              "       '2022 newest asus ultra thin light laptop computer, 15.6\" fhd display, intel celeron n4020 (upto 2.8ghz), 4gb ram, 128gb emmc,wifi, backlit keyboard,8-hour battery, microsoft 365, win10 s+hubxcelcable',\n",
              "       'asus zenbook 14x 14 16:10 oled 2.8k (2880 x 1800) touchscreen slim laptop | core i7-1165g7 | nvidia geforce mx450 | windows 11 pro | backlit kb | harman / kardon | w/hdmi (16gb ram | 1tb pcie ssd)',\n",
              "       'asus laptop l510 ultra thin laptop, 15.6” fhd display, intel celeron n4020 processor, 4gb ram, 64gb storage, windows 10 home in s mode, 1 year microsoft 365, star black, l510ma-dh02',\n",
              "       'samsung notebook 7 15.6” (16gb ram/512gb ssd mx250)',\n",
              "       'asus vivobook s 14x 14.5 oled 2.8k 120hz 16:10 600nits laptop 14-core intel evo 12th gen i7-12700h 100% dci-p3 0.2ms pantone backlit kb wi-fi 6e thunderbolt 4 dts w/hdmi (16gb ram | 1tb pcie ssd)',\n",
              "       'samsung notebook odyssey (nvidia geforce rtx 2060) 15.6” – intel i7 – 16gb memory – 512gb ssd',\n",
              "       'samsung galaxy tab s7 fe 12.4” 64gb wifi android tablet w/ large screen, long lasting battery, s pen included, multi device connectivity, us version, 2021, mystic black',\n",
              "       'dell latitude 5430 laptop - 14\" fhd ips display - 3.3 ghz intel core i5-1245u 10-core (12th gen) - 16gb - 512gb ssd - windows 11 pro',\n",
              "       'samsung chromebook 4 (2021 model) 11.6\" intel uhd graphics 600, intel celeron processor n4020, 4gb, 16gb- wi-fi - satin gray- (xe310xba-kb1us)',\n",
              "       'samsung 15.6” galaxy book2 pro laptop computer|windows 11 pro | 16gb |256gb, 12th gen intel® core™ i5-1240p processor, evo certified, lightweight, 2022 model, silver (np954xed-kb1us)',\n",
              "       'samsung - galaxy book2 pro 360 2-in-1 15.6” amoled touch screen laptop - intel 12th gen evo core i7 1260p lpddr5 memory s pen w/mouse pad – silver (16gb ram | 1tb ssd)',\n",
              "       'asus vivobook pro 15x oled laptop, 15.6” oled display, intel core\\xa0i7-12650h cpu, nvidia geforce rtx 3060 gpu, 16gb ram, 1tb ssd, windows 11 home, black, k6501zm-eb74',\n",
              "       'samsung galaxy chromebook enterprise (256gb storage, 8gb ram), mercury gray - xe931qca-k01us',\n",
              "       'samsung galaxy book go 14\" fhd laptop, qualcomm snapdragon 7c gen 2 , 4gb ram, 64gb hd, silver, windows 10 - includes microsoft 365 personal 12 month subscription',\n",
              "       'samsung electronics galaxy book 15 int 15.6\" intel core i7-1165g7 processor, 16gb, 256gb- wi-fi - mystic silver (np750xda-kd2us)',\n",
              "       'dell latitude 13 5330 laptop - 13.3\" wva fhd touch screen display - 3.6 ghz intel core i7-1265u 10-core (12th gen) - 256gb ssd - 16gb ram - windows 11 pro',\n",
              "       'asus vivobook s15 s533 thin and light laptop, 15.6” fhd display, intel core i5-1135g7 cpu, 8gb ddr4 ram, 512gb pcie ssd, wi-fi 6, windows 11 home, ai noise-cancellation, dreamy white, s533ea-dh51-wh',\n",
              "       'samsung 13.3” galaxy book2 pro laptop computer, i5 / 16gb / 256gb, 12th gen intel core processor, evo certified, lightweight, 2022 model, silver (np930xed-kb1us)',\n",
              "       'samsung galaxy book s 13.3\" ultra thin lightweight laptop newest, qualcomm snapdragon, 8gb memory, 256gb ssd, mercury gray + cue accessories',\n",
              "       'samsung galaxy book2 360 13.3\" amoled touch screen laptop - 12th gen intel core i7 evo platform - 16gb memory - 512gb ssd - windows 11 + zipnology screen cleaning cloth bundle - new',\n",
              "       'samsung chromebook plus v2, 2-in-1, 4gb ram, 32gb emmc, 13mp camera, chrome os, 12.2\", 16:10 aspect ratio, stealth silver (xe521qab-k01us)',\n",
              "       'dell latitude 7420 14\" intel core i5-1145g7 256gb pcie ssd 16gb fhd touch (1920x1080) 300 nit ir cam win 11 pro (certified refurb)',\n",
              "       '2022 newest asus chromebook 17.3\" fhd 1080p widescreen light laptop, intel celeron n4500 (up to 2.8ghz), 4gb ram, 32gb emmc,hd webcam,uhd graphics, wifi 6, 17+ hours battery,chrome os,w/marxsolcables',\n",
              "       'asus - rog zephyrus 14” wqxga 120hz gaming laptop – amd ryzen 9 6900hs– amd radeon rx 6700s-window 11 home，with hdmi cable(16gb ram | 1tb ssd)',\n",
              "       'asus zenbook 14 oled laptop 14” 2.8k oled display, amd ryzen 7 5825u cpu, radeon graphics, 8gb ram, 512gb pcie ssd, windows 11 home, jade black, um3402ya-ds71',\n",
              "       'samsung 15.6” galaxy book2 pro laptop computer, i5 / 8gb / 512gb, 12th gen intel core processor, evo certified, lightweight, 2022 model, silver',\n",
              "       'samsung 13.3” galaxy book2 pro laptop computer, i5 / 8gb / 256gb, 12th gen intel core processor, evo certified, lightweight, 2022 model, graphite',\n",
              "       'dell xps 15 9520 (latest model) intel 12th gen core i9-12900hk (14-core) 1tb pcie ssd 32gb ddr5 ram fhd+ non touch rtx 3050ti win 11 pro (certified refurb)',\n",
              "       'dell latitude 3420 laptop 14” fhd - 11th generation intel core i7- 1165g7 – 512gb ssd – 32gb ddr4 - windows 10 pro - intel iris xe graphics - new',\n",
              "       'asus rog strix g15 (2022) gaming laptop, 15.6” 300hz ips fhd display, nvidia geforce rtx 3060, amd ryzen 7 6800h, 16gb ddr5, 1tb ssd, rgb keyboard, windows 11 home, g513rm-is74',\n",
              "       '2022 asus 14\" thin light business student laptop computer, intel celeron n4020 processor, 4gb ddr4 ram, 320 gb storage, 12hours battery, webcam, zoom meeting, win11 + 1 year office 365, black',\n",
              "       'asus 2023 newest zenbook 2-in-1 laptop, 15.6 inch fhd touchscreen display, amd ryzen 7-5700u processor, 8gb ram, 512gb ssd, nvidia geforce mx450 graphics, wi-fi, windows 11 home, bundle with jawfoal',\n",
              "       'asus 14.5\" oled vivobook intel evo platform laptop - 12th gen intel core i7-12700h - 2880 x 1800 display 120hz -12gb ddr4 ram 512gb pcie® nvme™ m.2 4.0 solid state drive windows 11 - midnight black',\n",
              "       'samsung 15.6” galaxy book2 pro laptop computer, i5 / 8gb / 512gb, 12th gen intel core processor, evo certified, lightweight, 2022 model, graphite',\n",
              "       'asus vivobook s15 s533 thin and light laptop, 15.6” fhd display, intel core i7-1165g7 cpu, 16gb ddr4 ram, 512gb pcie ssd, wi-fi 6, windows 11 home, ai noise-cancellation, indie black, s533ea-dh74',\n",
              "       'dell inspiron 13.3\" intel evo platform laptop - 11th gen intel core i5-11320h - fhd+ 1920 x 1200 display - 16 gb ram, 512gb ssd windows 11',\n",
              "       'samsung 13.3” galaxy book2 pro laptop computer, i7 / 8gb / 512gb, 12th gen intel core processor, evo certified, lightweight, 2022 model, graphite',\n",
              "       'acer aspire vero av15-51-7617 green pc | 15.6\" fhd ips 100% srgb-display | 11th gen intel core i7-1195g7 | intel iris xe graphics | 16gb ddr4 | 512gb nvme ssd | wi-fi 6 | pcr materials | vero-sleeve',\n",
              "       'acer chromebook spin 314 convertible laptop | intel pentium silver n6000 | 14\" hd corning gorilla glass touch display | 4gb lpddr4x | 128gb emmc | intel wi-fi 6 ax201 | chrome os | cp314-1h-p9g7',\n",
              "       'samsung - galaxy book2 pro 360 2-in-1 15.6” amoled touch screen laptop - intel 12th gen evo core i7 1260p lpddr5 memory s pen w/mouse pad – silver (16gb ram | 1tb ssd)',\n",
              "       'samsung chromebook plus fhd 12.2-inch 2-in-1 touchscreen notebook with s-pen, intel celeron 3965y 1.5ghz processor, 1920x1200, 4gb ram, 64gb emmc storage, chrome os, 360-degree hinge',\n",
              "       'lenovo 2020 ideapad laptop computeramd a6-9220e 1.6ghz 4gb memory 64gb emmc flash memory 14\" amd radeon r4 ac wifi microsoft office 365 platinum gray windows 10 home',\n",
              "       'new microsoft surface go 2 - 10.5\" touch-screen - intel pentium - 4gb memory - 64gb - wifi - platinum (latest model)',\n",
              "       'microsoft surface pro 7 – 12.3\" touch-screen - 10th gen intel core i7 - 16gb memory – 1tb ssd – platinum',\n",
              "       '2022 newest asus ultra thin light laptop computer, 15.6\" fhd display, intel celeron n4020 (upto 2.8ghz), 4gb ram, 128gb emmc,wifi, backlit keyboard,8-hour battery, microsoft 365, win10 s+hubxcelcable',\n",
              "       'microsoft surface laptop 4 13.5\" touch screen - intel core i5 - 16gb - 512gb with windows 11 (latest model) - black',\n",
              "       'microsoft surface pro 7 – 12.3\" touch-screen - intel core i3-4gb memory - 128gb solid state drive – platinum,',\n",
              "       'microsoft surface laptop studio 14.4-inch touchscreen, 512gb ssd, i7, 16gb ram with windows 10 pro (core i7-11370h, wi-fi, geforce rtx 3050 ti, latest model) platinum, abr-00026',\n",
              "       'microsoft surface laptop 4 13.5-inch touchscreen 512gb ssd i7 16gb ram with windows 10 pro (core i7-1185g7, wi-fi, latest model) matte black, 5f1-00001',\n",
              "       'microsoft surface go (intel pentium gold, 8gb ram, 128gb) (mcz-00001)',\n",
              "       'microsoft surface laptop 4 13.5\" touch screen - amd ryzen 5 surface edition - 8gb memory - 128gb solid state drive with windows 10 home (latest model) – platinum, alcantara, 5m8-00001',\n",
              "       'microsoft surface pro 8-13\" touchscreen - intel® evo platform core™ i5-8gb memory - 256gb ssd - device only - graphite (latest model)',\n",
              "       'microsoft surface pro 7 – 12.3\" touch-screen - 10th gen intel core i5 - 8gb memory - 128gb ssd – platinum',\n",
              "       'microsoft surface pro 8-13\" touchscreen - intel® evo platform core™ i5-8gb memory - 256gb ssd - (without keyboard) - platinum (latest model)',\n",
              "       'microsoft surface pro 8 - 13\" touchscreen - intel® evo platform core™ i7 - 16gb memory - 1tb ssd - device only - platinum (latest model)',\n",
              "       'microsoft surface book 3 (snk-00001) | 15in (3240 x 2160) touch-screen | intel core i7 processor | 32gb ram | 2tb ssd storage | windows 10 pro | geforce gtx 1660 gpu',\n",
              "       'microsoft surface pro 7 – 12.3\" touch-screen - intel core i5 - 8gb memory - 256gb ssd platinum',\n",
              "       'microsoft surface pro x - 13\" touchscreen - microsoft sq 2 - 16gb memory - 256gb ssd - device only - platinum (latest model)',\n",
              "       'microsoft surface pro 6 12.3\" pixelsense touchscreen intel core i5-8250u 16gb ram 256gb ssd windows 10 home',\n",
              "       'microsoft surface laptop 2 (intel core i7, 16gb ram, 1tb) - platinum',\n",
              "       'microsoft surface laptop go 12.4\" touchscreen, intel core i5-1035g1 processor, 8 gb ram, 512 gb solid state drive, up to 13hr battery life, wifi, webcam, windows 10, platinum silver (latest model)',\n",
              "       'microsoft surface laptop 4 13.5-inch touchscreen 512gb ssd i7 16gb ram with windows 10 pro (core i7-1185g7, wi-fi, latest model) matte black, 5f1-00001',\n",
              "       'microsoft surface laptop go 12.4\" touchscreen, intel core i5-1035g1 processor, 8 gb ram, 512 gb solid state drive, up to 13hr battery life, wifi, webcam, windows 10, ice blue (latest model)',\n",
              "       'microsoft surface laptop go 12.4\" touchscreen notebook - 1536 x 1024 - intel core i5 (10th gen) i5-1035g1 quad-core (4 core) 1 ghz - 16 gb ram - 256 gb ssd - platinum - windows 10 pro - intel uhd grap',\n",
              "       'microsoft surface go 3 - 10.5\" touchscreen - intel® pentium® gold - 4gb memory - 64gb emmc - device only - platinum (latest model)',\n",
              "       'hp stream 11 laptop, intel celeron n4020, 4 gb ram, 64 gb storage, 11.6” hd anti-glare display, windows 11, long battery life, thin & portable, includes microsoft 365 (11-ak0040nr, 2021 diamond white)',\n",
              "       'samsung 15.6” galaxy book2 pro with intel arc laptop computer, i7 / 32gb / 1tb, 12th gen intel core processor, evo certified, lightweight, 2022 model, graphite',\n",
              "       'samsung electronics galaxy book 15 int 15.6\" intel core i5-1135g7 processor, 8gb, 256gb- wi-fi - mystic silver (np750xda-kd1us)',\n",
              "       'samsung 15.6” galaxy book2 pro laptop computer, i5 / 8gb / 512gb, 12th gen intel core processor, evo certified, lightweight, 2022 model, graphite',\n",
              "       'samsung 15.6” galaxy book2 pro laptop computer, i7 / 16gb / 512gb, 12th gen intel core processor, evo certified, lightweight, 2022 model, silver',\n",
              "       'samsung 13.3” galaxy book2 pro laptop computer, i7 / 8gb / 512gb, 12th gen intel core processor, evo certified, lightweight, 2022 model, graphite',\n",
              "       'new microsoft surface go 2 - 10.5\" touch-screen - intel pentium - 4gb memory - 64gb - wifi - platinum (latest model)'],\n",
              "      dtype=object)"
            ]
          },
          "execution_count": 152,
          "metadata": {},
          "output_type": "execute_result"
        }
      ],
      "source": [
        "disk_missing.Title.values"
      ]
    },
    {
      "cell_type": "markdown",
      "metadata": {
        "id": "DfjdMxtsu9rX"
      },
      "source": [
        "###**Observations and Modifications**\n",
        "###Most of the disk volumes for the missing entries is available inside the Title section and should be extracted from there using regular expressions.\n",
        "**Steps:-**\n",
        "\n",
        "- Filter out entries with missing disk volume and store it inside new dataframe\n",
        "- Write a function to extract disk volumes from Title feature using regular expression\n",
        "- Assign 512gb for the entries which still have missing entries\n",
        "- Merge an updated dataframe with the original one."
      ]
    },
    {
      "cell_type": "code",
      "execution_count": 153,
      "metadata": {
        "id": "bRcV4so_y_gc"
      },
      "outputs": [],
      "source": [
        "# Regular expression to filter disk size with gb and tb as a unit\n",
        "disk_patterns = r'(\\d{1,3}\\s*gb|\\d{1}\\s*tb)'"
      ]
    },
    {
      "cell_type": "code",
      "execution_count": 154,
      "metadata": {
        "colab": {
          "base_uri": "https://localhost:8080/"
        },
        "id": "rdLP8YKt6sFR",
        "outputId": "d9aee437-c3d7-4f02-ae54-3b269aab6fdc"
      },
      "outputs": [
        {
          "name": "stderr",
          "output_type": "stream",
          "text": [
            "C:\\Program Files\\KMSpico\\temp\\ipykernel_10308\\1577772598.py:24: SettingWithCopyWarning: \n",
            "A value is trying to be set on a copy of a slice from a DataFrame.\n",
            "Try using .loc[row_indexer,col_indexer] = value instead\n",
            "\n",
            "See the caveats in the documentation: https://pandas.pydata.org/pandas-docs/stable/user_guide/indexing.html#returning-a-view-versus-a-copy\n",
            "  disk_missing['Disk_size'] = disk_missing.Title.apply(lambda x: disk_retriever(x, disk_patterns))\n"
          ]
        }
      ],
      "source": [
        "def disk_retriever(title, disk_patterns):\n",
        "  \"\"\"\n",
        "  This function extracts disk size from a string using a regular expression.\n",
        "  If multiple disk sizes are found, it returns the second one.\n",
        "\n",
        "  Args:\n",
        "    title: The string to extract the disk size from.\n",
        "    disk_patterns: The regular expression to use for matching disk sizes.\n",
        "\n",
        "  Returns:\n",
        "    The extracted disk size or None if no disk size is found.\n",
        "  \"\"\"\n",
        "  try:\n",
        "    disks = re.findall(disk_patterns, title)\n",
        "    if len(disks) > 1:\n",
        "      return disks[1]\n",
        "    else:\n",
        "      return None\n",
        "  except IndexError:\n",
        "    return None\n",
        "\n",
        "# Apply the disk_retriever function to the 'Title' column of the disk_missing DataFrame\n",
        "# to extract the disk size and store it in the 'Disk_size' column.\n",
        "disk_missing['Disk_size'] = disk_missing.Title.apply(lambda x: disk_retriever(x, disk_patterns))"
      ]
    },
    {
      "cell_type": "code",
      "execution_count": 155,
      "metadata": {
        "colab": {
          "base_uri": "https://localhost:8080/"
        },
        "id": "wVcr53J-xWsH",
        "outputId": "adc1dd47-e88b-4ef2-ea15-a7abe9a97933"
      },
      "outputs": [
        {
          "data": {
            "text/plain": [
              "array(['512 gb', '1tb', '512gb', '256gb', '2tb', None, '128gb', '64gb',\n",
              "       '64 gb', '16gb', '32gb', '160gb', '8gb', '4gb', '128 gb', '12 gb',\n",
              "       '32 gb', '1 tb', '320 gb', '256 gb'], dtype=object)"
            ]
          },
          "execution_count": 155,
          "metadata": {},
          "output_type": "execute_result"
        }
      ],
      "source": [
        "disk_missing.Disk_size.unique()"
      ]
    },
    {
      "cell_type": "code",
      "execution_count": 156,
      "metadata": {
        "colab": {
          "base_uri": "https://localhost:8080/"
        },
        "id": "MnhEtQd8yXW9",
        "outputId": "5359f8c3-da3d-4d99-ae2d-d126b73d7ffd"
      },
      "outputs": [
        {
          "data": {
            "text/plain": [
              "array(['panasonic toughbook cf-54g2878vm 256gb ssd, 8rg ram, emissive backlit keyboard, windows 10 pro',\n",
              "       'panasonic toughbook laptop cf-31 sblax!m new!',\n",
              "       'acer travelmate b3 tmb311-31-c343 - celeron n4020 / 1.1 ghz -',\n",
              "       'hp victus 15.6\" gaming laptop pc, nvidia geforce rtx 3050 ti, amd ryzen 7 5800h, refined 1080p ips display, compact design, all-in-one keyboard with enlarged touchpad, hd webcam (15-fb0028nr, 2022)',\n",
              "       'lg 15zt90p-g.am33u1 15\" gram lightweight notebook',\n",
              "       'lg 17zt90p-g.ax33u1 17\" gram lightweight notebook',\n",
              "       '15.6 inch laptop,windows 10 pro, 1366×768 hd screen,intel celeron n5100 processor,6gb ram，128g ssd',\n",
              "       'gigabyte [2020] aero 15s oled xb thin+light high performance laptop, 15.6\" 4k uhd oled display w/ 100% dci-p3, geforce rtx 2070 super max-q, i7-10875h, 16gb ddr4',\n",
              "       'alienware aw13r3-7000slv-pus 13.3\" gaming laptop (7th generation intel core i7, 8gb ram, 256 ssd, silver) with nvidia gtx 1060',\n",
              "       'samsung np340xla-ka6us 14\" 64gb galaxy book go with snapdragon - silver (2022)',\n",
              "       \"2022 asus rog zephyrus 16'' fhd 165hz gaming laptop-intel core i7-12700h (beat i9-11900h), nvidia geforce rtx 3060 (tgp 120w) - with hdmi (40gb ddr5 ram\",\n",
              "       \"asus 2022 newest tuf gaming a15 15.6'' fhd 144hz laptop - amd ryzen 7 -6800h -rtx 3050 ti, ddr5, mux, rgb backlit kb, wifi 6, gray, win 11, w/hdmi (32gb ram\",\n",
              "       'samsung galaxy tab s7 fe 12.4” 64gb wifi android tablet w/ large screen, long lasting battery, s pen included, multi device connectivity, us version, 2021, mystic black'],\n",
              "      dtype=object)"
            ]
          },
          "execution_count": 156,
          "metadata": {},
          "output_type": "execute_result"
        }
      ],
      "source": [
        "disk_missing[disk_missing.Disk_size.isna()]['Title'].values"
      ]
    },
    {
      "cell_type": "code",
      "execution_count": 157,
      "metadata": {
        "id": "aV8Gu0p0yvWI"
      },
      "outputs": [],
      "source": [
        "# Merging updated dataframe with the original one\n",
        "df.loc[disk_missing.index, 'Disk_size'] = disk_missing.Disk_size"
      ]
    },
    {
      "cell_type": "code",
      "execution_count": 158,
      "metadata": {
        "colab": {
          "base_uri": "https://localhost:8080/"
        },
        "id": "VktrQTHjzTCe",
        "outputId": "6b867c0a-e86d-4d7b-a06f-9dd399b7a457"
      },
      "outputs": [
        {
          "data": {
            "text/plain": [
              "13"
            ]
          },
          "execution_count": 158,
          "metadata": {},
          "output_type": "execute_result"
        }
      ],
      "source": [
        "df.Disk_size.isna().sum()"
      ]
    },
    {
      "cell_type": "code",
      "execution_count": 159,
      "metadata": {
        "id": "k3m4Q71_zWir"
      },
      "outputs": [],
      "source": [
        "# Replacing remaining missing values with '512gb'\n",
        "df.Disk_size.fillna('512gb', inplace=True)"
      ]
    },
    {
      "cell_type": "markdown",
      "metadata": {
        "id": "q2mfClN1NhuP"
      },
      "source": [
        "- It appears that unique entries have different units for the volume\n",
        "- For model training, all the valumes must have same unit\n",
        "- We will go with GB\n"
      ]
    },
    {
      "cell_type": "code",
      "execution_count": 160,
      "metadata": {
        "colab": {
          "base_uri": "https://localhost:8080/",
          "height": 1000
        },
        "id": "Ay4_tRZVwGsQ",
        "outputId": "05e7f0f9-bb6b-46c5-ebc4-2d7156be4e2e"
      },
      "outputs": [
        {
          "data": {
            "text/plain": [
              "Disk_size\n",
              "512 gb     364\n",
              "1 tb       352\n",
              "256 gb     218\n",
              "64 gb      146\n",
              "128 gb     128\n",
              "512gb      108\n",
              "1tb        103\n",
              "32 gb       67\n",
              "2 tb        57\n",
              "256gb       33\n",
              "1000 gb     30\n",
              "128gb       24\n",
              "64gb        21\n",
              "16 gb       20\n",
              "500 gb      19\n",
              "32gb        16\n",
              "320 gb      11\n",
              "4 tb        11\n",
              "16gb        11\n",
              "512          6\n",
              "2tb          6\n",
              "1256 gb      5\n",
              "8gb          5\n",
              "160 gb       5\n",
              "64           4\n",
              "1024 gb      4\n",
              "1128 gb      4\n",
              "1512 gb      3\n",
              "4gb          3\n",
              "256          3\n",
              "1            3\n",
              "4 gb         2\n",
              "1.5 tb       2\n",
              "1 gb         2\n",
              "2000 gb      1\n",
              "2            1\n",
              "65 gb        1\n",
              "384 gb       1\n",
              "80 gb        1\n",
              "0.01 gb      1\n",
              "628 gb       1\n",
              "3 tb         1\n",
              "12 gb        1\n",
              "6 tb         1\n",
              "1000 tb      1\n",
              "160gb        1\n",
              "6 gb         1\n",
              "128 tb       1\n",
              "Name: count, dtype: int64"
            ]
          },
          "execution_count": 160,
          "metadata": {},
          "output_type": "execute_result"
        }
      ],
      "source": [
        "df.Disk_size.value_counts()"
      ]
    },
    {
      "cell_type": "code",
      "execution_count": 161,
      "metadata": {
        "id": "yfNEVdVFM_G9"
      },
      "outputs": [],
      "source": [
        "def disk_to_number(string):\n",
        "  \"\"\"\n",
        "  Extracts number from a string and convert it into number.\n",
        "\n",
        "  Args:\n",
        "    string : string containing magnetude and unit.\n",
        "\n",
        "  Returns:\n",
        "    A number in GB.\n",
        "  \"\"\"\n",
        "\n",
        "  pattern_num = r'(\\d{1,3})'  # Regular expression to identify number\n",
        "  pattern_unit = r'(gb|mb|tb)'  # Regular expression to identify unit\n",
        "  number = int(re.findall(pattern_num, string)[0])\n",
        "  try:\n",
        "    unit = re.findall(pattern_unit, string)[0]\n",
        "  except IndexError:\n",
        "    if number < 6:  # Assigning units for the volumes which don't have one\n",
        "      unit = 'tb'\n",
        "    else:\n",
        "      unit = 'gb'\n",
        "\n",
        "  if unit == 'gb':\n",
        "    return number\n",
        "  elif unit == 'mb':\n",
        "    return number / 1024\n",
        "  else:\n",
        "    return number * 1024\n",
        "\n",
        "df.Disk_size = df.Disk_size.apply(disk_to_number)"
      ]
    },
    {
      "cell_type": "code",
      "execution_count": 162,
      "metadata": {
        "colab": {
          "base_uri": "https://localhost:8080/",
          "height": 1000
        },
        "id": "A9TzMrylPgqK",
        "outputId": "6bc8e7b5-973e-434b-9a9f-40a0d2120869"
      },
      "outputs": [
        {
          "data": {
            "text/plain": [
              "Disk_size\n",
              "512       478\n",
              "1024      460\n",
              "256       254\n",
              "64        171\n",
              "128       152\n",
              "32         83\n",
              "2048       64\n",
              "16         31\n",
              "100        30\n",
              "500        19\n",
              "4096       11\n",
              "320        11\n",
              "160         6\n",
              "125         5\n",
              "8           5\n",
              "4           5\n",
              "112         4\n",
              "102         4\n",
              "151         3\n",
              "1           2\n",
              "80          1\n",
              "384         1\n",
              "0           1\n",
              "200         1\n",
              "65          1\n",
              "628         1\n",
              "12          1\n",
              "6144        1\n",
              "6           1\n",
              "102400      1\n",
              "3072        1\n",
              "131072      1\n",
              "Name: count, dtype: int64"
            ]
          },
          "execution_count": 162,
          "metadata": {},
          "output_type": "execute_result"
        }
      ],
      "source": [
        "df.Disk_size.value_counts()"
      ]
    },
    {
      "cell_type": "markdown",
      "metadata": {
        "id": "svJBnTtQxifZ"
      },
      "source": [
        "###**Observations and Modifications**\n",
        "- It appears that we have plenty of outliers present inside Disk_size\n",
        "- Usual range for Disk volumes lies between 16gb to 4tb (16gb - 4096gb)\n",
        "- Also, there are lot of entries present which doesn't look natural. Disk volumes are usually comes in power of 2.\n",
        "- Let's find out those outliers first and store them in a seperate dataframe"
      ]
    },
    {
      "cell_type": "code",
      "execution_count": 163,
      "metadata": {
        "colab": {
          "base_uri": "https://localhost:8080/",
          "height": 1000
        },
        "id": "XyPSVoTDyutR",
        "outputId": "39b7f2ea-f868-436d-9cce-89a1be0fe78c"
      },
      "outputs": [
        {
          "data": {
            "text/html": [
              "<div>\n",
              "<style scoped>\n",
              "    .dataframe tbody tr th:only-of-type {\n",
              "        vertical-align: middle;\n",
              "    }\n",
              "\n",
              "    .dataframe tbody tr th {\n",
              "        vertical-align: top;\n",
              "    }\n",
              "\n",
              "    .dataframe thead th {\n",
              "        text-align: right;\n",
              "    }\n",
              "</style>\n",
              "<table border=\"1\" class=\"dataframe\">\n",
              "  <thead>\n",
              "    <tr style=\"text-align: right;\">\n",
              "      <th></th>\n",
              "      <th>Title</th>\n",
              "      <th>Brand</th>\n",
              "      <th>Screen_Size</th>\n",
              "      <th>CPU_Model</th>\n",
              "      <th>Ram</th>\n",
              "      <th>Operating_System</th>\n",
              "      <th>Rating</th>\n",
              "      <th>Color</th>\n",
              "      <th>Graphics</th>\n",
              "      <th>Disk_size</th>\n",
              "      <th>Card_desc</th>\n",
              "      <th>Price</th>\n",
              "    </tr>\n",
              "  </thead>\n",
              "  <tbody>\n",
              "    <tr>\n",
              "      <th>136</th>\n",
              "      <td>msi gf63 thin 9sc-066 15.6\" gaming laptop, thi...</td>\n",
              "      <td>MSI</td>\n",
              "      <td>15.6</td>\n",
              "      <td>i7</td>\n",
              "      <td>16.0</td>\n",
              "      <td>windows 10</td>\n",
              "      <td>4.5</td>\n",
              "      <td>black</td>\n",
              "      <td>Nvidia</td>\n",
              "      <td>102400</td>\n",
              "      <td>Dedicated</td>\n",
              "      <td>77818.00</td>\n",
              "    </tr>\n",
              "    <tr>\n",
              "      <th>246</th>\n",
              "      <td>2021 premium acer chromebook 15.6\" hd laptop l...</td>\n",
              "      <td>Acer</td>\n",
              "      <td>15.6</td>\n",
              "      <td>celeron</td>\n",
              "      <td>4.0</td>\n",
              "      <td>chrome_os</td>\n",
              "      <td>4.6</td>\n",
              "      <td>silver</td>\n",
              "      <td>Intel</td>\n",
              "      <td>4</td>\n",
              "      <td>Integrated</td>\n",
              "      <td>18778.00</td>\n",
              "    </tr>\n",
              "    <tr>\n",
              "      <th>320</th>\n",
              "      <td>acer aspire 5 slim laptop, 15.6\" full hd ips d...</td>\n",
              "      <td>Acer</td>\n",
              "      <td>15.6</td>\n",
              "      <td>ryzen7</td>\n",
              "      <td>16.0</td>\n",
              "      <td>windows 11</td>\n",
              "      <td>5.0</td>\n",
              "      <td>other</td>\n",
              "      <td>AMD</td>\n",
              "      <td>1</td>\n",
              "      <td>Dedicated</td>\n",
              "      <td>56579.18</td>\n",
              "    </tr>\n",
              "    <tr>\n",
              "      <th>392</th>\n",
              "      <td>bocconi leadbook t6 laptop | 15.6\" full hd 192...</td>\n",
              "      <td>WAKST</td>\n",
              "      <td>15.6</td>\n",
              "      <td>celeron</td>\n",
              "      <td>6.0</td>\n",
              "      <td>windows 10</td>\n",
              "      <td>3.5</td>\n",
              "      <td>gray</td>\n",
              "      <td>Other</td>\n",
              "      <td>6</td>\n",
              "      <td>Integrated</td>\n",
              "      <td>14759.18</td>\n",
              "    </tr>\n",
              "    <tr>\n",
              "      <th>413</th>\n",
              "      <td>fz-g1u/ea21/barcode scanner/mk5/core i5-7300u/...</td>\n",
              "      <td>Panasonic</td>\n",
              "      <td>10.1</td>\n",
              "      <td>i7</td>\n",
              "      <td>8.0</td>\n",
              "      <td>windows 10</td>\n",
              "      <td>0.0</td>\n",
              "      <td>other</td>\n",
              "      <td>Intel</td>\n",
              "      <td>8</td>\n",
              "      <td>Integrated</td>\n",
              "      <td>204999.18</td>\n",
              "    </tr>\n",
              "    <tr>\n",
              "      <th>454</th>\n",
              "      <td>panasonic cf-31sal781m win7, intel core i5-332...</td>\n",
              "      <td>Panasonic</td>\n",
              "      <td>13.0</td>\n",
              "      <td>i5</td>\n",
              "      <td>4.0</td>\n",
              "      <td>windows 7</td>\n",
              "      <td>0.0</td>\n",
              "      <td>other</td>\n",
              "      <td>Intel</td>\n",
              "      <td>4</td>\n",
              "      <td>Integrated</td>\n",
              "      <td>270600.00</td>\n",
              "    </tr>\n",
              "    <tr>\n",
              "      <th>560</th>\n",
              "      <td>gigabyte aero 17 hdr sa-7us4020sh 17.3\" thin b...</td>\n",
              "      <td>GIGABYTE</td>\n",
              "      <td>17.0</td>\n",
              "      <td>i7</td>\n",
              "      <td>6.0</td>\n",
              "      <td>windows 10</td>\n",
              "      <td>4.0</td>\n",
              "      <td>other</td>\n",
              "      <td>Nvidia</td>\n",
              "      <td>8</td>\n",
              "      <td>Dedicated</td>\n",
              "      <td>163918.00</td>\n",
              "    </tr>\n",
              "    <tr>\n",
              "      <th>579</th>\n",
              "      <td>excaliberpc 2023 msi titan gt77hx 13vh-046us p...</td>\n",
              "      <td>EXCaliberPC</td>\n",
              "      <td>17.3</td>\n",
              "      <td>i9</td>\n",
              "      <td>128.0</td>\n",
              "      <td>windows 11</td>\n",
              "      <td>0.0</td>\n",
              "      <td>other</td>\n",
              "      <td>Nvidia</td>\n",
              "      <td>6144</td>\n",
              "      <td>NaN</td>\n",
              "      <td>499298.00</td>\n",
              "    </tr>\n",
              "    <tr>\n",
              "      <th>643</th>\n",
              "      <td>fusion5 14.1\" t90 n4 intel quad core windows 1...</td>\n",
              "      <td>Fusion5</td>\n",
              "      <td>14.0</td>\n",
              "      <td>i3</td>\n",
              "      <td>4.0</td>\n",
              "      <td>windows 11</td>\n",
              "      <td>4.4</td>\n",
              "      <td>other</td>\n",
              "      <td>Intel</td>\n",
              "      <td>4</td>\n",
              "      <td>Integrated</td>\n",
              "      <td>20499.18</td>\n",
              "    </tr>\n",
              "    <tr>\n",
              "      <th>711</th>\n",
              "      <td>laptop 15-dy2097nr|intel core i7 11th gen|wind...</td>\n",
              "      <td>Generic</td>\n",
              "      <td>15.0</td>\n",
              "      <td>i5</td>\n",
              "      <td>12.0</td>\n",
              "      <td>windows 11</td>\n",
              "      <td>0.0</td>\n",
              "      <td>other</td>\n",
              "      <td>Intel</td>\n",
              "      <td>12</td>\n",
              "      <td>NaN</td>\n",
              "      <td>57070.36</td>\n",
              "    </tr>\n",
              "    <tr>\n",
              "      <th>1000</th>\n",
              "      <td>hp pavilion x360 15.6 inch 2-in-1 laptop pc, 1...</td>\n",
              "      <td>HP</td>\n",
              "      <td>15.6</td>\n",
              "      <td>i5</td>\n",
              "      <td>12.0</td>\n",
              "      <td>windows 10</td>\n",
              "      <td>4.5</td>\n",
              "      <td>silver</td>\n",
              "      <td>Intel</td>\n",
              "      <td>0</td>\n",
              "      <td>Integrated</td>\n",
              "      <td>57318.00</td>\n",
              "    </tr>\n",
              "    <tr>\n",
              "      <th>1194</th>\n",
              "      <td>samsung galaxy book2 pro 13.3” 256gb laptop co...</td>\n",
              "      <td>SAMSUNG</td>\n",
              "      <td>13.3</td>\n",
              "      <td>i5</td>\n",
              "      <td>8.0</td>\n",
              "      <td>windows 11</td>\n",
              "      <td>3.8</td>\n",
              "      <td>silver</td>\n",
              "      <td>Intel</td>\n",
              "      <td>8</td>\n",
              "      <td>Integrated</td>\n",
              "      <td>90199.18</td>\n",
              "    </tr>\n",
              "    <tr>\n",
              "      <th>1309</th>\n",
              "      <td>asus laptop l406 thin and light laptop, 14” hd...</td>\n",
              "      <td>ASUS</td>\n",
              "      <td>14.0</td>\n",
              "      <td>celeron</td>\n",
              "      <td>4.0</td>\n",
              "      <td>windows 10</td>\n",
              "      <td>4.3</td>\n",
              "      <td>gray</td>\n",
              "      <td>Intel</td>\n",
              "      <td>1</td>\n",
              "      <td>Integrated</td>\n",
              "      <td>16318.00</td>\n",
              "    </tr>\n",
              "    <tr>\n",
              "      <th>1344</th>\n",
              "      <td>asus chromebook vibe cx34 flip cloud gaming la...</td>\n",
              "      <td>ASUS</td>\n",
              "      <td>14.0</td>\n",
              "      <td>i5</td>\n",
              "      <td>8.0</td>\n",
              "      <td>chrome_os</td>\n",
              "      <td>3.0</td>\n",
              "      <td>white</td>\n",
              "      <td>Nvidia</td>\n",
              "      <td>8</td>\n",
              "      <td>Integrated</td>\n",
              "      <td>63139.18</td>\n",
              "    </tr>\n",
              "    <tr>\n",
              "      <th>1444</th>\n",
              "      <td>15.6\" s15 n2 full hd windows 11 professional s...</td>\n",
              "      <td>Fusion5</td>\n",
              "      <td>15.6</td>\n",
              "      <td>celeron</td>\n",
              "      <td>4.0</td>\n",
              "      <td>windows 11</td>\n",
              "      <td>3.9</td>\n",
              "      <td>other</td>\n",
              "      <td>Intel</td>\n",
              "      <td>4</td>\n",
              "      <td>Integrated</td>\n",
              "      <td>24599.18</td>\n",
              "    </tr>\n",
              "    <tr>\n",
              "      <th>1523</th>\n",
              "      <td>2020 newest dell inspiron 11 3195 2-in-1 11.6 ...</td>\n",
              "      <td>Dell</td>\n",
              "      <td>11.6</td>\n",
              "      <td>i3</td>\n",
              "      <td>4.0</td>\n",
              "      <td>windows 10</td>\n",
              "      <td>4.1</td>\n",
              "      <td>gray</td>\n",
              "      <td>AMD</td>\n",
              "      <td>131072</td>\n",
              "      <td>Integrated</td>\n",
              "      <td>19598.00</td>\n",
              "    </tr>\n",
              "    <tr>\n",
              "      <th>1544</th>\n",
              "      <td>samsung galaxy chromebook enterprise (256gb st...</td>\n",
              "      <td>SAMSUNG</td>\n",
              "      <td>13.3</td>\n",
              "      <td>i5</td>\n",
              "      <td>8.0</td>\n",
              "      <td>chrome_os</td>\n",
              "      <td>3.2</td>\n",
              "      <td>other</td>\n",
              "      <td>Intel</td>\n",
              "      <td>8</td>\n",
              "      <td>Integrated</td>\n",
              "      <td>98807.54</td>\n",
              "    </tr>\n",
              "    <tr>\n",
              "      <th>1777</th>\n",
              "      <td>thomson laptop neo 10, 10.1 inch, intel atom ,...</td>\n",
              "      <td>Thomson</td>\n",
              "      <td>10.1</td>\n",
              "      <td>i3</td>\n",
              "      <td>4.0</td>\n",
              "      <td>windows 10</td>\n",
              "      <td>3.2</td>\n",
              "      <td>white</td>\n",
              "      <td>Intel</td>\n",
              "      <td>4</td>\n",
              "      <td>Integrated</td>\n",
              "      <td>8036.00</td>\n",
              "    </tr>\n",
              "  </tbody>\n",
              "</table>\n",
              "</div>"
            ],
            "text/plain": [
              "                                                  Title        Brand  \\\n",
              "136   msi gf63 thin 9sc-066 15.6\" gaming laptop, thi...          MSI   \n",
              "246   2021 premium acer chromebook 15.6\" hd laptop l...         Acer   \n",
              "320   acer aspire 5 slim laptop, 15.6\" full hd ips d...         Acer   \n",
              "392   bocconi leadbook t6 laptop | 15.6\" full hd 192...        WAKST   \n",
              "413   fz-g1u/ea21/barcode scanner/mk5/core i5-7300u/...    Panasonic   \n",
              "454   panasonic cf-31sal781m win7, intel core i5-332...    Panasonic   \n",
              "560   gigabyte aero 17 hdr sa-7us4020sh 17.3\" thin b...     GIGABYTE   \n",
              "579   excaliberpc 2023 msi titan gt77hx 13vh-046us p...  EXCaliberPC   \n",
              "643   fusion5 14.1\" t90 n4 intel quad core windows 1...      Fusion5   \n",
              "711   laptop 15-dy2097nr|intel core i7 11th gen|wind...      Generic   \n",
              "1000  hp pavilion x360 15.6 inch 2-in-1 laptop pc, 1...           HP   \n",
              "1194  samsung galaxy book2 pro 13.3” 256gb laptop co...      SAMSUNG   \n",
              "1309  asus laptop l406 thin and light laptop, 14” hd...         ASUS   \n",
              "1344  asus chromebook vibe cx34 flip cloud gaming la...         ASUS   \n",
              "1444  15.6\" s15 n2 full hd windows 11 professional s...      Fusion5   \n",
              "1523  2020 newest dell inspiron 11 3195 2-in-1 11.6 ...         Dell   \n",
              "1544  samsung galaxy chromebook enterprise (256gb st...      SAMSUNG   \n",
              "1777  thomson laptop neo 10, 10.1 inch, intel atom ,...      Thomson   \n",
              "\n",
              "      Screen_Size CPU_Model    Ram Operating_System  Rating   Color Graphics  \\\n",
              "136          15.6        i7   16.0       windows 10     4.5   black   Nvidia   \n",
              "246          15.6   celeron    4.0        chrome_os     4.6  silver    Intel   \n",
              "320          15.6    ryzen7   16.0       windows 11     5.0   other      AMD   \n",
              "392          15.6   celeron    6.0       windows 10     3.5    gray    Other   \n",
              "413          10.1        i7    8.0       windows 10     0.0   other    Intel   \n",
              "454          13.0        i5    4.0        windows 7     0.0   other    Intel   \n",
              "560          17.0        i7    6.0       windows 10     4.0   other   Nvidia   \n",
              "579          17.3        i9  128.0       windows 11     0.0   other   Nvidia   \n",
              "643          14.0        i3    4.0       windows 11     4.4   other    Intel   \n",
              "711          15.0        i5   12.0       windows 11     0.0   other    Intel   \n",
              "1000         15.6        i5   12.0       windows 10     4.5  silver    Intel   \n",
              "1194         13.3        i5    8.0       windows 11     3.8  silver    Intel   \n",
              "1309         14.0   celeron    4.0       windows 10     4.3    gray    Intel   \n",
              "1344         14.0        i5    8.0        chrome_os     3.0   white   Nvidia   \n",
              "1444         15.6   celeron    4.0       windows 11     3.9   other    Intel   \n",
              "1523         11.6        i3    4.0       windows 10     4.1    gray      AMD   \n",
              "1544         13.3        i5    8.0        chrome_os     3.2   other    Intel   \n",
              "1777         10.1        i3    4.0       windows 10     3.2   white    Intel   \n",
              "\n",
              "      Disk_size   Card_desc      Price  \n",
              "136      102400   Dedicated   77818.00  \n",
              "246           4  Integrated   18778.00  \n",
              "320           1   Dedicated   56579.18  \n",
              "392           6  Integrated   14759.18  \n",
              "413           8  Integrated  204999.18  \n",
              "454           4  Integrated  270600.00  \n",
              "560           8   Dedicated  163918.00  \n",
              "579        6144         NaN  499298.00  \n",
              "643           4  Integrated   20499.18  \n",
              "711          12         NaN   57070.36  \n",
              "1000          0  Integrated   57318.00  \n",
              "1194          8  Integrated   90199.18  \n",
              "1309          1  Integrated   16318.00  \n",
              "1344          8  Integrated   63139.18  \n",
              "1444          4  Integrated   24599.18  \n",
              "1523     131072  Integrated   19598.00  \n",
              "1544          8  Integrated   98807.54  \n",
              "1777          4  Integrated    8036.00  "
            ]
          },
          "execution_count": 163,
          "metadata": {},
          "output_type": "execute_result"
        }
      ],
      "source": [
        "# Filtering out outliers with volume less than 16gb and greater than 4tb\n",
        "disk_outliers1 = df[(df.Disk_size < 16) | (df.Disk_size > 4096)]\n",
        "disk_outliers1"
      ]
    },
    {
      "cell_type": "code",
      "execution_count": 164,
      "metadata": {
        "colab": {
          "base_uri": "https://localhost:8080/",
          "height": 805
        },
        "id": "dC5G4YKwzSCd",
        "outputId": "784c86d3-cbfe-40b4-e509-f86d6fadc71c"
      },
      "outputs": [
        {
          "data": {
            "text/html": [
              "<div>\n",
              "<style scoped>\n",
              "    .dataframe tbody tr th:only-of-type {\n",
              "        vertical-align: middle;\n",
              "    }\n",
              "\n",
              "    .dataframe tbody tr th {\n",
              "        vertical-align: top;\n",
              "    }\n",
              "\n",
              "    .dataframe thead th {\n",
              "        text-align: right;\n",
              "    }\n",
              "</style>\n",
              "<table border=\"1\" class=\"dataframe\">\n",
              "  <thead>\n",
              "    <tr style=\"text-align: right;\">\n",
              "      <th></th>\n",
              "      <th>Title</th>\n",
              "      <th>Brand</th>\n",
              "      <th>Screen_Size</th>\n",
              "      <th>CPU_Model</th>\n",
              "      <th>Ram</th>\n",
              "      <th>Operating_System</th>\n",
              "      <th>Rating</th>\n",
              "      <th>Color</th>\n",
              "      <th>Graphics</th>\n",
              "      <th>Disk_size</th>\n",
              "      <th>Card_desc</th>\n",
              "      <th>Price</th>\n",
              "    </tr>\n",
              "  </thead>\n",
              "  <tbody>\n",
              "    <tr>\n",
              "      <th>10</th>\n",
              "      <td>excaliberpc 2022 msi raider ge76 12uh-655 pro ...</td>\n",
              "      <td>EXCaliberPC</td>\n",
              "      <td>17.3</td>\n",
              "      <td>i9</td>\n",
              "      <td>64.0</td>\n",
              "      <td>windows 11</td>\n",
              "      <td>5.0</td>\n",
              "      <td>other</td>\n",
              "      <td>Nvidia</td>\n",
              "      <td>3072</td>\n",
              "      <td>Dedicated</td>\n",
              "      <td>356290.00</td>\n",
              "    </tr>\n",
              "    <tr>\n",
              "      <th>15</th>\n",
              "      <td>panasonic toughbook cf-53sjczylm laptop (windo...</td>\n",
              "      <td>Panasonic</td>\n",
              "      <td>14.0</td>\n",
              "      <td>i5</td>\n",
              "      <td>4.0</td>\n",
              "      <td>windows 7</td>\n",
              "      <td>3.1</td>\n",
              "      <td>silver</td>\n",
              "      <td>Intel</td>\n",
              "      <td>320</td>\n",
              "      <td>Integrated</td>\n",
              "      <td>159899.18</td>\n",
              "    </tr>\n",
              "    <tr>\n",
              "      <th>122</th>\n",
              "      <td>msi gl62m 7rex-1896us 15.6\" full hd gaming lap...</td>\n",
              "      <td>MSI</td>\n",
              "      <td>15.6</td>\n",
              "      <td>i7</td>\n",
              "      <td>8.0</td>\n",
              "      <td>windows 10</td>\n",
              "      <td>4.3</td>\n",
              "      <td>black</td>\n",
              "      <td>Nvidia</td>\n",
              "      <td>100</td>\n",
              "      <td>Dedicated</td>\n",
              "      <td>81999.18</td>\n",
              "    </tr>\n",
              "    <tr>\n",
              "      <th>136</th>\n",
              "      <td>msi gf63 thin 9sc-066 15.6\" gaming laptop, thi...</td>\n",
              "      <td>MSI</td>\n",
              "      <td>15.6</td>\n",
              "      <td>i7</td>\n",
              "      <td>16.0</td>\n",
              "      <td>windows 10</td>\n",
              "      <td>4.5</td>\n",
              "      <td>black</td>\n",
              "      <td>Nvidia</td>\n",
              "      <td>102400</td>\n",
              "      <td>Dedicated</td>\n",
              "      <td>77818.00</td>\n",
              "    </tr>\n",
              "    <tr>\n",
              "      <th>154</th>\n",
              "      <td>msi gl62m 7rex-1896us 15.6\" full hd gaming lap...</td>\n",
              "      <td>MSI</td>\n",
              "      <td>15.6</td>\n",
              "      <td>i7</td>\n",
              "      <td>8.0</td>\n",
              "      <td>windows 10</td>\n",
              "      <td>4.3</td>\n",
              "      <td>black</td>\n",
              "      <td>Nvidia</td>\n",
              "      <td>100</td>\n",
              "      <td>Dedicated</td>\n",
              "      <td>81999.18</td>\n",
              "    </tr>\n",
              "    <tr>\n",
              "      <th>...</th>\n",
              "      <td>...</td>\n",
              "      <td>...</td>\n",
              "      <td>...</td>\n",
              "      <td>...</td>\n",
              "      <td>...</td>\n",
              "      <td>...</td>\n",
              "      <td>...</td>\n",
              "      <td>...</td>\n",
              "      <td>...</td>\n",
              "      <td>...</td>\n",
              "      <td>...</td>\n",
              "      <td>...</td>\n",
              "    </tr>\n",
              "    <tr>\n",
              "      <th>1671</th>\n",
              "      <td>dell inspiron 3583 15â‚¬  laptop intel celeron...</td>\n",
              "      <td>Dell</td>\n",
              "      <td>15.6</td>\n",
              "      <td>celeron</td>\n",
              "      <td>4.0</td>\n",
              "      <td>windows 10</td>\n",
              "      <td>4.3</td>\n",
              "      <td>black</td>\n",
              "      <td>Intel</td>\n",
              "      <td>500</td>\n",
              "      <td>Integrated</td>\n",
              "      <td>18445.90</td>\n",
              "    </tr>\n",
              "    <tr>\n",
              "      <th>1689</th>\n",
              "      <td>2022 asus 14\" thin light business student lapt...</td>\n",
              "      <td>ASUS</td>\n",
              "      <td>14.0</td>\n",
              "      <td>celeron</td>\n",
              "      <td>4.0</td>\n",
              "      <td>windows 11</td>\n",
              "      <td>4.3</td>\n",
              "      <td>gold</td>\n",
              "      <td>Intel</td>\n",
              "      <td>320</td>\n",
              "      <td>NaN</td>\n",
              "      <td>20499.18</td>\n",
              "    </tr>\n",
              "    <tr>\n",
              "      <th>1716</th>\n",
              "      <td>2022 newest hp laptop with microsoft office in...</td>\n",
              "      <td>HP</td>\n",
              "      <td>15.6</td>\n",
              "      <td>i3</td>\n",
              "      <td>16.0</td>\n",
              "      <td>windows 11</td>\n",
              "      <td>4.2</td>\n",
              "      <td>gold</td>\n",
              "      <td>AMD</td>\n",
              "      <td>100</td>\n",
              "      <td>Integrated</td>\n",
              "      <td>45099.18</td>\n",
              "    </tr>\n",
              "    <tr>\n",
              "      <th>1717</th>\n",
              "      <td>2022 asus 14\" thin light business student lapt...</td>\n",
              "      <td>ASUS</td>\n",
              "      <td>14.0</td>\n",
              "      <td>celeron</td>\n",
              "      <td>4.0</td>\n",
              "      <td>windows 11</td>\n",
              "      <td>4.3</td>\n",
              "      <td>gold</td>\n",
              "      <td>Intel</td>\n",
              "      <td>320</td>\n",
              "      <td>NaN</td>\n",
              "      <td>20499.18</td>\n",
              "    </tr>\n",
              "    <tr>\n",
              "      <th>1744</th>\n",
              "      <td>hp 2022 newest touch-screen laptops for colleg...</td>\n",
              "      <td>HP</td>\n",
              "      <td>15.6</td>\n",
              "      <td>i5</td>\n",
              "      <td>16.0</td>\n",
              "      <td>windows 11</td>\n",
              "      <td>4.0</td>\n",
              "      <td>silver</td>\n",
              "      <td>Intel</td>\n",
              "      <td>100</td>\n",
              "      <td>Integrated</td>\n",
              "      <td>54939.18</td>\n",
              "    </tr>\n",
              "  </tbody>\n",
              "</table>\n",
              "<p>93 rows × 12 columns</p>\n",
              "</div>"
            ],
            "text/plain": [
              "                                                  Title        Brand  \\\n",
              "10    excaliberpc 2022 msi raider ge76 12uh-655 pro ...  EXCaliberPC   \n",
              "15    panasonic toughbook cf-53sjczylm laptop (windo...    Panasonic   \n",
              "122   msi gl62m 7rex-1896us 15.6\" full hd gaming lap...          MSI   \n",
              "136   msi gf63 thin 9sc-066 15.6\" gaming laptop, thi...          MSI   \n",
              "154   msi gl62m 7rex-1896us 15.6\" full hd gaming lap...          MSI   \n",
              "...                                                 ...          ...   \n",
              "1671  dell inspiron 3583 15â‚¬  laptop intel celeron...         Dell   \n",
              "1689  2022 asus 14\" thin light business student lapt...         ASUS   \n",
              "1716  2022 newest hp laptop with microsoft office in...           HP   \n",
              "1717  2022 asus 14\" thin light business student lapt...         ASUS   \n",
              "1744  hp 2022 newest touch-screen laptops for colleg...           HP   \n",
              "\n",
              "      Screen_Size CPU_Model   Ram Operating_System  Rating   Color Graphics  \\\n",
              "10           17.3        i9  64.0       windows 11     5.0   other   Nvidia   \n",
              "15           14.0        i5   4.0        windows 7     3.1  silver    Intel   \n",
              "122          15.6        i7   8.0       windows 10     4.3   black   Nvidia   \n",
              "136          15.6        i7  16.0       windows 10     4.5   black   Nvidia   \n",
              "154          15.6        i7   8.0       windows 10     4.3   black   Nvidia   \n",
              "...           ...       ...   ...              ...     ...     ...      ...   \n",
              "1671         15.6   celeron   4.0       windows 10     4.3   black    Intel   \n",
              "1689         14.0   celeron   4.0       windows 11     4.3    gold    Intel   \n",
              "1716         15.6        i3  16.0       windows 11     4.2    gold      AMD   \n",
              "1717         14.0   celeron   4.0       windows 11     4.3    gold    Intel   \n",
              "1744         15.6        i5  16.0       windows 11     4.0  silver    Intel   \n",
              "\n",
              "      Disk_size   Card_desc      Price  \n",
              "10         3072   Dedicated  356290.00  \n",
              "15          320  Integrated  159899.18  \n",
              "122         100   Dedicated   81999.18  \n",
              "136      102400   Dedicated   77818.00  \n",
              "154         100   Dedicated   81999.18  \n",
              "...         ...         ...        ...  \n",
              "1671        500  Integrated   18445.90  \n",
              "1689        320         NaN   20499.18  \n",
              "1716        100  Integrated   45099.18  \n",
              "1717        320         NaN   20499.18  \n",
              "1744        100  Integrated   54939.18  \n",
              "\n",
              "[93 rows x 12 columns]"
            ]
          },
          "execution_count": 164,
          "metadata": {},
          "output_type": "execute_result"
        }
      ],
      "source": [
        "# Filtering out entries where disk size is not in power of 2\n",
        "# Define a function to check if a number is a power of 2\n",
        "def is_power_of_two(n):\n",
        "  return (n & (n-1) == 0) and n != 0\n",
        "\n",
        "# Apply the function to the 'Disk_size' column and filter for values that are not powers of 2\n",
        "disk_outliers2 = df[~df['Disk_size'].apply(is_power_of_two)]\n",
        "disk_outliers2"
      ]
    },
    {
      "cell_type": "code",
      "execution_count": 165,
      "metadata": {
        "colab": {
          "base_uri": "https://localhost:8080/"
        },
        "id": "uZYOVXsk-VwO",
        "outputId": "b2a108d8-3cda-4ef9-e359-921861bd6b30"
      },
      "outputs": [
        {
          "data": {
            "text/plain": [
              "(111, 12)"
            ]
          },
          "execution_count": 165,
          "metadata": {},
          "output_type": "execute_result"
        }
      ],
      "source": [
        "# Combining disk_outliers1 and disk_outliers2\n",
        "disk_outliers = pd.concat([disk_outliers1, disk_outliers2])\n",
        "disk_outliers.shape"
      ]
    },
    {
      "cell_type": "code",
      "execution_count": 166,
      "metadata": {
        "colab": {
          "base_uri": "https://localhost:8080/"
        },
        "id": "gE1aksNfzVDX",
        "outputId": "9435a6f3-c93d-45f9-e8d5-69236c3190d8"
      },
      "outputs": [
        {
          "data": {
            "text/plain": [
              "array(['msi gf63 thin 9sc-066 15.6\" gaming laptop, thin bezel, intel core i7-9750h, nvidia geforce gtx1650, 16gb, 512gb nvme ssd',\n",
              "       '2021 premium acer chromebook 15.6\" hd laptop light computer, intel celeron n4000, 4gb ram, 32gb emmc, hd webcam, intel uhd graphics 600, 12+ hours battey, sleeve, bluetooth, chrome os,w/marxsol cables',\n",
              "       'acer aspire 5 slim laptop, 15.6\" full hd ips display, amd ryzen7 5700u octa-core processor, amd radeon rx vega 8 graphics, 16gb ram, 1tb ssd, windows 11 home, fingerprint reader, twe hdmi cable',\n",
              "       'bocconi leadbook t6 laptop | 15.6\" full hd 1920x1080 ips display | intel celeron n3450 quad-core | 6gb ddr3 | 128gb ssd | ac wifi | mini hdmi | windows 10 home',\n",
              "       'fz-g1u/ea21/barcode scanner/mk5/core i5-7300u/2.60ghz /win10 pro 64 bit/ 10.1\" wuxga gloved multi touch + digitizer lcd /256gb ssd/8gb /wi-fi/bt/dual pass/rear cam/infrared hello webcam/tpm 2.0',\n",
              "       'panasonic cf-31sal781m win7, intel core i5-3320m 2.60ghz, vpro, 13.1 xga touch, 500gb(7200rpm), 4gb, in',\n",
              "       'gigabyte aero 17 hdr sa-7us4020sh 17.3\" thin bezel uhd hdr, i7-9750h, nvidia geforce gtx 1660 ti, samsung gddr6 6gb 8gb ddr4 2666mhz ram, 256gb intel 760p ssd, win10 home, rgb kb, ultra slim laptop',\n",
              "       'excaliberpc 2023 msi titan gt77hx 13vh-046us pro extreme (i9-13980hx, 128gb ram, 6tb nvme ssd, rtx 4080 12gb, 17.3\" 4k uhd, windows 11 pro) gaming laptop',\n",
              "       'fusion5 14.1\" t90 n4 intel quad core windows 11 home laptop (intel celeron, n4120 quad core, 64gb emmc, 4gb ram, windows 11, dualband wifi, webcam, 2x usb 3.0, mini hdmi)',\n",
              "       'laptop 15-dy2097nr|intel core i7 11th gen|windows 11 home|256 gb ssd|intel iris xe graphics|12 gb ddr4|15.6\" display|2b5g1ua#aba',\n",
              "       'hp pavilion x360 15.6 inch 2-in-1 laptop pc, 11th gen intel core i5-1135g7, 12 gb ram, 256 gb ssd storage, full hd ips micro-edge display, windows 10 home, hd webcam, audio by b&o (15-er0010nr, 2021)',\n",
              "       'samsung galaxy book2 pro 13.3” 256gb laptop computer w/ 8gb ram, 12th gen intel core i5 evo certified processor, amoled screen, long lasting battery, thin design, 2022, us version, silver',\n",
              "       'asus laptop l406 thin and light laptop, 14” hd display, intel celeron n4000 processor, 4gb ram, 64gb emmc storage, wi-fi 5, windows 10, microsoft 365, slate gray, l406ma-wh02',\n",
              "       'asus chromebook vibe cx34 flip cloud gaming laptop with stylus, 14\" 144 hz touch display (1920x1200), intel® core™ i5-1235u processor, 256gb ssd, 8gb ram, chromeos, pearl white, cx3401fba-dh586t-s',\n",
              "       '15.6\" s15 n2 full hd windows 11 professional slim n light laptop - intel n4020 - 128gb storage, 4gb ram, intel dual-core dedicated num-pad, dual-band wifi, expandable storage',\n",
              "       '2020 newest dell inspiron 11 3195 2-in-1 11.6 inch touchscreen laptop (amd a9-9420e up to 2.7ghz, 4gb ddr4 ram, 128gb ssd, amd radeon r5, wifi, bluetooth, hdmi, windows 10)',\n",
              "       'samsung galaxy chromebook enterprise (256gb storage, 8gb ram), mercury gray - xe931qca-k01us',\n",
              "       'thomson laptop neo 10, 10.1 inch, intel atom , 4gb ram , 64gb emmc storage, windows 10 - white',\n",
              "       'excaliberpc 2022 msi raider ge76 12uh-655 pro extreme (i9-12900hk, 64gb ram, 3tb nvme ssd, rtx 3080 8gb, 17.3\" 144hz fhd, windows 11 pro) gaming laptop',\n",
              "       'panasonic toughbook cf-53sjczylm laptop (windows 7, intel core i5-3439y, 14\" led-lit screen, storage: 320 gb, ram: 4 gb) silver',\n",
              "       'msi gl62m 7rex-1896us 15.6\" full hd gaming laptop computer quad core i7-7700hq, geforce gtx 1050ti 4g graphics, 8gb dram, 128gb ssd + 1tb hard drive, steelseries red backlit keyboard',\n",
              "       'msi gf63 thin 9sc-066 15.6\" gaming laptop, thin bezel, intel core i7-9750h, nvidia geforce gtx1650, 16gb, 512gb nvme ssd',\n",
              "       'msi gl62m 7rex-1896us 15.6\" full hd gaming laptop computer quad core i7-7700hq, geforce gtx 1050ti 4g graphics, 8gb dram, 128gb ssd + 1tb hard drive, steelseries red backlit keyboard',\n",
              "       'panasonic toughbook cf 31 13.1\" led intel core i5-5300u 2.3ghz 4gb ram 500gb hdd windows 7 professional rugged notebook cf-3110451cm',\n",
              "       'panasonic toughbook cf-53salzylm 14-inch laptop (silver)',\n",
              "       'tb 31 i7-2640m 2.80g 4gb 500gb 13.1in-xga wl tpm bt w7p dual pass',\n",
              "       'panasonic toughbook cf-19 mk4 10\" i5 4gb touchscreen tablet windows 7',\n",
              "       'acer 2022 newest aspire 5 slim 15.6\" fhd laptop, 11th gen intel core i3-1115g4(up to 4.1ghz,beat i5-7200u), 8gb ddr4 ram, 128gb ssd+500gb hdd, wifi 6, usb-c, webcam, hdmi, windows 11s+jvq mp',\n",
              "       'acer newest chromebook 11.6\" hd touchscreen 2-in-1 laptop, amd a6-9220c processor up to 2.7ghz, 4gb ddr4 ram, 160gb space(32gb emmc +128gb card) , wifi, bluetooth, type-c, black, chrome os, jvq mp',\n",
              "       'bocconi leadbook t6 laptop | 15.6\" full hd 1920x1080 ips display | intel celeron n3450 quad-core | 6gb ddr3 | 128gb ssd | ac wifi | mini hdmi | windows 10 home',\n",
              "       'tb 31 i5-520m 2.4g 2gb 160gb syst13.1-xga bt xpp f/cf-30ktpaxam',\n",
              "       'panasonic toughbook cf-30ctqazbm notebook intel core duo l2400(1.66ghz) 13.3\" xga 4gb memory 160gb hdd intel gma950',\n",
              "       'panasonic cf-54f0001vm semi rugged toughbook (intel core i5-6300u 2.40ghz, 500gb hard drive, 4gb ram, emissive backlit keyboard)',\n",
              "       'cf-19cdbaxvm/mk1/cf-19 digitizer/laptop/notebook/panasonic toughbook / tablet pc / 2gb ram/ 80gb hard drive/ wifi/ 10.4 inch lcd/',\n",
              "       'panasonic toughbook cf-31jcgax1m 13.1\" notebook - intel core i5 i5-2520m 2.50 ghz - magnesium alloy',\n",
              "       'toughbook cf-191myax1m 10.1\" led intel core i5 i5-3320m 2.60ghz 4gb ram 500gb hdd win 7 pro 64-bit rugged notebook',\n",
              "       'toughbook cf-31wxlaxlm 13.1\" touchscreen led (circulumin) notebook - intel core i5 i5-3340m 2.70 ghz',\n",
              "       'toughbook cf-31salax1m 13.1\" led notebook - intel core i5 i5-3320m 2.60 ghz',\n",
              "       'toughbook cf-31wflaxlm 13.1\" touchscreen lcd led intel core i5 i5-3340m 2.70 ghz 4gb ram 500gb hdd windows 7 64-bit notebook',\n",
              "       'panasonic toughbook cf-53stlzylm 14-inch laptop (2.7 ghz intel core i5 3320m processor, 4gb ddr3l, 500gb hdd, windows 8) silver',\n",
              "       'panasonic win7 intel core i5-2520m 2.50ghz vpro 14.0inch hd 320gb(7200rpm) 4gb intel',\n",
              "       'panasonic cf-54e6001vm semi rugged toughbook (intel core i5-6300u 2.40ghz, 500gb hard drive, 8gb ram, emissive backlit keyboard)',\n",
              "       'panasonic toughbook cf-52vaaby1m 15.4-inch laptop (silver)',\n",
              "       'cf-31/mk6/16gb ram/1tb ssd/windows/intel core i5-7300u 2.60ghz/13.1\" xga touchscreen lcd/hdmi/gigabit lan/rj45/dual pass/usb 3.0/usb 2(3 ports)/9 pin serial port/vga/bt/wifi/standard keyboard',\n",
              "       'panasonic toughbook 54 gloved multi touch 14\" notebook - windows - intel core i5 2.4 ghz - 4 gb ram - 500 gb hdd, black/silver (cf-54f0001km)',\n",
              "       'toughbook cf-31splax1m 13.1\" touchscreen led (circulumin) notebook - intel core i7 i7-3520m 2.90 ghz',\n",
              "       'panasonic toughbook cf-31 13.1\" notebook - intel core i5 i5-3320m 2.60 ghz, 8gb memory 500gb hard drive, windows 7 professional',\n",
              "       'panasonic toughbook 13.1\" led intel core i3-3120m 2.50 ghz 2 gb ram 320 gb hdd 64-bit win 7 pro notebook cf-31yfaaxlm',\n",
              "       'panasonic toughbook cf-54 cf-54g2999vm i5 2.6ghz, bluetooth, tpm 2.0, 500gb hard drive, 8gb ram, windows 10 pro, 3 year warranty',\n",
              "       'panasonic toughbook 54 lite 14\" notebook, 4 gb ram, 500 gb hdd, black/silver (cf-54a2900cm)',\n",
              "       'cf-33/core i7/panasonic toughbook/16gb ram/500gb solid state hard drive/windows 10 pro/12 inch lcd/gloved multi touch + digitizer/wifi/bluetooth (1tb ssd)',\n",
              "       'panasonic toughbook cf-31 mk5 intel core i5-5300u, 2.30ghz, 13.1\" xga touchscreen, 8gb, 500gb, wi-fi, tpm, bluetooth, dual pass, windows 10 pro, (please read seller\\'s upgrades in conditions notes)',\n",
              "       'panasonic toughbook cf-31 mk1 i5 2.4ghz, 320gb hard drive, 4gb ram, windows 7 pro',\n",
              "       'excaliberpc 2023 msi titan gt77hx 13vh-046us pro extreme (i9-13980hx, 128gb ram, 6tb nvme ssd, rtx 4080 12gb, 17.3\" 4k uhd, windows 11 pro) gaming laptop',\n",
              "       'laptop 15-dy2097nr|intel core i7 11th gen|windows 11 home|256 gb ssd|intel iris xe graphics|12 gb ddr4|15.6\" display|2b5g1ua#aba',\n",
              "       'gaming laptop by asus tuf for laptop gamer, 2022 upgraded version, 15.6\" fhd 240hz, intel 12th core i7-11370h, 40gb ram, 1tb ssd, nvidia geforce rtx 3070, backlit keyboard, windows 11, lioneye mp',\n",
              "       'alienware m15-15.6\" fhd gaming laptop thin and light, i7-8750h processor, nvidia geforce graphics card, 16gb ram, 1tb hybrid hdd + 128gb ssd, 17.9mm thick & 4.78lbs',\n",
              "       'alienware aw15r3-0012slv laptop (6th generation i5, 8gb ram, 1tb hdd) nvidia geforce gtx1060',\n",
              "       'dell alienware area 51m laptop, 17.3\" fhd (1920 x 1080) 144hz g-sync tobii eye, 9th gen intel core i9-9900k, 32gb ram, 2 x 256gb ssd (r0) + 1tb sshd, nvidia geforce rtx 2080, windows 10 home',\n",
              "       'alienware 17 r5 aw17r5, 17.3\" fhd, intel core i7-8750h, gtx 1070 graphics, 16gb ddr4 ram, 256gb ssd+1tb hdd, windows 10',\n",
              "       'dell alienware area 51m laptop, 17.3\" fhd (1920 x 1080) 144hz g-sync tobii eye, 9th gen intel core i7-9700k, 16gb ram, 256gb ssd + 1tb sshd, nvidia geforce rtx 2080, windows 10',\n",
              "       'alienware 17 r5 vr ready 17.3\" lcd gaming notebook - intel core i7 (8th gen) i7-8750h hexa-core (6 core) 2.20 ghz - 8 gb ddr4 sdram - 1 tb hdd - 256 gb ssd - windows 10 home 64-bit (english) - 19',\n",
              "       'alienware 15 r3 aw15r3 laptop with quad-core i7-6700hq up to 3.50 ghz turbo, 16gb ddr4, 128ssd + 1tb hdd, and nvidia geforce gtx1060 6gb gddr5 (black)',\n",
              "       'alienware alw18-3005slv 18.4-inch laptop (2.4 ghz intel core i7-4700mq processor, 8gb ddr3l, 1tb hdd, 80gb ssd, dual nvidia geforce gtx 765m 2gb gddr5, windows 7 home premium)',\n",
              "       'dell alienware area 51m laptop, 17.3\" fhd (1920 x 1080), 9th gen intel core i7-9700k, 16gb (2x8gb) ram, 512gb (2x 256gb raid 0) ssd + 1tb sshd, nvidia geforce rtx 2070, windows 10, black',\n",
              "       'alienware alw18-4001slv 18.4-inch laptop (2.5 ghz intel core i7-4710mq processor, 16gb ddr3l, 1tb hdd, 80gb ssd, dual nvidia geforce gtx 860m, windows 7 home premium) [discontinued by manufacturer]',\n",
              "       'alienware aaw17r4-7002slv-pus 17\" laptop (7th generation intel core i7, 8gb ram, 1tb hdd, silver) with nvidia gtx 1060',\n",
              "       'alienware aw17r4-7352slv-pus 17\" qhd laptop (7th generation intel core i7, 32gb ram, 256ssd + 1tb hdd, silver) vr ready with nvidia gtx 1080,epic silver',\n",
              "       'alienware aw15r3-7390slv-pus 15.6\" gaming laptop (7th generation intel core i7, 16gb ram, 512ssd + 1tb hdd, silver) vr ready with nvidia gtx 1070',\n",
              "       'alienware - 17.3\" gaming laptop - intel core i7 - 16gb memory - nvidia geforce rtx 2070 - 512gb ssd + 1tb+8gb hybrid hard drive - epic silver',\n",
              "       'dell alienware area 51m laptop, 17.3\" fhd (1920 x 1080) 144hz g-sync tobii eye, 9th gen intel core i7-9700k, 16gb ram, 2 x 256gb ssd (r0) + 1tb sshd, nvidia geforce rtx 2070, windows 10',\n",
              "       'alienware 15 r4 gaming laptop, 15.6\" fhd ips display, intel core i7-8750h, 16gb ddr4 ram, 128gb ssd + 1tb hdd, nvidia gtx 1060, windows 10, black',\n",
              "       'dell alienware area 51m laptop, 17.3\" fhd (1920 x 1080), 9th gen intel core i7-9700k, 16gb (2x8gb) ram, 128gb ssd + 1tb (+8gb sshd) hybrid drive, nvidia geforce rtx™ 2060, windows 10',\n",
              "       'dell alienware area 51m laptop, 17.3\" fhd (1920 x 1080), 9th gen intel core i7-9700k, 16gb (2x8gb) ram, 256gb ssd + 1tb (+8gb sshd) hybrid drive, nvidia geforce rtx™ 2060, windows 10',\n",
              "       'dell alienware area 51m laptop, 17.3\" fhd (1920 x 1080), 9th gen intel core i7-9700k, 16gb (2x8gb) ram, 128gb ssd + 1tb (+8gb sshd) hybrid drive, nvidia geforce rtx™ 2060, windows 10',\n",
              "       'dell alienware area 51m laptop, 17.3\" fhd (1920 x 1080), 9th gen intel® core i7-9700k, 16gb (2x8gb) ram, 256gb ssd + 1tb (+8gb sshd) hybrid drive, nvidia geforce rtx 2080, windows 10',\n",
              "       'alienware 17r4 intel core i7-6700hq x4 2.6ghz 16gb 1.1tb 17.3\" win10, silver',\n",
              "       'alienware 15r3 intel core i7-7700hq x4 2.8ghz 16gb 1tb 15.6\" win10, silver',\n",
              "       'alienware gaming aw17r5-7405slv-pus 8th gen intel core i7 processor laptop, 8gb ram, 1tb hard drive plus 8gb ssd, nvidia geforce gtx 1060, 17.3\" full hd display, epic silver',\n",
              "       'alienware aw15r3-10881slv laptop (6th generation i7, 16gb ram, 256gb + 1tb hdd) nvidia geforce gtx1070',\n",
              "       'alienware alw18-7500slv 18.4-inch laptop (2.4 ghz intel core i7-4700mq processor, 8gb ddr3l, 1tb hdd, 80gb ssd, dual nvidia geforce gtx 770m 3gb gddr5, windows 7 home premium)',\n",
              "       'dell alienware area 51m laptop, 17.3\" fhd (1920 x 1080) 144hz g-sync tobii eye, 9th gen intel core i7-9700k, 16gb ram, 256gb ssd + 1tb sshd, nvidia geforce rtx 2080, windows 10 home',\n",
              "       'alienware aw15r3-7338slv-pus 15.6\" gaming laptop (7th generation intel core i7, 16gb ram, 256ssd + tb hdd, silver) vr ready with nvidia gtx 1060',\n",
              "       'alienware aw15r3-5246slv-pus 15.6\" gaming laptop (7th generation intel core i5, 8gb ram, 1tb hdd, silver) vr ready with nvidia gtx 1060',\n",
              "       'dell alienware x17 r1 gaming laptop (2021) | 17.3\" fhd | core i9 - 2tb ssd - 32gb ram - rtx 3080 | 8 cores @ 5 ghz - 11th gen cpu - 10gb gddr6x win 10 home',\n",
              "       '2022 newest hp laptop with microsoft office included 1-year, 15.6\" hd screen, amd athlon 3050u 16gb ram 1tb ssd hdmi port webcam gold white windows 11 | college student bundle, rokc hdmi cable',\n",
              "       'hp 2022 newest upgraded touch-screen laptops for college student & business, 15.6 inch fhd computer, intel 11th generation core i7 1165g7, 16gb ram, 1tb ssd, hdmi, webcam, windows 11, rokc mp',\n",
              "       'hp pavilion x360 15.6 inch 2-in-1 laptop pc, 11th gen intel core i5-1135g7, 12 gb ram, 256 gb ssd storage, full hd ips micro-edge display, windows 10 home, hd webcam, audio by b&o (15-er0010nr, 2021)',\n",
              "       '2022 newest upgraded hp laptops for college student & business, 15.6 inch fhd, 11th gen intel core i3-1115g4 32gb ddr4 ram, 1tb pcie ssd, wi-fi, bluetooth, windows 11 silver rokc mp (15-dw3033dx)',\n",
              "       'hp 2022 newest touch-screen laptops for college student & business, 15.6 inch hd computer, intel 11th core i5-1135g7, 32gb ram, 1tb ssd, fast charge, hdmi, webcam, wi-fi, windows 11, lioneye mp',\n",
              "       '2022 newest hp laptops for college student & business, 15.6 inch hd computer, intel pentium silver n5000, 16gb ram, 1tb ssd, office 365 1-year, fast charge, light-weight, windows 11, rokc hdmi cable',\n",
              "       \"2022 hp pavilion premium laptop , 15.6'' fhd display, amd athlon n3050, 16gb ram, 1tb ssd, webcam, thin & portable, office 365 1-year, long battery life, windows 11, natural silver, rokc hdmi cable\",\n",
              "       'hp 2022 newest laptops, 15.6 inch hd computer, intel pentium silver n5030, 16gb ram, 1tb ssd, 1-year office 365, ethernet, webcam, wi-fi, bluetooth, fast charge, windows 10, lioneye hdmi cable',\n",
              "       \"2022 hp pavilion premium laptop , 15.6'' fhd display, amd athlon n3050, 16gb ram, 1tb ssd, webcam, thin & portable, office 365 1-year, long battery life, windows 11, natural silver, rokc hdmi cable\",\n",
              "       '2022 newest hp 14\" fhd laptop for business and student, amd ryzen3 3250u (beat i5 7200u), 16gb ram, 1tb ssd, webcam, wi-fi, bluetooth, hdmi, fast charge, windows 11, rokc mousepad',\n",
              "       'dell latitude d630 14.1-inch notebook pc (os may vary) - silver',\n",
              "       'asus flagship 14\" hd thin light laptop, intel celeron n4500(up to 2.8ghz), 4gb ram, 128gb emmc + 256gb pcie ssd, wifi6, numberpad, 10hr battery life, win 11 home s, black, w/gm accessories',\n",
              "       'asus newest 14\" rugged & spill resistant chromebook, education edition, military std 810g, intel n3350, 4gb ram, 160g space(32g emmc+128g card), wifi, bluetooth, webcam, darkblue, chrome os, jvq mp',\n",
              "       'asus chromebook detachable cm3, 10.5\" touchscreen wuxga 16:10 display, mediatek 8183 processor 64gb storage, 4gb ram, garaged usi stylus, chrome os, aluminum, mineral gray, cm3000dva-ds44t-s',\n",
              "       'asus newest flip 2-in-1 14\" fhd touchscreen chromebook laptop, intel core m3-8100y(up to 3.4 ghz), 8gb ram, 320gb space(64gb emmc+256gb card), webcam, wifi, chrome os, silver+jvq mp',\n",
              "       'hp 2022 newest touch-screen laptops for college student & business, 15.6 inch hd computer, intel 11th core i5-1135g7, 16gb ram, 1tb ssd, fast charge, hdmi, webcam, wi-fi, windows 11, lioneye mp',\n",
              "       'samsung chromebook 4 laptop 11.6\" hd led (1366 x 768), intel celeron processor n4020 processor, intel uhd graphics 600, 4gb ram, 160gb storage(32gb emmc+mtc 128gb sd card), chrome os, platinum titan',\n",
              "       '2022 newest hp laptops for college student & business, 15.6 inch hd computer, intel pentium silver n5000, 16gb ram, 1tb ssd, office 365 1-year, fast charge, light-weight, windows 11, rokc hdmi cable',\n",
              "       'dell xps 15 9520 laptop (2022) | 15.6\" 4k touch | core i9 - 1tb ssd - 32gb ram - 3050 ti | 14 cores @ 5 ghz - 12th gen cpu win 11 home',\n",
              "       'asus newest flip 2-in-1 14\" fhd touchscreen chromebook laptop, intel core m3-8100y(up to 3.4 ghz), 320gb space(64gb emmc+256gb card), 8gb ram, webcam, wifi, chrome os, silver+jvq mp',\n",
              "       '2022 asus 14\" thin light business student laptop computer, intel celeron n4020 processor, 4gb ddr4 ram, 320 gb storage, 12hours battery, webcam, zoom meeting, win11 + 1 year office 365, black',\n",
              "       'dell inspiron 3583 15â‚¬  laptop intel celeron â‚¬\"œ 128gb ssd â‚¬\"œ 4gb ddr4 â‚¬\"œ 1.6ghz - uhd graphics 610 - windows 10 home - inspiron 15 3000 series - new',\n",
              "       '2022 asus 14\" thin light business student laptop computer, intel celeron n4020 processor, 4gb ddr4 ram, 320 gb storage, 12hours battery, webcam, zoom meeting, win11 + 1 year office 365, rose gold',\n",
              "       '2022 newest hp laptop with microsoft office included 1-year, 15.6\" hd screen, amd athlon 3050u 16gb ram 1tb ssd hdmi port webcam gold white windows 11 | college student bundle, rokc hdmi cable',\n",
              "       '2022 asus 14\" thin light business student laptop computer, intel celeron n4020 processor, 4gb ddr4 ram, 320 gb storage, 12hours battery, webcam, zoom meeting, win11 + 1 year office 365, rose gold',\n",
              "       'hp 2022 newest touch-screen laptops for college student & business, 15.6 inch hd computer, intel 11th core i5-1135g7, 16gb ram, 1tb ssd, fast charge, hdmi, webcam, wi-fi, windows 11, lioneye mp'],\n",
              "      dtype=object)"
            ]
          },
          "execution_count": 166,
          "metadata": {},
          "output_type": "execute_result"
        }
      ],
      "source": [
        "disk_outliers.Title.values"
      ]
    },
    {
      "cell_type": "markdown",
      "metadata": {
        "id": "kUXhuoZLz6FX"
      },
      "source": [
        "###**Insights**\n",
        "- As in previous cases, we have Disk volume information available inside the Title section\n",
        "- We will again use regular expressions for the retrieval"
      ]
    },
    {
      "cell_type": "code",
      "execution_count": 167,
      "metadata": {
        "id": "cqzp30Xg0VdT"
      },
      "outputs": [],
      "source": [
        "def disk_retrieval(string):\n",
        "  disk_pattern = r'(\\d{1,3}\\s*gb|\\d{1,3}\\s*tb)'\n",
        "  disk_values = re.findall(disk_pattern, string)\n",
        "\n",
        "  # In some Title description, sequence of Ram and Disk is interchanged\n",
        "  # So, we will select biggest volume as a disk volume\n",
        "\n",
        "  values_in_gb = []\n",
        "  for value in disk_values:\n",
        "    num_pattern = r'(\\d{1,3})'\n",
        "    num = int(re.findall(num_pattern, value)[0])\n",
        "    if 'tb' in value:\n",
        "      values_in_gb.append(num * 1024)\n",
        "    if 'gb' in value:\n",
        "      values_in_gb.append(num)\n",
        "\n",
        "  if len(values_in_gb) == 0:  # This will handle cases where no Ram or Disk value can be retrieved\n",
        "    return 512\n",
        "  return max(values_in_gb)\n",
        "\n",
        "disk_outliers.Disk_size = disk_outliers.Title.apply(disk_retrieval)"
      ]
    },
    {
      "cell_type": "code",
      "execution_count": 168,
      "metadata": {
        "id": "5N7pfbWz4BOY"
      },
      "outputs": [],
      "source": [
        "# Merging disk_outliers with the original dataframe\n",
        "df.loc[disk_outliers.index, 'Disk_size'] = disk_outliers.Disk_size"
      ]
    },
    {
      "cell_type": "code",
      "execution_count": 169,
      "metadata": {
        "colab": {
          "base_uri": "https://localhost:8080/",
          "height": 617
        },
        "id": "J4oM8INk4QV2",
        "outputId": "9d357db8-f32f-4573-ac00-715a61652cce"
      },
      "outputs": [
        {
          "data": {
            "text/plain": [
              "Disk_size\n",
              "4         2\n",
              "16       32\n",
              "32       84\n",
              "64      175\n",
              "80        1\n",
              "128     156\n",
              "160       4\n",
              "256     262\n",
              "320       9\n",
              "500      14\n",
              "512     486\n",
              "1024    507\n",
              "2048     65\n",
              "3072      1\n",
              "4096     11\n",
              "6144      1\n",
              "Name: count, dtype: int64"
            ]
          },
          "execution_count": 169,
          "metadata": {},
          "output_type": "execute_result"
        }
      ],
      "source": [
        "df.Disk_size.value_counts().sort_index()"
      ]
    },
    {
      "cell_type": "code",
      "execution_count": 170,
      "metadata": {
        "colab": {
          "base_uri": "https://localhost:8080/"
        },
        "id": "A7n9xU3wASl-",
        "outputId": "7b6cd2b8-9fd3-419f-b718-020cf948dae4"
      },
      "outputs": [
        {
          "data": {
            "text/plain": [
              "array(['panasonic toughbook cf 31 13.1\" led intel core i5-5300u 2.3ghz 4gb ram 500gb hdd windows 7 professional rugged notebook cf-3110451cm',\n",
              "       'tb 31 i7-2640m 2.80g 4gb 500gb 13.1in-xga wl tpm bt w7p dual pass',\n",
              "       'acer 2022 newest aspire 5 slim 15.6\" fhd laptop, 11th gen intel core i3-1115g4(up to 4.1ghz,beat i5-7200u), 8gb ddr4 ram, 128gb ssd+500gb hdd, wifi 6, usb-c, webcam, hdmi, windows 11s+jvq mp',\n",
              "       'panasonic cf-54f0001vm semi rugged toughbook (intel core i5-6300u 2.40ghz, 500gb hard drive, 4gb ram, emissive backlit keyboard)',\n",
              "       'toughbook cf-191myax1m 10.1\" led intel core i5 i5-3320m 2.60ghz 4gb ram 500gb hdd win 7 pro 64-bit rugged notebook',\n",
              "       'toughbook cf-31wflaxlm 13.1\" touchscreen lcd led intel core i5 i5-3340m 2.70 ghz 4gb ram 500gb hdd windows 7 64-bit notebook',\n",
              "       'panasonic toughbook cf-53stlzylm 14-inch laptop (2.7 ghz intel core i5 3320m processor, 4gb ddr3l, 500gb hdd, windows 8) silver',\n",
              "       'panasonic cf-54e6001vm semi rugged toughbook (intel core i5-6300u 2.40ghz, 500gb hard drive, 8gb ram, emissive backlit keyboard)',\n",
              "       'panasonic toughbook 54 gloved multi touch 14\" notebook - windows - intel core i5 2.4 ghz - 4 gb ram - 500 gb hdd, black/silver (cf-54f0001km)',\n",
              "       'panasonic cf-31sal781m win7, intel core i5-3320m 2.60ghz, vpro, 13.1 xga touch, 500gb(7200rpm), 4gb, in',\n",
              "       'panasonic toughbook cf-31 13.1\" notebook - intel core i5 i5-3320m 2.60 ghz, 8gb memory 500gb hard drive, windows 7 professional',\n",
              "       'panasonic toughbook cf-54 cf-54g2999vm i5 2.6ghz, bluetooth, tpm 2.0, 500gb hard drive, 8gb ram, windows 10 pro, 3 year warranty',\n",
              "       'panasonic toughbook 54 lite 14\" notebook, 4 gb ram, 500 gb hdd, black/silver (cf-54a2900cm)',\n",
              "       'panasonic toughbook cf-31 mk5 intel core i5-5300u, 2.30ghz, 13.1\" xga touchscreen, 8gb, 500gb, wi-fi, tpm, bluetooth, dual pass, windows 10 pro, (please read seller\\'s upgrades in conditions notes)'],\n",
              "      dtype=object)"
            ]
          },
          "execution_count": 170,
          "metadata": {},
          "output_type": "execute_result"
        }
      ],
      "source": [
        "df[df.Disk_size == 500].Title.values"
      ]
    },
    {
      "cell_type": "code",
      "execution_count": 171,
      "metadata": {
        "colab": {
          "base_uri": "https://localhost:8080/",
          "height": 460
        },
        "id": "GL10MhFwzkwE",
        "outputId": "c97880b0-9579-476d-f37c-43ab87d19e4a"
      },
      "outputs": [
        {
          "data": {
            "text/plain": [
              "Title                0\n",
              "Brand                0\n",
              "Screen_Size          0\n",
              "CPU_Model            0\n",
              "Ram                  0\n",
              "Operating_System     0\n",
              "Rating               0\n",
              "Color                0\n",
              "Graphics             0\n",
              "Disk_size            0\n",
              "Card_desc           93\n",
              "Price                0\n",
              "dtype: int64"
            ]
          },
          "execution_count": 171,
          "metadata": {},
          "output_type": "execute_result"
        }
      ],
      "source": [
        "df.isna().sum()"
      ]
    },
    {
      "cell_type": "markdown",
      "metadata": {
        "id": "esVuDQ5Ctq9p"
      },
      "source": [
        "##**Addressing Card_desc**"
      ]
    },
    {
      "cell_type": "code",
      "execution_count": 172,
      "metadata": {
        "colab": {
          "base_uri": "https://localhost:8080/",
          "height": 1000
        },
        "id": "HdBToBiczmrI",
        "outputId": "36382077-2396-4491-f830-8c2a1e4817fa"
      },
      "outputs": [
        {
          "data": {
            "text/plain": [
              "Card_desc\n",
              "Integrated                                                        1090\n",
              "Dedicated                                                          481\n",
              "RTX 3060                                                            12\n",
              "RTX 3050 Ti                                                         12\n",
              "Iris Xe Graphics                                                    11\n",
              "Intel XE                                                             9\n",
              "Integrated, Dedicated                                                8\n",
              "RTX 3070                                                             8\n",
              "RTX 3050                                                             7\n",
              "Intel Iris Xe                                                        5\n",
              "Intel UHD Graphics                                                   5\n",
              "RTX 3080 Ti                                                          5\n",
              "Intel Iris Xᵉ                                                        4\n",
              "UHD Graphics 500, Integrated                                         4\n",
              "GeForce RTX 3050 Ti                                                  4\n",
              "RTX 3080                                                             4\n",
              "Iris Xe                                                              4\n",
              "AMD Radeon Graphics                                                  3\n",
              "UHD Graphics                                                         3\n",
              "RTX 2080 Super                                                       2\n",
              "Integrated - 2020 Version                                            2\n",
              "RTX2050                                                              2\n",
              "AMD Radeon                                                           2\n",
              "GeForce RTX 3050                                                     2\n",
              "NVIDIA GeForce RTX 3070                                              2\n",
              "Windows 10                                                           1\n",
              "NVIDIA GeForce RTX2060                                               1\n",
              "ZenBook 14X OLED                                                     1\n",
              "Windows 11 Home                                                      1\n",
              "NVIDIA GeForce RTX3060                                               1\n",
              "RTX A5000                                                            1\n",
              "Intel Iris Xe Graphics                                               1\n",
              "GeForce MX350                                                        1\n",
              "RTX 3070 Ti                                                          1\n",
              "NVIDIA GeForce RTX 3060                                              1\n",
              "Intel UHD Graphics with shared graphics memory                       1\n",
              "Iris Xe graphics                                                     1\n",
              "NVIDIA® GeForce RTX™ 3060 Laptop GPU Up to 1747MHz Boost Clock       1\n",
              "NM10                                                                 1\n",
              "NVIDIA GeForce RTX 3080 Laptop GPU 16GB GDDR6                        1\n",
              "Windows 11                                                           1\n",
              "Integrated AMD Radeon™ Graphics                                      1\n",
              "NVIDIA RTX3060                                                       1\n",
              "GeForce RTX 3070                                                     1\n",
              "NVIDIA GTX 1070, Dedicated                                           1\n",
              "RX 5500M                                                             1\n",
              "NVIDIA RTX 2070                                                      1\n",
              "NVIDIA GTX 1060, Dedicated                                           1\n",
              "Integrated Touchscreen                                               1\n",
              "NVIDIA GeForce RTX 3080                                              1\n",
              "Iris Xe Graphic                                                      1\n",
              "Name: count, dtype: int64"
            ]
          },
          "execution_count": 172,
          "metadata": {},
          "output_type": "execute_result"
        }
      ],
      "source": [
        "card_count = df.Card_desc.value_counts()\n",
        "card_count"
      ]
    },
    {
      "cell_type": "code",
      "execution_count": 173,
      "metadata": {
        "colab": {
          "base_uri": "https://localhost:8080/"
        },
        "id": "IeTk8Loyz6UA",
        "outputId": "bd150584-305d-43f2-a806-253d849271cc"
      },
      "outputs": [
        {
          "data": {
            "text/plain": [
              "(52,)"
            ]
          },
          "execution_count": 173,
          "metadata": {},
          "output_type": "execute_result"
        }
      ],
      "source": [
        "df.Card_desc.unique().shape"
      ]
    },
    {
      "cell_type": "markdown",
      "metadata": {
        "id": "2WNYQPyUqN5_"
      },
      "source": [
        "###**Observations and Modifications**\n",
        "- This Graphics card descriptions looks similar to Graphics feature.\n",
        "- Out of 52 unique categories, only 2 of them carries more than 75% of values and have individual count of more than 100\n",
        "- Rest of the entries have value count less than 15\n",
        "- We will group all those entries along with missing one into the 'other' category"
      ]
    },
    {
      "cell_type": "code",
      "execution_count": 174,
      "metadata": {
        "id": "7dunktNhtdQA"
      },
      "outputs": [],
      "source": [
        "# Replacing all the null entries with 'other'\n",
        "df.Card_desc.fillna('other', inplace=True)"
      ]
    },
    {
      "cell_type": "code",
      "execution_count": 175,
      "metadata": {
        "id": "K2TskvuKpK98"
      },
      "outputs": [],
      "source": [
        "def card_categorization(card_string):\n",
        "  \"\"\"\n",
        "  Categorizes graphics cards based on their names.\n",
        "\n",
        "  Args:\n",
        "    card_string: The name of the graphics card as a string.\n",
        "\n",
        "  Returns:\n",
        "    The category of the graphics card (\"Integrated\", \"Dedicated\", or \"Other\").\n",
        "    \"\"\"\n",
        "  card_string = card_string.lower()\n",
        "  if 'integrated' in card_string:\n",
        "    return 'Integrated'\n",
        "  elif 'dedicated' in card_string:\n",
        "    return 'Dedicated'\n",
        "  else:\n",
        "    return 'other'\n",
        "\n",
        "# Apply the categorization function to the \"Graphics\" column of the DataFrame.\n",
        "df['Card_desc'] = df['Card_desc'].apply(card_categorization)"
      ]
    },
    {
      "cell_type": "code",
      "execution_count": 176,
      "metadata": {
        "colab": {
          "base_uri": "https://localhost:8080/",
          "height": 460
        },
        "id": "4fh6U0Zntboi",
        "outputId": "03d01460-bc17-4a28-d453-f0f60ba10b9a"
      },
      "outputs": [
        {
          "data": {
            "text/plain": [
              "Title               0\n",
              "Brand               0\n",
              "Screen_Size         0\n",
              "CPU_Model           0\n",
              "Ram                 0\n",
              "Operating_System    0\n",
              "Rating              0\n",
              "Color               0\n",
              "Graphics            0\n",
              "Disk_size           0\n",
              "Card_desc           0\n",
              "Price               0\n",
              "dtype: int64"
            ]
          },
          "execution_count": 176,
          "metadata": {},
          "output_type": "execute_result"
        }
      ],
      "source": [
        "df.isna().sum()"
      ]
    },
    {
      "cell_type": "code",
      "execution_count": 177,
      "metadata": {
        "colab": {
          "base_uri": "https://localhost:8080/",
          "height": 293
        },
        "id": "72uOIZt0aB5Y",
        "outputId": "44697e67-4ab0-4738-b803-10a3fc8e49a5"
      },
      "outputs": [
        {
          "data": {
            "text/html": [
              "<div>\n",
              "<style scoped>\n",
              "    .dataframe tbody tr th:only-of-type {\n",
              "        vertical-align: middle;\n",
              "    }\n",
              "\n",
              "    .dataframe tbody tr th {\n",
              "        vertical-align: top;\n",
              "    }\n",
              "\n",
              "    .dataframe thead th {\n",
              "        text-align: right;\n",
              "    }\n",
              "</style>\n",
              "<table border=\"1\" class=\"dataframe\">\n",
              "  <thead>\n",
              "    <tr style=\"text-align: right;\">\n",
              "      <th></th>\n",
              "      <th>Title</th>\n",
              "      <th>Brand</th>\n",
              "      <th>Screen_Size</th>\n",
              "      <th>CPU_Model</th>\n",
              "      <th>Ram</th>\n",
              "      <th>Operating_System</th>\n",
              "      <th>Rating</th>\n",
              "      <th>Color</th>\n",
              "      <th>Graphics</th>\n",
              "      <th>Disk_size</th>\n",
              "      <th>Card_desc</th>\n",
              "      <th>Price</th>\n",
              "    </tr>\n",
              "  </thead>\n",
              "  <tbody>\n",
              "    <tr>\n",
              "      <th>0</th>\n",
              "      <td>2022 microsoft surface laptop go 12.4\" touchsc...</td>\n",
              "      <td>Microsoft</td>\n",
              "      <td>12.4</td>\n",
              "      <td>i5</td>\n",
              "      <td>4.0</td>\n",
              "      <td>windows 11</td>\n",
              "      <td>3.9</td>\n",
              "      <td>silver</td>\n",
              "      <td>Intel</td>\n",
              "      <td>256</td>\n",
              "      <td>Integrated</td>\n",
              "      <td>29519.18</td>\n",
              "    </tr>\n",
              "    <tr>\n",
              "      <th>1</th>\n",
              "      <td>hp envy 34” all-in-one desktop, nvidia geforce...</td>\n",
              "      <td>HP</td>\n",
              "      <td>34.0</td>\n",
              "      <td>i7</td>\n",
              "      <td>32.0</td>\n",
              "      <td>windows 11</td>\n",
              "      <td>4.4</td>\n",
              "      <td>other</td>\n",
              "      <td>Nvidia</td>\n",
              "      <td>512</td>\n",
              "      <td>other</td>\n",
              "      <td>177694.00</td>\n",
              "    </tr>\n",
              "    <tr>\n",
              "      <th>2</th>\n",
              "      <td>dell latitude 3510 business laptop black (inte...</td>\n",
              "      <td>Dell</td>\n",
              "      <td>15.6</td>\n",
              "      <td>i5</td>\n",
              "      <td>16.0</td>\n",
              "      <td>windows 10</td>\n",
              "      <td>4.3</td>\n",
              "      <td>black</td>\n",
              "      <td>Intel</td>\n",
              "      <td>256</td>\n",
              "      <td>Integrated</td>\n",
              "      <td>67076.00</td>\n",
              "    </tr>\n",
              "    <tr>\n",
              "      <th>3</th>\n",
              "      <td>msi bravo 15 15.6\" 144hz gaming laptop: amd ry...</td>\n",
              "      <td>MSI</td>\n",
              "      <td>15.6</td>\n",
              "      <td>ryzen5</td>\n",
              "      <td>16.0</td>\n",
              "      <td>windows 11</td>\n",
              "      <td>4.5</td>\n",
              "      <td>black</td>\n",
              "      <td>AMD</td>\n",
              "      <td>512</td>\n",
              "      <td>other</td>\n",
              "      <td>57318.00</td>\n",
              "    </tr>\n",
              "    <tr>\n",
              "      <th>4</th>\n",
              "      <td>msi latest ge76 raider gaming laptop | 17.3\" 1...</td>\n",
              "      <td>MSI</td>\n",
              "      <td>17.3</td>\n",
              "      <td>i9</td>\n",
              "      <td>64.0</td>\n",
              "      <td>windows 11</td>\n",
              "      <td>5.0</td>\n",
              "      <td>blue</td>\n",
              "      <td>Nvidia</td>\n",
              "      <td>2048</td>\n",
              "      <td>Dedicated</td>\n",
              "      <td>200899.18</td>\n",
              "    </tr>\n",
              "  </tbody>\n",
              "</table>\n",
              "</div>"
            ],
            "text/plain": [
              "                                               Title      Brand  Screen_Size  \\\n",
              "0  2022 microsoft surface laptop go 12.4\" touchsc...  Microsoft         12.4   \n",
              "1  hp envy 34” all-in-one desktop, nvidia geforce...         HP         34.0   \n",
              "2  dell latitude 3510 business laptop black (inte...       Dell         15.6   \n",
              "3  msi bravo 15 15.6\" 144hz gaming laptop: amd ry...        MSI         15.6   \n",
              "4  msi latest ge76 raider gaming laptop | 17.3\" 1...        MSI         17.3   \n",
              "\n",
              "  CPU_Model   Ram Operating_System  Rating   Color Graphics  Disk_size  \\\n",
              "0        i5   4.0       windows 11     3.9  silver    Intel        256   \n",
              "1        i7  32.0       windows 11     4.4   other   Nvidia        512   \n",
              "2        i5  16.0       windows 10     4.3   black    Intel        256   \n",
              "3    ryzen5  16.0       windows 11     4.5   black      AMD        512   \n",
              "4        i9  64.0       windows 11     5.0    blue   Nvidia       2048   \n",
              "\n",
              "    Card_desc      Price  \n",
              "0  Integrated   29519.18  \n",
              "1       other  177694.00  \n",
              "2  Integrated   67076.00  \n",
              "3       other   57318.00  \n",
              "4   Dedicated  200899.18  "
            ]
          },
          "execution_count": 177,
          "metadata": {},
          "output_type": "execute_result"
        }
      ],
      "source": [
        "df.head()"
      ]
    },
    {
      "cell_type": "markdown",
      "metadata": {
        "id": "Eqh9MddlPwPx"
      },
      "source": [
        "###We have addressed all the missing entries, but still there is some preprocessing operations are left to do like outlier removal, which will be continued further in new notebook. For a time being, we will store this dataframe with name 'df_cleaned_24_09_2024.csv'"
      ]
    },
    {
      "cell_type": "code",
      "execution_count": 178,
      "metadata": {
        "colab": {
          "base_uri": "https://localhost:8080/"
        },
        "id": "4tQvnZSMS1j7",
        "outputId": "21e1ee32-dc48-422a-9520-390cd1509dc2"
      },
      "outputs": [
        {
          "data": {
            "text/plain": [
              "(1810, 12)"
            ]
          },
          "execution_count": 178,
          "metadata": {},
          "output_type": "execute_result"
        }
      ],
      "source": [
        "df.shape"
      ]
    },
    {
      "cell_type": "code",
      "execution_count": 179,
      "metadata": {
        "id": "2ixtuiXFtmVv"
      },
      "outputs": [],
      "source": [
        "# df.to_csv('df_cleaned_25_09_2024.csv')"
      ]
    },
    {
      "cell_type": "code",
      "execution_count": null,
      "metadata": {
        "id": "v4kxB_qkQvYe"
      },
      "outputs": [],
      "source": []
    }
  ],
  "metadata": {
    "colab": {
      "provenance": []
    },
    "kernelspec": {
      "display_name": "laptop",
      "language": "python",
      "name": "python3"
    },
    "language_info": {
      "codemirror_mode": {
        "name": "ipython",
        "version": 3
      },
      "file_extension": ".py",
      "mimetype": "text/x-python",
      "name": "python",
      "nbconvert_exporter": "python",
      "pygments_lexer": "ipython3",
      "version": "3.8.20"
    }
  },
  "nbformat": 4,
  "nbformat_minor": 0
}
